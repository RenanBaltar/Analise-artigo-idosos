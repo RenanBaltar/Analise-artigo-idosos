{
 "cells": [
  {
   "cell_type": "markdown",
   "metadata": {},
   "source": [
    "# Importação do banco de dados"
   ]
  },
  {
   "cell_type": "code",
   "execution_count": 2,
   "metadata": {},
   "outputs": [
    {
     "name": "stderr",
     "output_type": "stream",
     "text": [
      "Installing package into 'C:/Users/usernote/Documents/R/win-library/3.6'\n",
      "(as 'lib' is unspecified)\n",
      "\n",
      "Warning message:\n",
      "\"package 'readxl' is in use and will not be installed\"\n"
     ]
    }
   ],
   "source": [
    "#.libPaths()\n",
    "install.packages(\"readxl\")\n",
    "library(readxl)"
   ]
  },
  {
   "cell_type": "code",
   "execution_count": 19,
   "metadata": {},
   "outputs": [
    {
     "data": {
      "text/html": [
       "<table class=\"dataframe\">\n",
       "<caption>A tibble: 6 × 23</caption>\n",
       "<thead>\n",
       "\t<tr><th scope=col>ID</th><th scope=col>Diagnosis</th><th scope=col>Age</th><th scope=col>Sex</th><th scope=col>Comorbidity</th><th scope=col>Scholarity</th><th scope=col>IADL</th><th scope=col>BBS</th><th scope=col>STS</th><th scope=col>HG</th><th scope=col>...</th><th scope=col>DTC</th><th scope=col>STEP</th><th scope=col>FMTIT</th><th scope=col>FMTPT</th><th scope=col>MMSE</th><th scope=col>CDT</th><th scope=col>TMTA</th><th scope=col>DSF</th><th scope=col>DSB</th><th scope=col>VF</th></tr>\n",
       "\t<tr><th scope=col>&lt;dbl&gt;</th><th scope=col>&lt;dbl&gt;</th><th scope=col>&lt;dbl&gt;</th><th scope=col>&lt;dbl&gt;</th><th scope=col>&lt;dbl&gt;</th><th scope=col>&lt;dbl&gt;</th><th scope=col>&lt;dbl&gt;</th><th scope=col>&lt;dbl&gt;</th><th scope=col>&lt;dbl&gt;</th><th scope=col>&lt;dbl&gt;</th><th scope=col>...</th><th scope=col>&lt;dbl&gt;</th><th scope=col>&lt;dbl&gt;</th><th scope=col>&lt;dbl&gt;</th><th scope=col>&lt;dbl&gt;</th><th scope=col>&lt;dbl&gt;</th><th scope=col>&lt;dbl&gt;</th><th scope=col>&lt;dbl&gt;</th><th scope=col>&lt;dbl&gt;</th><th scope=col>&lt;dbl&gt;</th><th scope=col>&lt;dbl&gt;</th></tr>\n",
       "</thead>\n",
       "<tbody>\n",
       "\t<tr><td>1</td><td>1</td><td>69.32512</td><td>1</td><td>2</td><td>3</td><td> 1</td><td>56</td><td>10</td><td>23.5</td><td>...</td><td>36.852495</td><td> 56</td><td> 31.04</td><td> 12.84</td><td>26</td><td>1</td><td>48</td><td>5</td><td>3</td><td>15</td></tr>\n",
       "\t<tr><td>2</td><td>1</td><td>68.54757</td><td>1</td><td>2</td><td>4</td><td> 1</td><td>56</td><td>11</td><td>27.9</td><td>...</td><td> 1.004995</td><td> 69</td><td> 15.78</td><td> 18.40</td><td>29</td><td>1</td><td>73</td><td>7</td><td>3</td><td>24</td></tr>\n",
       "\t<tr><td>3</td><td>1</td><td>61.77960</td><td>1</td><td>5</td><td>4</td><td> 1</td><td>56</td><td>15</td><td>21.7</td><td>...</td><td>14.662214</td><td> 91</td><td> 17.31</td><td> 14.05</td><td>29</td><td>3</td><td>50</td><td>6</td><td>6</td><td>21</td></tr>\n",
       "\t<tr><td>4</td><td>1</td><td>71.44695</td><td>1</td><td>2</td><td>2</td><td> 1</td><td>56</td><td>18</td><td>23.7</td><td>...</td><td>29.813731</td><td> 87</td><td> 16.84</td><td> 10.39</td><td>26</td><td>2</td><td>65</td><td>8</td><td>4</td><td>17</td></tr>\n",
       "\t<tr><td>5</td><td>3</td><td>75.84394</td><td>2</td><td>0</td><td>4</td><td>NA</td><td>55</td><td>13</td><td>37.3</td><td>...</td><td>10.882431</td><td>105</td><td> 82.00</td><td>138.00</td><td>26</td><td>2</td><td>56</td><td>8</td><td>6</td><td>18</td></tr>\n",
       "\t<tr><td>6</td><td>1</td><td>71.32923</td><td>2</td><td>2</td><td>1</td><td> 1</td><td>56</td><td>16</td><td>35.3</td><td>...</td><td>54.663985</td><td>131</td><td>112.43</td><td> 16.00</td><td>26</td><td>1</td><td>47</td><td>7</td><td>6</td><td>14</td></tr>\n",
       "</tbody>\n",
       "</table>\n"
      ],
      "text/latex": [
       "A tibble: 6 × 23\n",
       "\\begin{tabular}{lllllllllllllllllllll}\n",
       " ID & Diagnosis & Age & Sex & Comorbidity & Scholarity & IADL & BBS & STS & HG & ... & DTC & STEP & FMTIT & FMTPT & MMSE & CDT & TMTA & DSF & DSB & VF\\\\\n",
       " <dbl> & <dbl> & <dbl> & <dbl> & <dbl> & <dbl> & <dbl> & <dbl> & <dbl> & <dbl> & ... & <dbl> & <dbl> & <dbl> & <dbl> & <dbl> & <dbl> & <dbl> & <dbl> & <dbl> & <dbl>\\\\\n",
       "\\hline\n",
       "\t 1 & 1 & 69.32512 & 1 & 2 & 3 &  1 & 56 & 10 & 23.5 & ... & 36.852495 &  56 &  31.04 &  12.84 & 26 & 1 & 48 & 5 & 3 & 15\\\\\n",
       "\t 2 & 1 & 68.54757 & 1 & 2 & 4 &  1 & 56 & 11 & 27.9 & ... &  1.004995 &  69 &  15.78 &  18.40 & 29 & 1 & 73 & 7 & 3 & 24\\\\\n",
       "\t 3 & 1 & 61.77960 & 1 & 5 & 4 &  1 & 56 & 15 & 21.7 & ... & 14.662214 &  91 &  17.31 &  14.05 & 29 & 3 & 50 & 6 & 6 & 21\\\\\n",
       "\t 4 & 1 & 71.44695 & 1 & 2 & 2 &  1 & 56 & 18 & 23.7 & ... & 29.813731 &  87 &  16.84 &  10.39 & 26 & 2 & 65 & 8 & 4 & 17\\\\\n",
       "\t 5 & 3 & 75.84394 & 2 & 0 & 4 & NA & 55 & 13 & 37.3 & ... & 10.882431 & 105 &  82.00 & 138.00 & 26 & 2 & 56 & 8 & 6 & 18\\\\\n",
       "\t 6 & 1 & 71.32923 & 2 & 2 & 1 &  1 & 56 & 16 & 35.3 & ... & 54.663985 & 131 & 112.43 &  16.00 & 26 & 1 & 47 & 7 & 6 & 14\\\\\n",
       "\\end{tabular}\n"
      ],
      "text/markdown": [
       "\n",
       "A tibble: 6 × 23\n",
       "\n",
       "| ID &lt;dbl&gt; | Diagnosis &lt;dbl&gt; | Age &lt;dbl&gt; | Sex &lt;dbl&gt; | Comorbidity &lt;dbl&gt; | Scholarity &lt;dbl&gt; | IADL &lt;dbl&gt; | BBS &lt;dbl&gt; | STS &lt;dbl&gt; | HG &lt;dbl&gt; | ... ... | DTC &lt;dbl&gt; | STEP &lt;dbl&gt; | FMTIT &lt;dbl&gt; | FMTPT &lt;dbl&gt; | MMSE &lt;dbl&gt; | CDT &lt;dbl&gt; | TMTA &lt;dbl&gt; | DSF &lt;dbl&gt; | DSB &lt;dbl&gt; | VF &lt;dbl&gt; |\n",
       "|---|---|---|---|---|---|---|---|---|---|---|---|---|---|---|---|---|---|---|---|---|\n",
       "| 1 | 1 | 69.32512 | 1 | 2 | 3 |  1 | 56 | 10 | 23.5 | ... | 36.852495 |  56 |  31.04 |  12.84 | 26 | 1 | 48 | 5 | 3 | 15 |\n",
       "| 2 | 1 | 68.54757 | 1 | 2 | 4 |  1 | 56 | 11 | 27.9 | ... |  1.004995 |  69 |  15.78 |  18.40 | 29 | 1 | 73 | 7 | 3 | 24 |\n",
       "| 3 | 1 | 61.77960 | 1 | 5 | 4 |  1 | 56 | 15 | 21.7 | ... | 14.662214 |  91 |  17.31 |  14.05 | 29 | 3 | 50 | 6 | 6 | 21 |\n",
       "| 4 | 1 | 71.44695 | 1 | 2 | 2 |  1 | 56 | 18 | 23.7 | ... | 29.813731 |  87 |  16.84 |  10.39 | 26 | 2 | 65 | 8 | 4 | 17 |\n",
       "| 5 | 3 | 75.84394 | 2 | 0 | 4 | NA | 55 | 13 | 37.3 | ... | 10.882431 | 105 |  82.00 | 138.00 | 26 | 2 | 56 | 8 | 6 | 18 |\n",
       "| 6 | 1 | 71.32923 | 2 | 2 | 1 |  1 | 56 | 16 | 35.3 | ... | 54.663985 | 131 | 112.43 |  16.00 | 26 | 1 | 47 | 7 | 6 | 14 |\n",
       "\n"
      ],
      "text/plain": [
       "  ID Diagnosis Age      Sex Comorbidity Scholarity IADL BBS STS HG   ...\n",
       "1 1  1         69.32512 1   2           3           1   56  10  23.5 ...\n",
       "2 2  1         68.54757 1   2           4           1   56  11  27.9 ...\n",
       "3 3  1         61.77960 1   5           4           1   56  15  21.7 ...\n",
       "4 4  1         71.44695 1   2           2           1   56  18  23.7 ...\n",
       "5 5  3         75.84394 2   0           4          NA   55  13  37.3 ...\n",
       "6 6  1         71.32923 2   2           1           1   56  16  35.3 ...\n",
       "  DTC       STEP FMTIT  FMTPT  MMSE CDT TMTA DSF DSB VF\n",
       "1 36.852495  56   31.04  12.84 26   1   48   5   3   15\n",
       "2  1.004995  69   15.78  18.40 29   1   73   7   3   24\n",
       "3 14.662214  91   17.31  14.05 29   3   50   6   6   21\n",
       "4 29.813731  87   16.84  10.39 26   2   65   8   4   17\n",
       "5 10.882431 105   82.00 138.00 26   2   56   8   6   18\n",
       "6 54.663985 131  112.43  16.00 26   1   47   7   6   14"
      ]
     },
     "metadata": {},
     "output_type": "display_data"
    },
    {
     "data": {
      "text/html": [
       "<style>\n",
       ".list-inline {list-style: none; margin:0; padding: 0}\n",
       ".list-inline>li {display: inline-block}\n",
       ".list-inline>li:not(:last-child)::after {content: \"\\00b7\"; padding: 0 .5ex}\n",
       "</style>\n",
       "<ol class=list-inline><li>192</li><li>23</li></ol>\n"
      ],
      "text/latex": [
       "\\begin{enumerate*}\n",
       "\\item 192\n",
       "\\item 23\n",
       "\\end{enumerate*}\n"
      ],
      "text/markdown": [
       "1. 192\n",
       "2. 23\n",
       "\n",
       "\n"
      ],
      "text/plain": [
       "[1] 192  23"
      ]
     },
     "metadata": {},
     "output_type": "display_data"
    }
   ],
   "source": [
    "bd<- read_excel(\"Planilha de dados_projetos LaNEx_planilha limpa2_080521 (1).xlsx\",sheet = 1)\n",
    "head(bd)\n",
    "dim(bd)"
   ]
  },
  {
   "cell_type": "markdown",
   "metadata": {},
   "source": [
    "# Análise exploratória"
   ]
  },
  {
   "cell_type": "code",
   "execution_count": 20,
   "metadata": {},
   "outputs": [
    {
     "data": {
      "text/plain": [
       "       ID           Diagnosis          Age             Sex      \n",
       " Min.   :  1.00   Min.   :1.000   Min.   :59.69   Min.   :1.00  \n",
       " 1st Qu.: 48.75   1st Qu.:1.000   1st Qu.:69.36   1st Qu.:1.00  \n",
       " Median : 96.50   Median :1.000   Median :74.28   Median :1.00  \n",
       " Mean   : 96.50   Mean   :1.693   Mean   :75.42   Mean   :1.24  \n",
       " 3rd Qu.:144.25   3rd Qu.:3.000   3rd Qu.:81.49   3rd Qu.:1.00  \n",
       " Max.   :192.00   Max.   :3.000   Max.   :97.18   Max.   :2.00  \n",
       "                                                                \n",
       "  Comorbidity      Scholarity         IADL            BBS       \n",
       " Min.   :0.000   Min.   :1.000   Min.   :1.000   Min.   :40.00  \n",
       " 1st Qu.:1.000   1st Qu.:2.000   1st Qu.:1.000   1st Qu.:54.00  \n",
       " Median :2.000   Median :3.000   Median :1.000   Median :55.00  \n",
       " Mean   :1.816   Mean   :2.861   Mean   :1.374   Mean   :54.37  \n",
       " 3rd Qu.:2.000   3rd Qu.:4.000   3rd Qu.:2.000   3rd Qu.:56.00  \n",
       " Max.   :8.000   Max.   :4.000   Max.   :2.000   Max.   :56.00  \n",
       " NA's   :13      NA's   :5       NA's   :5       NA's   :13     \n",
       "      STS              HG             GSST             GSDT       \n",
       " Min.   : 0.00   Min.   :11.70   Min.   :0.2539   Min.   :0.2010  \n",
       " 1st Qu.: 9.25   1st Qu.:19.70   1st Qu.:0.6941   1st Qu.:0.5306  \n",
       " Median :11.50   Median :23.30   Median :0.8319   Median :0.6893  \n",
       " Mean   :11.65   Mean   :24.64   Mean   :0.8359   Mean   :0.6864  \n",
       " 3rd Qu.:14.00   3rd Qu.:28.12   3rd Qu.:0.9983   3rd Qu.:0.8383  \n",
       " Max.   :21.00   Max.   :57.20   Max.   :1.4778   Max.   :1.3761  \n",
       " NA's   :10      NA's   :22      NA's   :11       NA's   :12      \n",
       "    DeltaGS              DTC               STEP            FMTIT       \n",
       " Min.   :-0.11296   Min.   :-64.369   Min.   :  4.00   Min.   :  9.65  \n",
       " 1st Qu.: 0.04908   1st Qu.:-13.884   1st Qu.: 56.00   1st Qu.: 19.27  \n",
       " Median : 0.13437   Median :  2.149   Median : 72.00   Median : 30.14  \n",
       " Mean   : 0.14448   Mean   :  2.700   Mean   : 72.79   Mean   : 64.54  \n",
       " 3rd Qu.: 0.21802   3rd Qu.: 17.800   3rd Qu.: 88.25   3rd Qu.: 70.54  \n",
       " Max.   : 0.68236   Max.   : 75.532   Max.   :131.00   Max.   :301.00  \n",
       "                    NA's   :11        NA's   :12       NA's   :12      \n",
       "     FMTPT             MMSE           CDT          TMTA             DSF        \n",
       " Min.   :  8.88   Min.   : 5.0   Min.   :0    Min.   : 24.62   Min.   : 2.000  \n",
       " 1st Qu.: 14.18   1st Qu.:24.0   1st Qu.:1    1st Qu.: 46.93   1st Qu.: 5.000  \n",
       " Median : 23.68   Median :27.0   Median :2    Median : 60.45   Median : 6.000  \n",
       " Mean   : 64.00   Mean   :25.5   Mean   :2    Mean   : 75.31   Mean   : 6.706  \n",
       " 3rd Qu.: 65.02   3rd Qu.:29.0   3rd Qu.:3    3rd Qu.: 89.52   3rd Qu.: 8.000  \n",
       " Max.   :301.00   Max.   :30.0   Max.   :3    Max.   :181.00   Max.   :13.000  \n",
       " NA's   :12       NA's   :3      NA's   :10   NA's   :10       NA's   :5       \n",
       "      DSB               VF       \n",
       " Min.   : 0.000   Min.   : 1.00  \n",
       " 1st Qu.: 3.000   1st Qu.:10.00  \n",
       " Median : 4.000   Median :14.00  \n",
       " Mean   : 4.016   Mean   :14.33  \n",
       " 3rd Qu.: 5.000   3rd Qu.:18.00  \n",
       " Max.   :10.000   Max.   :28.00  \n",
       " NA's   :5        NA's   :7      "
      ]
     },
     "metadata": {},
     "output_type": "display_data"
    },
    {
     "data": {
      "text/html": [
       "<style>\n",
       ".list-inline {list-style: none; margin:0; padding: 0}\n",
       ".list-inline>li {display: inline-block}\n",
       ".list-inline>li:not(:last-child)::after {content: \"\\00b7\"; padding: 0 .5ex}\n",
       "</style>\n",
       "<ol class=list-inline><li>140</li><li>22</li></ol>\n"
      ],
      "text/latex": [
       "\\begin{enumerate*}\n",
       "\\item 140\n",
       "\\item 22\n",
       "\\end{enumerate*}\n"
      ],
      "text/markdown": [
       "1. 140\n",
       "2. 22\n",
       "\n",
       "\n"
      ],
      "text/plain": [
       "[1] 140  22"
      ]
     },
     "metadata": {},
     "output_type": "display_data"
    },
    {
     "data": {
      "text/plain": [
       "\n",
       " 1  2  3 \n",
       "93 21 26 "
      ]
     },
     "metadata": {},
     "output_type": "display_data"
    },
    {
     "name": "stdout",
     "output_type": "stream",
     "text": [
      "tibble [140 x 22] (S3: tbl_df/tbl/data.frame)\n",
      " $ Diagnosis  : num [1:140] 1 1 1 1 1 1 1 2 3 3 ...\n",
      " $ Age        : num [1:140] 69.3 68.5 61.8 71.4 71.3 ...\n",
      " $ Sex        : num [1:140] 1 1 1 1 2 1 1 1 1 2 ...\n",
      " $ Comorbidity: num [1:140] 2 2 5 2 2 1 2 2 1 1 ...\n",
      " $ Scholarity : num [1:140] 3 4 4 2 1 4 4 4 1 4 ...\n",
      " $ IADL       : num [1:140] 1 1 1 1 1 1 1 1 2 2 ...\n",
      " $ BBS        : num [1:140] 56 56 56 56 56 56 54 55 54 55 ...\n",
      " $ STS        : num [1:140] 10 11 15 18 16 11 14 15 6 17 ...\n",
      " $ HG         : num [1:140] 23.5 27.9 21.7 23.7 35.3 19.7 17.9 25.1 15.9 36 ...\n",
      " $ GSST       : num [1:140] 1 1.02 1.18 1.1 1.48 ...\n",
      " $ GSDT       : num [1:140] 0.637 1.038 1.227 0.892 1.376 ...\n",
      " $ DeltaGS    : num [1:140] 0.3664 -0.0142 -0.0436 0.2134 0.1017 ...\n",
      " $ DTC        : num [1:140] 36.9 1 14.7 29.8 54.7 ...\n",
      " $ STEP       : num [1:140] 56 69 91 87 131 69 67 67 19 99 ...\n",
      " $ FMTIT      : num [1:140] 31 15.8 17.3 16.8 112.4 ...\n",
      " $ FMTPT      : num [1:140] 12.8 18.4 14.1 10.4 16 ...\n",
      " $ MMSE       : num [1:140] 26 29 29 26 26 29 28 26 11 20 ...\n",
      " $ CDT        : num [1:140] 1 1 3 2 1 3 3 1 0 0 ...\n",
      " $ TMTA       : num [1:140] 48 73 50 65 47 ...\n",
      " $ DSF        : num [1:140] 5 7 6 8 7 10 8 6 6 9 ...\n",
      " $ DSB        : num [1:140] 3 3 6 4 6 4 5 3 0 5 ...\n",
      " $ VF         : num [1:140] 15 24 21 17 14 14 22 15 7 14 ...\n",
      " - attr(*, \"na.action\")= 'omit' Named int [1:52] 5 7 8 11 12 13 17 18 19 21 ...\n",
      "  ..- attr(*, \"names\")= chr [1:52] \"5\" \"7\" \"8\" \"11\" ...\n"
     ]
    }
   ],
   "source": [
    "summary(bd)\n",
    "bd<- bd[,-1]\n",
    "data<- na.omit(bd) \n",
    "dim(data) #140 idosos após remoção dos Nas\n",
    "table(data$Diagnosis) #(93, 21 e 26)\n",
    "str(data)\n",
    "data$Sex<- as.integer(data$Sex)\n",
    "data$IADL<- as.integer(data$IADL)"
   ]
  },
  {
   "cell_type": "markdown",
   "metadata": {},
   "source": [
    "# PCA"
   ]
  },
  {
   "cell_type": "code",
   "execution_count": 21,
   "metadata": {},
   "outputs": [
    {
     "name": "stdout",
     "output_type": "stream",
     "text": [
      "Error in solve.default(r) : \n",
      "  sistema é computacionalmente singular: condição recíproca número = 9.14738e-18\n"
     ]
    },
    {
     "name": "stderr",
     "output_type": "stream",
     "text": [
      "matrix is not invertible, image not found\n",
      "\n"
     ]
    },
    {
     "data": {
      "text/plain": [
       "Kaiser-Meyer-Olkin factor adequacy\n",
       "Call: KMO(r = data[, -1])\n",
       "Overall MSA =  0.5\n",
       "MSA for each item = \n",
       "        Age         Sex Comorbidity  Scholarity        IADL         BBS \n",
       "        0.5         0.5         0.5         0.5         0.5         0.5 \n",
       "        STS          HG        GSST        GSDT     DeltaGS         DTC \n",
       "        0.5         0.5         0.5         0.5         0.5         0.5 \n",
       "       STEP       FMTIT       FMTPT        MMSE         CDT        TMTA \n",
       "        0.5         0.5         0.5         0.5         0.5         0.5 \n",
       "        DSF         DSB          VF \n",
       "        0.5         0.5         0.5 "
      ]
     },
     "metadata": {},
     "output_type": "display_data"
    },
    {
     "data": {
      "text/html": [
       "<table class=\"dataframe\">\n",
       "<caption>A data.frame: 21 × 3</caption>\n",
       "<thead>\n",
       "\t<tr><th></th><th scope=col>eigenvalue</th><th scope=col>variance.percent</th><th scope=col>cumulative.variance.percent</th></tr>\n",
       "\t<tr><th></th><th scope=col>&lt;dbl&gt;</th><th scope=col>&lt;dbl&gt;</th><th scope=col>&lt;dbl&gt;</th></tr>\n",
       "</thead>\n",
       "<tbody>\n",
       "\t<tr><th scope=row>Dim.1</th><td>6.666414e+00</td><td>3.174483e+01</td><td> 31.74483</td></tr>\n",
       "\t<tr><th scope=row>Dim.2</th><td>2.352209e+00</td><td>1.120099e+01</td><td> 42.94582</td></tr>\n",
       "\t<tr><th scope=row>Dim.3</th><td>2.124949e+00</td><td>1.011880e+01</td><td> 53.06463</td></tr>\n",
       "\t<tr><th scope=row>Dim.4</th><td>1.554484e+00</td><td>7.402307e+00</td><td> 60.46693</td></tr>\n",
       "\t<tr><th scope=row>Dim.5</th><td>1.252056e+00</td><td>5.962170e+00</td><td> 66.42910</td></tr>\n",
       "\t<tr><th scope=row>Dim.6</th><td>9.712860e-01</td><td>4.625172e+00</td><td> 71.05427</td></tr>\n",
       "\t<tr><th scope=row>Dim.7</th><td>9.198776e-01</td><td>4.380370e+00</td><td> 75.43464</td></tr>\n",
       "\t<tr><th scope=row>Dim.8</th><td>7.562931e-01</td><td>3.601396e+00</td><td> 79.03604</td></tr>\n",
       "\t<tr><th scope=row>Dim.9</th><td>6.922245e-01</td><td>3.296307e+00</td><td> 82.33235</td></tr>\n",
       "\t<tr><th scope=row>Dim.10</th><td>6.174353e-01</td><td>2.940168e+00</td><td> 85.27252</td></tr>\n",
       "\t<tr><th scope=row>Dim.11</th><td>5.407176e-01</td><td>2.574846e+00</td><td> 87.84736</td></tr>\n",
       "\t<tr><th scope=row>Dim.12</th><td>4.686533e-01</td><td>2.231682e+00</td><td> 90.07904</td></tr>\n",
       "\t<tr><th scope=row>Dim.13</th><td>4.488952e-01</td><td>2.137596e+00</td><td> 92.21664</td></tr>\n",
       "\t<tr><th scope=row>Dim.14</th><td>3.850885e-01</td><td>1.833755e+00</td><td> 94.05039</td></tr>\n",
       "\t<tr><th scope=row>Dim.15</th><td>3.607111e-01</td><td>1.717672e+00</td><td> 95.76807</td></tr>\n",
       "\t<tr><th scope=row>Dim.16</th><td>3.007771e-01</td><td>1.432272e+00</td><td> 97.20034</td></tr>\n",
       "\t<tr><th scope=row>Dim.17</th><td>2.586721e-01</td><td>1.231772e+00</td><td> 98.43211</td></tr>\n",
       "\t<tr><th scope=row>Dim.18</th><td>2.036127e-01</td><td>9.695841e-01</td><td> 99.40169</td></tr>\n",
       "\t<tr><th scope=row>Dim.19</th><td>1.159162e-01</td><td>5.519817e-01</td><td> 99.95368</td></tr>\n",
       "\t<tr><th scope=row>Dim.20</th><td>9.728149e-03</td><td>4.632452e-02</td><td>100.00000</td></tr>\n",
       "\t<tr><th scope=row>Dim.21</th><td>2.290322e-31</td><td>1.090629e-30</td><td>100.00000</td></tr>\n",
       "</tbody>\n",
       "</table>\n"
      ],
      "text/latex": [
       "A data.frame: 21 × 3\n",
       "\\begin{tabular}{r|lll}\n",
       "  & eigenvalue & variance.percent & cumulative.variance.percent\\\\\n",
       "  & <dbl> & <dbl> & <dbl>\\\\\n",
       "\\hline\n",
       "\tDim.1 & 6.666414e+00 & 3.174483e+01 &  31.74483\\\\\n",
       "\tDim.2 & 2.352209e+00 & 1.120099e+01 &  42.94582\\\\\n",
       "\tDim.3 & 2.124949e+00 & 1.011880e+01 &  53.06463\\\\\n",
       "\tDim.4 & 1.554484e+00 & 7.402307e+00 &  60.46693\\\\\n",
       "\tDim.5 & 1.252056e+00 & 5.962170e+00 &  66.42910\\\\\n",
       "\tDim.6 & 9.712860e-01 & 4.625172e+00 &  71.05427\\\\\n",
       "\tDim.7 & 9.198776e-01 & 4.380370e+00 &  75.43464\\\\\n",
       "\tDim.8 & 7.562931e-01 & 3.601396e+00 &  79.03604\\\\\n",
       "\tDim.9 & 6.922245e-01 & 3.296307e+00 &  82.33235\\\\\n",
       "\tDim.10 & 6.174353e-01 & 2.940168e+00 &  85.27252\\\\\n",
       "\tDim.11 & 5.407176e-01 & 2.574846e+00 &  87.84736\\\\\n",
       "\tDim.12 & 4.686533e-01 & 2.231682e+00 &  90.07904\\\\\n",
       "\tDim.13 & 4.488952e-01 & 2.137596e+00 &  92.21664\\\\\n",
       "\tDim.14 & 3.850885e-01 & 1.833755e+00 &  94.05039\\\\\n",
       "\tDim.15 & 3.607111e-01 & 1.717672e+00 &  95.76807\\\\\n",
       "\tDim.16 & 3.007771e-01 & 1.432272e+00 &  97.20034\\\\\n",
       "\tDim.17 & 2.586721e-01 & 1.231772e+00 &  98.43211\\\\\n",
       "\tDim.18 & 2.036127e-01 & 9.695841e-01 &  99.40169\\\\\n",
       "\tDim.19 & 1.159162e-01 & 5.519817e-01 &  99.95368\\\\\n",
       "\tDim.20 & 9.728149e-03 & 4.632452e-02 & 100.00000\\\\\n",
       "\tDim.21 & 2.290322e-31 & 1.090629e-30 & 100.00000\\\\\n",
       "\\end{tabular}\n"
      ],
      "text/markdown": [
       "\n",
       "A data.frame: 21 × 3\n",
       "\n",
       "| <!--/--> | eigenvalue &lt;dbl&gt; | variance.percent &lt;dbl&gt; | cumulative.variance.percent &lt;dbl&gt; |\n",
       "|---|---|---|---|\n",
       "| Dim.1 | 6.666414e+00 | 3.174483e+01 |  31.74483 |\n",
       "| Dim.2 | 2.352209e+00 | 1.120099e+01 |  42.94582 |\n",
       "| Dim.3 | 2.124949e+00 | 1.011880e+01 |  53.06463 |\n",
       "| Dim.4 | 1.554484e+00 | 7.402307e+00 |  60.46693 |\n",
       "| Dim.5 | 1.252056e+00 | 5.962170e+00 |  66.42910 |\n",
       "| Dim.6 | 9.712860e-01 | 4.625172e+00 |  71.05427 |\n",
       "| Dim.7 | 9.198776e-01 | 4.380370e+00 |  75.43464 |\n",
       "| Dim.8 | 7.562931e-01 | 3.601396e+00 |  79.03604 |\n",
       "| Dim.9 | 6.922245e-01 | 3.296307e+00 |  82.33235 |\n",
       "| Dim.10 | 6.174353e-01 | 2.940168e+00 |  85.27252 |\n",
       "| Dim.11 | 5.407176e-01 | 2.574846e+00 |  87.84736 |\n",
       "| Dim.12 | 4.686533e-01 | 2.231682e+00 |  90.07904 |\n",
       "| Dim.13 | 4.488952e-01 | 2.137596e+00 |  92.21664 |\n",
       "| Dim.14 | 3.850885e-01 | 1.833755e+00 |  94.05039 |\n",
       "| Dim.15 | 3.607111e-01 | 1.717672e+00 |  95.76807 |\n",
       "| Dim.16 | 3.007771e-01 | 1.432272e+00 |  97.20034 |\n",
       "| Dim.17 | 2.586721e-01 | 1.231772e+00 |  98.43211 |\n",
       "| Dim.18 | 2.036127e-01 | 9.695841e-01 |  99.40169 |\n",
       "| Dim.19 | 1.159162e-01 | 5.519817e-01 |  99.95368 |\n",
       "| Dim.20 | 9.728149e-03 | 4.632452e-02 | 100.00000 |\n",
       "| Dim.21 | 2.290322e-31 | 1.090629e-30 | 100.00000 |\n",
       "\n"
      ],
      "text/plain": [
       "       eigenvalue   variance.percent cumulative.variance.percent\n",
       "Dim.1  6.666414e+00 3.174483e+01      31.74483                  \n",
       "Dim.2  2.352209e+00 1.120099e+01      42.94582                  \n",
       "Dim.3  2.124949e+00 1.011880e+01      53.06463                  \n",
       "Dim.4  1.554484e+00 7.402307e+00      60.46693                  \n",
       "Dim.5  1.252056e+00 5.962170e+00      66.42910                  \n",
       "Dim.6  9.712860e-01 4.625172e+00      71.05427                  \n",
       "Dim.7  9.198776e-01 4.380370e+00      75.43464                  \n",
       "Dim.8  7.562931e-01 3.601396e+00      79.03604                  \n",
       "Dim.9  6.922245e-01 3.296307e+00      82.33235                  \n",
       "Dim.10 6.174353e-01 2.940168e+00      85.27252                  \n",
       "Dim.11 5.407176e-01 2.574846e+00      87.84736                  \n",
       "Dim.12 4.686533e-01 2.231682e+00      90.07904                  \n",
       "Dim.13 4.488952e-01 2.137596e+00      92.21664                  \n",
       "Dim.14 3.850885e-01 1.833755e+00      94.05039                  \n",
       "Dim.15 3.607111e-01 1.717672e+00      95.76807                  \n",
       "Dim.16 3.007771e-01 1.432272e+00      97.20034                  \n",
       "Dim.17 2.586721e-01 1.231772e+00      98.43211                  \n",
       "Dim.18 2.036127e-01 9.695841e-01      99.40169                  \n",
       "Dim.19 1.159162e-01 5.519817e-01      99.95368                  \n",
       "Dim.20 9.728149e-03 4.632452e-02     100.00000                  \n",
       "Dim.21 2.290322e-31 1.090629e-30     100.00000                  "
      ]
     },
     "metadata": {},
     "output_type": "display_data"
    },
    {
     "data": {
      "image/png": "[encoded data removed]",
      "text/plain": [
       "plot without title"
      ]
     },
     "metadata": {
      "image/png": {
       "height": 420,
       "width": 420
      }
     },
     "output_type": "display_data"
    },
    {
     "data": {
      "image/png": "[encoded data removed]",
      "text/plain": [
       "plot without title"
      ]
     },
     "metadata": {
      "image/png": {
       "height": 420,
       "width": 420
      }
     },
     "output_type": "display_data"
    },
    {
     "data": {
      "image/png": "[encoded data removed]",
      "text/plain": [
       "plot without title"
      ]
     },
     "metadata": {
      "image/png": {
       "height": 420,
       "width": 420
      }
     },
     "output_type": "display_data"
    },
    {
     "data": {
      "image/png": "[encoded data removed]",
      "text/plain": [
       "plot without title"
      ]
     },
     "metadata": {
      "image/png": {
       "height": 420,
       "width": 420
      }
     },
     "output_type": "display_data"
    },
    {
     "data": {
      "image/png": "[encoded data removed]",
      "text/plain": [
       "plot without title"
      ]
     },
     "metadata": {
      "image/png": {
       "height": 420,
       "width": 420
      }
     },
     "output_type": "display_data"
    }
   ],
   "source": [
    "#Teste KMO (verifica se um modelo de FA é adequado aos dados)\n",
    "install.packages(\"psych\")\n",
    "require(psych)\n",
    "KMO(data[,-1]) #0.5-aceitável. Acima de 0.85-recomendado\n",
    "install.packages(\"FactoMineR\")\n",
    "install.packages(\"factoextra\")\n",
    "require(FactoMineR)\n",
    "require(factoextra)\n",
    "PCA<- prcomp(data[,-1],scale. = T)\n",
    "eig.val<- get_eigenvalue(PCA)\n",
    "eig.val\n",
    "#Scree plot\n",
    "fviz_eig(PCA,addlabels = T,ylim=c(0,100))\n",
    "#Extrair os resultados das variáveis do PCA p/ plotar no gráfico\n",
    "var<- get_pca_var(PCA)\n",
    "ind<- get_pca_ind(PCA)\n",
    "fviz_pca_var(PCA,col.var=\"contrib\",gradient.cols = c(\"#00AFBB\", \"#E7B800\", \"#FC4E07\"),repel = T)\n",
    "#Contribuição das variáveis para a 1ª e 2ª dimensão\n",
    "fviz_contrib(PCA, choice = \"var\", axes = 1, top = 10) \n",
    "fviz_contrib(PCA, choice = \"var\", axes = 2, top = 10)\n",
    "#Criar grupos p/ ajudar na visualização do gráfico\n",
    "Labels= data$Diagnosis\n",
    "Labels<- as.numeric(Labels)\n",
    "Labels[Labels==1]<- \"Healthy\"\n",
    "Labels[Labels==2]<- \"MCI\"\n",
    "Labels[Labels==3]<- \"AD\"\n",
    "Labels<- as.factor(Labels)\n",
    "fviz_pca_ind(PCA,geom= c(\"point\",\"text\"),habillage = Labels,addEllipses = T)"
   ]
  },
  {
   "cell_type": "markdown",
   "metadata": {},
   "source": [
    "# Distribuição das classes"
   ]
  },
  {
   "cell_type": "code",
   "execution_count": 22,
   "metadata": {},
   "outputs": [
    {
     "name": "stdout",
     "output_type": "stream",
     "text": [
      "tibble [140 x 22] (S3: tbl_df/tbl/data.frame)\n",
      " $ Diagnosis  : Factor w/ 3 levels \"1\",\"2\",\"3\": 1 1 1 1 1 1 1 2 3 3 ...\n",
      " $ Age        : num [1:140] 69.3 68.5 61.8 71.4 71.3 ...\n",
      " $ Sex        : Factor w/ 2 levels \"1\",\"2\": 1 1 1 1 2 1 1 1 1 2 ...\n",
      " $ Comorbidity: num [1:140] 2 2 5 2 2 1 2 2 1 1 ...\n",
      " $ Scholarity : Factor w/ 4 levels \"1\",\"2\",\"3\",\"4\": 3 4 4 2 1 4 4 4 1 4 ...\n",
      " $ IADL       : Factor w/ 2 levels \"1\",\"2\": 1 1 1 1 1 1 1 1 2 2 ...\n",
      " $ BBS        : num [1:140] 56 56 56 56 56 56 54 55 54 55 ...\n",
      " $ STS        : num [1:140] 10 11 15 18 16 11 14 15 6 17 ...\n",
      " $ HG         : num [1:140] 23.5 27.9 21.7 23.7 35.3 19.7 17.9 25.1 15.9 36 ...\n",
      " $ GSST       : num [1:140] 1 1.02 1.18 1.1 1.48 ...\n",
      " $ GSDT       : num [1:140] 0.637 1.038 1.227 0.892 1.376 ...\n",
      " $ DeltaGS    : num [1:140] 0.3664 -0.0142 -0.0436 0.2134 0.1017 ...\n",
      " $ DTC        : num [1:140] 36.9 1 14.7 29.8 54.7 ...\n",
      " $ STEP       : num [1:140] 56 69 91 87 131 69 67 67 19 99 ...\n",
      " $ FMTIT      : num [1:140] 31 15.8 17.3 16.8 112.4 ...\n",
      " $ FMTPT      : num [1:140] 12.8 18.4 14.1 10.4 16 ...\n",
      " $ MMSE       : num [1:140] 26 29 29 26 26 29 28 26 11 20 ...\n",
      " $ CDT        : num [1:140] 1 1 3 2 1 3 3 1 0 0 ...\n",
      " $ TMTA       : num [1:140] 48 73 50 65 47 ...\n",
      " $ DSF        : num [1:140] 5 7 6 8 7 10 8 6 6 9 ...\n",
      " $ DSB        : num [1:140] 3 3 6 4 6 4 5 3 0 5 ...\n",
      " $ VF         : num [1:140] 15 24 21 17 14 14 22 15 7 14 ...\n",
      " - attr(*, \"na.action\")= 'omit' Named int [1:52] 5 7 8 11 12 13 17 18 19 21 ...\n",
      "  ..- attr(*, \"names\")= chr [1:52] \"5\" \"7\" \"8\" \"11\" ...\n"
     ]
    },
    {
     "data": {
      "image/png": "[encoded data removed]",
      "text/plain": [
       "Plot with title \"Class Distribution - Original data\""
      ]
     },
     "metadata": {
      "image/png": {
       "height": 420,
       "width": 420
      }
     },
     "output_type": "display_data"
    }
   ],
   "source": [
    "data$Diagnosis<- as.factor(data$Diagnosis)\n",
    "data$Sex<- as.factor(data$Sex)\n",
    "data$Scholarity<- as.factor(data$Scholarity)\n",
    "data$IADL<- as.factor(data$IADL)\n",
    "str(data)\n",
    "classes= data$Diagnosis\n",
    "classes<- as.numeric(classes)\n",
    "classes[classes==1]<- \"1.Healthy\"\n",
    "classes[classes==2]<- \"2.MCI\"\n",
    "classes[classes==3]<- \"3.AD\"\n",
    "classes<- as.factor(classes)\n",
    "barplot(prop.table(table(classes)),\n",
    "        col=c(\"green\",\"blue\",\"red\"),ylim=c(0,0.8),main=\"Class Distribution - Original data\") #Classes desbalanceadas - Data augmentation"
   ]
  },
  {
   "cell_type": "markdown",
   "metadata": {},
   "source": [
    "# Divisão em amostras de treino e de teste"
   ]
  },
  {
   "cell_type": "code",
   "execution_count": 23,
   "metadata": {},
   "outputs": [
    {
     "data": {
      "text/plain": [
       "\n",
       " 1  2  3 \n",
       "66 15 19 "
      ]
     },
     "metadata": {},
     "output_type": "display_data"
    },
    {
     "data": {
      "text/plain": [
       "\n",
       " 1  2  3 \n",
       "27  6  7 "
      ]
     },
     "metadata": {},
     "output_type": "display_data"
    }
   ],
   "source": [
    "install.packages(\"caret\")\n",
    "require(caret)\n",
    "set.seed(555)\n",
    "train<- createDataPartition(data$Diagnosis,p=0.7,list=F)\n",
    "data_train<- data[train,]\n",
    "data_test<- data[-train,]\n",
    "table(data_train$Diagnosis) #(66,15,19) \n",
    "table(data_test$Diagnosis) #(27,6,7)"
   ]
  },
  {
   "cell_type": "markdown",
   "metadata": {},
   "source": [
    "# RFE-RF"
   ]
  },
  {
   "cell_type": "code",
   "execution_count": 24,
   "metadata": {},
   "outputs": [
    {
     "name": "stdout",
     "output_type": "stream",
     "text": [
      "\n",
      "Recursive feature selection\n",
      "\n",
      "Outer resampling method: Cross-Validated (5 fold) \n",
      "\n",
      "Resampling performance over subset size:\n",
      "\n",
      " Variables Accuracy  Kappa AccuracySD  KappaSD Selected\n",
      "         2   0.7692 0.5078   0.061486 0.130465         \n",
      "         3   0.8393 0.6327   0.028038 0.070873         \n",
      "         4   0.7993 0.5711   0.040549 0.094472         \n",
      "         5   0.7888 0.5499   0.047767 0.100760         \n",
      "         6   0.8188 0.6037   0.051204 0.118256         \n",
      "         7   0.8388 0.6599   0.046207 0.081962         \n",
      "         8   0.8498 0.6659   0.005321 0.007723         \n",
      "         9   0.8494 0.6686   0.037280 0.085031        *\n",
      "        10   0.8283 0.6216   0.063154 0.140765         \n",
      "        11   0.8293 0.6266   0.031925 0.077567         \n",
      "        12   0.8203 0.6050   0.054787 0.129692         \n",
      "        13   0.8298 0.6258   0.045446 0.109323         \n",
      "        14   0.8298 0.6217   0.045446 0.112103         \n",
      "        15   0.8293 0.6198   0.031925 0.071056         \n",
      "        16   0.8198 0.5978   0.028467 0.071317         \n",
      "        17   0.8198 0.6019   0.028467 0.068657         \n",
      "        18   0.8198 0.6019   0.028467 0.068657         \n",
      "        19   0.8293 0.6198   0.031925 0.071056         \n",
      "        20   0.8293 0.6198   0.031925 0.071056         \n",
      "        21   0.8198 0.6019   0.028467 0.068657         \n",
      "\n",
      "The top 5 variables (out of 9):\n",
      "   MMSE, IADL, GSDT, FMTPT, FMTIT\n",
      "\n"
     ]
    },
    {
     "data": {
      "text/html": [
       "<style>\n",
       ".list-inline {list-style: none; margin:0; padding: 0}\n",
       ".list-inline>li {display: inline-block}\n",
       ".list-inline>li:not(:last-child)::after {content: \"\\00b7\"; padding: 0 .5ex}\n",
       "</style>\n",
       "<ol class=list-inline><li>'MMSE'</li><li>'IADL'</li><li>'GSDT'</li><li>'FMTPT'</li><li>'FMTIT'</li><li>'GSST'</li><li>'TMTA'</li><li>'STEP'</li><li>'Age'</li></ol>\n"
      ],
      "text/latex": [
       "\\begin{enumerate*}\n",
       "\\item 'MMSE'\n",
       "\\item 'IADL'\n",
       "\\item 'GSDT'\n",
       "\\item 'FMTPT'\n",
       "\\item 'FMTIT'\n",
       "\\item 'GSST'\n",
       "\\item 'TMTA'\n",
       "\\item 'STEP'\n",
       "\\item 'Age'\n",
       "\\end{enumerate*}\n"
      ],
      "text/markdown": [
       "1. 'MMSE'\n",
       "2. 'IADL'\n",
       "3. 'GSDT'\n",
       "4. 'FMTPT'\n",
       "5. 'FMTIT'\n",
       "6. 'GSST'\n",
       "7. 'TMTA'\n",
       "8. 'STEP'\n",
       "9. 'Age'\n",
       "\n",
       "\n"
      ],
      "text/plain": [
       "[1] \"MMSE\"  \"IADL\"  \"GSDT\"  \"FMTPT\" \"FMTIT\" \"GSST\"  \"TMTA\"  \"STEP\"  \"Age\"  "
      ]
     },
     "metadata": {},
     "output_type": "display_data"
    },
    {
     "data": {
      "image/png": "[encoded data removed]",
      "text/plain": [
       "plot without title"
      ]
     },
     "metadata": {
      "image/png": {
       "height": 420,
       "width": 420
      }
     },
     "output_type": "display_data"
    }
   ],
   "source": [
    "install.packages(\"e1071\")\n",
    "require(e1071)\n",
    "install.packages(\"randomForest\")\n",
    "require(randomForest)\n",
    "set.seed(2)\n",
    "control <- rfeControl(functions=rfFuncs, method=\"cv\", number=5)\n",
    "set.seed(3)\n",
    "results <- rfe(data_train[,2:22], data_train[[1]], sizes=c(2:22),rfeControl=control,metric=ifelse(is.factor(data_train$Diagnosis),\"Kappa\",\"RMSE\"))\n",
    "print(results) #9 variáveis + diagnosis\n",
    "#list the chosen features\n",
    "predictors(results)\n",
    "#plot the results\n",
    "plot(results, type=c(\"g\", \"o\"),main=\"RFE using Random Forest\")"
   ]
  },
  {
   "cell_type": "markdown",
   "metadata": {},
   "source": [
    "# Random Forest a partir do subset do RFE-RF"
   ]
  },
  {
   "cell_type": "code",
   "execution_count": 26,
   "metadata": {},
   "outputs": [
    {
     "data": {
      "text/html": [
       "<table class=\"dataframe\">\n",
       "<caption>A tibble: 6 × 10</caption>\n",
       "<thead>\n",
       "\t<tr><th scope=col>Diagnosis</th><th scope=col>MMSE</th><th scope=col>IADL</th><th scope=col>GSDT</th><th scope=col>FMTPT</th><th scope=col>FMTIT</th><th scope=col>GSST</th><th scope=col>TMTA</th><th scope=col>STEP</th><th scope=col>Age</th></tr>\n",
       "\t<tr><th scope=col>&lt;fct&gt;</th><th scope=col>&lt;dbl&gt;</th><th scope=col>&lt;fct&gt;</th><th scope=col>&lt;dbl&gt;</th><th scope=col>&lt;dbl&gt;</th><th scope=col>&lt;dbl&gt;</th><th scope=col>&lt;dbl&gt;</th><th scope=col>&lt;dbl&gt;</th><th scope=col>&lt;dbl&gt;</th><th scope=col>&lt;dbl&gt;</th></tr>\n",
       "</thead>\n",
       "<tbody>\n",
       "\t<tr><td>1</td><td>26</td><td>1</td><td>0.6369427</td><td>12.84</td><td>31.04</td><td>1.0033445</td><td>48</td><td>56</td><td>69.32512</td></tr>\n",
       "\t<tr><td>1</td><td>29</td><td>1</td><td>1.0380623</td><td>18.40</td><td>15.78</td><td>1.0238908</td><td>73</td><td>69</td><td>68.54757</td></tr>\n",
       "\t<tr><td>1</td><td>29</td><td>1</td><td>1.2269939</td><td>14.05</td><td>17.31</td><td>1.1834320</td><td>50</td><td>91</td><td>61.77960</td></tr>\n",
       "\t<tr><td>1</td><td>26</td><td>1</td><td>0.8915305</td><td>10.39</td><td>16.84</td><td>1.1049724</td><td>65</td><td>87</td><td>71.44695</td></tr>\n",
       "\t<tr><td>1</td><td>29</td><td>1</td><td>1.1560694</td><td>23.69</td><td>17.57</td><td>1.0830325</td><td>43</td><td>69</td><td>70.00000</td></tr>\n",
       "\t<tr><td>1</td><td>28</td><td>1</td><td>0.7802341</td><td>34.65</td><td>18.59</td><td>0.8784773</td><td>55</td><td>67</td><td>83.04723</td></tr>\n",
       "</tbody>\n",
       "</table>\n"
      ],
      "text/latex": [
       "A tibble: 6 × 10\n",
       "\\begin{tabular}{llllllllll}\n",
       " Diagnosis & MMSE & IADL & GSDT & FMTPT & FMTIT & GSST & TMTA & STEP & Age\\\\\n",
       " <fct> & <dbl> & <fct> & <dbl> & <dbl> & <dbl> & <dbl> & <dbl> & <dbl> & <dbl>\\\\\n",
       "\\hline\n",
       "\t 1 & 26 & 1 & 0.6369427 & 12.84 & 31.04 & 1.0033445 & 48 & 56 & 69.32512\\\\\n",
       "\t 1 & 29 & 1 & 1.0380623 & 18.40 & 15.78 & 1.0238908 & 73 & 69 & 68.54757\\\\\n",
       "\t 1 & 29 & 1 & 1.2269939 & 14.05 & 17.31 & 1.1834320 & 50 & 91 & 61.77960\\\\\n",
       "\t 1 & 26 & 1 & 0.8915305 & 10.39 & 16.84 & 1.1049724 & 65 & 87 & 71.44695\\\\\n",
       "\t 1 & 29 & 1 & 1.1560694 & 23.69 & 17.57 & 1.0830325 & 43 & 69 & 70.00000\\\\\n",
       "\t 1 & 28 & 1 & 0.7802341 & 34.65 & 18.59 & 0.8784773 & 55 & 67 & 83.04723\\\\\n",
       "\\end{tabular}\n"
      ],
      "text/markdown": [
       "\n",
       "A tibble: 6 × 10\n",
       "\n",
       "| Diagnosis &lt;fct&gt; | MMSE &lt;dbl&gt; | IADL &lt;fct&gt; | GSDT &lt;dbl&gt; | FMTPT &lt;dbl&gt; | FMTIT &lt;dbl&gt; | GSST &lt;dbl&gt; | TMTA &lt;dbl&gt; | STEP &lt;dbl&gt; | Age &lt;dbl&gt; |\n",
       "|---|---|---|---|---|---|---|---|---|---|\n",
       "| 1 | 26 | 1 | 0.6369427 | 12.84 | 31.04 | 1.0033445 | 48 | 56 | 69.32512 |\n",
       "| 1 | 29 | 1 | 1.0380623 | 18.40 | 15.78 | 1.0238908 | 73 | 69 | 68.54757 |\n",
       "| 1 | 29 | 1 | 1.2269939 | 14.05 | 17.31 | 1.1834320 | 50 | 91 | 61.77960 |\n",
       "| 1 | 26 | 1 | 0.8915305 | 10.39 | 16.84 | 1.1049724 | 65 | 87 | 71.44695 |\n",
       "| 1 | 29 | 1 | 1.1560694 | 23.69 | 17.57 | 1.0830325 | 43 | 69 | 70.00000 |\n",
       "| 1 | 28 | 1 | 0.7802341 | 34.65 | 18.59 | 0.8784773 | 55 | 67 | 83.04723 |\n",
       "\n"
      ],
      "text/plain": [
       "  Diagnosis MMSE IADL GSDT      FMTPT FMTIT GSST      TMTA STEP Age     \n",
       "1 1         26   1    0.6369427 12.84 31.04 1.0033445 48   56   69.32512\n",
       "2 1         29   1    1.0380623 18.40 15.78 1.0238908 73   69   68.54757\n",
       "3 1         29   1    1.2269939 14.05 17.31 1.1834320 50   91   61.77960\n",
       "4 1         26   1    0.8915305 10.39 16.84 1.1049724 65   87   71.44695\n",
       "5 1         29   1    1.1560694 23.69 17.57 1.0830325 43   69   70.00000\n",
       "6 1         28   1    0.7802341 34.65 18.59 0.8784773 55   67   83.04723"
      ]
     },
     "metadata": {},
     "output_type": "display_data"
    },
    {
     "data": {
      "text/plain": [
       "Random Forest \n",
       "\n",
       "100 samples\n",
       "  9 predictor\n",
       "  3 classes: '1', '2', '3' \n",
       "\n",
       "No pre-processing\n",
       "Resampling: Cross-Validated (5 fold) \n",
       "Summary of sample sizes: 80, 79, 81, 80, 80 \n",
       "Resampling results across tuning parameters:\n",
       "\n",
       "  mtry  Accuracy   Kappa    \n",
       "  2     0.8108020  0.5897794\n",
       "  5     0.8012782  0.5670567\n",
       "  9     0.7707519  0.5028310\n",
       "\n",
       "Kappa was used to select the optimal model using the largest value.\n",
       "The final value used for the model was mtry = 2."
      ]
     },
     "metadata": {},
     "output_type": "display_data"
    },
    {
     "data": {
      "text/plain": [
       "\n",
       "Call:\n",
       " randomForest(x = x, y = y, mtry = min(param$mtry, ncol(x))) \n",
       "               Type of random forest: classification\n",
       "                     Number of trees: 500\n",
       "No. of variables tried at each split: 2\n",
       "\n",
       "        OOB estimate of  error rate: 18%\n",
       "Confusion matrix:\n",
       "   1 2  3 class.error\n",
       "1 64 0  2  0.03030303\n",
       "2 11 1  3  0.93333333\n",
       "3  2 0 17  0.10526316"
      ]
     },
     "metadata": {},
     "output_type": "display_data"
    },
    {
     "data": {
      "text/plain": [
       "Confusion Matrix and Statistics\n",
       "\n",
       "   RF_prediction\n",
       "     1  2  3\n",
       "  1 26  0  1\n",
       "  2  6  0  0\n",
       "  3  1  0  6\n",
       "\n",
       "Overall Statistics\n",
       "                                          \n",
       "               Accuracy : 0.8             \n",
       "                 95% CI : (0.6435, 0.9095)\n",
       "    No Information Rate : 0.825           \n",
       "    P-Value [Acc > NIR] : 0.7427          \n",
       "                                          \n",
       "                  Kappa : 0.5152          \n",
       "                                          \n",
       " Mcnemar's Test P-Value : NA              \n",
       "\n",
       "Statistics by Class:\n",
       "\n",
       "                     Class: 1 Class: 2 Class: 3\n",
       "Sensitivity            0.7879       NA   0.8571\n",
       "Specificity            0.8571     0.85   0.9697\n",
       "Pos Pred Value         0.9630       NA   0.8571\n",
       "Neg Pred Value         0.4615       NA   0.9697\n",
       "Prevalence             0.8250     0.00   0.1750\n",
       "Detection Rate         0.6500     0.00   0.1500\n",
       "Detection Prevalence   0.6750     0.15   0.1750\n",
       "Balanced Accuracy      0.8225       NA   0.9134"
      ]
     },
     "metadata": {},
     "output_type": "display_data"
    },
    {
     "data": {
      "text/html": [
       "<table class=\"dataframe\">\n",
       "<caption>A matrix: 3 × 11 of type dbl</caption>\n",
       "<thead>\n",
       "\t<tr><th></th><th scope=col>Sensitivity</th><th scope=col>Specificity</th><th scope=col>Pos Pred Value</th><th scope=col>Neg Pred Value</th><th scope=col>Precision</th><th scope=col>Recall</th><th scope=col>F1</th><th scope=col>Prevalence</th><th scope=col>Detection Rate</th><th scope=col>Detection Prevalence</th><th scope=col>Balanced Accuracy</th></tr>\n",
       "</thead>\n",
       "<tbody>\n",
       "\t<tr><th scope=row>Class: 1</th><td>0.7878788</td><td>0.8571429</td><td>0.9629630</td><td>0.4615385</td><td>0.9629630</td><td>0.7878788</td><td>0.8666667</td><td>0.825</td><td>0.65</td><td>0.675</td><td>0.8225108</td></tr>\n",
       "\t<tr><th scope=row>Class: 2</th><td>       NA</td><td>0.8500000</td><td>       NA</td><td>       NA</td><td>0.0000000</td><td>       NA</td><td>       NA</td><td>0.000</td><td>0.00</td><td>0.150</td><td>       NA</td></tr>\n",
       "\t<tr><th scope=row>Class: 3</th><td>0.8571429</td><td>0.9696970</td><td>0.8571429</td><td>0.9696970</td><td>0.8571429</td><td>0.8571429</td><td>0.8571429</td><td>0.175</td><td>0.15</td><td>0.175</td><td>0.9134199</td></tr>\n",
       "</tbody>\n",
       "</table>\n"
      ],
      "text/latex": [
       "A matrix: 3 × 11 of type dbl\n",
       "\\begin{tabular}{r|lllllllllll}\n",
       "  & Sensitivity & Specificity & Pos Pred Value & Neg Pred Value & Precision & Recall & F1 & Prevalence & Detection Rate & Detection Prevalence & Balanced Accuracy\\\\\n",
       "\\hline\n",
       "\tClass: 1 & 0.7878788 & 0.8571429 & 0.9629630 & 0.4615385 & 0.9629630 & 0.7878788 & 0.8666667 & 0.825 & 0.65 & 0.675 & 0.8225108\\\\\n",
       "\tClass: 2 &        NA & 0.8500000 &        NA &        NA & 0.0000000 &        NA &        NA & 0.000 & 0.00 & 0.150 &        NA\\\\\n",
       "\tClass: 3 & 0.8571429 & 0.9696970 & 0.8571429 & 0.9696970 & 0.8571429 & 0.8571429 & 0.8571429 & 0.175 & 0.15 & 0.175 & 0.9134199\\\\\n",
       "\\end{tabular}\n"
      ],
      "text/markdown": [
       "\n",
       "A matrix: 3 × 11 of type dbl\n",
       "\n",
       "| <!--/--> | Sensitivity | Specificity | Pos Pred Value | Neg Pred Value | Precision | Recall | F1 | Prevalence | Detection Rate | Detection Prevalence | Balanced Accuracy |\n",
       "|---|---|---|---|---|---|---|---|---|---|---|---|\n",
       "| Class: 1 | 0.7878788 | 0.8571429 | 0.9629630 | 0.4615385 | 0.9629630 | 0.7878788 | 0.8666667 | 0.825 | 0.65 | 0.675 | 0.8225108 |\n",
       "| Class: 2 |        NA | 0.8500000 |        NA |        NA | 0.0000000 |        NA |        NA | 0.000 | 0.00 | 0.150 |        NA |\n",
       "| Class: 3 | 0.8571429 | 0.9696970 | 0.8571429 | 0.9696970 | 0.8571429 | 0.8571429 | 0.8571429 | 0.175 | 0.15 | 0.175 | 0.9134199 |\n",
       "\n"
      ],
      "text/plain": [
       "         Sensitivity Specificity Pos Pred Value Neg Pred Value Precision\n",
       "Class: 1 0.7878788   0.8571429   0.9629630      0.4615385      0.9629630\n",
       "Class: 2        NA   0.8500000          NA             NA      0.0000000\n",
       "Class: 3 0.8571429   0.9696970   0.8571429      0.9696970      0.8571429\n",
       "         Recall    F1        Prevalence Detection Rate Detection Prevalence\n",
       "Class: 1 0.7878788 0.8666667 0.825      0.65           0.675               \n",
       "Class: 2        NA        NA 0.000      0.00           0.150               \n",
       "Class: 3 0.8571429 0.8571429 0.175      0.15           0.175               \n",
       "         Balanced Accuracy\n",
       "Class: 1 0.8225108        \n",
       "Class: 2        NA        \n",
       "Class: 3 0.9134199        "
      ]
     },
     "metadata": {},
     "output_type": "display_data"
    },
    {
     "data": {
      "text/plain": [
       "rf variable importance\n",
       "\n",
       "      Overall\n",
       "MMSE   100.00\n",
       "GSDT    59.25\n",
       "IADL2   53.74\n",
       "FMTIT   47.34\n",
       "FMTPT   43.58\n",
       "GSST    36.83\n",
       "TMTA    27.15\n",
       "Age     20.44\n",
       "STEP     0.00"
      ]
     },
     "metadata": {},
     "output_type": "display_data"
    },
    {
     "data": {
      "image/png": "[encoded data removed]",
      "text/plain": [
       "plot without title"
      ]
     },
     "metadata": {
      "image/png": {
       "height": 420,
       "width": 420
      }
     },
     "output_type": "display_data"
    },
    {
     "data": {
      "image/png": "[encoded data removed]",
      "text/plain": [
       "plot without title"
      ]
     },
     "metadata": {
      "image/png": {
       "height": 420,
       "width": 420
      }
     },
     "output_type": "display_data"
    }
   ],
   "source": [
    "data_train_rfe<- data_train[,c(\"Diagnosis\",\"MMSE\",\n",
    "                   \"IADL\",\"GSDT\",\"FMTPT\",\"FMTIT\",\"GSST\",\"TMTA\",\"STEP\",\"Age\")]\n",
    "data_test_rfe<- data_test[,c(\"Diagnosis\",\"MMSE\",\n",
    "                  \"IADL\",\"GSDT\",\"FMTPT\",\"FMTIT\",\"GSST\",\"TMTA\",\"STEP\",\"Age\")]\n",
    "head(data_train_rfe)\n",
    "set.seed(4)\n",
    "RF_model1=train(Diagnosis~.,data=data_train_rfe,method='rf',metric=ifelse(is.factor(data_train_rfe$Diagnosis),\"Kappa\",\"RMSE\"),trControl=trainControl(method='cv',number=5,savePredictions=TRUE))\n",
    "RF_model1 #Acurácia de 81.08% e kappa= 58,97%\n",
    "plot(RF_model1)\n",
    "#RF_model1$pred\n",
    "#mtry2<- subset(RF_model1$pred,RF_model1$pred[4]==2)\n",
    "#mtry2\n",
    "\n",
    "fold1= subset(RF_model1$pred,RF_model1$pred[5]==\"Fold1\")\n",
    "fold1_metrics_rf= confusionMatrix(table(fold1$obs,fold1$pred))$byClass\n",
    "recall1_rf_original=fold1_metrics_rf[17]\n",
    "F1score1_rf_original=fold1_metrics_rf[20]\n",
    "\n",
    "fold2= subset(RF_model1$pred,RF_model1$pred[5]==\"Fold2\")\n",
    "fold2_metrics_rf= confusionMatrix(table(fold2$obs,fold2$pred))$byClass\n",
    "recall2_rf_original=fold2_metrics_rf[17]\n",
    "F1score2_rf_original=fold2_metrics_rf[20]\n",
    "\n",
    "fold3= subset(RF_model1$pred,RF_model1$pred[5]==\"Fold3\")\n",
    "fold3_metrics_rf= confusionMatrix(table(fold3$obs,fold3$pred))$byClass\n",
    "recall3_rf_original=fold3_metrics_rf[17]\n",
    "F1score3_rf_original=fold3_metrics_rf[20]\n",
    "\n",
    "fold4= subset(RF_model1$pred,RF_model1$pred[5]==\"Fold4\")\n",
    "fold4_metrics_rf= confusionMatrix(table(fold4$obs,fold4$pred))$byClass\n",
    "recall4_rf_original=fold4_metrics_rf[17]\n",
    "F1score4_rf_original=fold4_metrics_rf[20]\n",
    "\n",
    "fold5= subset(RF_model1$pred,RF_model1$pred[5]==\"Fold5\")\n",
    "fold5_metrics_rf= confusionMatrix(table(fold5$obs,fold5$pred))$byClass\n",
    "recall5_rf_original=fold5_metrics_rf[17]\n",
    "F1score5_rf_original=fold5_metrics_rf[20]\n",
    "\n",
    "RF_model1$finalModel #Acurácia=82%\n",
    "RF_prediction<- predict(RF_model1,data_test_rfe)\n",
    "confusionMatrix(table(data_test_rfe$Diagnosis,RF_prediction)) #Acurácia=80% e Kappa=51.52% \n",
    "confusionMatrix(table(data_test_rfe$Diagnosis,RF_prediction))$byClass #Recall e F1 CCL(NA e NA) \n",
    "varImp(RF_model1)\n",
    "plot(varImp(RF_model1),main=\"Variables Importance - Random Forest\")"
   ]
  },
  {
   "cell_type": "markdown",
   "metadata": {},
   "source": [
    "# RFE-DT"
   ]
  },
  {
   "cell_type": "code",
   "execution_count": 27,
   "metadata": {},
   "outputs": [
    {
     "name": "stdout",
     "output_type": "stream",
     "text": [
      "\n",
      "Recursive feature selection\n",
      "\n",
      "Outer resampling method: Cross-Validated (5 fold) \n",
      "\n",
      "Resampling performance over subset size:\n",
      "\n",
      " Variables Accuracy  Kappa AccuracySD KappaSD Selected\n",
      "         2     0.80 0.5746    0.03536 0.05111         \n",
      "         3     0.78 0.5188    0.07583 0.12823         \n",
      "         4     0.78 0.5359    0.11511 0.25259         \n",
      "         5     0.81 0.5797    0.02236 0.05708         \n",
      "         6     0.80 0.5699    0.03536 0.09248         \n",
      "         7     0.82 0.6080    0.02739 0.07927         \n",
      "         8     0.81 0.5927    0.02236 0.05559         \n",
      "         9     0.83 0.6263    0.04472 0.11492        *\n",
      "        10     0.83 0.6160    0.05701 0.15194         \n",
      "        11     0.82 0.6102    0.02739 0.08332         \n",
      "        12     0.80 0.5631    0.03536 0.08253         \n",
      "        13     0.81 0.5921    0.02236 0.05485         \n",
      "        14     0.81 0.5770    0.02236 0.04723         \n",
      "        15     0.81 0.5770    0.02236 0.04723         \n",
      "        16     0.82 0.6017    0.02739 0.06842         \n",
      "        17     0.82 0.6017    0.02739 0.06842         \n",
      "        18     0.81 0.5770    0.02236 0.04723         \n",
      "        19     0.81 0.5730    0.04183 0.11237         \n",
      "        20     0.82 0.6017    0.02739 0.06842         \n",
      "        21     0.80 0.5528    0.03536 0.09340         \n",
      "\n",
      "The top 5 variables (out of 9):\n",
      "   MMSE, IADL, GSDT, FMTPT, FMTIT\n",
      "\n"
     ]
    },
    {
     "data": {
      "text/html": [
       "<style>\n",
       ".list-inline {list-style: none; margin:0; padding: 0}\n",
       ".list-inline>li {display: inline-block}\n",
       ".list-inline>li:not(:last-child)::after {content: \"\\00b7\"; padding: 0 .5ex}\n",
       "</style>\n",
       "<ol class=list-inline><li>'MMSE'</li><li>'IADL'</li><li>'GSDT'</li><li>'FMTPT'</li><li>'FMTIT'</li><li>'GSST'</li><li>'TMTA'</li><li>'Sex'</li><li>'Age'</li></ol>\n"
      ],
      "text/latex": [
       "\\begin{enumerate*}\n",
       "\\item 'MMSE'\n",
       "\\item 'IADL'\n",
       "\\item 'GSDT'\n",
       "\\item 'FMTPT'\n",
       "\\item 'FMTIT'\n",
       "\\item 'GSST'\n",
       "\\item 'TMTA'\n",
       "\\item 'Sex'\n",
       "\\item 'Age'\n",
       "\\end{enumerate*}\n"
      ],
      "text/markdown": [
       "1. 'MMSE'\n",
       "2. 'IADL'\n",
       "3. 'GSDT'\n",
       "4. 'FMTPT'\n",
       "5. 'FMTIT'\n",
       "6. 'GSST'\n",
       "7. 'TMTA'\n",
       "8. 'Sex'\n",
       "9. 'Age'\n",
       "\n",
       "\n"
      ],
      "text/plain": [
       "[1] \"MMSE\"  \"IADL\"  \"GSDT\"  \"FMTPT\" \"FMTIT\" \"GSST\"  \"TMTA\"  \"Sex\"   \"Age\"  "
      ]
     },
     "metadata": {},
     "output_type": "display_data"
    },
    {
     "data": {
      "image/png": "[encoded data removed]",
      "text/plain": [
       "plot without title"
      ]
     },
     "metadata": {
      "image/png": {
       "height": 420,
       "width": 420
      }
     },
     "output_type": "display_data"
    }
   ],
   "source": [
    "set.seed(22)\n",
    "control2 <- rfeControl(functions=treebagFuncs, method=\"cv\", number=5)\n",
    "set.seed(33)\n",
    "results2 <- rfe(data_train[,2:22], data_train[[1]], sizes=c(2:22),\n",
    "                rfeControl=control,metric=ifelse(is.factor(data_train$Diagnosis),\"Kappa\",\"RMSE\"))\n",
    "print(results2) #9 variáveis + diagnosis\n",
    "#list the chosen features\n",
    "predictors(results2)\n",
    "#plot the results\n",
    "plot(results2, type=c(\"g\", \"o\"),main=\"RFE using Decision Tree\")"
   ]
  },
  {
   "cell_type": "markdown",
   "metadata": {},
   "source": [
    "# Decision tree a partir do subset do RFE-DT"
   ]
  },
  {
   "cell_type": "code",
   "execution_count": 29,
   "metadata": {},
   "outputs": [
    {
     "data": {
      "text/html": [
       "<table class=\"dataframe\">\n",
       "<caption>A tibble: 6 × 10</caption>\n",
       "<thead>\n",
       "\t<tr><th scope=col>Diagnosis</th><th scope=col>MMSE</th><th scope=col>IADL</th><th scope=col>GSDT</th><th scope=col>FMTPT</th><th scope=col>FMTIT</th><th scope=col>GSST</th><th scope=col>TMTA</th><th scope=col>Sex</th><th scope=col>Age</th></tr>\n",
       "\t<tr><th scope=col>&lt;fct&gt;</th><th scope=col>&lt;dbl&gt;</th><th scope=col>&lt;fct&gt;</th><th scope=col>&lt;dbl&gt;</th><th scope=col>&lt;dbl&gt;</th><th scope=col>&lt;dbl&gt;</th><th scope=col>&lt;dbl&gt;</th><th scope=col>&lt;dbl&gt;</th><th scope=col>&lt;fct&gt;</th><th scope=col>&lt;dbl&gt;</th></tr>\n",
       "</thead>\n",
       "<tbody>\n",
       "\t<tr><td>1</td><td>26</td><td>1</td><td>0.6369427</td><td>12.84</td><td>31.04</td><td>1.0033445</td><td>48</td><td>1</td><td>69.32512</td></tr>\n",
       "\t<tr><td>1</td><td>29</td><td>1</td><td>1.0380623</td><td>18.40</td><td>15.78</td><td>1.0238908</td><td>73</td><td>1</td><td>68.54757</td></tr>\n",
       "\t<tr><td>1</td><td>29</td><td>1</td><td>1.2269939</td><td>14.05</td><td>17.31</td><td>1.1834320</td><td>50</td><td>1</td><td>61.77960</td></tr>\n",
       "\t<tr><td>1</td><td>26</td><td>1</td><td>0.8915305</td><td>10.39</td><td>16.84</td><td>1.1049724</td><td>65</td><td>1</td><td>71.44695</td></tr>\n",
       "\t<tr><td>1</td><td>29</td><td>1</td><td>1.1560694</td><td>23.69</td><td>17.57</td><td>1.0830325</td><td>43</td><td>1</td><td>70.00000</td></tr>\n",
       "\t<tr><td>1</td><td>28</td><td>1</td><td>0.7802341</td><td>34.65</td><td>18.59</td><td>0.8784773</td><td>55</td><td>1</td><td>83.04723</td></tr>\n",
       "</tbody>\n",
       "</table>\n"
      ],
      "text/latex": [
       "A tibble: 6 × 10\n",
       "\\begin{tabular}{llllllllll}\n",
       " Diagnosis & MMSE & IADL & GSDT & FMTPT & FMTIT & GSST & TMTA & Sex & Age\\\\\n",
       " <fct> & <dbl> & <fct> & <dbl> & <dbl> & <dbl> & <dbl> & <dbl> & <fct> & <dbl>\\\\\n",
       "\\hline\n",
       "\t 1 & 26 & 1 & 0.6369427 & 12.84 & 31.04 & 1.0033445 & 48 & 1 & 69.32512\\\\\n",
       "\t 1 & 29 & 1 & 1.0380623 & 18.40 & 15.78 & 1.0238908 & 73 & 1 & 68.54757\\\\\n",
       "\t 1 & 29 & 1 & 1.2269939 & 14.05 & 17.31 & 1.1834320 & 50 & 1 & 61.77960\\\\\n",
       "\t 1 & 26 & 1 & 0.8915305 & 10.39 & 16.84 & 1.1049724 & 65 & 1 & 71.44695\\\\\n",
       "\t 1 & 29 & 1 & 1.1560694 & 23.69 & 17.57 & 1.0830325 & 43 & 1 & 70.00000\\\\\n",
       "\t 1 & 28 & 1 & 0.7802341 & 34.65 & 18.59 & 0.8784773 & 55 & 1 & 83.04723\\\\\n",
       "\\end{tabular}\n"
      ],
      "text/markdown": [
       "\n",
       "A tibble: 6 × 10\n",
       "\n",
       "| Diagnosis &lt;fct&gt; | MMSE &lt;dbl&gt; | IADL &lt;fct&gt; | GSDT &lt;dbl&gt; | FMTPT &lt;dbl&gt; | FMTIT &lt;dbl&gt; | GSST &lt;dbl&gt; | TMTA &lt;dbl&gt; | Sex &lt;fct&gt; | Age &lt;dbl&gt; |\n",
       "|---|---|---|---|---|---|---|---|---|---|\n",
       "| 1 | 26 | 1 | 0.6369427 | 12.84 | 31.04 | 1.0033445 | 48 | 1 | 69.32512 |\n",
       "| 1 | 29 | 1 | 1.0380623 | 18.40 | 15.78 | 1.0238908 | 73 | 1 | 68.54757 |\n",
       "| 1 | 29 | 1 | 1.2269939 | 14.05 | 17.31 | 1.1834320 | 50 | 1 | 61.77960 |\n",
       "| 1 | 26 | 1 | 0.8915305 | 10.39 | 16.84 | 1.1049724 | 65 | 1 | 71.44695 |\n",
       "| 1 | 29 | 1 | 1.1560694 | 23.69 | 17.57 | 1.0830325 | 43 | 1 | 70.00000 |\n",
       "| 1 | 28 | 1 | 0.7802341 | 34.65 | 18.59 | 0.8784773 | 55 | 1 | 83.04723 |\n",
       "\n"
      ],
      "text/plain": [
       "  Diagnosis MMSE IADL GSDT      FMTPT FMTIT GSST      TMTA Sex Age     \n",
       "1 1         26   1    0.6369427 12.84 31.04 1.0033445 48   1   69.32512\n",
       "2 1         29   1    1.0380623 18.40 15.78 1.0238908 73   1   68.54757\n",
       "3 1         29   1    1.2269939 14.05 17.31 1.1834320 50   1   61.77960\n",
       "4 1         26   1    0.8915305 10.39 16.84 1.1049724 65   1   71.44695\n",
       "5 1         29   1    1.1560694 23.69 17.57 1.0830325 43   1   70.00000\n",
       "6 1         28   1    0.7802341 34.65 18.59 0.8784773 55   1   83.04723"
      ]
     },
     "metadata": {},
     "output_type": "display_data"
    },
    {
     "data": {
      "text/plain": [
       "CART \n",
       "\n",
       "100 samples\n",
       "  9 predictor\n",
       "  3 classes: '1', '2', '3' \n",
       "\n",
       "No pre-processing\n",
       "Resampling: Cross-Validated (5 fold) \n",
       "Summary of sample sizes: 80, 80, 79, 81, 80 \n",
       "Resampling results across tuning parameters:\n",
       "\n",
       "  cp          Accuracy   Kappa    \n",
       "  0.00000000  0.8103759  0.5738326\n",
       "  0.05882353  0.7998496  0.5383441\n",
       "  0.47058824  0.7101754  0.1869312\n",
       "\n",
       "Kappa was used to select the optimal model using the largest value.\n",
       "The final value used for the model was cp = 0."
      ]
     },
     "metadata": {},
     "output_type": "display_data"
    },
    {
     "data": {
      "text/plain": [
       "n= 100 \n",
       "\n",
       "node), split, n, loss, yval, (yprob)\n",
       "      * denotes terminal node\n",
       "\n",
       " 1) root 100 34 1 (0.66000000 0.15000000 0.19000000)  \n",
       "   2) MMSE>=23.5 82 16 1 (0.80487805 0.15853659 0.03658537)  \n",
       "     4) FMTIT< 33.145 54  3 1 (0.94444444 0.05555556 0.00000000) *\n",
       "     5) FMTIT>=33.145 28 13 1 (0.53571429 0.35714286 0.10714286)  \n",
       "      10) Age< 72.44079 11  1 1 (0.90909091 0.09090909 0.00000000) *\n",
       "      11) Age>=72.44079 17  8 2 (0.29411765 0.52941176 0.17647059) *\n",
       "   3) MMSE< 23.5 18  2 3 (0.00000000 0.11111111 0.88888889) *"
      ]
     },
     "metadata": {},
     "output_type": "display_data"
    },
    {
     "name": "stderr",
     "output_type": "stream",
     "text": [
      "Installing package into 'C:/Users/usernote/Documents/R/win-library/3.6'\n",
      "(as 'lib' is unspecified)\n",
      "\n"
     ]
    },
    {
     "name": "stdout",
     "output_type": "stream",
     "text": [
      "\n",
      "  There is a binary version available but the source version is later:\n",
      "           binary source needs_compilation\n",
      "rpart.plot  3.0.9  3.1.0             FALSE\n",
      "\n"
     ]
    },
    {
     "name": "stderr",
     "output_type": "stream",
     "text": [
      "installing the source package 'rpart.plot'\n",
      "\n",
      "\n"
     ]
    },
    {
     "data": {
      "image/png": "[encoded data removed]",
      "text/plain": [
       "plot without title"
      ]
     },
     "metadata": {
      "image/png": {
       "height": 420,
       "width": 420
      }
     },
     "output_type": "display_data"
    },
    {
     "data": {
      "text/plain": [
       "Confusion Matrix and Statistics\n",
       "\n",
       "   Tree_prediction\n",
       "     1  2  3\n",
       "  1 24  3  0\n",
       "  2  6  0  0\n",
       "  3  1  0  6\n",
       "\n",
       "Overall Statistics\n",
       "                                         \n",
       "               Accuracy : 0.75           \n",
       "                 95% CI : (0.588, 0.8731)\n",
       "    No Information Rate : 0.775          \n",
       "    P-Value [Acc > NIR] : 0.7227         \n",
       "                                         \n",
       "                  Kappa : 0.431          \n",
       "                                         \n",
       " Mcnemar's Test P-Value : NA             \n",
       "\n",
       "Statistics by Class:\n",
       "\n",
       "                     Class: 1 Class: 2 Class: 3\n",
       "Sensitivity            0.7742   0.0000   1.0000\n",
       "Specificity            0.6667   0.8378   0.9706\n",
       "Pos Pred Value         0.8889   0.0000   0.8571\n",
       "Neg Pred Value         0.4615   0.9118   1.0000\n",
       "Prevalence             0.7750   0.0750   0.1500\n",
       "Detection Rate         0.6000   0.0000   0.1500\n",
       "Detection Prevalence   0.6750   0.1500   0.1750\n",
       "Balanced Accuracy      0.7204   0.4189   0.9853"
      ]
     },
     "metadata": {},
     "output_type": "display_data"
    },
    {
     "data": {
      "text/html": [
       "<table class=\"dataframe\">\n",
       "<caption>A matrix: 3 × 11 of type dbl</caption>\n",
       "<thead>\n",
       "\t<tr><th></th><th scope=col>Sensitivity</th><th scope=col>Specificity</th><th scope=col>Pos Pred Value</th><th scope=col>Neg Pred Value</th><th scope=col>Precision</th><th scope=col>Recall</th><th scope=col>F1</th><th scope=col>Prevalence</th><th scope=col>Detection Rate</th><th scope=col>Detection Prevalence</th><th scope=col>Balanced Accuracy</th></tr>\n",
       "</thead>\n",
       "<tbody>\n",
       "\t<tr><th scope=row>Class: 1</th><td>0.7741935</td><td>0.6666667</td><td>0.8888889</td><td>0.4615385</td><td>0.8888889</td><td>0.7741935</td><td>0.8275862</td><td>0.775</td><td>0.60</td><td>0.675</td><td>0.7204301</td></tr>\n",
       "\t<tr><th scope=row>Class: 2</th><td>0.0000000</td><td>0.8378378</td><td>0.0000000</td><td>0.9117647</td><td>0.0000000</td><td>0.0000000</td><td>      NaN</td><td>0.075</td><td>0.00</td><td>0.150</td><td>0.4189189</td></tr>\n",
       "\t<tr><th scope=row>Class: 3</th><td>1.0000000</td><td>0.9705882</td><td>0.8571429</td><td>1.0000000</td><td>0.8571429</td><td>1.0000000</td><td>0.9230769</td><td>0.150</td><td>0.15</td><td>0.175</td><td>0.9852941</td></tr>\n",
       "</tbody>\n",
       "</table>\n"
      ],
      "text/latex": [
       "A matrix: 3 × 11 of type dbl\n",
       "\\begin{tabular}{r|lllllllllll}\n",
       "  & Sensitivity & Specificity & Pos Pred Value & Neg Pred Value & Precision & Recall & F1 & Prevalence & Detection Rate & Detection Prevalence & Balanced Accuracy\\\\\n",
       "\\hline\n",
       "\tClass: 1 & 0.7741935 & 0.6666667 & 0.8888889 & 0.4615385 & 0.8888889 & 0.7741935 & 0.8275862 & 0.775 & 0.60 & 0.675 & 0.7204301\\\\\n",
       "\tClass: 2 & 0.0000000 & 0.8378378 & 0.0000000 & 0.9117647 & 0.0000000 & 0.0000000 &       NaN & 0.075 & 0.00 & 0.150 & 0.4189189\\\\\n",
       "\tClass: 3 & 1.0000000 & 0.9705882 & 0.8571429 & 1.0000000 & 0.8571429 & 1.0000000 & 0.9230769 & 0.150 & 0.15 & 0.175 & 0.9852941\\\\\n",
       "\\end{tabular}\n"
      ],
      "text/markdown": [
       "\n",
       "A matrix: 3 × 11 of type dbl\n",
       "\n",
       "| <!--/--> | Sensitivity | Specificity | Pos Pred Value | Neg Pred Value | Precision | Recall | F1 | Prevalence | Detection Rate | Detection Prevalence | Balanced Accuracy |\n",
       "|---|---|---|---|---|---|---|---|---|---|---|---|\n",
       "| Class: 1 | 0.7741935 | 0.6666667 | 0.8888889 | 0.4615385 | 0.8888889 | 0.7741935 | 0.8275862 | 0.775 | 0.60 | 0.675 | 0.7204301 |\n",
       "| Class: 2 | 0.0000000 | 0.8378378 | 0.0000000 | 0.9117647 | 0.0000000 | 0.0000000 |       NaN | 0.075 | 0.00 | 0.150 | 0.4189189 |\n",
       "| Class: 3 | 1.0000000 | 0.9705882 | 0.8571429 | 1.0000000 | 0.8571429 | 1.0000000 | 0.9230769 | 0.150 | 0.15 | 0.175 | 0.9852941 |\n",
       "\n"
      ],
      "text/plain": [
       "         Sensitivity Specificity Pos Pred Value Neg Pred Value Precision\n",
       "Class: 1 0.7741935   0.6666667   0.8888889      0.4615385      0.8888889\n",
       "Class: 2 0.0000000   0.8378378   0.0000000      0.9117647      0.0000000\n",
       "Class: 3 1.0000000   0.9705882   0.8571429      1.0000000      0.8571429\n",
       "         Recall    F1        Prevalence Detection Rate Detection Prevalence\n",
       "Class: 1 0.7741935 0.8275862 0.775      0.60           0.675               \n",
       "Class: 2 0.0000000       NaN 0.075      0.00           0.150               \n",
       "Class: 3 1.0000000 0.9230769 0.150      0.15           0.175               \n",
       "         Balanced Accuracy\n",
       "Class: 1 0.7204301        \n",
       "Class: 2 0.4189189        \n",
       "Class: 3 0.9852941        "
      ]
     },
     "metadata": {},
     "output_type": "display_data"
    },
    {
     "data": {
      "text/plain": [
       "rpart variable importance\n",
       "\n",
       "      Overall\n",
       "IADL2  100.00\n",
       "MMSE    86.56\n",
       "GSST    71.34\n",
       "GSDT    61.49\n",
       "FMTPT   50.85\n",
       "Age     37.42\n",
       "FMTIT   33.40\n",
       "Sex2    11.26\n",
       "TMTA     0.00"
      ]
     },
     "metadata": {},
     "output_type": "display_data"
    },
    {
     "data": {
      "image/png": "[encoded data removed]",
      "text/plain": [
       "plot without title"
      ]
     },
     "metadata": {
      "image/png": {
       "height": 420,
       "width": 420
      }
     },
     "output_type": "display_data"
    },
    {
     "data": {
      "image/png": "[encoded data removed]",
      "text/plain": [
       "plot without title"
      ]
     },
     "metadata": {
      "image/png": {
       "height": 420,
       "width": 420
      }
     },
     "output_type": "display_data"
    }
   ],
   "source": [
    "data_train_rfe2<- data_train[,c(\"Diagnosis\",\"MMSE\",\n",
    "                                \"IADL\",\"GSDT\",\"FMTPT\",\"FMTIT\",\"GSST\",\"TMTA\",\"Sex\",\"Age\")]\n",
    "data_test_rfe2<- data_test[,c(\"Diagnosis\",\"MMSE\",\n",
    "                              \"IADL\",\"GSDT\",\"FMTPT\",\"FMTIT\",\"GSST\",\"TMTA\",\"Sex\",\"Age\")]\n",
    "head(data_train_rfe2)\n",
    "set.seed(44)\n",
    "Tree_model1=train(Diagnosis~.,data=data_train_rfe2,method='rpart',metric=ifelse(is.factor(data_train_rfe$Diagnosis),\"Kappa\",\"RMSE\"),trControl=trainControl(method='cv',number=5,savePredictions=TRUE))\n",
    "Tree_model1 #Acurácia=81.03% e kappa=57.38% e cp=0\n",
    "#Tree_model1$pred\n",
    "predicition_Treemodel1<- predict(Tree_model1,data_test_rfe2)\n",
    "Metrics_Treemodel1<- confusionMatrix(data_test_rfe2$Diagnosis,predicition_Treemodel1)$byClass\n",
    "\n",
    "fold1_tree= subset(Tree_model1$pred,Tree_model1$pred[5]==\"Fold1\")\n",
    "fold1_metrics_tree= confusionMatrix(table(fold1_tree$obs,fold1_tree$pred))$byClass\n",
    "recall1_tree_original=fold1_metrics_tree[17]\n",
    "F1score1_tree_original=fold1_metrics_tree[20]\n",
    "\n",
    "fold2_tree= subset(Tree_model1$pred,Tree_model1$pred[5]==\"Fold2\")\n",
    "fold2_metrics_tree= confusionMatrix(table(fold2_tree$obs,fold2_tree$pred))$byClass\n",
    "recall2_tree_original=fold2_metrics_tree[17]\n",
    "F1score2_tree_original=fold2_metrics_tree[20]\n",
    "\n",
    "fold3_tree= subset(Tree_model1$pred,Tree_model1$pred[5]==\"Fold3\")\n",
    "fold3_metrics_tree= confusionMatrix(table(fold3_tree$obs,fold3_tree$pred))$byClass\n",
    "recall3_tree_original=fold3_metrics_tree[17]\n",
    "F1score3_tree_original=fold3_metrics_tree[20]\n",
    "\n",
    "fold4_tree= subset(Tree_model1$pred,Tree_model1$pred[5]==\"Fold4\")\n",
    "fold4_metrics_tree= confusionMatrix(table(fold4_tree$obs,fold4_tree$pred))$byClass\n",
    "recall4_tree_original=fold4_metrics_tree[17]\n",
    "F1score4_tree_original=fold4_metrics_tree[20]\n",
    "\n",
    "fold5_tree= subset(Tree_model1$pred,Tree_model1$pred[5]==\"Fold5\")\n",
    "fold5_metrics_tree= confusionMatrix(table(fold5_tree$obs,fold5_tree$pred))$byClass\n",
    "recall5_tree_original=fold5_metrics_tree[17]\n",
    "F1score5_tree_original=fold5_metrics_tree[20]\n",
    "\n",
    "plot(Tree_model1)\n",
    "Tree_model1$finalModel\n",
    "install.packages(\"rpart.plot\")\n",
    "require(rpart.plot)\n",
    "rpart.plot(Tree_model1$finalModel,type=0,extra=101,box.palette = \"GnBu\",\n",
    "           branch.lty=3,shadow.col = \"gray\",nn=T,cex=1) \n",
    "Tree_prediction<- predict(Tree_model1,data_test_rfe2)\n",
    "confusionMatrix(table(data_test_rfe2$Diagnosis,Tree_prediction)) #Acurácia=75% e Kappa=43.10% \n",
    "confusionMatrix(table(data_test_rfe2$Diagnosis,Tree_prediction))$byClass #Recall e F1 CCL(0 e NA) \n",
    "varImp(Tree_model1)\n",
    "plot(varImp(Tree_model1),main=\"Variables Importance - Decision Tree\")"
   ]
  },
  {
   "cell_type": "markdown",
   "metadata": {},
   "source": [
    "# Data augmentation"
   ]
  },
  {
   "cell_type": "markdown",
   "metadata": {},
   "source": [
    "## 5-fold cross-validation"
   ]
  },
  {
   "cell_type": "code",
   "execution_count": 30,
   "metadata": {},
   "outputs": [
    {
     "data": {
      "text/plain": [
       "\n",
       " 1  2  3 \n",
       "75 16 21 "
      ]
     },
     "metadata": {},
     "output_type": "display_data"
    },
    {
     "data": {
      "text/plain": [
       "\n",
       " 1  2  3 \n",
       "18  5  5 "
      ]
     },
     "metadata": {},
     "output_type": "display_data"
    }
   ],
   "source": [
    "set.seed(111)\n",
    "train_folds <- createFolds(data$Diagnosis, k = 5, list = T, returnTrain = T)\n",
    "#sapply(folds_treino,length)\n",
    "train_fold01<- data[train_folds$Fold1,]\n",
    "test_fold01<- data[-train_folds$Fold1,]\n",
    "table(train_fold01$Diagnosis)#(75,16,21) \n",
    "table(test_fold01$Diagnosis) #(18,5,5)\n"
   ]
  },
  {
   "cell_type": "markdown",
   "metadata": {},
   "source": [
    "## ROSE - fold 1"
   ]
  },
  {
   "cell_type": "code",
   "execution_count": 31,
   "metadata": {},
   "outputs": [
    {
     "name": "stderr",
     "output_type": "stream",
     "text": [
      "Installing package into 'C:/Users/usernote/Documents/R/win-library/3.6'\n",
      "(as 'lib' is unspecified)\n",
      "\n"
     ]
    },
    {
     "name": "stdout",
     "output_type": "stream",
     "text": [
      "\n",
      "  There is a binary version available but the source version is later:\n",
      "     binary source needs_compilation\n",
      "ROSE  0.0-3  0.0-4             FALSE\n",
      "\n"
     ]
    },
    {
     "name": "stderr",
     "output_type": "stream",
     "text": [
      "installing the source package 'ROSE'\n",
      "\n",
      "\n",
      "Loading required package: ROSE\n",
      "\n",
      "Loaded ROSE 0.0-4\n",
      "\n",
      "\n"
     ]
    },
    {
     "data": {
      "text/plain": [
       "\n",
       " 1  2 \n",
       "75 16 "
      ]
     },
     "metadata": {},
     "output_type": "display_data"
    },
    {
     "data": {
      "text/plain": [
       "\n",
       " 1  2 \n",
       "75 75 "
      ]
     },
     "metadata": {},
     "output_type": "display_data"
    },
    {
     "data": {
      "text/plain": [
       "\n",
       " 1  3 \n",
       "75 21 "
      ]
     },
     "metadata": {},
     "output_type": "display_data"
    },
    {
     "data": {
      "text/plain": [
       "\n",
       " 1  3 \n",
       "75 75 "
      ]
     },
     "metadata": {},
     "output_type": "display_data"
    },
    {
     "data": {
      "text/html": [
       "<style>\n",
       ".list-inline {list-style: none; margin:0; padding: 0}\n",
       ".list-inline>li {display: inline-block}\n",
       ".list-inline>li:not(:last-child)::after {content: \"\\00b7\"; padding: 0 .5ex}\n",
       "</style>\n",
       "<ol class=list-inline><li>225</li><li>22</li></ol>\n"
      ],
      "text/latex": [
       "\\begin{enumerate*}\n",
       "\\item 225\n",
       "\\item 22\n",
       "\\end{enumerate*}\n"
      ],
      "text/markdown": [
       "1. 225\n",
       "2. 22\n",
       "\n",
       "\n"
      ],
      "text/plain": [
       "[1] 225  22"
      ]
     },
     "metadata": {},
     "output_type": "display_data"
    },
    {
     "data": {
      "text/plain": [
       "\n",
       " 1  2  3 \n",
       "75 75 75 "
      ]
     },
     "metadata": {},
     "output_type": "display_data"
    }
   ],
   "source": [
    "install.packages(\"ROSE\")\n",
    "require(ROSE)\n",
    "#sau e ccl\n",
    "train_fold01$Diagnosis<-as.numeric(train_fold01$Diagnosis)\n",
    "train_fold01_ccl<- train_fold01[train_fold01$Diagnosis!=\"3\",] #Apenas saudáveis e CCL\n",
    "table(train_fold01_ccl$Diagnosis) #(75,16)\n",
    "train_fold01_ccl$Diagnosis<- as.factor(train_fold01_ccl$Diagnosis)\n",
    "set.seed(111)\n",
    "train_fold01_augmented_rose<- ovun.sample(Diagnosis~.,data=train_fold01_ccl,method = \"over\",N=150)$data\n",
    "table(train_fold01_augmented_rose$Diagnosis) #(75,75)\n",
    "#Sau e DA\n",
    "train_fold01$Diagnosis<-as.numeric(train_fold01$Diagnosis)\n",
    "train_fold01_da<- train_fold01[train_fold01$Diagnosis!=\"2\",] #Apenas saudáveis e DA\n",
    "table(train_fold01_da$Diagnosis) #(75,21)\n",
    "train_fold01_da$Diagnosis<- as.factor(train_fold01_da$Diagnosis)\n",
    "set.seed(222)\n",
    "train_fold01_augmented_rose2<- ovun.sample(Diagnosis~.,data=train_fold01_da,method = \"over\",N=150)$data\n",
    "table(train_fold01_augmented_rose2$Diagnosis) #(75,75)\n",
    "#Unindo DA do fold01_treino_aumentado_rose2 com o fold01_treino_aumentado_rose\n",
    "train_fold01_augmented_rose2<- train_fold01_augmented_rose2[train_fold01_augmented_rose2$Diagnosis!=\"1\",]\n",
    "train_fold01_augmented_rose_final<- rbind(train_fold01_augmented_rose,train_fold01_augmented_rose2)\n",
    "dim(train_fold01_augmented_rose_final) #225 x 22\n",
    "table(train_fold01_augmented_rose_final$Diagnosis) #(75,75,75)"
   ]
  },
  {
   "cell_type": "markdown",
   "metadata": {},
   "source": [
    "### RF fold 1"
   ]
  },
  {
   "cell_type": "code",
   "execution_count": 32,
   "metadata": {},
   "outputs": [
    {
     "data": {
      "text/plain": [
       "\n",
       "Call:\n",
       " randomForest(formula = train_fold01_augmented_rose_final1$Diagnosis ~      ., data = train_fold01_augmented_rose_final1) \n",
       "               Type of random forest: classification\n",
       "                     Number of trees: 500\n",
       "No. of variables tried at each split: 3\n",
       "\n",
       "        OOB estimate of  error rate: 2.22%\n",
       "Confusion matrix:\n",
       "   1  2  3 class.error\n",
       "1 71  3  1  0.05333333\n",
       "2  1 74  0  0.01333333\n",
       "3  0  0 75  0.00000000"
      ]
     },
     "metadata": {},
     "output_type": "display_data"
    }
   ],
   "source": [
    "set.seed(333)\n",
    "train_fold01_augmented_rose_final1<- train_fold01_augmented_rose_final[,c(\"Diagnosis\",\"MMSE\",\n",
    "                                                                          \"IADL\",\"GSDT\",\"FMTPT\",\"FMTIT\",\"GSST\",\"TMTA\",\"STEP\",\"Age\")]\n",
    "rf_fold01_rose<- randomForest(train_fold01_augmented_rose_final1$Diagnosis~.,data = train_fold01_augmented_rose_final1) \n",
    "rf_fold01_rose #Taxa de erro = 2.22%\n",
    "#Validação do modelo1\n",
    "test_fold0111<- test_fold01[,c(\"Diagnosis\",\"MMSE\",\n",
    "                               \"IADL\",\"GSDT\",\"FMTPT\",\"FMTIT\",\"GSST\",\"TMTA\",\"STEP\",\"Age\")]\n",
    "prediction_rose_fold01<- predict(rf_fold01_rose,test_fold0111)\n",
    "Metrics_rose_fold01<- confusionMatrix(table(test_fold0111$Diagnosis,prediction_rose_fold01))$byClass #Recall e F1 ccl (0.5 e 0.2857)\n",
    "#Acurácia=78.57% e kappa=56.25%\n",
    "Metrics_rose_fold01<- as.list(Metrics_rose_fold01)"
   ]
  },
  {
   "cell_type": "markdown",
   "metadata": {},
   "source": [
    "### DT fold 1"
   ]
  },
  {
   "cell_type": "code",
   "execution_count": 33,
   "metadata": {},
   "outputs": [
    {
     "name": "stderr",
     "output_type": "stream",
     "text": [
      "Your code contains a unicode char which cannot be displayed in your\n",
      "current locale and R will silently convert it to an escaped form when the\n",
      "R kernel executes this code. This can lead to subtle errors if you use\n",
      "such chars to do comparisons. For more information, please see\n",
      "https://github.com/IRkernel/repr/wiki/Problems-with-unicode-on-windows"
     ]
    }
   ],
   "source": [
    "set.seed(301)\n",
    "train_fold01_augmented_rose_final2<- train_fold01_augmented_rose_final[,c(\"Diagnosis\",\"MMSE\",\n",
    "                                                        \"IADL\",\"GSDT\",\"FMTPT\",\"FMTIT\",\"GSST\",\"TMTA\",\"Sex\",\"Age\")]\n",
    "tree_fold01_rose<- rpart(train_fold01_augmented_rose_final2$Diagnosis~.,data=train_fold01_augmented_rose_final2,method = \"class\")\n",
    "test_fold0122<- test_fold01[,c(\"Diagnosis\",\"MMSE\",\n",
    "                              \"IADL\",\"GSDT\",\"FMTPT\",\"FMTIT\",\"GSST\",\"TMTA\",\"Sex\",\"Age\")]\n",
    "prediction_rose_tree_fold01<- predict(tree_fold01_rose,test_fold0122,type=\"class\")\n",
    "Metrics_rose_tree_fold01<- confusionMatrix(test_fold0122$Diagnosis,prediction_rose_tree_fold01)$byClass #Recall e F1 ccl (0.125 e 0.1538)\n",
    "#Acur�cia= 60.71% e kappa= 29.36%\n",
    "Metrics_rose_tree_fold01<- as.list(Metrics_rose_tree_fold01)"
   ]
  },
  {
   "cell_type": "markdown",
   "metadata": {},
   "source": [
    "## ROSE - fold 2"
   ]
  },
  {
   "cell_type": "code",
   "execution_count": 35,
   "metadata": {},
   "outputs": [
    {
     "name": "stderr",
     "output_type": "stream",
     "text": [
      "Your code contains a unicode char which cannot be displayed in your\n",
      "current locale and R will silently convert it to an escaped form when the\n",
      "R kernel executes this code. This can lead to subtle errors if you use\n",
      "such chars to do comparisons. For more information, please see\n",
      "https://github.com/IRkernel/repr/wiki/Problems-with-unicode-on-windows"
     ]
    },
    {
     "data": {
      "text/plain": [
       "\n",
       " 1  2  3 \n",
       "75 17 21 "
      ]
     },
     "metadata": {},
     "output_type": "display_data"
    },
    {
     "data": {
      "text/plain": [
       "\n",
       " 1  2  3 \n",
       "18  4  5 "
      ]
     },
     "metadata": {},
     "output_type": "display_data"
    },
    {
     "data": {
      "text/plain": [
       "\n",
       " 1  2 \n",
       "75 17 "
      ]
     },
     "metadata": {},
     "output_type": "display_data"
    },
    {
     "data": {
      "text/plain": [
       "\n",
       " 1  2 \n",
       "75 75 "
      ]
     },
     "metadata": {},
     "output_type": "display_data"
    },
    {
     "data": {
      "text/plain": [
       "\n",
       " 1  3 \n",
       "75 21 "
      ]
     },
     "metadata": {},
     "output_type": "display_data"
    },
    {
     "data": {
      "text/plain": [
       "\n",
       " 1  3 \n",
       "75 75 "
      ]
     },
     "metadata": {},
     "output_type": "display_data"
    },
    {
     "data": {
      "text/html": [
       "<style>\n",
       ".list-inline {list-style: none; margin:0; padding: 0}\n",
       ".list-inline>li {display: inline-block}\n",
       ".list-inline>li:not(:last-child)::after {content: \"\\00b7\"; padding: 0 .5ex}\n",
       "</style>\n",
       "<ol class=list-inline><li>225</li><li>22</li></ol>\n"
      ],
      "text/latex": [
       "\\begin{enumerate*}\n",
       "\\item 225\n",
       "\\item 22\n",
       "\\end{enumerate*}\n"
      ],
      "text/markdown": [
       "1. 225\n",
       "2. 22\n",
       "\n",
       "\n"
      ],
      "text/plain": [
       "[1] 225  22"
      ]
     },
     "metadata": {},
     "output_type": "display_data"
    },
    {
     "data": {
      "text/plain": [
       "\n",
       " 1  2  3 \n",
       "75 75 75 "
      ]
     },
     "metadata": {},
     "output_type": "display_data"
    }
   ],
   "source": [
    "train_fold02<- data[train_folds$Fold2,]\n",
    "test_fold02<- data[-train_folds$Fold2,]\n",
    "table(train_fold02$Diagnosis)\n",
    "table(test_fold02$Diagnosis) \n",
    "\n",
    "train_fold02$Diagnosis<-as.numeric(train_fold02$Diagnosis)\n",
    "train_fold02_ccl<- train_fold02[train_fold02$Diagnosis!=\"3\",] #Apenas saud�veis e CCL\n",
    "table(train_fold02_ccl$Diagnosis) #(75,17)\n",
    "train_fold02_ccl$Diagnosis<- as.factor(train_fold02_ccl$Diagnosis)\n",
    "set.seed(11)\n",
    "train_fold02_augmented_rose<- ovun.sample(Diagnosis~.,data=train_fold02_ccl,method = \"over\",N=150)$data\n",
    "table(train_fold02_augmented_rose$Diagnosis) #(75,75)\n",
    "#Sau e DA\n",
    "train_fold02$Diagnosis<-as.numeric(train_fold02$Diagnosis)\n",
    "train_fold02_da<- train_fold02[train_fold02$Diagnosis!=\"2\",] #Apenas saud�veis e DA\n",
    "table(train_fold02_da$Diagnosis) #(75,21)\n",
    "train_fold02_da$Diagnosis<- as.factor(train_fold02_da$Diagnosis)\n",
    "set.seed(22)\n",
    "train_fold02_augmented_rose2<- ovun.sample(Diagnosis~.,data=train_fold02_da,method = \"over\",N=150)$data\n",
    "table(train_fold02_augmented_rose2$Diagnosis) #(75,75)\n",
    "#Unindo DA do fold02_treino_aumentado_rose2 com o fold02_treino_aumentado_rose\n",
    "train_fold02_augmented_rose2<- train_fold02_augmented_rose2[train_fold02_augmented_rose2$Diagnosis!=\"1\",]\n",
    "train_fold02_augmented_rose_final<- rbind(train_fold02_augmented_rose,train_fold02_augmented_rose2)\n",
    "dim(train_fold02_augmented_rose_final)\n",
    "table(train_fold02_augmented_rose_final$Diagnosis) #(75,75,75)"
   ]
  },
  {
   "cell_type": "markdown",
   "metadata": {},
   "source": [
    "### RF fold 2"
   ]
  },
  {
   "cell_type": "code",
   "execution_count": 37,
   "metadata": {},
   "outputs": [
    {
     "name": "stderr",
     "output_type": "stream",
     "text": [
      "Your code contains a unicode char which cannot be displayed in your\n",
      "current locale and R will silently convert it to an escaped form when the\n",
      "R kernel executes this code. This can lead to subtle errors if you use\n",
      "such chars to do comparisons. For more information, please see\n",
      "https://github.com/IRkernel/repr/wiki/Problems-with-unicode-on-windows"
     ]
    },
    {
     "data": {
      "text/plain": [
       "\n",
       "Call:\n",
       " randomForest(formula = train_fold02_augmented_rose_final1$Diagnosis ~      ., data = train_fold02_augmented_rose_final1) \n",
       "               Type of random forest: classification\n",
       "                     Number of trees: 500\n",
       "No. of variables tried at each split: 3\n",
       "\n",
       "        OOB estimate of  error rate: 3.11%\n",
       "Confusion matrix:\n",
       "   1  2  3 class.error\n",
       "1 70  4  1  0.06666667\n",
       "2  0 73  2  0.02666667\n",
       "3  0  0 75  0.00000000"
      ]
     },
     "metadata": {},
     "output_type": "display_data"
    }
   ],
   "source": [
    "train_fold02_augmented_rose_final1<- train_fold02_augmented_rose_final[,c(\"Diagnosis\",\"MMSE\",\n",
    "                                                                          \"IADL\",\"GSDT\",\"FMTPT\",\"FMTIT\",\"GSST\",\"TMTA\",\"STEP\",\"Age\")]\n",
    "set.seed(33)\n",
    "rf_fold02_rose<- randomForest(train_fold02_augmented_rose_final1$Diagnosis~.,data = train_fold02_augmented_rose_final1) \n",
    "rf_fold02_rose #Taxa de erro = 3.11%\n",
    "#Valida��o do modelo2\n",
    "test_fold0211<- test_fold02[,c(\"Diagnosis\",\"MMSE\",\n",
    "                               \"IADL\",\"GSDT\",\"FMTPT\",\"FMTIT\",\"GSST\",\"TMTA\",\"STEP\",\"Age\")]\n",
    "prediction_rose_fold02<- predict(rf_fold02_rose,test_fold0211)\n",
    "Metrics_rose_fold02<- confusionMatrix(table(test_fold0211$Diagnosis,prediction_rose_fold02))$byClass #Recall e F1 ccl (0 e NA)\n",
    "#Acur�cia=74.07% e kappa=41.3%\n",
    "Metrics_rose_fold02<- as.list(Metrics_rose_fold02)"
   ]
  },
  {
   "cell_type": "markdown",
   "metadata": {},
   "source": [
    "### DT fold 2"
   ]
  },
  {
   "cell_type": "code",
   "execution_count": 40,
   "metadata": {},
   "outputs": [
    {
     "name": "stderr",
     "output_type": "stream",
     "text": [
      "Your code contains a unicode char which cannot be displayed in your\n",
      "current locale and R will silently convert it to an escaped form when the\n",
      "R kernel executes this code. This can lead to subtle errors if you use\n",
      "such chars to do comparisons. For more information, please see\n",
      "https://github.com/IRkernel/repr/wiki/Problems-with-unicode-on-windows"
     ]
    }
   ],
   "source": [
    "set.seed(301)\n",
    "train_fold02_augmented_rose_final2<- train_fold02_augmented_rose_final[,c(\"Diagnosis\",\"MMSE\",\n",
    "                                                                          \"IADL\",\"GSDT\",\"FMTPT\",\"FMTIT\",\"GSST\",\"TMTA\",\"Sex\",\"Age\")]\n",
    "tree_fold02_rose<- rpart(train_fold02_augmented_rose_final2$Diagnosis~.,data=train_fold02_augmented_rose_final2,method = \"class\")\n",
    "test_fold0222<- test_fold02[,c(\"Diagnosis\",\"MMSE\",\n",
    "                               \"IADL\",\"GSDT\",\"FMTPT\",\"FMTIT\",\"GSST\",\"TMTA\",\"Sex\",\"Age\")]\n",
    "prediction_rose_tree_fold02<- predict(tree_fold02_rose,test_fold0222,type=\"class\")\n",
    "Metrics_rose_tree_fold02<- confusionMatrix(test_fold0222$Diagnosis,prediction_rose_tree_fold02)$byClass #Recall e F1 ccl (0 e Nan)\n",
    "#Acur�cia= 70.37% e kappa= 30.32%\n",
    "Metrics_rose_tree_fold02<- as.list(Metrics_rose_tree_fold02)"
   ]
  }
 ],
 "metadata": {
  "kernelspec": {
   "display_name": "R",
   "language": "R",
   "name": "ir"
  },
  "language_info": {
   "codemirror_mode": "r",
   "file_extension": ".r",
   "mimetype": "text/x-r-source",
   "name": "R",
   "pygments_lexer": "r",
   "version": "3.6.0"
  },
  "orig_nbformat": 4
 },
 "nbformat": 4,
 "nbformat_minor": 2
}
