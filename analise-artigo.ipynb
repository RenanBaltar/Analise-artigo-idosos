{
 "cells": [
  {
   "cell_type": "markdown",
   "metadata": {},
   "source": [
    "# Importação do banco de dados"
   ]
  },
  {
   "cell_type": "code",
   "execution_count": 2,
   "metadata": {
    "vscode": {
     "languageId": "r"
    }
   },
   "outputs": [],
   "source": [
    "#libPaths()\n",
    "#install.packages(\"readxl\")\n",
    "library(readxl)"
   ]
  },
  {
   "cell_type": "code",
   "execution_count": 3,
   "metadata": {
    "vscode": {
     "languageId": "r"
    }
   },
   "outputs": [
    {
     "data": {
      "text/html": [
       "<table class=\"dataframe\">\n",
       "<caption>A tibble: 6 × 23</caption>\n",
       "<thead>\n",
       "\t<tr><th scope=col>ID</th><th scope=col>Diagnosis</th><th scope=col>Age</th><th scope=col>Sex</th><th scope=col>Comorbidity</th><th scope=col>Scholarity</th><th scope=col>IADL</th><th scope=col>BBS</th><th scope=col>STS</th><th scope=col>HG</th><th scope=col>...</th><th scope=col>DTC</th><th scope=col>STEP</th><th scope=col>FMT_IT</th><th scope=col>FMT_DT</th><th scope=col>MMSE</th><th scope=col>CDT</th><th scope=col>TMTA</th><th scope=col>DSF</th><th scope=col>DSB</th><th scope=col>VF</th></tr>\n",
       "\t<tr><th scope=col>&lt;dbl&gt;</th><th scope=col>&lt;dbl&gt;</th><th scope=col>&lt;dbl&gt;</th><th scope=col>&lt;dbl&gt;</th><th scope=col>&lt;dbl&gt;</th><th scope=col>&lt;dbl&gt;</th><th scope=col>&lt;dbl&gt;</th><th scope=col>&lt;dbl&gt;</th><th scope=col>&lt;dbl&gt;</th><th scope=col>&lt;dbl&gt;</th><th scope=col>...</th><th scope=col>&lt;dbl&gt;</th><th scope=col>&lt;dbl&gt;</th><th scope=col>&lt;dbl&gt;</th><th scope=col>&lt;dbl&gt;</th><th scope=col>&lt;dbl&gt;</th><th scope=col>&lt;dbl&gt;</th><th scope=col>&lt;dbl&gt;</th><th scope=col>&lt;dbl&gt;</th><th scope=col>&lt;dbl&gt;</th><th scope=col>&lt;dbl&gt;</th></tr>\n",
       "</thead>\n",
       "<tbody>\n",
       "\t<tr><td>1</td><td>1</td><td>69.32512</td><td>1</td><td>2</td><td>3</td><td> 1</td><td>56</td><td>10</td><td>23.5</td><td>...</td><td>36.852495</td><td> 56</td><td> 31.04</td><td> 12.84</td><td>26</td><td>1</td><td>48</td><td>5</td><td>3</td><td>15</td></tr>\n",
       "\t<tr><td>2</td><td>1</td><td>68.54757</td><td>1</td><td>2</td><td>4</td><td> 1</td><td>56</td><td>11</td><td>27.9</td><td>...</td><td> 1.004995</td><td> 69</td><td> 15.78</td><td> 18.40</td><td>29</td><td>1</td><td>73</td><td>7</td><td>3</td><td>24</td></tr>\n",
       "\t<tr><td>3</td><td>1</td><td>61.77960</td><td>1</td><td>5</td><td>4</td><td> 1</td><td>56</td><td>15</td><td>21.7</td><td>...</td><td>14.662214</td><td> 91</td><td> 17.31</td><td> 14.05</td><td>29</td><td>3</td><td>50</td><td>6</td><td>6</td><td>21</td></tr>\n",
       "\t<tr><td>4</td><td>1</td><td>71.44695</td><td>1</td><td>2</td><td>2</td><td> 1</td><td>56</td><td>18</td><td>23.7</td><td>...</td><td>29.813731</td><td> 87</td><td> 16.84</td><td> 10.39</td><td>26</td><td>2</td><td>65</td><td>8</td><td>4</td><td>17</td></tr>\n",
       "\t<tr><td>5</td><td>3</td><td>75.84394</td><td>2</td><td>0</td><td>4</td><td>NA</td><td>55</td><td>13</td><td>37.3</td><td>...</td><td>10.882431</td><td>105</td><td> 82.00</td><td>138.00</td><td>26</td><td>2</td><td>56</td><td>8</td><td>6</td><td>18</td></tr>\n",
       "\t<tr><td>6</td><td>1</td><td>71.32923</td><td>2</td><td>2</td><td>1</td><td> 1</td><td>56</td><td>16</td><td>35.3</td><td>...</td><td>54.663985</td><td>131</td><td>112.43</td><td> 16.00</td><td>26</td><td>1</td><td>47</td><td>7</td><td>6</td><td>14</td></tr>\n",
       "</tbody>\n",
       "</table>\n"
      ],
      "text/latex": [
       "A tibble: 6 × 23\n",
       "\\begin{tabular}{lllllllllllllllllllll}\n",
       " ID & Diagnosis & Age & Sex & Comorbidity & Scholarity & IADL & BBS & STS & HG & ... & DTC & STEP & FMT\\_IT & FMT\\_DT & MMSE & CDT & TMTA & DSF & DSB & VF\\\\\n",
       " <dbl> & <dbl> & <dbl> & <dbl> & <dbl> & <dbl> & <dbl> & <dbl> & <dbl> & <dbl> & ... & <dbl> & <dbl> & <dbl> & <dbl> & <dbl> & <dbl> & <dbl> & <dbl> & <dbl> & <dbl>\\\\\n",
       "\\hline\n",
       "\t 1 & 1 & 69.32512 & 1 & 2 & 3 &  1 & 56 & 10 & 23.5 & ... & 36.852495 &  56 &  31.04 &  12.84 & 26 & 1 & 48 & 5 & 3 & 15\\\\\n",
       "\t 2 & 1 & 68.54757 & 1 & 2 & 4 &  1 & 56 & 11 & 27.9 & ... &  1.004995 &  69 &  15.78 &  18.40 & 29 & 1 & 73 & 7 & 3 & 24\\\\\n",
       "\t 3 & 1 & 61.77960 & 1 & 5 & 4 &  1 & 56 & 15 & 21.7 & ... & 14.662214 &  91 &  17.31 &  14.05 & 29 & 3 & 50 & 6 & 6 & 21\\\\\n",
       "\t 4 & 1 & 71.44695 & 1 & 2 & 2 &  1 & 56 & 18 & 23.7 & ... & 29.813731 &  87 &  16.84 &  10.39 & 26 & 2 & 65 & 8 & 4 & 17\\\\\n",
       "\t 5 & 3 & 75.84394 & 2 & 0 & 4 & NA & 55 & 13 & 37.3 & ... & 10.882431 & 105 &  82.00 & 138.00 & 26 & 2 & 56 & 8 & 6 & 18\\\\\n",
       "\t 6 & 1 & 71.32923 & 2 & 2 & 1 &  1 & 56 & 16 & 35.3 & ... & 54.663985 & 131 & 112.43 &  16.00 & 26 & 1 & 47 & 7 & 6 & 14\\\\\n",
       "\\end{tabular}\n"
      ],
      "text/markdown": [
       "\n",
       "A tibble: 6 × 23\n",
       "\n",
       "| ID &lt;dbl&gt; | Diagnosis &lt;dbl&gt; | Age &lt;dbl&gt; | Sex &lt;dbl&gt; | Comorbidity &lt;dbl&gt; | Scholarity &lt;dbl&gt; | IADL &lt;dbl&gt; | BBS &lt;dbl&gt; | STS &lt;dbl&gt; | HG &lt;dbl&gt; | ... ... | DTC &lt;dbl&gt; | STEP &lt;dbl&gt; | FMT_IT &lt;dbl&gt; | FMT_DT &lt;dbl&gt; | MMSE &lt;dbl&gt; | CDT &lt;dbl&gt; | TMTA &lt;dbl&gt; | DSF &lt;dbl&gt; | DSB &lt;dbl&gt; | VF &lt;dbl&gt; |\n",
       "|---|---|---|---|---|---|---|---|---|---|---|---|---|---|---|---|---|---|---|---|---|\n",
       "| 1 | 1 | 69.32512 | 1 | 2 | 3 |  1 | 56 | 10 | 23.5 | ... | 36.852495 |  56 |  31.04 |  12.84 | 26 | 1 | 48 | 5 | 3 | 15 |\n",
       "| 2 | 1 | 68.54757 | 1 | 2 | 4 |  1 | 56 | 11 | 27.9 | ... |  1.004995 |  69 |  15.78 |  18.40 | 29 | 1 | 73 | 7 | 3 | 24 |\n",
       "| 3 | 1 | 61.77960 | 1 | 5 | 4 |  1 | 56 | 15 | 21.7 | ... | 14.662214 |  91 |  17.31 |  14.05 | 29 | 3 | 50 | 6 | 6 | 21 |\n",
       "| 4 | 1 | 71.44695 | 1 | 2 | 2 |  1 | 56 | 18 | 23.7 | ... | 29.813731 |  87 |  16.84 |  10.39 | 26 | 2 | 65 | 8 | 4 | 17 |\n",
       "| 5 | 3 | 75.84394 | 2 | 0 | 4 | NA | 55 | 13 | 37.3 | ... | 10.882431 | 105 |  82.00 | 138.00 | 26 | 2 | 56 | 8 | 6 | 18 |\n",
       "| 6 | 1 | 71.32923 | 2 | 2 | 1 |  1 | 56 | 16 | 35.3 | ... | 54.663985 | 131 | 112.43 |  16.00 | 26 | 1 | 47 | 7 | 6 | 14 |\n",
       "\n"
      ],
      "text/plain": [
       "  ID Diagnosis Age      Sex Comorbidity Scholarity IADL BBS STS HG   ...\n",
       "1 1  1         69.32512 1   2           3           1   56  10  23.5 ...\n",
       "2 2  1         68.54757 1   2           4           1   56  11  27.9 ...\n",
       "3 3  1         61.77960 1   5           4           1   56  15  21.7 ...\n",
       "4 4  1         71.44695 1   2           2           1   56  18  23.7 ...\n",
       "5 5  3         75.84394 2   0           4          NA   55  13  37.3 ...\n",
       "6 6  1         71.32923 2   2           1           1   56  16  35.3 ...\n",
       "  DTC       STEP FMT_IT FMT_DT MMSE CDT TMTA DSF DSB VF\n",
       "1 36.852495  56   31.04  12.84 26   1   48   5   3   15\n",
       "2  1.004995  69   15.78  18.40 29   1   73   7   3   24\n",
       "3 14.662214  91   17.31  14.05 29   3   50   6   6   21\n",
       "4 29.813731  87   16.84  10.39 26   2   65   8   4   17\n",
       "5 10.882431 105   82.00 138.00 26   2   56   8   6   18\n",
       "6 54.663985 131  112.43  16.00 26   1   47   7   6   14"
      ]
     },
     "metadata": {},
     "output_type": "display_data"
    },
    {
     "data": {
      "text/html": [
       "<style>\n",
       ".list-inline {list-style: none; margin:0; padding: 0}\n",
       ".list-inline>li {display: inline-block}\n",
       ".list-inline>li:not(:last-child)::after {content: \"\\00b7\"; padding: 0 .5ex}\n",
       "</style>\n",
       "<ol class=list-inline><li>192</li><li>23</li></ol>\n"
      ],
      "text/latex": [
       "\\begin{enumerate*}\n",
       "\\item 192\n",
       "\\item 23\n",
       "\\end{enumerate*}\n"
      ],
      "text/markdown": [
       "1. 192\n",
       "2. 23\n",
       "\n",
       "\n"
      ],
      "text/plain": [
       "[1] 192  23"
      ]
     },
     "metadata": {},
     "output_type": "display_data"
    }
   ],
   "source": [
    "bd<- read_excel(\"Planilha de dados_projetos LaNEx_planilha limpa2_080521 (1).xlsx\",sheet = 1)\n",
    "head(bd)\n",
    "dim(bd)"
   ]
  },
  {
   "cell_type": "code",
   "execution_count": 4,
   "metadata": {
    "vscode": {
     "languageId": "r"
    }
   },
   "outputs": [
    {
     "data": {
      "text/plain": [
       "   Diagnosis          Age             Sex        Comorbidity      Scholarity   \n",
       " Min.   :1.000   Min.   :59.69   Min.   :1.00   Min.   :0.000   Min.   :1.000  \n",
       " 1st Qu.:1.000   1st Qu.:69.36   1st Qu.:1.00   1st Qu.:1.000   1st Qu.:2.000  \n",
       " Median :1.000   Median :74.28   Median :1.00   Median :2.000   Median :3.000  \n",
       " Mean   :1.693   Mean   :75.42   Mean   :1.24   Mean   :1.816   Mean   :2.861  \n",
       " 3rd Qu.:3.000   3rd Qu.:81.49   3rd Qu.:1.00   3rd Qu.:2.000   3rd Qu.:4.000  \n",
       " Max.   :3.000   Max.   :97.18   Max.   :2.00   Max.   :8.000   Max.   :4.000  \n",
       "                                                NA's   :13      NA's   :5      \n",
       "      IADL            BBS             STS              HG       \n",
       " Min.   :1.000   Min.   :40.00   Min.   : 0.00   Min.   :11.70  \n",
       " 1st Qu.:1.000   1st Qu.:54.00   1st Qu.: 9.25   1st Qu.:19.70  \n",
       " Median :1.000   Median :55.00   Median :11.50   Median :23.30  \n",
       " Mean   :1.374   Mean   :54.37   Mean   :11.65   Mean   :24.64  \n",
       " 3rd Qu.:2.000   3rd Qu.:56.00   3rd Qu.:14.00   3rd Qu.:28.12  \n",
       " Max.   :2.000   Max.   :56.00   Max.   :21.00   Max.   :57.20  \n",
       " NA's   :5       NA's   :13      NA's   :10      NA's   :22     \n",
       "      GSST             GSDT           DeltaGS              DTC         \n",
       " Min.   :0.2539   Min.   :0.2010   Min.   :-0.11296   Min.   :-64.369  \n",
       " 1st Qu.:0.6941   1st Qu.:0.5306   1st Qu.: 0.04908   1st Qu.:-13.884  \n",
       " Median :0.8319   Median :0.6893   Median : 0.13437   Median :  2.149  \n",
       " Mean   :0.8359   Mean   :0.6864   Mean   : 0.14448   Mean   :  2.700  \n",
       " 3rd Qu.:0.9983   3rd Qu.:0.8383   3rd Qu.: 0.21802   3rd Qu.: 17.800  \n",
       " Max.   :1.4778   Max.   :1.3761   Max.   : 0.68236   Max.   : 75.532  \n",
       " NA's   :11       NA's   :12                          NA's   :11       \n",
       "      STEP            FMT_IT           FMT_DT            MMSE           CDT    \n",
       " Min.   :  4.00   Min.   :  9.65   Min.   :  8.88   Min.   : 5.0   Min.   :0   \n",
       " 1st Qu.: 56.00   1st Qu.: 19.27   1st Qu.: 14.18   1st Qu.:24.0   1st Qu.:1   \n",
       " Median : 72.00   Median : 30.14   Median : 23.68   Median :27.0   Median :2   \n",
       " Mean   : 72.79   Mean   : 64.54   Mean   : 64.00   Mean   :25.5   Mean   :2   \n",
       " 3rd Qu.: 88.25   3rd Qu.: 70.54   3rd Qu.: 65.02   3rd Qu.:29.0   3rd Qu.:3   \n",
       " Max.   :131.00   Max.   :301.00   Max.   :301.00   Max.   :30.0   Max.   :3   \n",
       " NA's   :12       NA's   :12       NA's   :12       NA's   :3      NA's   :10  \n",
       "      TMTA             DSF              DSB               VF       \n",
       " Min.   : 24.62   Min.   : 2.000   Min.   : 0.000   Min.   : 1.00  \n",
       " 1st Qu.: 46.93   1st Qu.: 5.000   1st Qu.: 3.000   1st Qu.:10.00  \n",
       " Median : 60.45   Median : 6.000   Median : 4.000   Median :14.00  \n",
       " Mean   : 75.31   Mean   : 6.706   Mean   : 4.016   Mean   :14.33  \n",
       " 3rd Qu.: 89.52   3rd Qu.: 8.000   3rd Qu.: 5.000   3rd Qu.:18.00  \n",
       " Max.   :181.00   Max.   :13.000   Max.   :10.000   Max.   :28.00  \n",
       " NA's   :10       NA's   :5        NA's   :5        NA's   :7      "
      ]
     },
     "metadata": {},
     "output_type": "display_data"
    }
   ],
   "source": [
    "bd<- bd[,-1]\n",
    "summary(bd)"
   ]
  },
  {
   "cell_type": "markdown",
   "metadata": {},
   "source": [
    "# Análise exploratória"
   ]
  },
  {
   "cell_type": "code",
   "execution_count": 5,
   "metadata": {
    "vscode": {
     "languageId": "r"
    }
   },
   "outputs": [
    {
     "data": {
      "text/html": [
       "<style>\n",
       ".list-inline {list-style: none; margin:0; padding: 0}\n",
       ".list-inline>li {display: inline-block}\n",
       ".list-inline>li:not(:last-child)::after {content: \"\\00b7\"; padding: 0 .5ex}\n",
       "</style>\n",
       "<ol class=list-inline><li>140</li><li>22</li></ol>\n"
      ],
      "text/latex": [
       "\\begin{enumerate*}\n",
       "\\item 140\n",
       "\\item 22\n",
       "\\end{enumerate*}\n"
      ],
      "text/markdown": [
       "1. 140\n",
       "2. 22\n",
       "\n",
       "\n"
      ],
      "text/plain": [
       "[1] 140  22"
      ]
     },
     "metadata": {},
     "output_type": "display_data"
    },
    {
     "data": {
      "text/plain": [
       "\n",
       " 1  2  3 \n",
       "93 21 26 "
      ]
     },
     "metadata": {},
     "output_type": "display_data"
    },
    {
     "name": "stdout",
     "output_type": "stream",
     "text": [
      "tibble [140 x 22] (S3: tbl_df/tbl/data.frame)\n",
      " $ Diagnosis  : num [1:140] 1 1 1 1 1 1 1 2 3 3 ...\n",
      " $ Age        : num [1:140] 69.3 68.5 61.8 71.4 71.3 ...\n",
      " $ Sex        : num [1:140] 1 1 1 1 2 1 1 1 1 2 ...\n",
      " $ Comorbidity: num [1:140] 2 2 5 2 2 1 2 2 1 1 ...\n",
      " $ Scholarity : num [1:140] 3 4 4 2 1 4 4 4 1 4 ...\n",
      " $ IADL       : num [1:140] 1 1 1 1 1 1 1 1 2 2 ...\n",
      " $ BBS        : num [1:140] 56 56 56 56 56 56 54 55 54 55 ...\n",
      " $ STS        : num [1:140] 10 11 15 18 16 11 14 15 6 17 ...\n",
      " $ HG         : num [1:140] 23.5 27.9 21.7 23.7 35.3 19.7 17.9 25.1 15.9 36 ...\n",
      " $ GSST       : num [1:140] 1 1.02 1.18 1.1 1.48 ...\n",
      " $ GSDT       : num [1:140] 0.637 1.038 1.227 0.892 1.376 ...\n",
      " $ DeltaGS    : num [1:140] 0.3664 -0.0142 -0.0436 0.2134 0.1017 ...\n",
      " $ DTC        : num [1:140] 36.9 1 14.7 29.8 54.7 ...\n",
      " $ STEP       : num [1:140] 56 69 91 87 131 69 67 67 19 99 ...\n",
      " $ FMT_IT     : num [1:140] 31 15.8 17.3 16.8 112.4 ...\n",
      " $ FMT_DT     : num [1:140] 12.8 18.4 14.1 10.4 16 ...\n",
      " $ MMSE       : num [1:140] 26 29 29 26 26 29 28 26 11 20 ...\n",
      " $ CDT        : num [1:140] 1 1 3 2 1 3 3 1 0 0 ...\n",
      " $ TMTA       : num [1:140] 48 73 50 65 47 ...\n",
      " $ DSF        : num [1:140] 5 7 6 8 7 10 8 6 6 9 ...\n",
      " $ DSB        : num [1:140] 3 3 6 4 6 4 5 3 0 5 ...\n",
      " $ VF         : num [1:140] 15 24 21 17 14 14 22 15 7 14 ...\n",
      " - attr(*, \"na.action\")= 'omit' Named int [1:52] 5 7 8 11 12 13 17 18 19 21 ...\n",
      "  ..- attr(*, \"names\")= chr [1:52] \"5\" \"7\" \"8\" \"11\" ...\n"
     ]
    }
   ],
   "source": [
    "data<- na.omit(bd) \n",
    "dim(data) #140 idosos após remoção dos Nas\n",
    "table(data$Diagnosis) #(93, 21 e 26)\n",
    "str(data)\n",
    "data$Sex<- as.integer(data$Sex)\n",
    "data$IADL<- as.integer(data$IADL)"
   ]
  },
  {
   "cell_type": "markdown",
   "metadata": {},
   "source": [
    "# PCA"
   ]
  },
  {
   "cell_type": "code",
   "execution_count": 5,
   "metadata": {
    "vscode": {
     "languageId": "r"
    }
   },
   "outputs": [
    {
     "name": "stderr",
     "output_type": "stream",
     "text": [
      "Loading required package: psych\n",
      "\n"
     ]
    },
    {
     "name": "stdout",
     "output_type": "stream",
     "text": [
      "Error in solve.default(r) : \n",
      "  sistema é computacionalmente singular: condição recíproca número = 9.14738e-18\n"
     ]
    },
    {
     "name": "stderr",
     "output_type": "stream",
     "text": [
      "matrix is not invertible, image not found\n",
      "\n"
     ]
    },
    {
     "data": {
      "text/plain": [
       "Kaiser-Meyer-Olkin factor adequacy\n",
       "Call: KMO(r = data[, -1])\n",
       "Overall MSA =  0.5\n",
       "MSA for each item = \n",
       "        Age         Sex Comorbidity  Scholarity        IADL         BBS \n",
       "        0.5         0.5         0.5         0.5         0.5         0.5 \n",
       "        STS          HG        GSST        GSDT     DeltaGS         DTC \n",
       "        0.5         0.5         0.5         0.5         0.5         0.5 \n",
       "       STEP      FMT_IT      FMT_DT        MMSE         CDT        TMTA \n",
       "        0.5         0.5         0.5         0.5         0.5         0.5 \n",
       "        DSF         DSB          VF \n",
       "        0.5         0.5         0.5 "
      ]
     },
     "metadata": {},
     "output_type": "display_data"
    },
    {
     "name": "stderr",
     "output_type": "stream",
     "text": [
      "Loading required package: FactoMineR\n",
      "\n",
      "Warning message:\n",
      "\"package 'FactoMineR' was built under R version 3.6.3\"\n",
      "Loading required package: factoextra\n",
      "\n",
      "Warning message:\n",
      "\"package 'factoextra' was built under R version 3.6.3\"\n",
      "Loading required package: ggplot2\n",
      "\n",
      "\n",
      "Attaching package: 'ggplot2'\n",
      "\n",
      "\n",
      "The following objects are masked from 'package:psych':\n",
      "\n",
      "    %+%, alpha\n",
      "\n",
      "\n",
      "Welcome! Want to learn more? See two factoextra-related books at https://goo.gl/ve3WBa\n",
      "\n"
     ]
    },
    {
     "data": {
      "text/html": [
       "<table class=\"dataframe\">\n",
       "<caption>A data.frame: 21 × 3</caption>\n",
       "<thead>\n",
       "\t<tr><th></th><th scope=col>eigenvalue</th><th scope=col>variance.percent</th><th scope=col>cumulative.variance.percent</th></tr>\n",
       "\t<tr><th></th><th scope=col>&lt;dbl&gt;</th><th scope=col>&lt;dbl&gt;</th><th scope=col>&lt;dbl&gt;</th></tr>\n",
       "</thead>\n",
       "<tbody>\n",
       "\t<tr><th scope=row>Dim.1</th><td>6.666414e+00</td><td>3.174483e+01</td><td> 31.74483</td></tr>\n",
       "\t<tr><th scope=row>Dim.2</th><td>2.352209e+00</td><td>1.120099e+01</td><td> 42.94582</td></tr>\n",
       "\t<tr><th scope=row>Dim.3</th><td>2.124949e+00</td><td>1.011880e+01</td><td> 53.06463</td></tr>\n",
       "\t<tr><th scope=row>Dim.4</th><td>1.554484e+00</td><td>7.402307e+00</td><td> 60.46693</td></tr>\n",
       "\t<tr><th scope=row>Dim.5</th><td>1.252056e+00</td><td>5.962170e+00</td><td> 66.42910</td></tr>\n",
       "\t<tr><th scope=row>Dim.6</th><td>9.712860e-01</td><td>4.625172e+00</td><td> 71.05427</td></tr>\n",
       "\t<tr><th scope=row>Dim.7</th><td>9.198776e-01</td><td>4.380370e+00</td><td> 75.43464</td></tr>\n",
       "\t<tr><th scope=row>Dim.8</th><td>7.562931e-01</td><td>3.601396e+00</td><td> 79.03604</td></tr>\n",
       "\t<tr><th scope=row>Dim.9</th><td>6.922245e-01</td><td>3.296307e+00</td><td> 82.33235</td></tr>\n",
       "\t<tr><th scope=row>Dim.10</th><td>6.174353e-01</td><td>2.940168e+00</td><td> 85.27252</td></tr>\n",
       "\t<tr><th scope=row>Dim.11</th><td>5.407176e-01</td><td>2.574846e+00</td><td> 87.84736</td></tr>\n",
       "\t<tr><th scope=row>Dim.12</th><td>4.686533e-01</td><td>2.231682e+00</td><td> 90.07904</td></tr>\n",
       "\t<tr><th scope=row>Dim.13</th><td>4.488952e-01</td><td>2.137596e+00</td><td> 92.21664</td></tr>\n",
       "\t<tr><th scope=row>Dim.14</th><td>3.850885e-01</td><td>1.833755e+00</td><td> 94.05039</td></tr>\n",
       "\t<tr><th scope=row>Dim.15</th><td>3.607111e-01</td><td>1.717672e+00</td><td> 95.76807</td></tr>\n",
       "\t<tr><th scope=row>Dim.16</th><td>3.007771e-01</td><td>1.432272e+00</td><td> 97.20034</td></tr>\n",
       "\t<tr><th scope=row>Dim.17</th><td>2.586721e-01</td><td>1.231772e+00</td><td> 98.43211</td></tr>\n",
       "\t<tr><th scope=row>Dim.18</th><td>2.036127e-01</td><td>9.695841e-01</td><td> 99.40169</td></tr>\n",
       "\t<tr><th scope=row>Dim.19</th><td>1.159162e-01</td><td>5.519817e-01</td><td> 99.95368</td></tr>\n",
       "\t<tr><th scope=row>Dim.20</th><td>9.728149e-03</td><td>4.632452e-02</td><td>100.00000</td></tr>\n",
       "\t<tr><th scope=row>Dim.21</th><td>2.290322e-31</td><td>1.090629e-30</td><td>100.00000</td></tr>\n",
       "</tbody>\n",
       "</table>\n"
      ],
      "text/latex": [
       "A data.frame: 21 × 3\n",
       "\\begin{tabular}{r|lll}\n",
       "  & eigenvalue & variance.percent & cumulative.variance.percent\\\\\n",
       "  & <dbl> & <dbl> & <dbl>\\\\\n",
       "\\hline\n",
       "\tDim.1 & 6.666414e+00 & 3.174483e+01 &  31.74483\\\\\n",
       "\tDim.2 & 2.352209e+00 & 1.120099e+01 &  42.94582\\\\\n",
       "\tDim.3 & 2.124949e+00 & 1.011880e+01 &  53.06463\\\\\n",
       "\tDim.4 & 1.554484e+00 & 7.402307e+00 &  60.46693\\\\\n",
       "\tDim.5 & 1.252056e+00 & 5.962170e+00 &  66.42910\\\\\n",
       "\tDim.6 & 9.712860e-01 & 4.625172e+00 &  71.05427\\\\\n",
       "\tDim.7 & 9.198776e-01 & 4.380370e+00 &  75.43464\\\\\n",
       "\tDim.8 & 7.562931e-01 & 3.601396e+00 &  79.03604\\\\\n",
       "\tDim.9 & 6.922245e-01 & 3.296307e+00 &  82.33235\\\\\n",
       "\tDim.10 & 6.174353e-01 & 2.940168e+00 &  85.27252\\\\\n",
       "\tDim.11 & 5.407176e-01 & 2.574846e+00 &  87.84736\\\\\n",
       "\tDim.12 & 4.686533e-01 & 2.231682e+00 &  90.07904\\\\\n",
       "\tDim.13 & 4.488952e-01 & 2.137596e+00 &  92.21664\\\\\n",
       "\tDim.14 & 3.850885e-01 & 1.833755e+00 &  94.05039\\\\\n",
       "\tDim.15 & 3.607111e-01 & 1.717672e+00 &  95.76807\\\\\n",
       "\tDim.16 & 3.007771e-01 & 1.432272e+00 &  97.20034\\\\\n",
       "\tDim.17 & 2.586721e-01 & 1.231772e+00 &  98.43211\\\\\n",
       "\tDim.18 & 2.036127e-01 & 9.695841e-01 &  99.40169\\\\\n",
       "\tDim.19 & 1.159162e-01 & 5.519817e-01 &  99.95368\\\\\n",
       "\tDim.20 & 9.728149e-03 & 4.632452e-02 & 100.00000\\\\\n",
       "\tDim.21 & 2.290322e-31 & 1.090629e-30 & 100.00000\\\\\n",
       "\\end{tabular}\n"
      ],
      "text/markdown": [
       "\n",
       "A data.frame: 21 × 3\n",
       "\n",
       "| <!--/--> | eigenvalue &lt;dbl&gt; | variance.percent &lt;dbl&gt; | cumulative.variance.percent &lt;dbl&gt; |\n",
       "|---|---|---|---|\n",
       "| Dim.1 | 6.666414e+00 | 3.174483e+01 |  31.74483 |\n",
       "| Dim.2 | 2.352209e+00 | 1.120099e+01 |  42.94582 |\n",
       "| Dim.3 | 2.124949e+00 | 1.011880e+01 |  53.06463 |\n",
       "| Dim.4 | 1.554484e+00 | 7.402307e+00 |  60.46693 |\n",
       "| Dim.5 | 1.252056e+00 | 5.962170e+00 |  66.42910 |\n",
       "| Dim.6 | 9.712860e-01 | 4.625172e+00 |  71.05427 |\n",
       "| Dim.7 | 9.198776e-01 | 4.380370e+00 |  75.43464 |\n",
       "| Dim.8 | 7.562931e-01 | 3.601396e+00 |  79.03604 |\n",
       "| Dim.9 | 6.922245e-01 | 3.296307e+00 |  82.33235 |\n",
       "| Dim.10 | 6.174353e-01 | 2.940168e+00 |  85.27252 |\n",
       "| Dim.11 | 5.407176e-01 | 2.574846e+00 |  87.84736 |\n",
       "| Dim.12 | 4.686533e-01 | 2.231682e+00 |  90.07904 |\n",
       "| Dim.13 | 4.488952e-01 | 2.137596e+00 |  92.21664 |\n",
       "| Dim.14 | 3.850885e-01 | 1.833755e+00 |  94.05039 |\n",
       "| Dim.15 | 3.607111e-01 | 1.717672e+00 |  95.76807 |\n",
       "| Dim.16 | 3.007771e-01 | 1.432272e+00 |  97.20034 |\n",
       "| Dim.17 | 2.586721e-01 | 1.231772e+00 |  98.43211 |\n",
       "| Dim.18 | 2.036127e-01 | 9.695841e-01 |  99.40169 |\n",
       "| Dim.19 | 1.159162e-01 | 5.519817e-01 |  99.95368 |\n",
       "| Dim.20 | 9.728149e-03 | 4.632452e-02 | 100.00000 |\n",
       "| Dim.21 | 2.290322e-31 | 1.090629e-30 | 100.00000 |\n",
       "\n"
      ],
      "text/plain": [
       "       eigenvalue   variance.percent cumulative.variance.percent\n",
       "Dim.1  6.666414e+00 3.174483e+01      31.74483                  \n",
       "Dim.2  2.352209e+00 1.120099e+01      42.94582                  \n",
       "Dim.3  2.124949e+00 1.011880e+01      53.06463                  \n",
       "Dim.4  1.554484e+00 7.402307e+00      60.46693                  \n",
       "Dim.5  1.252056e+00 5.962170e+00      66.42910                  \n",
       "Dim.6  9.712860e-01 4.625172e+00      71.05427                  \n",
       "Dim.7  9.198776e-01 4.380370e+00      75.43464                  \n",
       "Dim.8  7.562931e-01 3.601396e+00      79.03604                  \n",
       "Dim.9  6.922245e-01 3.296307e+00      82.33235                  \n",
       "Dim.10 6.174353e-01 2.940168e+00      85.27252                  \n",
       "Dim.11 5.407176e-01 2.574846e+00      87.84736                  \n",
       "Dim.12 4.686533e-01 2.231682e+00      90.07904                  \n",
       "Dim.13 4.488952e-01 2.137596e+00      92.21664                  \n",
       "Dim.14 3.850885e-01 1.833755e+00      94.05039                  \n",
       "Dim.15 3.607111e-01 1.717672e+00      95.76807                  \n",
       "Dim.16 3.007771e-01 1.432272e+00      97.20034                  \n",
       "Dim.17 2.586721e-01 1.231772e+00      98.43211                  \n",
       "Dim.18 2.036127e-01 9.695841e-01      99.40169                  \n",
       "Dim.19 1.159162e-01 5.519817e-01      99.95368                  \n",
       "Dim.20 9.728149e-03 4.632452e-02     100.00000                  \n",
       "Dim.21 2.290322e-31 1.090629e-30     100.00000                  "
      ]
     },
     "metadata": {},
     "output_type": "display_data"
    },
    {
     "data": {
      "image/png": "[encoded data removed]",
      "text/plain": [
       "plot without title"
      ]
     },
     "metadata": {
      "image/png": {
       "height": 420,
       "width": 420
      }
     },
     "output_type": "display_data"
    },
    {
     "data": {
      "image/png": "[encoded data removed]",
      "text/plain": [
       "plot without title"
      ]
     },
     "metadata": {
      "image/png": {
       "height": 420,
       "width": 420
      }
     },
     "output_type": "display_data"
    },
    {
     "data": {
      "image/png": "[encoded data removed]",
      "text/plain": [
       "plot without title"
      ]
     },
     "metadata": {
      "image/png": {
       "height": 420,
       "width": 420
      }
     },
     "output_type": "display_data"
    },
    {
     "data": {
      "image/png": "[encoded data removed]",
      "text/plain": [
       "plot without title"
      ]
     },
     "metadata": {
      "image/png": {
       "height": 420,
       "width": 420
      }
     },
     "output_type": "display_data"
    },
    {
     "data": {
      "image/png": "[encoded data removed]",
      "text/plain": [
       "plot without title"
      ]
     },
     "metadata": {
      "image/png": {
       "height": 420,
       "width": 420
      }
     },
     "output_type": "display_data"
    }
   ],
   "source": [
    "#Teste KMO (verifica se um modelo de FA é adequado aos dados)\n",
    "#install.packages(\"psych\")\n",
    "require(psych)\n",
    "KMO(data[,-1]) #0.5-aceitável. Acima de 0.85-recomendado\n",
    "#install.packages(\"FactoMineR\")\n",
    "#install.packages(\"factoextra\")\n",
    "require(FactoMineR)\n",
    "require(factoextra)\n",
    "PCA<- prcomp(data[,-1],scale. = T)\n",
    "eig.val<- get_eigenvalue(PCA)\n",
    "eig.val\n",
    "#Scree plot\n",
    "fviz_eig(PCA,addlabels = T,ylim=c(0,100))\n",
    "#Extrair os resultados das variáveis do PCA p/ plotar no gráfico\n",
    "var<- get_pca_var(PCA)\n",
    "ind<- get_pca_ind(PCA)\n",
    "fviz_pca_var(PCA,col.var=\"contrib\",gradient.cols = c(\"#00AFBB\", \"#E7B800\", \"#FC4E07\"),repel = T)\n",
    "#Contribuição das variáveis para a 1ª e 2ª dimensão\n",
    "fviz_contrib(PCA, choice = \"var\", axes = 1, top = 10) \n",
    "fviz_contrib(PCA, choice = \"var\", axes = 2, top = 10)\n",
    "#Criar grupos p/ ajudar na visualização do gráfico\n",
    "Labels= data$Diagnosis\n",
    "Labels<- as.numeric(Labels)\n",
    "Labels[Labels==1]<- \"Healthy\"\n",
    "Labels[Labels==2]<- \"MCI\"\n",
    "Labels[Labels==3]<- \"AD\"\n",
    "Labels<- as.factor(Labels)\n",
    "fviz_pca_ind(PCA,geom= c(\"point\",\"text\"),habillage = Labels,addEllipses = T)"
   ]
  },
  {
   "cell_type": "markdown",
   "metadata": {},
   "source": [
    "# Distribuição das classes"
   ]
  },
  {
   "cell_type": "code",
   "execution_count": 6,
   "metadata": {
    "vscode": {
     "languageId": "r"
    }
   },
   "outputs": [
    {
     "name": "stdout",
     "output_type": "stream",
     "text": [
      "tibble [140 x 22] (S3: tbl_df/tbl/data.frame)\n",
      " $ Diagnosis  : Factor w/ 3 levels \"1\",\"2\",\"3\": 1 1 1 1 1 1 1 2 3 3 ...\n",
      " $ Age        : num [1:140] 69.3 68.5 61.8 71.4 71.3 ...\n",
      " $ Sex        : Factor w/ 2 levels \"1\",\"2\": 1 1 1 1 2 1 1 1 1 2 ...\n",
      " $ Comorbidity: num [1:140] 2 2 5 2 2 1 2 2 1 1 ...\n",
      " $ Scholarity : Factor w/ 4 levels \"1\",\"2\",\"3\",\"4\": 3 4 4 2 1 4 4 4 1 4 ...\n",
      " $ IADL       : Factor w/ 2 levels \"1\",\"2\": 1 1 1 1 1 1 1 1 2 2 ...\n",
      " $ BBS        : num [1:140] 56 56 56 56 56 56 54 55 54 55 ...\n",
      " $ STS        : num [1:140] 10 11 15 18 16 11 14 15 6 17 ...\n",
      " $ HG         : num [1:140] 23.5 27.9 21.7 23.7 35.3 19.7 17.9 25.1 15.9 36 ...\n",
      " $ GSST       : num [1:140] 1 1.02 1.18 1.1 1.48 ...\n",
      " $ GSDT       : num [1:140] 0.637 1.038 1.227 0.892 1.376 ...\n",
      " $ DeltaGS    : num [1:140] 0.3664 -0.0142 -0.0436 0.2134 0.1017 ...\n",
      " $ DTC        : num [1:140] 36.9 1 14.7 29.8 54.7 ...\n",
      " $ STEP       : num [1:140] 56 69 91 87 131 69 67 67 19 99 ...\n",
      " $ FMT_IT     : num [1:140] 31 15.8 17.3 16.8 112.4 ...\n",
      " $ FMT_DT     : num [1:140] 12.8 18.4 14.1 10.4 16 ...\n",
      " $ MMSE       : num [1:140] 26 29 29 26 26 29 28 26 11 20 ...\n",
      " $ CDT        : num [1:140] 1 1 3 2 1 3 3 1 0 0 ...\n",
      " $ TMTA       : num [1:140] 48 73 50 65 47 ...\n",
      " $ DSF        : num [1:140] 5 7 6 8 7 10 8 6 6 9 ...\n",
      " $ DSB        : num [1:140] 3 3 6 4 6 4 5 3 0 5 ...\n",
      " $ VF         : num [1:140] 15 24 21 17 14 14 22 15 7 14 ...\n",
      " - attr(*, \"na.action\")= 'omit' Named int [1:52] 5 7 8 11 12 13 17 18 19 21 ...\n",
      "  ..- attr(*, \"names\")= chr [1:52] \"5\" \"7\" \"8\" \"11\" ...\n"
     ]
    },
    {
     "data": {
      "image/png": "[encoded data removed]",
      "text/plain": [
       "Plot with title \"Class Distribution - Original data\""
      ]
     },
     "metadata": {
      "image/png": {
       "height": 420,
       "width": 420
      }
     },
     "output_type": "display_data"
    }
   ],
   "source": [
    "data$Diagnosis<- as.factor(data$Diagnosis)\n",
    "data$Sex<- as.factor(data$Sex)\n",
    "data$Scholarity<- as.factor(data$Scholarity)\n",
    "data$IADL<- as.factor(data$IADL)\n",
    "str(data)\n",
    "classes= data$Diagnosis\n",
    "classes<- as.numeric(classes)\n",
    "classes[classes==1]<- \"1.Healthy\"\n",
    "classes[classes==2]<- \"2.MCI\"\n",
    "classes[classes==3]<- \"3.AD\"\n",
    "classes<- as.factor(classes)\n",
    "barplot(prop.table(table(classes)),\n",
    "        col=c(\"green\",\"blue\",\"red\"),ylim=c(0,0.8),main=\"Class Distribution - Original data\") #Classes desbalanceadas - Data augmentation"
   ]
  },
  {
   "cell_type": "markdown",
   "metadata": {},
   "source": [
    "# Divisão em amostras de treino e de teste"
   ]
  },
  {
   "cell_type": "code",
   "execution_count": 7,
   "metadata": {
    "vscode": {
     "languageId": "r"
    }
   },
   "outputs": [
    {
     "name": "stderr",
     "output_type": "stream",
     "text": [
      "Loading required package: caret\n",
      "\n",
      "Loading required package: lattice\n",
      "\n"
     ]
    },
    {
     "data": {
      "text/plain": [
       "\n",
       " 1  2  3 \n",
       "66 15 19 "
      ]
     },
     "metadata": {},
     "output_type": "display_data"
    },
    {
     "data": {
      "text/plain": [
       "\n",
       " 1  2  3 \n",
       "27  6  7 "
      ]
     },
     "metadata": {},
     "output_type": "display_data"
    }
   ],
   "source": [
    "#install.packages(\"caret\")\n",
    "require(caret)\n",
    "set.seed(555)\n",
    "train<- createDataPartition(data$Diagnosis,p=0.7,list=F)\n",
    "data_train<- data[train,]\n",
    "data_test<- data[-train,]\n",
    "table(data_train$Diagnosis) #(66,15,19) \n",
    "table(data_test$Diagnosis) #(27,6,7)"
   ]
  },
  {
   "cell_type": "markdown",
   "metadata": {},
   "source": [
    "# RFE-RF"
   ]
  },
  {
   "cell_type": "code",
   "execution_count": 8,
   "metadata": {
    "vscode": {
     "languageId": "r"
    }
   },
   "outputs": [
    {
     "name": "stderr",
     "output_type": "stream",
     "text": [
      "Loading required package: e1071\n",
      "\n",
      "Loading required package: randomForest\n",
      "\n",
      "Warning message:\n",
      "\"package 'randomForest' was built under R version 3.6.3\"\n",
      "randomForest 4.6-14\n",
      "\n",
      "Type rfNews() to see new features/changes/bug fixes.\n",
      "\n",
      "\n",
      "Attaching package: 'randomForest'\n",
      "\n",
      "\n",
      "The following object is masked from 'package:ggplot2':\n",
      "\n",
      "    margin\n",
      "\n",
      "\n"
     ]
    },
    {
     "name": "stdout",
     "output_type": "stream",
     "text": [
      "\n",
      "Recursive feature selection\n",
      "\n",
      "Outer resampling method: Cross-Validated (5 fold) \n",
      "\n",
      "Resampling performance over subset size:\n",
      "\n",
      " Variables Accuracy  Kappa AccuracySD  KappaSD Selected\n",
      "         2   0.7692 0.5078   0.061486 0.130465         \n",
      "         3   0.8393 0.6327   0.028038 0.070873         \n",
      "         4   0.7993 0.5711   0.040549 0.094472         \n",
      "         5   0.7888 0.5499   0.047767 0.100760         \n",
      "         6   0.8188 0.6037   0.051204 0.118256         \n",
      "         7   0.8388 0.6599   0.046207 0.081962         \n",
      "         8   0.8498 0.6659   0.005321 0.007723         \n",
      "         9   0.8494 0.6686   0.037280 0.085031        *\n",
      "        10   0.8283 0.6216   0.063154 0.140765         \n",
      "        11   0.8293 0.6266   0.031925 0.077567         \n",
      "        12   0.8203 0.6050   0.054787 0.129692         \n",
      "        13   0.8298 0.6258   0.045446 0.109323         \n",
      "        14   0.8298 0.6217   0.045446 0.112103         \n",
      "        15   0.8293 0.6198   0.031925 0.071056         \n",
      "        16   0.8198 0.5978   0.028467 0.071317         \n",
      "        17   0.8198 0.6019   0.028467 0.068657         \n",
      "        18   0.8198 0.6019   0.028467 0.068657         \n",
      "        19   0.8293 0.6198   0.031925 0.071056         \n",
      "        20   0.8293 0.6198   0.031925 0.071056         \n",
      "        21   0.8198 0.6019   0.028467 0.068657         \n",
      "\n",
      "The top 5 variables (out of 9):\n",
      "   MMSE, IADL, GSDT, FMT_DT, FMT_IT\n",
      "\n"
     ]
    },
    {
     "data": {
      "text/html": [
       "<style>\n",
       ".list-inline {list-style: none; margin:0; padding: 0}\n",
       ".list-inline>li {display: inline-block}\n",
       ".list-inline>li:not(:last-child)::after {content: \"\\00b7\"; padding: 0 .5ex}\n",
       "</style>\n",
       "<ol class=list-inline><li>'MMSE'</li><li>'IADL'</li><li>'GSDT'</li><li>'FMT_DT'</li><li>'FMT_IT'</li><li>'GSST'</li><li>'TMTA'</li><li>'STEP'</li><li>'Age'</li></ol>\n"
      ],
      "text/latex": [
       "\\begin{enumerate*}\n",
       "\\item 'MMSE'\n",
       "\\item 'IADL'\n",
       "\\item 'GSDT'\n",
       "\\item 'FMT\\_DT'\n",
       "\\item 'FMT\\_IT'\n",
       "\\item 'GSST'\n",
       "\\item 'TMTA'\n",
       "\\item 'STEP'\n",
       "\\item 'Age'\n",
       "\\end{enumerate*}\n"
      ],
      "text/markdown": [
       "1. 'MMSE'\n",
       "2. 'IADL'\n",
       "3. 'GSDT'\n",
       "4. 'FMT_DT'\n",
       "5. 'FMT_IT'\n",
       "6. 'GSST'\n",
       "7. 'TMTA'\n",
       "8. 'STEP'\n",
       "9. 'Age'\n",
       "\n",
       "\n"
      ],
      "text/plain": [
       "[1] \"MMSE\"   \"IADL\"   \"GSDT\"   \"FMT_DT\" \"FMT_IT\" \"GSST\"   \"TMTA\"   \"STEP\"  \n",
       "[9] \"Age\"   "
      ]
     },
     "metadata": {},
     "output_type": "display_data"
    },
    {
     "data": {
      "image/png": "[encoded data removed]",
      "text/plain": [
       "plot without title"
      ]
     },
     "metadata": {
      "image/png": {
       "height": 420,
       "width": 420
      }
     },
     "output_type": "display_data"
    }
   ],
   "source": [
    "#install.packages(\"e1071\")\n",
    "require(e1071)\n",
    "#install.packages(\"randomForest\")\n",
    "require(randomForest)\n",
    "set.seed(2)\n",
    "control <- rfeControl(functions=rfFuncs, method=\"cv\", number=5)\n",
    "set.seed(3)\n",
    "results <- rfe(data_train[,2:22], data_train[[1]], sizes=c(2:22),rfeControl=control,metric=ifelse(is.factor(data_train$Diagnosis),\"Kappa\",\"RMSE\"))\n",
    "print(results) #9 variáveis + diagnosis\n",
    "#list the chosen features\n",
    "predictors(results)\n",
    "#plot the results\n",
    "plot(results, type=c(\"g\", \"o\"),main=\"RFE using Random Forest\")"
   ]
  },
  {
   "cell_type": "markdown",
   "metadata": {},
   "source": [
    "# Random Forest a partir do subset do RFE-RF"
   ]
  },
  {
   "cell_type": "code",
   "execution_count": 9,
   "metadata": {
    "vscode": {
     "languageId": "r"
    }
   },
   "outputs": [
    {
     "data": {
      "text/html": [
       "<table class=\"dataframe\">\n",
       "<caption>A tibble: 6 × 10</caption>\n",
       "<thead>\n",
       "\t<tr><th scope=col>Diagnosis</th><th scope=col>MMSE</th><th scope=col>IADL</th><th scope=col>GSDT</th><th scope=col>FMT_DT</th><th scope=col>FMT_IT</th><th scope=col>GSST</th><th scope=col>TMTA</th><th scope=col>STEP</th><th scope=col>Age</th></tr>\n",
       "\t<tr><th scope=col>&lt;fct&gt;</th><th scope=col>&lt;dbl&gt;</th><th scope=col>&lt;fct&gt;</th><th scope=col>&lt;dbl&gt;</th><th scope=col>&lt;dbl&gt;</th><th scope=col>&lt;dbl&gt;</th><th scope=col>&lt;dbl&gt;</th><th scope=col>&lt;dbl&gt;</th><th scope=col>&lt;dbl&gt;</th><th scope=col>&lt;dbl&gt;</th></tr>\n",
       "</thead>\n",
       "<tbody>\n",
       "\t<tr><td>1</td><td>26</td><td>1</td><td>0.6369427</td><td>12.84</td><td>31.04</td><td>1.0033445</td><td>48</td><td>56</td><td>69.32512</td></tr>\n",
       "\t<tr><td>1</td><td>29</td><td>1</td><td>1.0380623</td><td>18.40</td><td>15.78</td><td>1.0238908</td><td>73</td><td>69</td><td>68.54757</td></tr>\n",
       "\t<tr><td>1</td><td>29</td><td>1</td><td>1.2269939</td><td>14.05</td><td>17.31</td><td>1.1834320</td><td>50</td><td>91</td><td>61.77960</td></tr>\n",
       "\t<tr><td>1</td><td>26</td><td>1</td><td>0.8915305</td><td>10.39</td><td>16.84</td><td>1.1049724</td><td>65</td><td>87</td><td>71.44695</td></tr>\n",
       "\t<tr><td>1</td><td>29</td><td>1</td><td>1.1560694</td><td>23.69</td><td>17.57</td><td>1.0830325</td><td>43</td><td>69</td><td>70.00000</td></tr>\n",
       "\t<tr><td>1</td><td>28</td><td>1</td><td>0.7802341</td><td>34.65</td><td>18.59</td><td>0.8784773</td><td>55</td><td>67</td><td>83.04723</td></tr>\n",
       "</tbody>\n",
       "</table>\n"
      ],
      "text/latex": [
       "A tibble: 6 × 10\n",
       "\\begin{tabular}{llllllllll}\n",
       " Diagnosis & MMSE & IADL & GSDT & FMT\\_DT & FMT\\_IT & GSST & TMTA & STEP & Age\\\\\n",
       " <fct> & <dbl> & <fct> & <dbl> & <dbl> & <dbl> & <dbl> & <dbl> & <dbl> & <dbl>\\\\\n",
       "\\hline\n",
       "\t 1 & 26 & 1 & 0.6369427 & 12.84 & 31.04 & 1.0033445 & 48 & 56 & 69.32512\\\\\n",
       "\t 1 & 29 & 1 & 1.0380623 & 18.40 & 15.78 & 1.0238908 & 73 & 69 & 68.54757\\\\\n",
       "\t 1 & 29 & 1 & 1.2269939 & 14.05 & 17.31 & 1.1834320 & 50 & 91 & 61.77960\\\\\n",
       "\t 1 & 26 & 1 & 0.8915305 & 10.39 & 16.84 & 1.1049724 & 65 & 87 & 71.44695\\\\\n",
       "\t 1 & 29 & 1 & 1.1560694 & 23.69 & 17.57 & 1.0830325 & 43 & 69 & 70.00000\\\\\n",
       "\t 1 & 28 & 1 & 0.7802341 & 34.65 & 18.59 & 0.8784773 & 55 & 67 & 83.04723\\\\\n",
       "\\end{tabular}\n"
      ],
      "text/markdown": [
       "\n",
       "A tibble: 6 × 10\n",
       "\n",
       "| Diagnosis &lt;fct&gt; | MMSE &lt;dbl&gt; | IADL &lt;fct&gt; | GSDT &lt;dbl&gt; | FMT_DT &lt;dbl&gt; | FMT_IT &lt;dbl&gt; | GSST &lt;dbl&gt; | TMTA &lt;dbl&gt; | STEP &lt;dbl&gt; | Age &lt;dbl&gt; |\n",
       "|---|---|---|---|---|---|---|---|---|---|\n",
       "| 1 | 26 | 1 | 0.6369427 | 12.84 | 31.04 | 1.0033445 | 48 | 56 | 69.32512 |\n",
       "| 1 | 29 | 1 | 1.0380623 | 18.40 | 15.78 | 1.0238908 | 73 | 69 | 68.54757 |\n",
       "| 1 | 29 | 1 | 1.2269939 | 14.05 | 17.31 | 1.1834320 | 50 | 91 | 61.77960 |\n",
       "| 1 | 26 | 1 | 0.8915305 | 10.39 | 16.84 | 1.1049724 | 65 | 87 | 71.44695 |\n",
       "| 1 | 29 | 1 | 1.1560694 | 23.69 | 17.57 | 1.0830325 | 43 | 69 | 70.00000 |\n",
       "| 1 | 28 | 1 | 0.7802341 | 34.65 | 18.59 | 0.8784773 | 55 | 67 | 83.04723 |\n",
       "\n"
      ],
      "text/plain": [
       "  Diagnosis MMSE IADL GSDT      FMT_DT FMT_IT GSST      TMTA STEP Age     \n",
       "1 1         26   1    0.6369427 12.84  31.04  1.0033445 48   56   69.32512\n",
       "2 1         29   1    1.0380623 18.40  15.78  1.0238908 73   69   68.54757\n",
       "3 1         29   1    1.2269939 14.05  17.31  1.1834320 50   91   61.77960\n",
       "4 1         26   1    0.8915305 10.39  16.84  1.1049724 65   87   71.44695\n",
       "5 1         29   1    1.1560694 23.69  17.57  1.0830325 43   69   70.00000\n",
       "6 1         28   1    0.7802341 34.65  18.59  0.8784773 55   67   83.04723"
      ]
     },
     "metadata": {},
     "output_type": "display_data"
    },
    {
     "data": {
      "text/plain": [
       "Random Forest \n",
       "\n",
       "100 samples\n",
       "  9 predictor\n",
       "  3 classes: '1', '2', '3' \n",
       "\n",
       "No pre-processing\n",
       "Resampling: Cross-Validated (5 fold) \n",
       "Summary of sample sizes: 80, 79, 81, 80, 80 \n",
       "Resampling results across tuning parameters:\n",
       "\n",
       "  mtry  Accuracy   Kappa    \n",
       "  2     0.8108020  0.5897794\n",
       "  5     0.8012782  0.5670567\n",
       "  9     0.7707519  0.5028310\n",
       "\n",
       "Kappa was used to select the optimal model using the largest value.\n",
       "The final value used for the model was mtry = 2."
      ]
     },
     "metadata": {},
     "output_type": "display_data"
    },
    {
     "data": {
      "text/plain": [
       "\n",
       "Call:\n",
       " randomForest(x = x, y = y, mtry = min(param$mtry, ncol(x))) \n",
       "               Type of random forest: classification\n",
       "                     Number of trees: 500\n",
       "No. of variables tried at each split: 2\n",
       "\n",
       "        OOB estimate of  error rate: 18%\n",
       "Confusion matrix:\n",
       "   1 2  3 class.error\n",
       "1 64 0  2  0.03030303\n",
       "2 11 1  3  0.93333333\n",
       "3  2 0 17  0.10526316"
      ]
     },
     "metadata": {},
     "output_type": "display_data"
    },
    {
     "data": {
      "text/plain": [
       "Confusion Matrix and Statistics\n",
       "\n",
       "             \n",
       "RF_prediction  1  2  3\n",
       "            1 26  6  1\n",
       "            2  0  0  0\n",
       "            3  1  0  6\n",
       "\n",
       "Overall Statistics\n",
       "                                          \n",
       "               Accuracy : 0.8             \n",
       "                 95% CI : (0.6435, 0.9095)\n",
       "    No Information Rate : 0.675           \n",
       "    P-Value [Acc > NIR] : 0.0602          \n",
       "                                          \n",
       "                  Kappa : 0.5152          \n",
       "                                          \n",
       " Mcnemar's Test P-Value : NA              \n",
       "\n",
       "Statistics by Class:\n",
       "\n",
       "                     Class: 1 Class: 2 Class: 3\n",
       "Sensitivity            0.9630     0.00   0.8571\n",
       "Specificity            0.4615     1.00   0.9697\n",
       "Pos Pred Value         0.7879      NaN   0.8571\n",
       "Neg Pred Value         0.8571     0.85   0.9697\n",
       "Prevalence             0.6750     0.15   0.1750\n",
       "Detection Rate         0.6500     0.00   0.1500\n",
       "Detection Prevalence   0.8250     0.00   0.1750\n",
       "Balanced Accuracy      0.7123     0.50   0.9134"
      ]
     },
     "metadata": {},
     "output_type": "display_data"
    },
    {
     "data": {
      "text/html": [
       "<table class=\"dataframe\">\n",
       "<caption>A matrix: 3 × 11 of type dbl</caption>\n",
       "<thead>\n",
       "\t<tr><th></th><th scope=col>Sensitivity</th><th scope=col>Specificity</th><th scope=col>Pos Pred Value</th><th scope=col>Neg Pred Value</th><th scope=col>Precision</th><th scope=col>Recall</th><th scope=col>F1</th><th scope=col>Prevalence</th><th scope=col>Detection Rate</th><th scope=col>Detection Prevalence</th><th scope=col>Balanced Accuracy</th></tr>\n",
       "</thead>\n",
       "<tbody>\n",
       "\t<tr><th scope=row>Class: 1</th><td>0.9629630</td><td>0.4615385</td><td>0.7878788</td><td>0.8571429</td><td>0.7878788</td><td>0.9629630</td><td>0.8666667</td><td>0.675</td><td>0.65</td><td>0.825</td><td>0.7122507</td></tr>\n",
       "\t<tr><th scope=row>Class: 2</th><td>0.0000000</td><td>1.0000000</td><td>      NaN</td><td>0.8500000</td><td>       NA</td><td>0.0000000</td><td>       NA</td><td>0.150</td><td>0.00</td><td>0.000</td><td>0.5000000</td></tr>\n",
       "\t<tr><th scope=row>Class: 3</th><td>0.8571429</td><td>0.9696970</td><td>0.8571429</td><td>0.9696970</td><td>0.8571429</td><td>0.8571429</td><td>0.8571429</td><td>0.175</td><td>0.15</td><td>0.175</td><td>0.9134199</td></tr>\n",
       "</tbody>\n",
       "</table>\n"
      ],
      "text/latex": [
       "A matrix: 3 × 11 of type dbl\n",
       "\\begin{tabular}{r|lllllllllll}\n",
       "  & Sensitivity & Specificity & Pos Pred Value & Neg Pred Value & Precision & Recall & F1 & Prevalence & Detection Rate & Detection Prevalence & Balanced Accuracy\\\\\n",
       "\\hline\n",
       "\tClass: 1 & 0.9629630 & 0.4615385 & 0.7878788 & 0.8571429 & 0.7878788 & 0.9629630 & 0.8666667 & 0.675 & 0.65 & 0.825 & 0.7122507\\\\\n",
       "\tClass: 2 & 0.0000000 & 1.0000000 &       NaN & 0.8500000 &        NA & 0.0000000 &        NA & 0.150 & 0.00 & 0.000 & 0.5000000\\\\\n",
       "\tClass: 3 & 0.8571429 & 0.9696970 & 0.8571429 & 0.9696970 & 0.8571429 & 0.8571429 & 0.8571429 & 0.175 & 0.15 & 0.175 & 0.9134199\\\\\n",
       "\\end{tabular}\n"
      ],
      "text/markdown": [
       "\n",
       "A matrix: 3 × 11 of type dbl\n",
       "\n",
       "| <!--/--> | Sensitivity | Specificity | Pos Pred Value | Neg Pred Value | Precision | Recall | F1 | Prevalence | Detection Rate | Detection Prevalence | Balanced Accuracy |\n",
       "|---|---|---|---|---|---|---|---|---|---|---|---|\n",
       "| Class: 1 | 0.9629630 | 0.4615385 | 0.7878788 | 0.8571429 | 0.7878788 | 0.9629630 | 0.8666667 | 0.675 | 0.65 | 0.825 | 0.7122507 |\n",
       "| Class: 2 | 0.0000000 | 1.0000000 |       NaN | 0.8500000 |        NA | 0.0000000 |        NA | 0.150 | 0.00 | 0.000 | 0.5000000 |\n",
       "| Class: 3 | 0.8571429 | 0.9696970 | 0.8571429 | 0.9696970 | 0.8571429 | 0.8571429 | 0.8571429 | 0.175 | 0.15 | 0.175 | 0.9134199 |\n",
       "\n"
      ],
      "text/plain": [
       "         Sensitivity Specificity Pos Pred Value Neg Pred Value Precision\n",
       "Class: 1 0.9629630   0.4615385   0.7878788      0.8571429      0.7878788\n",
       "Class: 2 0.0000000   1.0000000         NaN      0.8500000             NA\n",
       "Class: 3 0.8571429   0.9696970   0.8571429      0.9696970      0.8571429\n",
       "         Recall    F1        Prevalence Detection Rate Detection Prevalence\n",
       "Class: 1 0.9629630 0.8666667 0.675      0.65           0.825               \n",
       "Class: 2 0.0000000        NA 0.150      0.00           0.000               \n",
       "Class: 3 0.8571429 0.8571429 0.175      0.15           0.175               \n",
       "         Balanced Accuracy\n",
       "Class: 1 0.7122507        \n",
       "Class: 2 0.5000000        \n",
       "Class: 3 0.9134199        "
      ]
     },
     "metadata": {},
     "output_type": "display_data"
    },
    {
     "data": {
      "text/plain": [
       "rf variable importance\n",
       "\n",
       "       Overall\n",
       "MMSE    100.00\n",
       "GSDT     59.25\n",
       "IADL2    53.74\n",
       "FMT_IT   47.34\n",
       "FMT_DT   43.58\n",
       "GSST     36.83\n",
       "TMTA     27.15\n",
       "Age      20.44\n",
       "STEP      0.00"
      ]
     },
     "metadata": {},
     "output_type": "display_data"
    },
    {
     "data": {
      "image/png": "[encoded data removed]",
      "text/plain": [
       "plot without title"
      ]
     },
     "metadata": {
      "image/png": {
       "height": 420,
       "width": 420
      }
     },
     "output_type": "display_data"
    },
    {
     "data": {
      "image/png": "[encoded data removed]",
      "text/plain": [
       "plot without title"
      ]
     },
     "metadata": {
      "image/png": {
       "height": 420,
       "width": 420
      }
     },
     "output_type": "display_data"
    }
   ],
   "source": [
    "data_train_rfe<- data_train[,c(\"Diagnosis\",\"MMSE\",\n",
    "                   \"IADL\",\"GSDT\",\"FMT_DT\",\"FMT_IT\",\"GSST\",\"TMTA\",\"STEP\",\"Age\")]\n",
    "data_test_rfe<- data_test[,c(\"Diagnosis\",\"MMSE\",\n",
    "                  \"IADL\",\"GSDT\",\"FMT_DT\",\"FMT_IT\",\"GSST\",\"TMTA\",\"STEP\",\"Age\")]\n",
    "head(data_train_rfe)\n",
    "set.seed(4)\n",
    "RF_model1=train(Diagnosis~.,data=data_train_rfe,method='rf',metric=ifelse(is.factor(data_train_rfe$Diagnosis),\"Kappa\",\"RMSE\"),trControl=trainControl(method='cv',number=5,savePredictions=TRUE))\n",
    "RF_model1 #Acurácia de 81.08% e kappa= 58,97%\n",
    "plot(RF_model1)\n",
    "#RF_model1$pred\n",
    "#mtry2<- subset(RF_model1$pred,RF_model1$pred[4]==2)\n",
    "#mtry2\n",
    "\n",
    "fold1= subset(RF_model1$pred,RF_model1$pred[5]==\"Fold1\")\n",
    "fold1_metrics_rf= confusionMatrix(table(fold1$pred,fold1$obs))$byClass\n",
    "recall1_rf_original=fold1_metrics_rf[17]\n",
    "F1score1_rf_original=fold1_metrics_rf[20]\n",
    "\n",
    "fold2= subset(RF_model1$pred,RF_model1$pred[5]==\"Fold2\")\n",
    "fold2_metrics_rf= confusionMatrix(table(fold2$pred,fold2$obs))$byClass\n",
    "recall2_rf_original=fold2_metrics_rf[17]\n",
    "F1score2_rf_original=fold2_metrics_rf[20]\n",
    "\n",
    "fold3= subset(RF_model1$pred,RF_model1$pred[5]==\"Fold3\")\n",
    "fold3_metrics_rf= confusionMatrix(table(fold3$pred,fold3$obs))$byClass\n",
    "recall3_rf_original=fold3_metrics_rf[17]\n",
    "F1score3_rf_original=fold3_metrics_rf[20]\n",
    "\n",
    "fold4= subset(RF_model1$pred,RF_model1$pred[5]==\"Fold4\")\n",
    "fold4_metrics_rf= confusionMatrix(table(fold4$pred,fold4$obs))$byClass\n",
    "recall4_rf_original=fold4_metrics_rf[17]\n",
    "F1score4_rf_original=fold4_metrics_rf[20]\n",
    "\n",
    "fold5= subset(RF_model1$pred,RF_model1$pred[5]==\"Fold5\")\n",
    "fold5_metrics_rf= confusionMatrix(table(fold5$pred,fold5$obs))$byClass\n",
    "recall5_rf_original=fold5_metrics_rf[17]\n",
    "F1score5_rf_original=fold5_metrics_rf[20]\n",
    "\n",
    "RF_model1$finalModel #Acurácia=82%\n",
    "RF_prediction<- predict(RF_model1,data_test_rfe)\n",
    "confusionMatrix(table(RF_prediction,data_test_rfe$Diagnosis)) #Acurácia=80% e Kappa=51.52% \n",
    "confusionMatrix(table(RF_prediction,data_test_rfe$Diagnosis))$byClass #Recall e F1 CCL(0 e NA) \n",
    "varImp(RF_model1)\n",
    "plot(varImp(RF_model1),main=\"Variables Importance - Random Forest\")"
   ]
  },
  {
   "cell_type": "code",
   "execution_count": 10,
   "metadata": {
    "vscode": {
     "languageId": "r"
    }
   },
   "outputs": [
    {
     "data": {
      "text/html": [
       "<style>\n",
       ".list-inline {list-style: none; margin:0; padding: 0}\n",
       ".list-inline>li {display: inline-block}\n",
       ".list-inline>li:not(:last-child)::after {content: \"\\00b7\"; padding: 0 .5ex}\n",
       "</style>\n",
       "<ol class=list-inline><li>0</li><li>0</li><li>0</li><li>0.333333333333333</li><li>0</li></ol>\n"
      ],
      "text/latex": [
       "\\begin{enumerate*}\n",
       "\\item 0\n",
       "\\item 0\n",
       "\\item 0\n",
       "\\item 0.333333333333333\n",
       "\\item 0\n",
       "\\end{enumerate*}\n"
      ],
      "text/markdown": [
       "1. 0\n",
       "2. 0\n",
       "3. 0\n",
       "4. 0.333333333333333\n",
       "5. 0\n",
       "\n",
       "\n"
      ],
      "text/plain": [
       "[1] 0.0000000 0.0000000 0.0000000 0.3333333 0.0000000"
      ]
     },
     "metadata": {},
     "output_type": "display_data"
    },
    {
     "data": {
      "text/html": [
       "<style>\n",
       ".list-inline {list-style: none; margin:0; padding: 0}\n",
       ".list-inline>li {display: inline-block}\n",
       ".list-inline>li:not(:last-child)::after {content: \"\\00b7\"; padding: 0 .5ex}\n",
       "</style>\n",
       "<ol class=list-inline><li>NaN</li><li>NaN</li><li>&lt;NA&gt;</li><li>0.333333333333333</li><li>&lt;NA&gt;</li></ol>\n"
      ],
      "text/latex": [
       "\\begin{enumerate*}\n",
       "\\item NaN\n",
       "\\item NaN\n",
       "\\item <NA>\n",
       "\\item 0.333333333333333\n",
       "\\item <NA>\n",
       "\\end{enumerate*}\n"
      ],
      "text/markdown": [
       "1. NaN\n",
       "2. NaN\n",
       "3. &lt;NA&gt;\n",
       "4. 0.333333333333333\n",
       "5. &lt;NA&gt;\n",
       "\n",
       "\n"
      ],
      "text/plain": [
       "[1]       NaN       NaN        NA 0.3333333        NA"
      ]
     },
     "metadata": {},
     "output_type": "display_data"
    }
   ],
   "source": [
    "Recall_OriginalData<- c(recall1_rf_original,recall2_rf_original,recall3_rf_original,recall4_rf_original,recall5_rf_original)\n",
    "F1_OriginalData<- c(F1score1_rf_original,F1score2_rf_original,F1score3_rf_original,F1score4_rf_original,F1score5_rf_original)\n",
    "Recall_OriginalData\n",
    "F1_OriginalData"
   ]
  },
  {
   "cell_type": "markdown",
   "metadata": {},
   "source": [
    "# RFE-DT"
   ]
  },
  {
   "cell_type": "code",
   "execution_count": 11,
   "metadata": {
    "vscode": {
     "languageId": "r"
    }
   },
   "outputs": [
    {
     "name": "stdout",
     "output_type": "stream",
     "text": [
      "\n",
      "Recursive feature selection\n",
      "\n",
      "Outer resampling method: Cross-Validated (5 fold) \n",
      "\n",
      "Resampling performance over subset size:\n",
      "\n",
      " Variables Accuracy  Kappa AccuracySD KappaSD Selected\n",
      "         2     0.80 0.5746    0.03536 0.05111         \n",
      "         3     0.78 0.5188    0.07583 0.12823         \n",
      "         4     0.78 0.5359    0.11511 0.25259         \n",
      "         5     0.81 0.5797    0.02236 0.05708         \n",
      "         6     0.80 0.5699    0.03536 0.09248         \n",
      "         7     0.82 0.6080    0.02739 0.07927         \n",
      "         8     0.81 0.5927    0.02236 0.05559         \n",
      "         9     0.83 0.6263    0.04472 0.11492        *\n",
      "        10     0.83 0.6160    0.05701 0.15194         \n",
      "        11     0.82 0.6102    0.02739 0.08332         \n",
      "        12     0.80 0.5631    0.03536 0.08253         \n",
      "        13     0.81 0.5921    0.02236 0.05485         \n",
      "        14     0.81 0.5770    0.02236 0.04723         \n",
      "        15     0.81 0.5770    0.02236 0.04723         \n",
      "        16     0.82 0.6017    0.02739 0.06842         \n",
      "        17     0.82 0.6017    0.02739 0.06842         \n",
      "        18     0.81 0.5770    0.02236 0.04723         \n",
      "        19     0.81 0.5730    0.04183 0.11237         \n",
      "        20     0.82 0.6017    0.02739 0.06842         \n",
      "        21     0.80 0.5528    0.03536 0.09340         \n",
      "\n",
      "The top 5 variables (out of 9):\n",
      "   MMSE, IADL, GSDT, FMT_DT, FMT_IT\n",
      "\n"
     ]
    },
    {
     "data": {
      "text/html": [
       "<style>\n",
       ".list-inline {list-style: none; margin:0; padding: 0}\n",
       ".list-inline>li {display: inline-block}\n",
       ".list-inline>li:not(:last-child)::after {content: \"\\00b7\"; padding: 0 .5ex}\n",
       "</style>\n",
       "<ol class=list-inline><li>'MMSE'</li><li>'IADL'</li><li>'GSDT'</li><li>'FMT_DT'</li><li>'FMT_IT'</li><li>'GSST'</li><li>'TMTA'</li><li>'Sex'</li><li>'Age'</li></ol>\n"
      ],
      "text/latex": [
       "\\begin{enumerate*}\n",
       "\\item 'MMSE'\n",
       "\\item 'IADL'\n",
       "\\item 'GSDT'\n",
       "\\item 'FMT\\_DT'\n",
       "\\item 'FMT\\_IT'\n",
       "\\item 'GSST'\n",
       "\\item 'TMTA'\n",
       "\\item 'Sex'\n",
       "\\item 'Age'\n",
       "\\end{enumerate*}\n"
      ],
      "text/markdown": [
       "1. 'MMSE'\n",
       "2. 'IADL'\n",
       "3. 'GSDT'\n",
       "4. 'FMT_DT'\n",
       "5. 'FMT_IT'\n",
       "6. 'GSST'\n",
       "7. 'TMTA'\n",
       "8. 'Sex'\n",
       "9. 'Age'\n",
       "\n",
       "\n"
      ],
      "text/plain": [
       "[1] \"MMSE\"   \"IADL\"   \"GSDT\"   \"FMT_DT\" \"FMT_IT\" \"GSST\"   \"TMTA\"   \"Sex\"   \n",
       "[9] \"Age\"   "
      ]
     },
     "metadata": {},
     "output_type": "display_data"
    },
    {
     "data": {
      "image/png": "[encoded data removed]",
      "text/plain": [
       "plot without title"
      ]
     },
     "metadata": {
      "image/png": {
       "height": 420,
       "width": 420
      }
     },
     "output_type": "display_data"
    }
   ],
   "source": [
    "set.seed(22)\n",
    "control2 <- rfeControl(functions=treebagFuncs, method=\"cv\", number=5)\n",
    "set.seed(33)\n",
    "results2 <- rfe(data_train[,2:22], data_train[[1]], sizes=c(2:22),\n",
    "                rfeControl=control,metric=ifelse(is.factor(data_train$Diagnosis),\"Kappa\",\"RMSE\"))\n",
    "print(results2) #9 variáveis + diagnosis\n",
    "#list the chosen features\n",
    "predictors(results2)\n",
    "#plot the results\n",
    "plot(results2, type=c(\"g\", \"o\"),main=\"RFE using Decision Tree\")"
   ]
  },
  {
   "cell_type": "markdown",
   "metadata": {},
   "source": [
    "# Decision tree a partir do subset do RFE-DT"
   ]
  },
  {
   "cell_type": "code",
   "execution_count": 12,
   "metadata": {
    "vscode": {
     "languageId": "r"
    }
   },
   "outputs": [
    {
     "data": {
      "text/html": [
       "<table class=\"dataframe\">\n",
       "<caption>A tibble: 6 × 10</caption>\n",
       "<thead>\n",
       "\t<tr><th scope=col>Diagnosis</th><th scope=col>MMSE</th><th scope=col>IADL</th><th scope=col>GSDT</th><th scope=col>FMT_DT</th><th scope=col>FMT_IT</th><th scope=col>GSST</th><th scope=col>TMTA</th><th scope=col>Sex</th><th scope=col>Age</th></tr>\n",
       "\t<tr><th scope=col>&lt;fct&gt;</th><th scope=col>&lt;dbl&gt;</th><th scope=col>&lt;fct&gt;</th><th scope=col>&lt;dbl&gt;</th><th scope=col>&lt;dbl&gt;</th><th scope=col>&lt;dbl&gt;</th><th scope=col>&lt;dbl&gt;</th><th scope=col>&lt;dbl&gt;</th><th scope=col>&lt;fct&gt;</th><th scope=col>&lt;dbl&gt;</th></tr>\n",
       "</thead>\n",
       "<tbody>\n",
       "\t<tr><td>1</td><td>26</td><td>1</td><td>0.6369427</td><td>12.84</td><td>31.04</td><td>1.0033445</td><td>48</td><td>1</td><td>69.32512</td></tr>\n",
       "\t<tr><td>1</td><td>29</td><td>1</td><td>1.0380623</td><td>18.40</td><td>15.78</td><td>1.0238908</td><td>73</td><td>1</td><td>68.54757</td></tr>\n",
       "\t<tr><td>1</td><td>29</td><td>1</td><td>1.2269939</td><td>14.05</td><td>17.31</td><td>1.1834320</td><td>50</td><td>1</td><td>61.77960</td></tr>\n",
       "\t<tr><td>1</td><td>26</td><td>1</td><td>0.8915305</td><td>10.39</td><td>16.84</td><td>1.1049724</td><td>65</td><td>1</td><td>71.44695</td></tr>\n",
       "\t<tr><td>1</td><td>29</td><td>1</td><td>1.1560694</td><td>23.69</td><td>17.57</td><td>1.0830325</td><td>43</td><td>1</td><td>70.00000</td></tr>\n",
       "\t<tr><td>1</td><td>28</td><td>1</td><td>0.7802341</td><td>34.65</td><td>18.59</td><td>0.8784773</td><td>55</td><td>1</td><td>83.04723</td></tr>\n",
       "</tbody>\n",
       "</table>\n"
      ],
      "text/latex": [
       "A tibble: 6 × 10\n",
       "\\begin{tabular}{llllllllll}\n",
       " Diagnosis & MMSE & IADL & GSDT & FMT\\_DT & FMT\\_IT & GSST & TMTA & Sex & Age\\\\\n",
       " <fct> & <dbl> & <fct> & <dbl> & <dbl> & <dbl> & <dbl> & <dbl> & <fct> & <dbl>\\\\\n",
       "\\hline\n",
       "\t 1 & 26 & 1 & 0.6369427 & 12.84 & 31.04 & 1.0033445 & 48 & 1 & 69.32512\\\\\n",
       "\t 1 & 29 & 1 & 1.0380623 & 18.40 & 15.78 & 1.0238908 & 73 & 1 & 68.54757\\\\\n",
       "\t 1 & 29 & 1 & 1.2269939 & 14.05 & 17.31 & 1.1834320 & 50 & 1 & 61.77960\\\\\n",
       "\t 1 & 26 & 1 & 0.8915305 & 10.39 & 16.84 & 1.1049724 & 65 & 1 & 71.44695\\\\\n",
       "\t 1 & 29 & 1 & 1.1560694 & 23.69 & 17.57 & 1.0830325 & 43 & 1 & 70.00000\\\\\n",
       "\t 1 & 28 & 1 & 0.7802341 & 34.65 & 18.59 & 0.8784773 & 55 & 1 & 83.04723\\\\\n",
       "\\end{tabular}\n"
      ],
      "text/markdown": [
       "\n",
       "A tibble: 6 × 10\n",
       "\n",
       "| Diagnosis &lt;fct&gt; | MMSE &lt;dbl&gt; | IADL &lt;fct&gt; | GSDT &lt;dbl&gt; | FMT_DT &lt;dbl&gt; | FMT_IT &lt;dbl&gt; | GSST &lt;dbl&gt; | TMTA &lt;dbl&gt; | Sex &lt;fct&gt; | Age &lt;dbl&gt; |\n",
       "|---|---|---|---|---|---|---|---|---|---|\n",
       "| 1 | 26 | 1 | 0.6369427 | 12.84 | 31.04 | 1.0033445 | 48 | 1 | 69.32512 |\n",
       "| 1 | 29 | 1 | 1.0380623 | 18.40 | 15.78 | 1.0238908 | 73 | 1 | 68.54757 |\n",
       "| 1 | 29 | 1 | 1.2269939 | 14.05 | 17.31 | 1.1834320 | 50 | 1 | 61.77960 |\n",
       "| 1 | 26 | 1 | 0.8915305 | 10.39 | 16.84 | 1.1049724 | 65 | 1 | 71.44695 |\n",
       "| 1 | 29 | 1 | 1.1560694 | 23.69 | 17.57 | 1.0830325 | 43 | 1 | 70.00000 |\n",
       "| 1 | 28 | 1 | 0.7802341 | 34.65 | 18.59 | 0.8784773 | 55 | 1 | 83.04723 |\n",
       "\n"
      ],
      "text/plain": [
       "  Diagnosis MMSE IADL GSDT      FMT_DT FMT_IT GSST      TMTA Sex Age     \n",
       "1 1         26   1    0.6369427 12.84  31.04  1.0033445 48   1   69.32512\n",
       "2 1         29   1    1.0380623 18.40  15.78  1.0238908 73   1   68.54757\n",
       "3 1         29   1    1.2269939 14.05  17.31  1.1834320 50   1   61.77960\n",
       "4 1         26   1    0.8915305 10.39  16.84  1.1049724 65   1   71.44695\n",
       "5 1         29   1    1.1560694 23.69  17.57  1.0830325 43   1   70.00000\n",
       "6 1         28   1    0.7802341 34.65  18.59  0.8784773 55   1   83.04723"
      ]
     },
     "metadata": {},
     "output_type": "display_data"
    },
    {
     "data": {
      "text/plain": [
       "CART \n",
       "\n",
       "100 samples\n",
       "  9 predictor\n",
       "  3 classes: '1', '2', '3' \n",
       "\n",
       "No pre-processing\n",
       "Resampling: Cross-Validated (5 fold) \n",
       "Summary of sample sizes: 80, 80, 79, 81, 80 \n",
       "Resampling results across tuning parameters:\n",
       "\n",
       "  cp          Accuracy   Kappa    \n",
       "  0.00000000  0.8103759  0.5738326\n",
       "  0.05882353  0.7998496  0.5383441\n",
       "  0.47058824  0.7101754  0.1869312\n",
       "\n",
       "Kappa was used to select the optimal model using the largest value.\n",
       "The final value used for the model was cp = 0."
      ]
     },
     "metadata": {},
     "output_type": "display_data"
    },
    {
     "data": {
      "text/plain": [
       "n= 100 \n",
       "\n",
       "node), split, n, loss, yval, (yprob)\n",
       "      * denotes terminal node\n",
       "\n",
       " 1) root 100 34 1 (0.66000000 0.15000000 0.19000000)  \n",
       "   2) MMSE>=23.5 82 16 1 (0.80487805 0.15853659 0.03658537)  \n",
       "     4) FMT_IT< 33.145 54  3 1 (0.94444444 0.05555556 0.00000000) *\n",
       "     5) FMT_IT>=33.145 28 13 1 (0.53571429 0.35714286 0.10714286)  \n",
       "      10) Age< 72.44079 11  1 1 (0.90909091 0.09090909 0.00000000) *\n",
       "      11) Age>=72.44079 17  8 2 (0.29411765 0.52941176 0.17647059) *\n",
       "   3) MMSE< 23.5 18  2 3 (0.00000000 0.11111111 0.88888889) *"
      ]
     },
     "metadata": {},
     "output_type": "display_data"
    },
    {
     "name": "stderr",
     "output_type": "stream",
     "text": [
      "Loading required package: rpart.plot\n",
      "\n",
      "Loading required package: rpart\n",
      "\n"
     ]
    },
    {
     "data": {
      "image/png": "[encoded data removed]",
      "text/plain": [
       "plot without title"
      ]
     },
     "metadata": {
      "image/png": {
       "height": 420,
       "width": 420
      }
     },
     "output_type": "display_data"
    },
    {
     "data": {
      "text/plain": [
       "Confusion Matrix and Statistics\n",
       "\n",
       "               \n",
       "Tree_prediction  1  2  3\n",
       "              1 24  6  1\n",
       "              2  3  0  0\n",
       "              3  0  0  6\n",
       "\n",
       "Overall Statistics\n",
       "                                         \n",
       "               Accuracy : 0.75           \n",
       "                 95% CI : (0.588, 0.8731)\n",
       "    No Information Rate : 0.675          \n",
       "    P-Value [Acc > NIR] : 0.2011         \n",
       "                                         \n",
       "                  Kappa : 0.431          \n",
       "                                         \n",
       " Mcnemar's Test P-Value : NA             \n",
       "\n",
       "Statistics by Class:\n",
       "\n",
       "                     Class: 1 Class: 2 Class: 3\n",
       "Sensitivity            0.8889   0.0000   0.8571\n",
       "Specificity            0.4615   0.9118   1.0000\n",
       "Pos Pred Value         0.7742   0.0000   1.0000\n",
       "Neg Pred Value         0.6667   0.8378   0.9706\n",
       "Prevalence             0.6750   0.1500   0.1750\n",
       "Detection Rate         0.6000   0.0000   0.1500\n",
       "Detection Prevalence   0.7750   0.0750   0.1500\n",
       "Balanced Accuracy      0.6752   0.4559   0.9286"
      ]
     },
     "metadata": {},
     "output_type": "display_data"
    },
    {
     "data": {
      "text/html": [
       "<table class=\"dataframe\">\n",
       "<caption>A matrix: 3 × 11 of type dbl</caption>\n",
       "<thead>\n",
       "\t<tr><th></th><th scope=col>Sensitivity</th><th scope=col>Specificity</th><th scope=col>Pos Pred Value</th><th scope=col>Neg Pred Value</th><th scope=col>Precision</th><th scope=col>Recall</th><th scope=col>F1</th><th scope=col>Prevalence</th><th scope=col>Detection Rate</th><th scope=col>Detection Prevalence</th><th scope=col>Balanced Accuracy</th></tr>\n",
       "</thead>\n",
       "<tbody>\n",
       "\t<tr><th scope=row>Class: 1</th><td>0.8888889</td><td>0.4615385</td><td>0.7741935</td><td>0.6666667</td><td>0.7741935</td><td>0.8888889</td><td>0.8275862</td><td>0.675</td><td>0.60</td><td>0.775</td><td>0.6752137</td></tr>\n",
       "\t<tr><th scope=row>Class: 2</th><td>0.0000000</td><td>0.9117647</td><td>0.0000000</td><td>0.8378378</td><td>0.0000000</td><td>0.0000000</td><td>      NaN</td><td>0.150</td><td>0.00</td><td>0.075</td><td>0.4558824</td></tr>\n",
       "\t<tr><th scope=row>Class: 3</th><td>0.8571429</td><td>1.0000000</td><td>1.0000000</td><td>0.9705882</td><td>1.0000000</td><td>0.8571429</td><td>0.9230769</td><td>0.175</td><td>0.15</td><td>0.150</td><td>0.9285714</td></tr>\n",
       "</tbody>\n",
       "</table>\n"
      ],
      "text/latex": [
       "A matrix: 3 × 11 of type dbl\n",
       "\\begin{tabular}{r|lllllllllll}\n",
       "  & Sensitivity & Specificity & Pos Pred Value & Neg Pred Value & Precision & Recall & F1 & Prevalence & Detection Rate & Detection Prevalence & Balanced Accuracy\\\\\n",
       "\\hline\n",
       "\tClass: 1 & 0.8888889 & 0.4615385 & 0.7741935 & 0.6666667 & 0.7741935 & 0.8888889 & 0.8275862 & 0.675 & 0.60 & 0.775 & 0.6752137\\\\\n",
       "\tClass: 2 & 0.0000000 & 0.9117647 & 0.0000000 & 0.8378378 & 0.0000000 & 0.0000000 &       NaN & 0.150 & 0.00 & 0.075 & 0.4558824\\\\\n",
       "\tClass: 3 & 0.8571429 & 1.0000000 & 1.0000000 & 0.9705882 & 1.0000000 & 0.8571429 & 0.9230769 & 0.175 & 0.15 & 0.150 & 0.9285714\\\\\n",
       "\\end{tabular}\n"
      ],
      "text/markdown": [
       "\n",
       "A matrix: 3 × 11 of type dbl\n",
       "\n",
       "| <!--/--> | Sensitivity | Specificity | Pos Pred Value | Neg Pred Value | Precision | Recall | F1 | Prevalence | Detection Rate | Detection Prevalence | Balanced Accuracy |\n",
       "|---|---|---|---|---|---|---|---|---|---|---|---|\n",
       "| Class: 1 | 0.8888889 | 0.4615385 | 0.7741935 | 0.6666667 | 0.7741935 | 0.8888889 | 0.8275862 | 0.675 | 0.60 | 0.775 | 0.6752137 |\n",
       "| Class: 2 | 0.0000000 | 0.9117647 | 0.0000000 | 0.8378378 | 0.0000000 | 0.0000000 |       NaN | 0.150 | 0.00 | 0.075 | 0.4558824 |\n",
       "| Class: 3 | 0.8571429 | 1.0000000 | 1.0000000 | 0.9705882 | 1.0000000 | 0.8571429 | 0.9230769 | 0.175 | 0.15 | 0.150 | 0.9285714 |\n",
       "\n"
      ],
      "text/plain": [
       "         Sensitivity Specificity Pos Pred Value Neg Pred Value Precision\n",
       "Class: 1 0.8888889   0.4615385   0.7741935      0.6666667      0.7741935\n",
       "Class: 2 0.0000000   0.9117647   0.0000000      0.8378378      0.0000000\n",
       "Class: 3 0.8571429   1.0000000   1.0000000      0.9705882      1.0000000\n",
       "         Recall    F1        Prevalence Detection Rate Detection Prevalence\n",
       "Class: 1 0.8888889 0.8275862 0.675      0.60           0.775               \n",
       "Class: 2 0.0000000       NaN 0.150      0.00           0.075               \n",
       "Class: 3 0.8571429 0.9230769 0.175      0.15           0.150               \n",
       "         Balanced Accuracy\n",
       "Class: 1 0.6752137        \n",
       "Class: 2 0.4558824        \n",
       "Class: 3 0.9285714        "
      ]
     },
     "metadata": {},
     "output_type": "display_data"
    },
    {
     "data": {
      "text/plain": [
       "rpart variable importance\n",
       "\n",
       "       Overall\n",
       "IADL2   100.00\n",
       "MMSE     86.56\n",
       "GSST     71.34\n",
       "GSDT     61.49\n",
       "FMT_DT   50.85\n",
       "Age      37.42\n",
       "FMT_IT   33.40\n",
       "Sex2     11.26\n",
       "TMTA      0.00"
      ]
     },
     "metadata": {},
     "output_type": "display_data"
    },
    {
     "data": {
      "image/png": "[encoded data removed]",
      "text/plain": [
       "plot without title"
      ]
     },
     "metadata": {
      "image/png": {
       "height": 420,
       "width": 420
      }
     },
     "output_type": "display_data"
    },
    {
     "data": {
      "image/png": "[encoded data removed]",
      "text/plain": [
       "plot without title"
      ]
     },
     "metadata": {
      "image/png": {
       "height": 420,
       "width": 420
      }
     },
     "output_type": "display_data"
    }
   ],
   "source": [
    "data_train_rfe2<- data_train[,c(\"Diagnosis\",\"MMSE\",\n",
    "                                \"IADL\",\"GSDT\",\"FMT_DT\",\"FMT_IT\",\"GSST\",\"TMTA\",\"Sex\",\"Age\")]\n",
    "data_test_rfe2<- data_test[,c(\"Diagnosis\",\"MMSE\",\n",
    "                              \"IADL\",\"GSDT\",\"FMT_DT\",\"FMT_IT\",\"GSST\",\"TMTA\",\"Sex\",\"Age\")]\n",
    "head(data_train_rfe2)\n",
    "set.seed(44)\n",
    "Tree_model1=train(Diagnosis~.,data=data_train_rfe2,method='rpart',metric=ifelse(is.factor(data_train_rfe$Diagnosis),\"Kappa\",\"RMSE\"),trControl=trainControl(method='cv',number=5,savePredictions=TRUE))\n",
    "Tree_model1 #Acurácia=81.03% e kappa=57.38% e cp=0\n",
    "#Tree_model1$pred\n",
    "predicition_Treemodel1<- predict(Tree_model1,data_test_rfe2)\n",
    "Metrics_Treemodel1<- confusionMatrix(predicition_Treemodel1,data_test_rfe2$Diagnosis)$byClass\n",
    "\n",
    "fold1_tree= subset(Tree_model1$pred,Tree_model1$pred[5]==\"Fold1\")\n",
    "fold1_metrics_tree= confusionMatrix(table(fold1_tree$pred,fold1_tree$obs))$byClass\n",
    "recall1_tree_original=fold1_metrics_tree[17]\n",
    "F1score1_tree_original=fold1_metrics_tree[20]\n",
    "\n",
    "fold2_tree= subset(Tree_model1$pred,Tree_model1$pred[5]==\"Fold2\")\n",
    "fold2_metrics_tree= confusionMatrix(table(fold2_tree$pred,fold2_tree$obs))$byClass\n",
    "recall2_tree_original=fold2_metrics_tree[17]\n",
    "F1score2_tree_original=fold2_metrics_tree[20]\n",
    "\n",
    "fold3_tree= subset(Tree_model1$pred,Tree_model1$pred[5]==\"Fold3\")\n",
    "fold3_metrics_tree= confusionMatrix(table(fold3_tree$pred,fold3_tree$obs))$byClass\n",
    "recall3_tree_original=fold3_metrics_tree[17]\n",
    "F1score3_tree_original=fold3_metrics_tree[20]\n",
    "\n",
    "fold4_tree= subset(Tree_model1$pred,Tree_model1$pred[5]==\"Fold4\")\n",
    "fold4_metrics_tree= confusionMatrix(table(fold4_tree$pred,fold4_tree$obs))$byClass\n",
    "recall4_tree_original=fold4_metrics_tree[17]\n",
    "F1score4_tree_original=fold4_metrics_tree[20]\n",
    "\n",
    "fold5_tree= subset(Tree_model1$pred,Tree_model1$pred[5]==\"Fold5\")\n",
    "fold5_metrics_tree= confusionMatrix(table(fold5_tree$pred,fold5_tree$obs))$byClass\n",
    "recall5_tree_original=fold5_metrics_tree[17]\n",
    "F1score5_tree_original=fold5_metrics_tree[20]\n",
    "\n",
    "plot(Tree_model1)\n",
    "Tree_model1$finalModel\n",
    "#install.packages(\"rpart.plot\")\n",
    "require(rpart.plot)\n",
    "rpart.plot(Tree_model1$finalModel,type=0,extra=101,box.palette = \"GnBu\",\n",
    "           branch.lty=3,shadow.col = \"gray\",nn=T,cex=1) \n",
    "Tree_prediction<- predict(Tree_model1,data_test_rfe2)\n",
    "confusionMatrix(table(Tree_prediction,data_test_rfe2$Diagnosis)) #Acurácia=75% e Kappa=43.10% \n",
    "confusionMatrix(table(Tree_prediction,data_test_rfe2$Diagnosis))$byClass #Recall e F1 CCL(0 e NA) \n",
    "varImp(Tree_model1)\n",
    "plot(varImp(Tree_model1),main=\"Variables Importance - Decision Tree\")"
   ]
  },
  {
   "cell_type": "code",
   "execution_count": 14,
   "metadata": {
    "vscode": {
     "languageId": "r"
    }
   },
   "outputs": [
    {
     "data": {
      "text/html": [
       "<style>\n",
       ".list-inline {list-style: none; margin:0; padding: 0}\n",
       ".list-inline>li {display: inline-block}\n",
       ".list-inline>li:not(:last-child)::after {content: \"\\00b7\"; padding: 0 .5ex}\n",
       "</style>\n",
       "<ol class=list-inline><li>0</li><li>0</li><li>0</li><li>0.222222222222222</li><li>0</li></ol>\n"
      ],
      "text/latex": [
       "\\begin{enumerate*}\n",
       "\\item 0\n",
       "\\item 0\n",
       "\\item 0\n",
       "\\item 0.222222222222222\n",
       "\\item 0\n",
       "\\end{enumerate*}\n"
      ],
      "text/markdown": [
       "1. 0\n",
       "2. 0\n",
       "3. 0\n",
       "4. 0.222222222222222\n",
       "5. 0\n",
       "\n",
       "\n"
      ],
      "text/plain": [
       "[1] 0.0000000 0.0000000 0.0000000 0.2222222 0.0000000"
      ]
     },
     "metadata": {},
     "output_type": "display_data"
    },
    {
     "data": {
      "text/html": [
       "<style>\n",
       ".list-inline {list-style: none; margin:0; padding: 0}\n",
       ".list-inline>li {display: inline-block}\n",
       ".list-inline>li:not(:last-child)::after {content: \"\\00b7\"; padding: 0 .5ex}\n",
       "</style>\n",
       "<ol class=list-inline><li>NaN</li><li>&lt;NA&gt;</li><li>&lt;NA&gt;</li><li>0.333333333333333</li><li>&lt;NA&gt;</li></ol>\n"
      ],
      "text/latex": [
       "\\begin{enumerate*}\n",
       "\\item NaN\n",
       "\\item <NA>\n",
       "\\item <NA>\n",
       "\\item 0.333333333333333\n",
       "\\item <NA>\n",
       "\\end{enumerate*}\n"
      ],
      "text/markdown": [
       "1. NaN\n",
       "2. &lt;NA&gt;\n",
       "3. &lt;NA&gt;\n",
       "4. 0.333333333333333\n",
       "5. &lt;NA&gt;\n",
       "\n",
       "\n"
      ],
      "text/plain": [
       "[1]       NaN        NA        NA 0.3333333        NA"
      ]
     },
     "metadata": {},
     "output_type": "display_data"
    }
   ],
   "source": [
    "Recall_OriginalData_tree<- c(recall1_tree_original,recall2_tree_original,recall3_tree_original,recall4_tree_original,recall5_tree_original)\n",
    "F1score_OriginalData_tree<- c(F1score1_tree_original,F1score2_tree_original,F1score3_tree_original,F1score4_tree_original,F1score5_tree_original)\n",
    "Recall_OriginalData_tree\n",
    "F1score_OriginalData_tree"
   ]
  },
  {
   "cell_type": "markdown",
   "metadata": {},
   "source": [
    "# Data augmentation"
   ]
  },
  {
   "cell_type": "markdown",
   "metadata": {},
   "source": [
    "## 5-fold cross-validation"
   ]
  },
  {
   "cell_type": "code",
   "execution_count": 17,
   "metadata": {
    "vscode": {
     "languageId": "r"
    }
   },
   "outputs": [
    {
     "data": {
      "text/plain": [
       "\n",
       " 1  2  3 \n",
       "75 16 21 "
      ]
     },
     "metadata": {},
     "output_type": "display_data"
    },
    {
     "data": {
      "text/plain": [
       "\n",
       " 1  2  3 \n",
       "18  5  5 "
      ]
     },
     "metadata": {},
     "output_type": "display_data"
    }
   ],
   "source": [
    "set.seed(111)\n",
    "train_folds <- createFolds(data$Diagnosis, k = 5, list = T, returnTrain = T)\n",
    "#sapply(folds_treino,length)\n",
    "train_fold01<- data[train_folds$Fold1,]\n",
    "test_fold01<- data[-train_folds$Fold1,]\n",
    "table(train_fold01$Diagnosis)#(75,16,21) \n",
    "table(test_fold01$Diagnosis) #(18,5,5)\n"
   ]
  },
  {
   "cell_type": "markdown",
   "metadata": {},
   "source": [
    "## SMOTE "
   ]
  },
  {
   "cell_type": "markdown",
   "metadata": {},
   "source": [
    "### fold 1"
   ]
  },
  {
   "cell_type": "code",
   "execution_count": 18,
   "metadata": {
    "vscode": {
     "languageId": "r"
    }
   },
   "outputs": [
    {
     "data": {
      "text/plain": [
       "\n",
       " 1  2 \n",
       "75 16 "
      ]
     },
     "metadata": {},
     "output_type": "display_data"
    },
    {
     "data": {
      "text/plain": [
       "\n",
       " 1  2 \n",
       "75 64 "
      ]
     },
     "metadata": {},
     "output_type": "display_data"
    },
    {
     "data": {
      "text/plain": [
       "\n",
       " 1  3 \n",
       "75 21 "
      ]
     },
     "metadata": {},
     "output_type": "display_data"
    },
    {
     "data": {
      "text/plain": [
       "\n",
       " 1  3 \n",
       "75 63 "
      ]
     },
     "metadata": {},
     "output_type": "display_data"
    },
    {
     "data": {
      "text/html": [
       "<style>\n",
       ".list-inline {list-style: none; margin:0; padding: 0}\n",
       ".list-inline>li {display: inline-block}\n",
       ".list-inline>li:not(:last-child)::after {content: \"\\00b7\"; padding: 0 .5ex}\n",
       "</style>\n",
       "<ol class=list-inline><li>202</li><li>22</li></ol>\n"
      ],
      "text/latex": [
       "\\begin{enumerate*}\n",
       "\\item 202\n",
       "\\item 22\n",
       "\\end{enumerate*}\n"
      ],
      "text/markdown": [
       "1. 202\n",
       "2. 22\n",
       "\n",
       "\n"
      ],
      "text/plain": [
       "[1] 202  22"
      ]
     },
     "metadata": {},
     "output_type": "display_data"
    },
    {
     "data": {
      "text/plain": [
       "\n",
       " 1  2  3 \n",
       "75 64 63 "
      ]
     },
     "metadata": {},
     "output_type": "display_data"
    }
   ],
   "source": [
    "#install.packages(\"smotefamily\")\n",
    "require(smotefamily)\n",
    "train_fold01$Sex<- as.numeric(train_fold01$Sex)\n",
    "train_fold01$Scholarity<- as.numeric(train_fold01$Scholarity)\n",
    "train_fold01$IADL<- as.numeric(train_fold01$IADL)\n",
    "test_fold01$Sex<- as.numeric(test_fold01$Sex)\n",
    "test_fold01$Scholarity<- as.numeric(test_fold01$Scholarity)\n",
    "test_fold01$IADL<- as.numeric(test_fold01$IADL)\n",
    "\n",
    "#sau e ccl\n",
    "train_fold01$Diagnosis<-as.numeric(train_fold01$Diagnosis)\n",
    "train_fold01_ccl<- train_fold01[train_fold01$Diagnosis!=\"3\",] #Apenas saudáveis e CCL\n",
    "table(train_fold01_ccl$Diagnosis) #(75,16)\n",
    "train_fold01_ccl$Diagnosis<- as.factor(train_fold01_ccl$Diagnosis)\n",
    "set.seed(100)\n",
    "train_fold01_smote<- SMOTE(train_fold01_ccl[,-1],train_fold01_ccl[,1],K=1)\n",
    "train_fold01_smote_ccl<- train_fold01_smote$data\n",
    "table(train_fold01_smote_ccl$class) #(75,64)\n",
    "#Sau e DA\n",
    "train_fold01$Diagnosis<-as.numeric(train_fold01$Diagnosis)\n",
    "train_fold01_da<- train_fold01[train_fold01$Diagnosis!=\"2\",] #Apenas saudáveis e DA\n",
    "table(train_fold01_da$Diagnosis) #(75,21)\n",
    "train_fold01_da$Diagnosis<- as.factor(train_fold01_da$Diagnosis)\n",
    "set.seed(200)\n",
    "train_fold01_smote2<- SMOTE(train_fold01_da[,-1],train_fold01_da[,1],K=1)\n",
    "train_fold01_smote_da<- train_fold01_smote2$data\n",
    "table(train_fold01_smote_da$class) #(75,63)\n",
    "#Unindo DA do smote_data_da com o smote_data_ccl\n",
    "train_fold01_smote_da2<- train_fold01_smote_da[1:63,]\n",
    "train_fold01_smote_final<- rbind(train_fold01_smote_ccl,train_fold01_smote_da2)\n",
    "dim(train_fold01_smote_final) #202 x 22\n",
    "train_fold01_smote_final$class<- as.factor(train_fold01_smote_final$class)\n",
    "table(train_fold01_smote_final$class) #(75,64,63)\n",
    "names(train_fold01_smote_final)[22]<- \"Diagnosis\"\n"
   ]
  },
  {
   "cell_type": "code",
   "execution_count": 19,
   "metadata": {
    "vscode": {
     "languageId": "r"
    }
   },
   "outputs": [
    {
     "data": {
      "text/plain": [
       "\n",
       "Call:\n",
       " randomForest(formula = train_fold01_smote_final1$Diagnosis ~      ., data = train_fold01_smote_final1) \n",
       "               Type of random forest: classification\n",
       "                     Number of trees: 500\n",
       "No. of variables tried at each split: 3\n",
       "\n",
       "        OOB estimate of  error rate: 6.93%\n",
       "Confusion matrix:\n",
       "   1  2  3 class.error\n",
       "1 67  8  0   0.1066667\n",
       "2  5 58  1   0.0937500\n",
       "3  0  0 63   0.0000000"
      ]
     },
     "metadata": {},
     "output_type": "display_data"
    }
   ],
   "source": [
    "#Treinamento do modelo1 - RF - *Cv tornaria o modelo enviesado, visto que teria dados sintéticos nos folds de teste\n",
    "train_fold01_smote_final1<- train_fold01_smote_final[,c(\"Diagnosis\",\"MMSE\",\n",
    "                                                       \"IADL\",\"GSDT\",\"FMT_DT\",\"FMT_IT\",\"GSST\",\"TMTA\",\"STEP\",\"Age\")]\n",
    "set.seed(300)\n",
    "rf_fold01_smote<- randomForest(train_fold01_smote_final1$Diagnosis~.,data = train_fold01_smote_final1) \n",
    "rf_fold01_smote #taxa de erro = 6,93%\n",
    "#Validação do modelo1\n",
    "test_fold011<- test_fold01[,c(\"Diagnosis\",\"MMSE\",\n",
    "                             \"IADL\",\"GSDT\",\"FMT_DT\",\"FMT_IT\",\"GSST\",\"TMTA\",\"STEP\",\"Age\")]\n",
    "prediction_smote_fold01<- predict(rf_fold01_smote,test_fold011)\n",
    "Metrics_smote_fold01<- confusionMatrix(prediction_smote_fold01,test_fold011$Diagnosis)$byClass #Recall e F1 ccl (0.2 e 0.2)\n",
    "#Acurácia=67.86% e kappa=40.43% \n",
    "Metrics_smote_fold01<- as.list(Metrics_smote_fold01)\n",
    "\n",
    "#Treinamento do modelo1 - árvore\n",
    "set.seed(301)\n",
    "train_fold01_smote_final2<- train_fold01_smote_final[,c(\"Diagnosis\",\"MMSE\",\n",
    "                                                        \"IADL\",\"GSDT\",\"FMT_DT\",\"FMT_IT\",\"GSST\",\"TMTA\",\"Sex\",\"Age\")]\n",
    "tree_fold01_smote<- rpart(train_fold01_smote_final2$Diagnosis~.,data=train_fold01_smote_final2,method = \"class\")\n",
    "test_fold012<- test_fold01[,c(\"Diagnosis\",\"MMSE\",\n",
    "                             \"IADL\",\"GSDT\",\"FMT_DT\",\"FMT_IT\",\"GSST\",\"TMTA\",\"Sex\",\"Age\")]\n",
    "prediction_smote_tree_fold01<- predict(tree_fold01_smote,test_fold012,type = \"class\")\n",
    "Metrics_smote_tree_fold01<- confusionMatrix(prediction_smote_tree_fold01,test_fold012$Diagnosis)$byClass #Recall e F1 ccl (0.2 e 0.18)\n",
    "#Acurácia= 64.29% e kappa= 35.78%"
   ]
  },
  {
   "cell_type": "markdown",
   "metadata": {},
   "source": [
    "### fold 2"
   ]
  },
  {
   "cell_type": "code",
   "execution_count": 24,
   "metadata": {
    "vscode": {
     "languageId": "r"
    }
   },
   "outputs": [
    {
     "data": {
      "text/plain": [
       "\n",
       " 1  2  3 \n",
       "75 17 21 "
      ]
     },
     "metadata": {},
     "output_type": "display_data"
    },
    {
     "data": {
      "text/plain": [
       "\n",
       " 1  2  3 \n",
       "18  4  5 "
      ]
     },
     "metadata": {},
     "output_type": "display_data"
    },
    {
     "data": {
      "text/plain": [
       "\n",
       " 1  2 \n",
       "75 17 "
      ]
     },
     "metadata": {},
     "output_type": "display_data"
    },
    {
     "data": {
      "text/plain": [
       "\n",
       " 1  2 \n",
       "75 68 "
      ]
     },
     "metadata": {},
     "output_type": "display_data"
    },
    {
     "data": {
      "text/plain": [
       "\n",
       " 1  3 \n",
       "75 21 "
      ]
     },
     "metadata": {},
     "output_type": "display_data"
    },
    {
     "data": {
      "text/plain": [
       "\n",
       " 1  3 \n",
       "75 63 "
      ]
     },
     "metadata": {},
     "output_type": "display_data"
    },
    {
     "data": {
      "text/html": [
       "<style>\n",
       ".list-inline {list-style: none; margin:0; padding: 0}\n",
       ".list-inline>li {display: inline-block}\n",
       ".list-inline>li:not(:last-child)::after {content: \"\\00b7\"; padding: 0 .5ex}\n",
       "</style>\n",
       "<ol class=list-inline><li>206</li><li>22</li></ol>\n"
      ],
      "text/latex": [
       "\\begin{enumerate*}\n",
       "\\item 206\n",
       "\\item 22\n",
       "\\end{enumerate*}\n"
      ],
      "text/markdown": [
       "1. 206\n",
       "2. 22\n",
       "\n",
       "\n"
      ],
      "text/plain": [
       "[1] 206  22"
      ]
     },
     "metadata": {},
     "output_type": "display_data"
    },
    {
     "data": {
      "text/plain": [
       "\n",
       " 1  2  3 \n",
       "75 68 63 "
      ]
     },
     "metadata": {},
     "output_type": "display_data"
    }
   ],
   "source": [
    "train_fold02<- data[train_folds$Fold2,]\n",
    "test_fold02<- data[-train_folds$Fold2,]\n",
    "table(train_fold02$Diagnosis) #(75,17,21)\n",
    "table(test_fold02$Diagnosis) #(18,4,5)\n",
    "train_fold02$Sex<- as.numeric(train_fold02$Sex)\n",
    "train_fold02$Scholarity<- as.numeric(train_fold02$Scholarity)\n",
    "train_fold02$IADL<- as.numeric(train_fold02$IADL)\n",
    "test_fold02$Sex<- as.numeric(test_fold02$Sex)\n",
    "test_fold02$Scholarity<- as.numeric(test_fold02$Scholarity)\n",
    "test_fold02$IADL<- as.numeric(test_fold02$IADL)\n",
    "\n",
    "#sau e ccl\n",
    "train_fold02$Diagnosis<-as.numeric(train_fold02$Diagnosis)\n",
    "train_fold02_ccl<- train_fold02[train_fold02$Diagnosis!=\"3\",] #Apenas saudáveis e CCL\n",
    "table(train_fold02_ccl$Diagnosis) #(75,17)\n",
    "train_fold02_ccl$Diagnosis<- as.factor(train_fold02_ccl$Diagnosis)\n",
    "set.seed(101)\n",
    "train_fold02_smote<- SMOTE(train_fold02_ccl[,-1],train_fold02_ccl[,1],K=1)\n",
    "train_fold02_smote_ccl<- train_fold02_smote$data\n",
    "table(train_fold02_smote_ccl$class) #(75,68)\n",
    "#Sau e DA\n",
    "train_fold02$Diagnosis<-as.numeric(train_fold02$Diagnosis)\n",
    "train_fold02_da<- train_fold02[train_fold02$Diagnosis!=\"2\",] #Apenas saudáveis e DA\n",
    "table(train_fold02_da$Diagnosis) #(75,21)\n",
    "train_fold02_da$Diagnosis<- as.factor(train_fold02_da$Diagnosis)\n",
    "set.seed(201)\n",
    "train_fold02_smote2<- SMOTE(train_fold02_da[,-1],train_fold02_da[,1],K=1)\n",
    "train_fold02_smote_da<- train_fold02_smote2$data\n",
    "table(train_fold02_smote_da$class) #(75,63)\n",
    "#Unindo DA do smote_data_da com o smote_data_ccl\n",
    "train_fold02_smote_da2<- train_fold02_smote_da[1:63,]\n",
    "train_fold02_smote_final<- rbind(train_fold02_smote_ccl,train_fold02_smote_da2)\n",
    "dim(train_fold02_smote_final) #206 x 22\n",
    "train_fold02_smote_final$class<- as.factor(train_fold02_smote_final$class)\n",
    "table(train_fold02_smote_final$class) #(75,68,63)\n",
    "names(train_fold02_smote_final)[22]<- \"Diagnosis\""
   ]
  },
  {
   "cell_type": "code",
   "execution_count": 25,
   "metadata": {
    "vscode": {
     "languageId": "r"
    }
   },
   "outputs": [
    {
     "data": {
      "text/plain": [
       "\n",
       "Call:\n",
       " randomForest(formula = train_fold02_smote_final1$Diagnosis ~      ., data = train_fold02_smote_final1) \n",
       "               Type of random forest: classification\n",
       "                     Number of trees: 500\n",
       "No. of variables tried at each split: 3\n",
       "\n",
       "        OOB estimate of  error rate: 8.74%\n",
       "Confusion matrix:\n",
       "   1  2  3 class.error\n",
       "1 65  9  1  0.13333333\n",
       "2  5 61  2  0.10294118\n",
       "3  0  1 62  0.01587302"
      ]
     },
     "metadata": {},
     "output_type": "display_data"
    }
   ],
   "source": [
    "#Treinamento do modelo2 *Cv tornaria o modelo enviesado, visto que teria dados sintéticos nos folds de teste\n",
    "set.seed(301)\n",
    "train_fold02_smote_final1<- train_fold02_smote_final[,c(\"Diagnosis\",\"MMSE\",\n",
    "                                                        \"IADL\",\"GSDT\",\"FMT_DT\",\"FMT_IT\",\"GSST\",\"TMTA\",\"STEP\",\"Age\")]\n",
    "rf_fold02_smote<- randomForest(train_fold02_smote_final1$Diagnosis~.,data = train_fold02_smote_final1) \n",
    "rf_fold02_smote #Taxa de erro = 8.74%\n",
    "#Validação do modelo2\n",
    "test_fold021<- test_fold02[,c(\"Diagnosis\",\"MMSE\",\n",
    "                              \"IADL\",\"GSDT\",\"FMT_DT\",\"FMT_IT\",\"GSST\",\"TMTA\",\"STEP\",\"Age\")]\n",
    "prediction_smote_fold02<- predict(rf_fold02_smote,test_fold021)\n",
    "Metrics_smote_fold02<- confusionMatrix(prediction_smote_fold02,test_fold021$Diagnosis)$byClass #Recall e F1 ccl (0 e Nan)\n",
    "#Acurácia=74.07% e kappa=41.49%\n",
    "Metrics_smote_fold02<- as.list(Metrics_smote_fold02)\n",
    "\n",
    "#Treinamento do modelo2 - árvore\n",
    "set.seed(301)\n",
    "train_fold02_smote_final2<- train_fold02_smote_final[,c(\"Diagnosis\",\"MMSE\",\n",
    "                                                        \"IADL\",\"GSDT\",\"FMT_DT\",\"FMT_IT\",\"GSST\",\"TMTA\",\"Sex\",\"Age\")]\n",
    "tree_fold02_smote<- rpart(train_fold02_smote_final2$Diagnosis~.,data=train_fold02_smote_final2,method = \"class\")\n",
    "test_fold022<- test_fold02[,c(\"Diagnosis\",\"MMSE\",\n",
    "                              \"IADL\",\"GSDT\",\"FMT_DT\",\"FMT_IT\",\"GSST\",\"TMTA\",\"Sex\",\"Age\")]\n",
    "prediction_smote_tree_fold02<- predict(tree_fold02_smote,test_fold022,type=\"class\")\n",
    "Metrics_smote_tree_fold02<- confusionMatrix(prediction_smote_tree_fold02,test_fold022$Diagnosis)$byClass #Recall e F1 ccl (0 e Nan)\n",
    "#Acurácia= 62.96% e kappa= 26.23%\n",
    "Metrics_smote_tree_fold02<- as.list(Metrics_smote_tree_fold02)"
   ]
  },
  {
   "cell_type": "markdown",
   "metadata": {},
   "source": [
    "### fold 3"
   ]
  },
  {
   "cell_type": "code",
   "execution_count": 26,
   "metadata": {
    "vscode": {
     "languageId": "r"
    }
   },
   "outputs": [
    {
     "data": {
      "text/plain": [
       "\n",
       " 1  2  3 \n",
       "74 17 20 "
      ]
     },
     "metadata": {},
     "output_type": "display_data"
    },
    {
     "data": {
      "text/plain": [
       "\n",
       " 1  2  3 \n",
       "19  4  6 "
      ]
     },
     "metadata": {},
     "output_type": "display_data"
    },
    {
     "data": {
      "text/plain": [
       "\n",
       " 1  2 \n",
       "74 17 "
      ]
     },
     "metadata": {},
     "output_type": "display_data"
    },
    {
     "data": {
      "text/plain": [
       "\n",
       " 1  2 \n",
       "74 68 "
      ]
     },
     "metadata": {},
     "output_type": "display_data"
    },
    {
     "data": {
      "text/plain": [
       "\n",
       " 1  3 \n",
       "74 20 "
      ]
     },
     "metadata": {},
     "output_type": "display_data"
    },
    {
     "data": {
      "text/plain": [
       "\n",
       " 1  3 \n",
       "74 60 "
      ]
     },
     "metadata": {},
     "output_type": "display_data"
    },
    {
     "data": {
      "text/html": [
       "<style>\n",
       ".list-inline {list-style: none; margin:0; padding: 0}\n",
       ".list-inline>li {display: inline-block}\n",
       ".list-inline>li:not(:last-child)::after {content: \"\\00b7\"; padding: 0 .5ex}\n",
       "</style>\n",
       "<ol class=list-inline><li>202</li><li>22</li></ol>\n"
      ],
      "text/latex": [
       "\\begin{enumerate*}\n",
       "\\item 202\n",
       "\\item 22\n",
       "\\end{enumerate*}\n"
      ],
      "text/markdown": [
       "1. 202\n",
       "2. 22\n",
       "\n",
       "\n"
      ],
      "text/plain": [
       "[1] 202  22"
      ]
     },
     "metadata": {},
     "output_type": "display_data"
    },
    {
     "data": {
      "text/plain": [
       "\n",
       " 1  2  3 \n",
       "74 68 60 "
      ]
     },
     "metadata": {},
     "output_type": "display_data"
    }
   ],
   "source": [
    "train_fold03<- data[train_folds$Fold3,]\n",
    "test_fold03<- data[-train_folds$Fold3,]\n",
    "table(train_fold03$Diagnosis) #(74,17,20)\n",
    "table(test_fold03$Diagnosis) #(19,4,6)\n",
    "train_fold03$Sex<- as.numeric(train_fold03$Sex)\n",
    "train_fold03$Scholarity<- as.numeric(train_fold03$Scholarity)\n",
    "train_fold03$IADL<- as.numeric(train_fold03$IADL)\n",
    "test_fold03$Sex<- as.numeric(test_fold03$Sex)\n",
    "test_fold03$Scholarity<- as.numeric(test_fold03$Scholarity)\n",
    "test_fold03$IADL<- as.numeric(test_fold03$IADL)\n",
    "\n",
    "#sau e ccl\n",
    "train_fold03$Diagnosis<-as.numeric(train_fold03$Diagnosis)\n",
    "train_fold03_ccl<- train_fold03[train_fold03$Diagnosis!=\"3\",] #Apenas saudáveis e CCL\n",
    "table(train_fold03_ccl$Diagnosis) #(74,17)\n",
    "train_fold03_ccl$Diagnosis<- as.factor(train_fold03_ccl$Diagnosis)\n",
    "set.seed(103)\n",
    "train_fold03_smote<- SMOTE(train_fold03_ccl[,-1],train_fold03_ccl[,1],K=1)\n",
    "train_fold03_smote_ccl<- train_fold03_smote$data\n",
    "table(train_fold03_smote_ccl$class) #(74,68)\n",
    "#Sau e DA\n",
    "train_fold03$Diagnosis<-as.numeric(train_fold03$Diagnosis)\n",
    "train_fold03_da<- train_fold03[train_fold03$Diagnosis!=\"2\",] #Apenas saudáveis e DA\n",
    "table(train_fold03_da$Diagnosis) #(74,20)\n",
    "train_fold03_da$Diagnosis<- as.factor(train_fold03_da$Diagnosis)\n",
    "set.seed(203)\n",
    "train_fold03_smote2<- SMOTE(train_fold03_da[,-1],train_fold03_da[,1],K=1)\n",
    "train_fold03_smote_da<- train_fold03_smote2$data\n",
    "table(train_fold03_smote_da$class) #(74,60)\n",
    "#Unindo DA do smote_data_da com o smote_data_ccl\n",
    "train_fold03_smote_da2<- train_fold03_smote_da[1:60,]\n",
    "train_fold03_smote_final<- rbind(train_fold03_smote_ccl,train_fold03_smote_da2)\n",
    "dim(train_fold03_smote_final) #202 x 22\n",
    "train_fold03_smote_final$class<- as.factor(train_fold03_smote_final$class)\n",
    "table(train_fold03_smote_final$class) #(74,68,60)\n",
    "names(train_fold03_smote_final)[22]<- \"Diagnosis\""
   ]
  },
  {
   "cell_type": "code",
   "execution_count": 27,
   "metadata": {
    "vscode": {
     "languageId": "r"
    }
   },
   "outputs": [
    {
     "data": {
      "text/plain": [
       "\n",
       "Call:\n",
       " randomForest(formula = train_fold03_smote_final1$Diagnosis ~      ., data = train_fold03_smote_final1) \n",
       "               Type of random forest: classification\n",
       "                     Number of trees: 500\n",
       "No. of variables tried at each split: 3\n",
       "\n",
       "        OOB estimate of  error rate: 12.87%\n",
       "Confusion matrix:\n",
       "   1  2  3 class.error\n",
       "1 60 12  2   0.1891892\n",
       "2 10 56  2   0.1764706\n",
       "3  0  0 60   0.0000000"
      ]
     },
     "metadata": {},
     "output_type": "display_data"
    }
   ],
   "source": [
    "#Treinamento do modelo3 *Cv tornaria o modelo enviesado, visto que teria dados sintéticos nos folds de teste\n",
    "set.seed(303)\n",
    "train_fold03_smote_final1<- train_fold03_smote_final[,c(\"Diagnosis\",\"MMSE\",\n",
    "                                                        \"IADL\",\"GSDT\",\"FMT_DT\",\"FMT_IT\",\"GSST\",\"TMTA\",\"STEP\",\"Age\")]\n",
    "rf_fold03_smote<- randomForest(train_fold03_smote_final1$Diagnosis~.,data = train_fold03_smote_final1) \n",
    "rf_fold03_smote #Taxa de erro = 12.87%\n",
    "#Validação do modelo3\n",
    "test_fold031<- test_fold03[,c(\"Diagnosis\",\"MMSE\",\n",
    "                              \"IADL\",\"GSDT\",\"FMT_DT\",\"FMT_IT\",\"GSST\",\"TMTA\",\"STEP\",\"Age\")]\n",
    "prediction_smote_fold03<- predict(rf_fold03_smote,test_fold031)\n",
    "Metrics_smote_fold03<- confusionMatrix(prediction_smote_fold03,test_fold031$Diagnosis)$byClass #Recall e F1 ccl (0.25 e 0.33)\n",
    "#Acurácia=86.21% e kappa=71.78%\n",
    "Metrics_smote_fold03<- as.list(Metrics_smote_fold03)\n",
    "\n",
    "#Treinamento do modelo3 - árvore\n",
    "set.seed(301)\n",
    "train_fold03_smote_final2<- train_fold03_smote_final[,c(\"Diagnosis\",\"MMSE\",\n",
    "                                                        \"IADL\",\"GSDT\",\"FMT_DT\",\"FMT_IT\",\"GSST\",\"TMTA\",\"Sex\",\"Age\")]\n",
    "tree_fold03_smote<- rpart(train_fold03_smote_final2$Diagnosis~.,data=train_fold03_smote_final2,method = \"class\")\n",
    "test_fold032<- test_fold03[,c(\"Diagnosis\",\"MMSE\",\n",
    "                              \"IADL\",\"GSDT\",\"FMT_DT\",\"FMT_IT\",\"GSST\",\"TMTA\",\"Sex\",\"Age\")]\n",
    "prediction_smote_tree_fold03<- predict(tree_fold03_smote,test_fold032,type=\"class\")\n",
    "Metrics_smote_tree_fold03<- confusionMatrix(prediction_smote_tree_fold03,test_fold032$Diagnosis)$byClass #Recall e F1 ccl (0 e Nan)\n",
    "#Acurácia= 75.86% e kappa= 53.76%\n",
    "Metrics_smote_tree_fold03<- as.list(Metrics_smote_tree_fold03)"
   ]
  },
  {
   "cell_type": "markdown",
   "metadata": {},
   "source": [
    "### fold 4"
   ]
  },
  {
   "cell_type": "code",
   "execution_count": 28,
   "metadata": {
    "vscode": {
     "languageId": "r"
    }
   },
   "outputs": [
    {
     "data": {
      "text/plain": [
       "\n",
       " 1  2  3 \n",
       "74 17 21 "
      ]
     },
     "metadata": {},
     "output_type": "display_data"
    },
    {
     "data": {
      "text/plain": [
       "\n",
       " 1  2  3 \n",
       "19  4  5 "
      ]
     },
     "metadata": {},
     "output_type": "display_data"
    },
    {
     "data": {
      "text/plain": [
       "\n",
       " 1  2 \n",
       "74 17 "
      ]
     },
     "metadata": {},
     "output_type": "display_data"
    },
    {
     "data": {
      "text/plain": [
       "\n",
       " 1  2 \n",
       "74 68 "
      ]
     },
     "metadata": {},
     "output_type": "display_data"
    },
    {
     "data": {
      "text/plain": [
       "\n",
       " 1  3 \n",
       "74 21 "
      ]
     },
     "metadata": {},
     "output_type": "display_data"
    },
    {
     "data": {
      "text/plain": [
       "\n",
       " 1  3 \n",
       "74 63 "
      ]
     },
     "metadata": {},
     "output_type": "display_data"
    },
    {
     "data": {
      "text/html": [
       "<style>\n",
       ".list-inline {list-style: none; margin:0; padding: 0}\n",
       ".list-inline>li {display: inline-block}\n",
       ".list-inline>li:not(:last-child)::after {content: \"\\00b7\"; padding: 0 .5ex}\n",
       "</style>\n",
       "<ol class=list-inline><li>205</li><li>22</li></ol>\n"
      ],
      "text/latex": [
       "\\begin{enumerate*}\n",
       "\\item 205\n",
       "\\item 22\n",
       "\\end{enumerate*}\n"
      ],
      "text/markdown": [
       "1. 205\n",
       "2. 22\n",
       "\n",
       "\n"
      ],
      "text/plain": [
       "[1] 205  22"
      ]
     },
     "metadata": {},
     "output_type": "display_data"
    },
    {
     "data": {
      "text/plain": [
       "\n",
       " 1  2  3 \n",
       "74 68 63 "
      ]
     },
     "metadata": {},
     "output_type": "display_data"
    }
   ],
   "source": [
    "train_fold04<- data[train_folds$Fold4,]\n",
    "test_fold04<- data[-train_folds$Fold4,]\n",
    "table(train_fold04$Diagnosis) #(74,17,21)\n",
    "table(test_fold04$Diagnosis) #(19,4,5)\n",
    "train_fold04$Sex<- as.numeric(train_fold04$Sex)\n",
    "train_fold04$Scholarity<- as.numeric(train_fold04$Scholarity)\n",
    "train_fold04$IADL<- as.numeric(train_fold04$IADL)\n",
    "test_fold04$Sex<- as.numeric(test_fold04$Sex)\n",
    "test_fold04$Scholarity<- as.numeric(test_fold04$Scholarity)\n",
    "test_fold04$IADL<- as.numeric(test_fold04$IADL)\n",
    "\n",
    "#sau e ccl\n",
    "train_fold04$Diagnosis<-as.numeric(train_fold04$Diagnosis)\n",
    "train_fold04_ccl<- train_fold04[train_fold04$Diagnosis!=\"3\",] #Apenas saudáveis e CCL\n",
    "table(train_fold04_ccl$Diagnosis) #(74,17)\n",
    "train_fold04_ccl$Diagnosis<- as.factor(train_fold04_ccl$Diagnosis)\n",
    "set.seed(104)\n",
    "train_fold04_smote<- SMOTE(train_fold04_ccl[,-1],train_fold04_ccl[,1],K=1)\n",
    "train_fold04_smote_ccl<- train_fold04_smote$data\n",
    "table(train_fold04_smote_ccl$class) #(74,68)\n",
    "#Sau e DA\n",
    "train_fold04$Diagnosis<-as.numeric(train_fold04$Diagnosis)\n",
    "train_fold04_da<- train_fold04[train_fold04$Diagnosis!=\"2\",] #Apenas saudáveis e DA\n",
    "table(train_fold04_da$Diagnosis) #(74,21)\n",
    "train_fold04_da$Diagnosis<- as.factor(train_fold04_da$Diagnosis)\n",
    "set.seed(204)\n",
    "train_fold04_smote2<- SMOTE(train_fold04_da[,-1],train_fold04_da[,1],K=1)\n",
    "train_fold04_smote_da<- train_fold04_smote2$data\n",
    "table(train_fold04_smote_da$class) #(74,63)\n",
    "#Unindo DA do smote_data_da com o smote_data_ccl\n",
    "train_fold04_smote_da2<- train_fold04_smote_da[1:63,]\n",
    "train_fold04_smote_final<- rbind(train_fold04_smote_ccl,train_fold04_smote_da2)\n",
    "dim(train_fold04_smote_final) #205 x 22\n",
    "train_fold04_smote_final$class<- as.factor(train_fold04_smote_final$class)\n",
    "table(train_fold04_smote_final$class) #(75,68,63)\n",
    "names(train_fold04_smote_final)[22]<- \"Diagnosis\""
   ]
  },
  {
   "cell_type": "code",
   "execution_count": 29,
   "metadata": {
    "vscode": {
     "languageId": "r"
    }
   },
   "outputs": [
    {
     "data": {
      "text/plain": [
       "\n",
       "Call:\n",
       " randomForest(formula = train_fold04_smote_final1$Diagnosis ~      ., data = train_fold04_smote_final1) \n",
       "               Type of random forest: classification\n",
       "                     Number of trees: 500\n",
       "No. of variables tried at each split: 3\n",
       "\n",
       "        OOB estimate of  error rate: 9.27%\n",
       "Confusion matrix:\n",
       "   1  2  3 class.error\n",
       "1 65  8  1  0.12162162\n",
       "2  7 59  2  0.13235294\n",
       "3  1  0 62  0.01587302"
      ]
     },
     "metadata": {},
     "output_type": "display_data"
    }
   ],
   "source": [
    "#Treinamento do modelo4 *Cv tornaria o modelo enviesado, visto que teria dados sintéticos nos folds de teste\n",
    "set.seed(304)\n",
    "train_fold04_smote_final1<- train_fold04_smote_final[,c(\"Diagnosis\",\"MMSE\",\n",
    "                                                        \"IADL\",\"GSDT\",\"FMT_DT\",\"FMT_IT\",\"GSST\",\"TMTA\",\"STEP\",\"Age\")]\n",
    "rf_fold04_smote<- randomForest(train_fold04_smote_final1$Diagnosis~.,data = train_fold04_smote_final1) \n",
    "rf_fold04_smote #Taxa de erro = 9.27%\n",
    "#Validação do modelo4\n",
    "test_fold041<- test_fold04[,c(\"Diagnosis\",\"MMSE\",\n",
    "                              \"IADL\",\"GSDT\",\"FMT_DT\",\"FMT_IT\",\"GSST\",\"TMTA\",\"STEP\",\"Age\")]\n",
    "prediction_smote_fold04<- predict(rf_fold04_smote,test_fold041)\n",
    "Metrics_smote_fold04<- confusionMatrix(prediction_smote_fold04,test_fold041$Diagnosis)$byClass #Recall e F1 ccl (0 e Nan)\n",
    "#Acurácia=78.57% e kappa=50.15%\n",
    "Metrics_smote_fold04<- as.list(Metrics_smote_fold04)\n",
    "\n",
    "#Treinamento do modelo4 - árvore\n",
    "set.seed(301)\n",
    "train_fold04_smote_final2<- train_fold04_smote_final[,c(\"Diagnosis\",\"MMSE\",\n",
    "                                                        \"IADL\",\"GSDT\",\"FMT_DT\",\"FMT_IT\",\"GSST\",\"TMTA\",\"Sex\",\"Age\")]\n",
    "tree_fold04_smote<- rpart(train_fold04_smote_final2$Diagnosis~.,data=train_fold04_smote_final2,method = \"class\")\n",
    "test_fold042<- test_fold04[,c(\"Diagnosis\",\"MMSE\",\n",
    "                              \"IADL\",\"GSDT\",\"FMT_DT\",\"FMT_IT\",\"GSST\",\"TMTA\",\"Sex\",\"Age\")]\n",
    "prediction_smote_tree_fold04<- predict(tree_fold04_smote,test_fold042,type=\"class\")\n",
    "Metrics_smote_tree_fold04<- confusionMatrix(prediction_smote_tree_fold04,test_fold042$Diagnosis)$byClass #Recall e F1 ccl (0.5 e 0.5)\n",
    "#Acurácia= 85.71% e kappa= 69.57%\n",
    "Metrics_smote_tree_fold04<- as.list(Metrics_smote_tree_fold04)"
   ]
  },
  {
   "cell_type": "markdown",
   "metadata": {},
   "source": [
    "### fold 5"
   ]
  },
  {
   "cell_type": "code",
   "execution_count": 30,
   "metadata": {
    "vscode": {
     "languageId": "r"
    }
   },
   "outputs": [
    {
     "data": {
      "text/plain": [
       "\n",
       " 1  2  3 \n",
       "74 17 21 "
      ]
     },
     "metadata": {},
     "output_type": "display_data"
    },
    {
     "data": {
      "text/plain": [
       "\n",
       " 1  2  3 \n",
       "19  4  5 "
      ]
     },
     "metadata": {},
     "output_type": "display_data"
    },
    {
     "data": {
      "text/plain": [
       "\n",
       " 1  2 \n",
       "74 17 "
      ]
     },
     "metadata": {},
     "output_type": "display_data"
    },
    {
     "data": {
      "text/plain": [
       "\n",
       " 1  2 \n",
       "74 68 "
      ]
     },
     "metadata": {},
     "output_type": "display_data"
    },
    {
     "data": {
      "text/plain": [
       "\n",
       " 1  3 \n",
       "74 21 "
      ]
     },
     "metadata": {},
     "output_type": "display_data"
    },
    {
     "data": {
      "text/plain": [
       "\n",
       " 1  3 \n",
       "74 63 "
      ]
     },
     "metadata": {},
     "output_type": "display_data"
    },
    {
     "data": {
      "text/html": [
       "<style>\n",
       ".list-inline {list-style: none; margin:0; padding: 0}\n",
       ".list-inline>li {display: inline-block}\n",
       ".list-inline>li:not(:last-child)::after {content: \"\\00b7\"; padding: 0 .5ex}\n",
       "</style>\n",
       "<ol class=list-inline><li>205</li><li>22</li></ol>\n"
      ],
      "text/latex": [
       "\\begin{enumerate*}\n",
       "\\item 205\n",
       "\\item 22\n",
       "\\end{enumerate*}\n"
      ],
      "text/markdown": [
       "1. 205\n",
       "2. 22\n",
       "\n",
       "\n"
      ],
      "text/plain": [
       "[1] 205  22"
      ]
     },
     "metadata": {},
     "output_type": "display_data"
    },
    {
     "data": {
      "text/plain": [
       "\n",
       " 1  2  3 \n",
       "74 68 63 "
      ]
     },
     "metadata": {},
     "output_type": "display_data"
    }
   ],
   "source": [
    "#Data augmentation (SMOTE) no fold de treino 05 \n",
    "train_fold05<- data[train_folds$Fold5,]\n",
    "test_fold05<- data[-train_folds$Fold5,]\n",
    "table(train_fold05$Diagnosis) #(74,17,21)\n",
    "table(test_fold05$Diagnosis) #(19,4,5)\n",
    "train_fold05$Sex<- as.numeric(train_fold05$Sex)\n",
    "train_fold05$Scholarity<- as.numeric(train_fold05$Scholarity)\n",
    "train_fold05$IADL<- as.numeric(train_fold05$IADL)\n",
    "test_fold05$Sex<- as.numeric(test_fold05$Sex)\n",
    "test_fold05$Scholarity<- as.numeric(test_fold05$Scholarity)\n",
    "test_fold05$IADL<- as.numeric(test_fold05$IADL)\n",
    "\n",
    "#sau e ccl\n",
    "train_fold05$Diagnosis<-as.numeric(train_fold05$Diagnosis)\n",
    "train_fold05_ccl<- train_fold05[train_fold05$Diagnosis!=\"3\",] #Apenas saudáveis e CCL\n",
    "table(train_fold05_ccl$Diagnosis) #(74,17)\n",
    "train_fold05_ccl$Diagnosis<- as.factor(train_fold05_ccl$Diagnosis)\n",
    "set.seed(105)\n",
    "train_fold05_smote<- SMOTE(train_fold05_ccl[,-1],train_fold05_ccl[,1],K=1)\n",
    "train_fold05_smote_ccl<- train_fold05_smote$data\n",
    "table(train_fold05_smote_ccl$class) #(74,68)\n",
    "#Sau e DA\n",
    "train_fold05$Diagnosis<-as.numeric(train_fold05$Diagnosis)\n",
    "train_fold05_da<- train_fold05[train_fold05$Diagnosis!=\"2\",] #Apenas saudáveis e DA\n",
    "table(train_fold05_da$Diagnosis) #(74,21)\n",
    "train_fold05_da$Diagnosis<- as.factor(train_fold05_da$Diagnosis)\n",
    "set.seed(205)\n",
    "train_fold05_smote2<- SMOTE(train_fold05_da[,-1],train_fold05_da[,1],K=1)\n",
    "train_fold05_smote_da<- train_fold05_smote2$data\n",
    "table(train_fold05_smote_da$class) #(74,63)\n",
    "#Unindo DA do smote_data_da com o smote_data_ccl\n",
    "train_fold05_smote_da2<- train_fold05_smote_da[1:63,]\n",
    "train_fold05_smote_final<- rbind(train_fold05_smote_ccl,train_fold05_smote_da2)\n",
    "dim(train_fold05_smote_final) #205 x 22\n",
    "train_fold05_smote_final$class<- as.factor(train_fold05_smote_final$class)\n",
    "table(train_fold05_smote_final$class) #(74,68,63)\n",
    "names(train_fold05_smote_final)[22]<- \"Diagnosis\""
   ]
  },
  {
   "cell_type": "code",
   "execution_count": 31,
   "metadata": {
    "vscode": {
     "languageId": "r"
    }
   },
   "outputs": [
    {
     "data": {
      "text/plain": [
       "\n",
       "Call:\n",
       " randomForest(formula = train_fold05_smote_final1$Diagnosis ~      ., data = train_fold05_smote_final1) \n",
       "               Type of random forest: classification\n",
       "                     Number of trees: 500\n",
       "No. of variables tried at each split: 3\n",
       "\n",
       "        OOB estimate of  error rate: 8.29%\n",
       "Confusion matrix:\n",
       "   1  2  3 class.error\n",
       "1 65  8  1   0.1216216\n",
       "2  7 60  1   0.1176471\n",
       "3  0  0 63   0.0000000"
      ]
     },
     "metadata": {},
     "output_type": "display_data"
    }
   ],
   "source": [
    "#Treinamento do modelo5 *Cv tornaria o modelo enviesado, visto que teria dados sintéticos nos folds de teste\n",
    "set.seed(305)\n",
    "train_fold05_smote_final1<- train_fold05_smote_final[,c(\"Diagnosis\",\"MMSE\",\n",
    "                                                        \"IADL\",\"GSDT\",\"FMT_DT\",\"FMT_IT\",\"GSST\",\"TMTA\",\"STEP\",\"Age\")]\n",
    "rf_fold05_smote<- randomForest(train_fold05_smote_final1$Diagnosis~.,data = train_fold05_smote_final1) \n",
    "rf_fold05_smote #Taxa de erro = 8.29%\n",
    "#Validação do modelo5\n",
    "test_fold051<- test_fold05[,c(\"Diagnosis\",\"MMSE\",\n",
    "                              \"IADL\",\"GSDT\",\"FMT_DT\",\"FMT_IT\",\"GSST\",\"TMTA\",\"STEP\",\"Age\")]\n",
    "prediction_smote_fold05<- predict(rf_fold05_smote,test_fold051)\n",
    "Metrics_smote_fold05<- confusionMatrix(prediction_smote_fold05,test_fold051$Diagnosis)$byClass #Recall e F1 ccl (0 e NaN)\n",
    "#Acurácia=75% e kappa=46.59%\n",
    "Metrics_smote_fold05<- as.list(Metrics_smote_fold05)\n",
    "\n",
    "#Treinamento do modelo5 - árvore\n",
    "set.seed(301)\n",
    "train_fold05_smote_final2<- train_fold05_smote_final[,c(\"Diagnosis\",\"MMSE\",\n",
    "                                                        \"IADL\",\"GSDT\",\"FMT_DT\",\"FMT_IT\",\"GSST\",\"TMTA\",\"Sex\",\"Age\")]\n",
    "tree_fold05_smote<- rpart(train_fold05_smote_final2$Diagnosis~.,data=train_fold05_smote_final2,method = \"class\")\n",
    "test_fold052<- test_fold05[,c(\"Diagnosis\",\"MMSE\",\n",
    "                              \"IADL\",\"GSDT\",\"FMT_DT\",\"FMT_IT\",\"GSST\",\"TMTA\",\"Sex\",\"Age\")]\n",
    "prediction_smote_tree_fold05<- predict(tree_fold05_smote,test_fold052,type=\"class\")\n",
    "Metrics_smote_tree_fold05<- confusionMatrix(prediction_smote_tree_fold05,test_fold052$Diagnosis)$byClass #Recall e F1 ccl (0 e Nan)\n",
    "#Acurácia= 71.43% e kappa= 41.36%\n",
    "Metrics_smote_tree_fold05<- as.list(Metrics_smote_tree_fold05)"
   ]
  },
  {
   "cell_type": "markdown",
   "metadata": {},
   "source": [
    "### Métricas de interesse (dados aumentados - smote)"
   ]
  },
  {
   "cell_type": "code",
   "execution_count": 32,
   "metadata": {
    "vscode": {
     "languageId": "r"
    }
   },
   "outputs": [
    {
     "data": {
      "text/html": [
       "67.86"
      ],
      "text/latex": [
       "67.86"
      ],
      "text/markdown": [
       "67.86"
      ],
      "text/plain": [
       "[1] 67.86"
      ]
     },
     "metadata": {},
     "output_type": "display_data"
    },
    {
     "data": {
      "text/html": [
       "64.29"
      ],
      "text/latex": [
       "64.29"
      ],
      "text/markdown": [
       "64.29"
      ],
      "text/plain": [
       "[1] 64.29"
      ]
     },
     "metadata": {},
     "output_type": "display_data"
    },
    {
     "data": {
      "text/html": [
       "0.09"
      ],
      "text/latex": [
       "0.09"
      ],
      "text/markdown": [
       "0.09"
      ],
      "text/plain": [
       "[1] 0.09"
      ]
     },
     "metadata": {},
     "output_type": "display_data"
    },
    {
     "data": {
      "text/html": [
       "0.124498995979887"
      ],
      "text/latex": [
       "0.124498995979887"
      ],
      "text/markdown": [
       "0.124498995979887"
      ],
      "text/plain": [
       "[1] 0.124499"
      ]
     },
     "metadata": {},
     "output_type": "display_data"
    },
    {
     "data": {
      "text/html": [
       "0.14"
      ],
      "text/latex": [
       "0.14"
      ],
      "text/markdown": [
       "0.14"
      ],
      "text/plain": [
       "[1] 0.14"
      ]
     },
     "metadata": {},
     "output_type": "display_data"
    },
    {
     "data": {
      "text/html": [
       "0.219089023002066"
      ],
      "text/latex": [
       "0.219089023002066"
      ],
      "text/markdown": [
       "0.219089023002066"
      ],
      "text/plain": [
       "[1] 0.219089"
      ]
     },
     "metadata": {},
     "output_type": "display_data"
    },
    {
     "data": {
      "text/html": [
       "0.266666666666667"
      ],
      "text/latex": [
       "0.266666666666667"
      ],
      "text/markdown": [
       "0.266666666666667"
      ],
      "text/plain": [
       "[1] 0.2666667"
      ]
     },
     "metadata": {},
     "output_type": "display_data"
    },
    {
     "data": {
      "text/html": [
       "0.0942809041582063"
      ],
      "text/latex": [
       "0.0942809041582063"
      ],
      "text/markdown": [
       "0.0942809041582063"
      ],
      "text/plain": [
       "[1] 0.0942809"
      ]
     },
     "metadata": {},
     "output_type": "display_data"
    },
    {
     "data": {
      "text/html": [
       "0.340909090909091"
      ],
      "text/latex": [
       "0.340909090909091"
      ],
      "text/markdown": [
       "0.340909090909091"
      ],
      "text/plain": [
       "[1] 0.3409091"
      ]
     },
     "metadata": {},
     "output_type": "display_data"
    },
    {
     "data": {
      "text/html": [
       "0.224988521286629"
      ],
      "text/latex": [
       "0.224988521286629"
      ],
      "text/markdown": [
       "0.224988521286629"
      ],
      "text/plain": [
       "[1] 0.2249885"
      ]
     },
     "metadata": {},
     "output_type": "display_data"
    }
   ],
   "source": [
    "Acuracia_RF_teste_smote=mean(67.86,74.07,82.21,78.57,75) \n",
    "Acuracia_RF_teste_smote #67.86%\n",
    "Acuracia_DT_teste_smote=mean(64.29,62.96,75.86,85.71,71.43) \n",
    "Acuracia_DT_teste_smote #64.29%\n",
    "recall_RF_smote_ccl<- c(Metrics_smote_fold01[[17]],Metrics_smote_fold02[[17]],Metrics_smote_fold03[[17]],\n",
    "                     Metrics_smote_fold04[[17]],Metrics_smote_fold05[[17]])\n",
    "recall_DT_smote_ccl<- c(Metrics_smote_tree_fold01[[17]],Metrics_smote_tree_fold02[[17]],Metrics_smote_tree_fold03[[17]],\n",
    "                        Metrics_smote_tree_fold04[[17]],Metrics_smote_tree_fold05[[17]])\n",
    "F1_smote_RF_ccl<- c(Metrics_smote_fold01[[20]],Metrics_smote_fold02[[20]],Metrics_smote_fold03[[20]],\n",
    "                 Metrics_smote_fold04[[20]],Metrics_smote_fold05[[20]])\n",
    "F1_smote_DT_ccl<- c(Metrics_smote_tree_fold01[[20]],Metrics_smote_tree_fold02[[20]],Metrics_smote_tree_fold03[[20]],\n",
    "                 Metrics_smote_tree_fold04[[20]],Metrics_smote_tree_fold05[[20]])\n",
    "mean(recall_RF_smote_ccl,na.rm=T) #0.09\n",
    "sd(recall_RF_smote_ccl,na.rm=T) #0.1244\n",
    "mean(recall_DT_smote_ccl,na.rm=T) #0.14\n",
    "sd(recall_DT_smote_ccl,na.rm=T) #0.2190\n",
    "mean(F1_smote_RF_ccl,na.rm=T) #0.267\n",
    "sd(F1_smote_RF_ccl,na.rm=T) #0.094\n",
    "mean(F1_smote_DT_ccl,na.rm=T) #0.3409\n",
    "sd(F1_smote_DT_ccl,na.rm=T) #0.2249"
   ]
  },
  {
   "cell_type": "markdown",
   "metadata": {},
   "source": [
    "## ROSE "
   ]
  },
  {
   "cell_type": "markdown",
   "metadata": {},
   "source": [
    "### fold 1"
   ]
  },
  {
   "cell_type": "code",
   "execution_count": 49,
   "metadata": {
    "vscode": {
     "languageId": "r"
    }
   },
   "outputs": [
    {
     "name": "stderr",
     "output_type": "stream",
     "text": [
      "Loading required package: ROSE\n",
      "\n",
      "Loaded ROSE 0.0-4\n",
      "\n",
      "\n"
     ]
    },
    {
     "data": {
      "text/plain": [
       "\n",
       " 1  2 \n",
       "75 16 "
      ]
     },
     "metadata": {},
     "output_type": "display_data"
    },
    {
     "data": {
      "text/plain": [
       "\n",
       " 1  2 \n",
       "75 75 "
      ]
     },
     "metadata": {},
     "output_type": "display_data"
    },
    {
     "data": {
      "text/plain": [
       "\n",
       " 1  3 \n",
       "75 21 "
      ]
     },
     "metadata": {},
     "output_type": "display_data"
    },
    {
     "data": {
      "text/plain": [
       "\n",
       " 1  3 \n",
       "75 75 "
      ]
     },
     "metadata": {},
     "output_type": "display_data"
    },
    {
     "data": {
      "text/html": [
       "<style>\n",
       ".list-inline {list-style: none; margin:0; padding: 0}\n",
       ".list-inline>li {display: inline-block}\n",
       ".list-inline>li:not(:last-child)::after {content: \"\\00b7\"; padding: 0 .5ex}\n",
       "</style>\n",
       "<ol class=list-inline><li>225</li><li>22</li></ol>\n"
      ],
      "text/latex": [
       "\\begin{enumerate*}\n",
       "\\item 225\n",
       "\\item 22\n",
       "\\end{enumerate*}\n"
      ],
      "text/markdown": [
       "1. 225\n",
       "2. 22\n",
       "\n",
       "\n"
      ],
      "text/plain": [
       "[1] 225  22"
      ]
     },
     "metadata": {},
     "output_type": "display_data"
    },
    {
     "data": {
      "text/plain": [
       "\n",
       " 1  2  3 \n",
       "75 75 75 "
      ]
     },
     "metadata": {},
     "output_type": "display_data"
    }
   ],
   "source": [
    "#install.packages(\"ROSE\")\n",
    "require(ROSE)\n",
    "#sau e ccl\n",
    "train_fold01$Diagnosis<-as.numeric(train_fold01$Diagnosis)\n",
    "train_fold01_ccl<- train_fold01[train_fold01$Diagnosis!=\"3\",] #Apenas saudáveis e CCL\n",
    "table(train_fold01_ccl$Diagnosis) #(75,16)\n",
    "train_fold01_ccl$Diagnosis<- as.factor(train_fold01_ccl$Diagnosis)\n",
    "set.seed(111)\n",
    "train_fold01_augmented_rose<- ovun.sample(Diagnosis~.,data=train_fold01_ccl,method = \"over\",N=150)$data\n",
    "table(train_fold01_augmented_rose$Diagnosis) #(75,75)\n",
    "#Sau e DA\n",
    "train_fold01$Diagnosis<-as.numeric(train_fold01$Diagnosis)\n",
    "train_fold01_da<- train_fold01[train_fold01$Diagnosis!=\"2\",] #Apenas saudáveis e DA\n",
    "table(train_fold01_da$Diagnosis) #(75,21)\n",
    "train_fold01_da$Diagnosis<- as.factor(train_fold01_da$Diagnosis)\n",
    "set.seed(222)\n",
    "train_fold01_augmented_rose2<- ovun.sample(Diagnosis~.,data=train_fold01_da,method = \"over\",N=150)$data\n",
    "table(train_fold01_augmented_rose2$Diagnosis) #(75,75)\n",
    "#Unindo DA do fold01_treino_aumentado_rose2 com o fold01_treino_aumentado_rose\n",
    "train_fold01_augmented_rose2<- train_fold01_augmented_rose2[train_fold01_augmented_rose2$Diagnosis!=\"1\",]\n",
    "train_fold01_augmented_rose_final<- rbind(train_fold01_augmented_rose,train_fold01_augmented_rose2)\n",
    "dim(train_fold01_augmented_rose_final) #225 x 22\n",
    "table(train_fold01_augmented_rose_final$Diagnosis) #(75,75,75)"
   ]
  },
  {
   "cell_type": "code",
   "execution_count": 50,
   "metadata": {
    "vscode": {
     "languageId": "r"
    }
   },
   "outputs": [
    {
     "data": {
      "text/plain": [
       "\n",
       "Call:\n",
       " randomForest(formula = train_fold01_augmented_rose_final1$Diagnosis ~      ., data = train_fold01_augmented_rose_final1) \n",
       "               Type of random forest: classification\n",
       "                     Number of trees: 500\n",
       "No. of variables tried at each split: 3\n",
       "\n",
       "        OOB estimate of  error rate: 2.22%\n",
       "Confusion matrix:\n",
       "   1  2  3 class.error\n",
       "1 71  3  1  0.05333333\n",
       "2  1 74  0  0.01333333\n",
       "3  0  0 75  0.00000000"
      ]
     },
     "metadata": {},
     "output_type": "display_data"
    }
   ],
   "source": [
    "set.seed(333)\n",
    "train_fold01_augmented_rose_final1<- train_fold01_augmented_rose_final[,c(\"Diagnosis\",\"MMSE\",\n",
    "                                                                          \"IADL\",\"GSDT\",\"FMT_DT\",\"FMT_IT\",\"GSST\",\"TMTA\",\"STEP\",\"Age\")]\n",
    "rf_fold01_rose<- randomForest(train_fold01_augmented_rose_final1$Diagnosis~.,data = train_fold01_augmented_rose_final1) \n",
    "rf_fold01_rose\n",
    "#Acurácia=0.75% e Kappa=0.4717%\n",
    "#Validação do modelo1 - RF\n",
    "test_fold0111<- test_fold01[,c(\"Diagnosis\",\"MMSE\",\n",
    "                               \"IADL\",\"GSDT\",\"FMT_DT\",\"FMT_IT\",\"GSST\",\"TMTA\",\"STEP\",\"Age\")]\n",
    "prediction_rose_fold01<- predict(rf_fold01_rose,test_fold0111)\n",
    "Metrics_rose_fold01<- confusionMatrix(table(prediction_rose_fold01,test_fold0111$Diagnosis))$byClass #Recall e F1 (0 e Nan)\n",
    "Metrics_rose_fold01<- as.list(Metrics_rose_fold01)\n"
   ]
  },
  {
   "cell_type": "code",
   "execution_count": 51,
   "metadata": {
    "vscode": {
     "languageId": "r"
    }
   },
   "outputs": [],
   "source": [
    "set.seed(301)\n",
    "train_fold01_augmented_rose_final2<- train_fold01_augmented_rose_final[,c(\"Diagnosis\",\"MMSE\",\n",
    "                                                        \"IADL\",\"GSDT\",\"FMT_DT\",\"FMT_IT\",\"GSST\",\"TMTA\",\"Sex\",\"Age\")]\n",
    "tree_fold01_rose<- rpart(train_fold01_augmented_rose_final2$Diagnosis~.,data=train_fold01_augmented_rose_final2,method = \"class\")\n",
    "#Acurácia= 60.71% e Kappa= 29.36%\n",
    "test_fold0122<- test_fold01[,c(\"Diagnosis\",\"MMSE\",\n",
    "                              \"IADL\",\"GSDT\",\"FMT_DT\",\"FMT_IT\",\"GSST\",\"TMTA\",\"Sex\",\"Age\")]\n",
    "prediction_rose_tree_fold01<- predict(tree_fold01_rose,test_fold0122,type=\"class\")\n",
    "Metrics_rose_tree_fold01<- confusionMatrix(prediction_rose_tree_fold01,test_fold0122$Diagnosis)$byClass #Recall e F1 (0.2 e 0.1538)\n",
    "Metrics_rose_tree_fold01<- as.list(Metrics_rose_tree_fold01)"
   ]
  },
  {
   "cell_type": "markdown",
   "metadata": {},
   "source": [
    "### fold 2"
   ]
  },
  {
   "cell_type": "code",
   "execution_count": 52,
   "metadata": {
    "vscode": {
     "languageId": "r"
    }
   },
   "outputs": [
    {
     "data": {
      "text/plain": [
       "\n",
       " 1  2  3 \n",
       "75 17 21 "
      ]
     },
     "metadata": {},
     "output_type": "display_data"
    },
    {
     "data": {
      "text/plain": [
       "\n",
       " 1  2  3 \n",
       "18  4  5 "
      ]
     },
     "metadata": {},
     "output_type": "display_data"
    },
    {
     "data": {
      "text/plain": [
       "\n",
       " 1  2 \n",
       "75 17 "
      ]
     },
     "metadata": {},
     "output_type": "display_data"
    },
    {
     "data": {
      "text/plain": [
       "\n",
       " 1  2 \n",
       "75 75 "
      ]
     },
     "metadata": {},
     "output_type": "display_data"
    },
    {
     "data": {
      "text/plain": [
       "\n",
       " 1  3 \n",
       "75 21 "
      ]
     },
     "metadata": {},
     "output_type": "display_data"
    },
    {
     "data": {
      "text/plain": [
       "\n",
       " 1  3 \n",
       "75 75 "
      ]
     },
     "metadata": {},
     "output_type": "display_data"
    },
    {
     "data": {
      "text/html": [
       "<style>\n",
       ".list-inline {list-style: none; margin:0; padding: 0}\n",
       ".list-inline>li {display: inline-block}\n",
       ".list-inline>li:not(:last-child)::after {content: \"\\00b7\"; padding: 0 .5ex}\n",
       "</style>\n",
       "<ol class=list-inline><li>225</li><li>22</li></ol>\n"
      ],
      "text/latex": [
       "\\begin{enumerate*}\n",
       "\\item 225\n",
       "\\item 22\n",
       "\\end{enumerate*}\n"
      ],
      "text/markdown": [
       "1. 225\n",
       "2. 22\n",
       "\n",
       "\n"
      ],
      "text/plain": [
       "[1] 225  22"
      ]
     },
     "metadata": {},
     "output_type": "display_data"
    },
    {
     "data": {
      "text/plain": [
       "\n",
       " 1  2  3 \n",
       "75 75 75 "
      ]
     },
     "metadata": {},
     "output_type": "display_data"
    }
   ],
   "source": [
    "train_fold02<- data[train_folds$Fold2,]\n",
    "test_fold02<- data[-train_folds$Fold2,]\n",
    "table(train_fold02$Diagnosis)\n",
    "table(test_fold02$Diagnosis) \n",
    "\n",
    "train_fold02$Diagnosis<-as.numeric(train_fold02$Diagnosis)\n",
    "train_fold02_ccl<- train_fold02[train_fold02$Diagnosis!=\"3\",] #Apenas saudáveis e CCL\n",
    "table(train_fold02_ccl$Diagnosis) #(75,17)\n",
    "train_fold02_ccl$Diagnosis<- as.factor(train_fold02_ccl$Diagnosis)\n",
    "set.seed(11)\n",
    "train_fold02_augmented_rose<- ovun.sample(Diagnosis~.,data=train_fold02_ccl,method = \"over\",N=150)$data\n",
    "table(train_fold02_augmented_rose$Diagnosis) #(75,75)\n",
    "#Sau e DA\n",
    "train_fold02$Diagnosis<-as.numeric(train_fold02$Diagnosis)\n",
    "train_fold02_da<- train_fold02[train_fold02$Diagnosis!=\"2\",] #Apenas saudáveis e DA\n",
    "table(train_fold02_da$Diagnosis) #(75,21)\n",
    "train_fold02_da$Diagnosis<- as.factor(train_fold02_da$Diagnosis)\n",
    "set.seed(22)\n",
    "train_fold02_augmented_rose2<- ovun.sample(Diagnosis~.,data=train_fold02_da,method = \"over\",N=150)$data\n",
    "table(train_fold02_augmented_rose2$Diagnosis) #(75,75)\n",
    "#Unindo DA do fold02_treino_aumentado_rose2 com o fold02_treino_aumentado_rose\n",
    "train_fold02_augmented_rose2<- train_fold02_augmented_rose2[train_fold02_augmented_rose2$Diagnosis!=\"1\",]\n",
    "train_fold02_augmented_rose_final<- rbind(train_fold02_augmented_rose,train_fold02_augmented_rose2)\n",
    "dim(train_fold02_augmented_rose_final)\n",
    "table(train_fold02_augmented_rose_final$Diagnosis) #(75,75,75)"
   ]
  },
  {
   "cell_type": "code",
   "execution_count": 53,
   "metadata": {
    "vscode": {
     "languageId": "r"
    }
   },
   "outputs": [
    {
     "data": {
      "text/plain": [
       "\n",
       "Call:\n",
       " randomForest(formula = train_fold02_augmented_rose_final1$Diagnosis ~      ., data = train_fold02_augmented_rose_final1) \n",
       "               Type of random forest: classification\n",
       "                     Number of trees: 500\n",
       "No. of variables tried at each split: 3\n",
       "\n",
       "        OOB estimate of  error rate: 3.11%\n",
       "Confusion matrix:\n",
       "   1  2  3 class.error\n",
       "1 70  4  1  0.06666667\n",
       "2  0 73  2  0.02666667\n",
       "3  0  0 75  0.00000000"
      ]
     },
     "metadata": {},
     "output_type": "display_data"
    }
   ],
   "source": [
    "train_fold02_augmented_rose_final1<- train_fold02_augmented_rose_final[,c(\"Diagnosis\",\"MMSE\",\n",
    "                                                                          \"IADL\",\"GSDT\",\"FMT_DT\",\"FMT_IT\",\"GSST\",\"TMTA\",\"STEP\",\"Age\")]\n",
    "set.seed(33)\n",
    "rf_fold02_rose<- randomForest(train_fold02_augmented_rose_final1$Diagnosis~.,data = train_fold02_augmented_rose_final1) \n",
    "rf_fold02_rose \n",
    "#Acurácia= 74.07% e Kappa= 41.3%\n",
    "#Validação do modelo2\n",
    "test_fold0211<- test_fold02[,c(\"Diagnosis\",\"MMSE\",\n",
    "                               \"IADL\",\"GSDT\",\"FMT_DT\",\"FMT_IT\",\"GSST\",\"TMTA\",\"STEP\",\"Age\")]\n",
    "prediction_rose_fold02<- predict(rf_fold02_rose,test_fold0211)\n",
    "Metrics_rose_fold02<- confusionMatrix(table(prediction_rose_fold02,test_fold0211$Diagnosis))$byClass #Recall e F1 (0 e Nan)\n",
    "Metrics_rose_fold02<- as.list(Metrics_rose_fold02)"
   ]
  },
  {
   "cell_type": "code",
   "execution_count": 54,
   "metadata": {
    "vscode": {
     "languageId": "r"
    }
   },
   "outputs": [],
   "source": [
    "set.seed(301)\n",
    "train_fold02_augmented_rose_final2<- train_fold02_augmented_rose_final[,c(\"Diagnosis\",\"MMSE\",\n",
    "                                                                          \"IADL\",\"GSDT\",\"FMT_DT\",\"FMT_IT\",\"GSST\",\"TMTA\",\"Sex\",\"Age\")]\n",
    "tree_fold02_rose<- rpart(train_fold02_augmented_rose_final2$Diagnosis~.,data=train_fold02_augmented_rose_final2,method = \"class\")\n",
    "#Acurácia= 70.37% e Kappa= 30.32%\n",
    "test_fold0222<- test_fold02[,c(\"Diagnosis\",\"MMSE\",\n",
    "                               \"IADL\",\"GSDT\",\"FMT_DT\",\"FMT_IT\",\"GSST\",\"TMTA\",\"Sex\",\"Age\")]\n",
    "prediction_rose_tree_fold02<- predict(tree_fold02_rose,test_fold0222,type=\"class\")\n",
    "Metrics_rose_tree_fold02<- confusionMatrix(prediction_rose_tree_fold02,test_fold0222$Diagnosis)$byClass #Recall e F1 (0 e Nan)\n",
    "Metrics_rose_tree_fold02<- as.list(Metrics_rose_tree_fold02)"
   ]
  },
  {
   "cell_type": "markdown",
   "metadata": {},
   "source": [
    "### fold 3"
   ]
  },
  {
   "cell_type": "code",
   "execution_count": 55,
   "metadata": {
    "vscode": {
     "languageId": "r"
    }
   },
   "outputs": [
    {
     "data": {
      "text/plain": [
       "\n",
       " 1  2  3 \n",
       "74 17 20 "
      ]
     },
     "metadata": {},
     "output_type": "display_data"
    },
    {
     "data": {
      "text/plain": [
       "\n",
       " 1  2  3 \n",
       "19  4  6 "
      ]
     },
     "metadata": {},
     "output_type": "display_data"
    },
    {
     "data": {
      "text/plain": [
       "\n",
       " 1  2 \n",
       "74 17 "
      ]
     },
     "metadata": {},
     "output_type": "display_data"
    },
    {
     "data": {
      "text/plain": [
       "\n",
       " 1  2 \n",
       "74 74 "
      ]
     },
     "metadata": {},
     "output_type": "display_data"
    },
    {
     "data": {
      "text/plain": [
       "\n",
       " 1  3 \n",
       "74 20 "
      ]
     },
     "metadata": {},
     "output_type": "display_data"
    },
    {
     "data": {
      "text/plain": [
       "\n",
       " 1  3 \n",
       "74 74 "
      ]
     },
     "metadata": {},
     "output_type": "display_data"
    },
    {
     "data": {
      "text/html": [
       "<style>\n",
       ".list-inline {list-style: none; margin:0; padding: 0}\n",
       ".list-inline>li {display: inline-block}\n",
       ".list-inline>li:not(:last-child)::after {content: \"\\00b7\"; padding: 0 .5ex}\n",
       "</style>\n",
       "<ol class=list-inline><li>222</li><li>22</li></ol>\n"
      ],
      "text/latex": [
       "\\begin{enumerate*}\n",
       "\\item 222\n",
       "\\item 22\n",
       "\\end{enumerate*}\n"
      ],
      "text/markdown": [
       "1. 222\n",
       "2. 22\n",
       "\n",
       "\n"
      ],
      "text/plain": [
       "[1] 222  22"
      ]
     },
     "metadata": {},
     "output_type": "display_data"
    },
    {
     "data": {
      "text/plain": [
       "\n",
       " 1  2  3 \n",
       "74 74 74 "
      ]
     },
     "metadata": {},
     "output_type": "display_data"
    }
   ],
   "source": [
    "train_fold03<- data[train_folds$Fold3,]\n",
    "test_fold03<- data[-train_folds$Fold3,]\n",
    "table(train_fold03$Diagnosis)\n",
    "table(test_fold03$Diagnosis)\n",
    "\n",
    "train_fold03$Diagnosis<-as.numeric(train_fold03$Diagnosis)\n",
    "train_fold03_ccl<- train_fold03[train_fold03$Diagnosis!=\"3\",] #Apenas saudáveis e CCL\n",
    "table(train_fold03_ccl$Diagnosis) #(74,17)\n",
    "train_fold03_ccl$Diagnosis<- as.factor(train_fold03_ccl$Diagnosis)\n",
    "set.seed(1)\n",
    "train_fold03_augmented_rose<- ovun.sample(Diagnosis~.,data=train_fold03_ccl,method = \"over\",N=148)$data\n",
    "table(train_fold03_augmented_rose$Diagnosis) #(74,74)\n",
    "#Sau e DA\n",
    "train_fold03$Diagnosis<-as.numeric(train_fold03$Diagnosis)\n",
    "train_fold03_da<- train_fold03[train_fold03$Diagnosis!=\"2\",] #Apenas saudáveis e DA\n",
    "table(train_fold03_da$Diagnosis) #(74,20)\n",
    "train_fold03_da$Diagnosis<- as.factor(train_fold03_da$Diagnosis)\n",
    "set.seed(2)\n",
    "train_fold03_augmented_rose2<- ovun.sample(Diagnosis~.,data=train_fold03_da,method = \"over\",N=148)$data\n",
    "table(train_fold03_augmented_rose2$Diagnosis) #(74,74)\n",
    "#Unindo DA do fold03_treino_aumentado_rose2 com o fold03_treino_aumentado_rose\n",
    "train_fold03_augmented_rose2<- train_fold03_augmented_rose2[train_fold03_augmented_rose2$Diagnosis!=\"1\",]\n",
    "train_fold03_augmented_rose_final<- rbind(train_fold03_augmented_rose,train_fold03_augmented_rose2)\n",
    "dim(train_fold03_augmented_rose_final)\n",
    "table(train_fold03_augmented_rose_final$Diagnosis) #(74,74,74)"
   ]
  },
  {
   "cell_type": "code",
   "execution_count": 56,
   "metadata": {
    "vscode": {
     "languageId": "r"
    }
   },
   "outputs": [
    {
     "data": {
      "text/plain": [
       "\n",
       "Call:\n",
       " randomForest(formula = train_fold03_augmented_rose_final1$Diagnosis ~      ., data = train_fold03_augmented_rose_final1) \n",
       "               Type of random forest: classification\n",
       "                     Number of trees: 500\n",
       "No. of variables tried at each split: 3\n",
       "\n",
       "        OOB estimate of  error rate: 3.15%\n",
       "Confusion matrix:\n",
       "   1  2  3 class.error\n",
       "1 68  3  3  0.08108108\n",
       "2  1 73  0  0.01351351\n",
       "3  0  0 74  0.00000000"
      ]
     },
     "metadata": {},
     "output_type": "display_data"
    }
   ],
   "source": [
    "train_fold03_augmented_rose_final1<- train_fold03_augmented_rose_final[,c(\"Diagnosis\",\"MMSE\",\n",
    "                                                                          \"IADL\",\"GSDT\",\"FMT_DT\",\"FMT_IT\",\"GSST\",\"TMTA\",\"STEP\",\"Age\")]\n",
    "set.seed(1)\n",
    "rf_fold03_rose<- randomForest(train_fold03_augmented_rose_final1$Diagnosis~.,data = train_fold03_augmented_rose_final1) \n",
    "rf_fold03_rose \n",
    "#Acurácia= 86.21% e Kappa= 69.71%\n",
    "#Validação do modelo3\n",
    "test_fold0311<- test_fold03[,c(\"Diagnosis\",\"MMSE\",\n",
    "                               \"IADL\",\"GSDT\",\"FMT_DT\",\"FMT_IT\",\"GSST\",\"TMTA\",\"STEP\",\"Age\")]\n",
    "prediction_rose_fold03<- predict(rf_fold03_rose,test_fold0311)\n",
    "Metrics_rose_fold03<- confusionMatrix(table(prediction_rose_fold03,test_fold0311$Diagnosis))$byClass #Recall e F1 (0.25 e 0.4)\n",
    "Metrics_rose_fold03<- as.list(Metrics_rose_fold03)"
   ]
  },
  {
   "cell_type": "code",
   "execution_count": 57,
   "metadata": {
    "vscode": {
     "languageId": "r"
    }
   },
   "outputs": [],
   "source": [
    "set.seed(301)\n",
    "train_fold03_augmented_rose_final2<- train_fold03_augmented_rose_final[,c(\"Diagnosis\",\"MMSE\",\n",
    "                                                                          \"IADL\",\"GSDT\",\"FMT_DT\",\"FMT_IT\",\"GSST\",\"TMTA\",\"Sex\",\"Age\")]\n",
    "tree_fold03_rose<- rpart(train_fold03_augmented_rose_final2$Diagnosis~.,data=train_fold03_augmented_rose_final2,method = \"class\")\n",
    "#Acurácia= 72.41% e Kappa= 52.07%\n",
    "test_fold0322<- test_fold03[,c(\"Diagnosis\",\"MMSE\",\n",
    "                               \"IADL\",\"GSDT\",\"FMT_DT\",\"FMT_IT\",\"GSST\",\"TMTA\",\"Sex\",\"Age\")]\n",
    "prediction_rose_tree_fold03<- predict(tree_fold03_rose,test_fold0322,type=\"class\")\n",
    "Metrics_rose_tree_fold03<- confusionMatrix(prediction_rose_tree_fold03,test_fold0322$Diagnosis)$byClass #Recall e F1 (0.25 e 0.2)\n",
    "Metrics_rose_tree_fold03<- as.list(Metrics_rose_tree_fold03)"
   ]
  },
  {
   "cell_type": "markdown",
   "metadata": {},
   "source": [
    "### fold 4"
   ]
  },
  {
   "cell_type": "code",
   "execution_count": 58,
   "metadata": {
    "vscode": {
     "languageId": "r"
    }
   },
   "outputs": [
    {
     "data": {
      "text/plain": [
       "\n",
       " 1  2  3 \n",
       "74 17 21 "
      ]
     },
     "metadata": {},
     "output_type": "display_data"
    },
    {
     "data": {
      "text/plain": [
       "\n",
       " 1  2  3 \n",
       "19  4  5 "
      ]
     },
     "metadata": {},
     "output_type": "display_data"
    },
    {
     "data": {
      "text/plain": [
       "\n",
       " 1  2 \n",
       "74 17 "
      ]
     },
     "metadata": {},
     "output_type": "display_data"
    },
    {
     "data": {
      "text/plain": [
       "\n",
       " 1  2 \n",
       "74 74 "
      ]
     },
     "metadata": {},
     "output_type": "display_data"
    },
    {
     "data": {
      "text/plain": [
       "\n",
       " 1  3 \n",
       "74 21 "
      ]
     },
     "metadata": {},
     "output_type": "display_data"
    },
    {
     "data": {
      "text/plain": [
       "\n",
       " 1  3 \n",
       "74 74 "
      ]
     },
     "metadata": {},
     "output_type": "display_data"
    },
    {
     "data": {
      "text/html": [
       "<style>\n",
       ".list-inline {list-style: none; margin:0; padding: 0}\n",
       ".list-inline>li {display: inline-block}\n",
       ".list-inline>li:not(:last-child)::after {content: \"\\00b7\"; padding: 0 .5ex}\n",
       "</style>\n",
       "<ol class=list-inline><li>222</li><li>22</li></ol>\n"
      ],
      "text/latex": [
       "\\begin{enumerate*}\n",
       "\\item 222\n",
       "\\item 22\n",
       "\\end{enumerate*}\n"
      ],
      "text/markdown": [
       "1. 222\n",
       "2. 22\n",
       "\n",
       "\n"
      ],
      "text/plain": [
       "[1] 222  22"
      ]
     },
     "metadata": {},
     "output_type": "display_data"
    },
    {
     "data": {
      "text/plain": [
       "\n",
       " 1  2  3 \n",
       "74 74 74 "
      ]
     },
     "metadata": {},
     "output_type": "display_data"
    }
   ],
   "source": [
    "train_fold04<- data[train_folds$Fold4,]\n",
    "test_fold04<- data[-train_folds$Fold4,]\n",
    "table(train_fold04$Diagnosis)\n",
    "table(test_fold04$Diagnosis)\n",
    "\n",
    "train_fold04$Diagnosis<-as.numeric(train_fold04$Diagnosis)\n",
    "train_fold04_ccl<- train_fold04[train_fold04$Diagnosis!=\"3\",] #Apenas saudáveis e CCL\n",
    "table(train_fold04_ccl$Diagnosis) #(74,17)\n",
    "train_fold04_ccl$Diagnosis<- as.factor(train_fold04_ccl$Diagnosis)\n",
    "set.seed(1111)\n",
    "train_fold04_augmented_rose<- ovun.sample(Diagnosis~.,data=train_fold04_ccl,method = \"over\",N=148)$data\n",
    "table(train_fold04_augmented_rose$Diagnosis) #(74,74)\n",
    "#Sau e DA\n",
    "train_fold04$Diagnosis<-as.numeric(train_fold04$Diagnosis)\n",
    "train_fold04_da<- train_fold04[train_fold04$Diagnosis!=\"2\",] #Apenas saudáveis e DA\n",
    "table(train_fold04_da$Diagnosis) #(74,21)\n",
    "train_fold04_da$Diagnosis<- as.factor(train_fold04_da$Diagnosis)\n",
    "set.seed(2222)\n",
    "train_fold04_augmented_rose2<- ovun.sample(Diagnosis~.,data=train_fold04_da,method = \"over\",N=148)$data\n",
    "table(train_fold04_augmented_rose2$Diagnosis) #(74,74)\n",
    "#Unindo DA do fold04_treino_aumentado_rose2 com o fold04_treino_aumentado_rose\n",
    "train_fold04_augmented_rose2<- train_fold04_augmented_rose2[train_fold04_augmented_rose2$Diagnosis!=\"1\",]\n",
    "train_fold04_augmented_rose_final<- rbind(train_fold04_augmented_rose,train_fold04_augmented_rose2)\n",
    "dim(train_fold04_augmented_rose_final)\n",
    "table(train_fold04_augmented_rose_final$Diagnosis) #(74,74,74)"
   ]
  },
  {
   "cell_type": "code",
   "execution_count": 59,
   "metadata": {
    "vscode": {
     "languageId": "r"
    }
   },
   "outputs": [
    {
     "data": {
      "text/plain": [
       "\n",
       "Call:\n",
       " randomForest(formula = train_fold04_augmented_rose_final1$Diagnosis ~      ., data = train_fold04_augmented_rose_final1) \n",
       "               Type of random forest: classification\n",
       "                     Number of trees: 500\n",
       "No. of variables tried at each split: 3\n",
       "\n",
       "        OOB estimate of  error rate: 3.6%\n",
       "Confusion matrix:\n",
       "   1  2  3 class.error\n",
       "1 67  5  2  0.09459459\n",
       "2  1 73  0  0.01351351\n",
       "3  0  0 74  0.00000000"
      ]
     },
     "metadata": {},
     "output_type": "display_data"
    }
   ],
   "source": [
    "train_fold04_augmented_rose_final1<- train_fold04_augmented_rose_final[,c(\"Diagnosis\",\"MMSE\",\n",
    "                                                                          \"IADL\",\"GSDT\",\"FMT_DT\",\"FMT_IT\",\"GSST\",\"TMTA\",\"STEP\",\"Age\")]\n",
    "set.seed(3333)\n",
    "rf_fold04_rose<- randomForest(train_fold04_augmented_rose_final1$Diagnosis~.,data = train_fold04_augmented_rose_final1) \n",
    "rf_fold04_rose \n",
    "#Acurácia= 85.71% e Kappa= 66.77%\n",
    "#Validação do modelo4\n",
    "test_fold0411<- test_fold04[,c(\"Diagnosis\",\"MMSE\",\n",
    "                               \"IADL\",\"GSDT\",\"FMT_DT\",\"FMT_IT\",\"GSST\",\"TMTA\",\"STEP\",\"Age\")]\n",
    "prediction_rose_fold04<- predict(rf_fold04_rose,test_fold0411)\n",
    "Metrics_rose_fold04<- confusionMatrix(table(prediction_rose_fold04,test_fold0411$Diagnosis))$byClass #Recall e F1 (0.25 e 0.4)\n",
    "Metrics_rose_fold04<- as.list(Metrics_rose_fold04)"
   ]
  },
  {
   "cell_type": "code",
   "execution_count": 60,
   "metadata": {
    "vscode": {
     "languageId": "r"
    }
   },
   "outputs": [],
   "source": [
    "train_fold04_augmented_rose_final2<- train_fold04_augmented_rose_final[,c(\"Diagnosis\",\"MMSE\",\n",
    "                                                                          \"IADL\",\"GSDT\",\"FMT_DT\",\"FMT_IT\",\"GSST\",\"TMTA\",\"Sex\",\"Age\")]\n",
    "tree_fold04_rose<- rpart(train_fold04_augmented_rose_final2$Diagnosis~.,data=train_fold04_augmented_rose_final2,method = \"class\")\n",
    "#Acurácia= 71.43% e Kappa= 43.72%\n",
    "test_fold0422<- test_fold04[,c(\"Diagnosis\",\"MMSE\",\n",
    "                               \"IADL\",\"GSDT\",\"FMT_DT\",\"FMT_IT\",\"GSST\",\"TMTA\",\"Sex\",\"Age\")]\n",
    "prediction_rose_tree_fold04<- predict(tree_fold04_rose,test_fold0422,type=\"class\")\n",
    "Metrics_rose_tree_fold04<- confusionMatrix(prediction_rose_tree_fold04,test_fold0422$Diagnosis)$byClass #Recall e F1 (0.25 e 0.2)\n",
    "Metrics_rose_tree_fold04<- as.list(Metrics_rose_tree_fold04)"
   ]
  },
  {
   "cell_type": "markdown",
   "metadata": {},
   "source": [
    "### fold 5"
   ]
  },
  {
   "cell_type": "code",
   "execution_count": 61,
   "metadata": {
    "vscode": {
     "languageId": "r"
    }
   },
   "outputs": [
    {
     "data": {
      "text/plain": [
       "\n",
       " 1  2  3 \n",
       "74 17 21 "
      ]
     },
     "metadata": {},
     "output_type": "display_data"
    },
    {
     "data": {
      "text/plain": [
       "\n",
       " 1  2  3 \n",
       "19  4  5 "
      ]
     },
     "metadata": {},
     "output_type": "display_data"
    },
    {
     "data": {
      "text/plain": [
       "\n",
       " 1  2 \n",
       "74 17 "
      ]
     },
     "metadata": {},
     "output_type": "display_data"
    },
    {
     "data": {
      "text/plain": [
       "\n",
       " 1  2 \n",
       "74 74 "
      ]
     },
     "metadata": {},
     "output_type": "display_data"
    },
    {
     "data": {
      "text/plain": [
       "\n",
       " 1  3 \n",
       "74 21 "
      ]
     },
     "metadata": {},
     "output_type": "display_data"
    },
    {
     "data": {
      "text/plain": [
       "\n",
       " 1  3 \n",
       "74 74 "
      ]
     },
     "metadata": {},
     "output_type": "display_data"
    },
    {
     "data": {
      "text/html": [
       "<style>\n",
       ".list-inline {list-style: none; margin:0; padding: 0}\n",
       ".list-inline>li {display: inline-block}\n",
       ".list-inline>li:not(:last-child)::after {content: \"\\00b7\"; padding: 0 .5ex}\n",
       "</style>\n",
       "<ol class=list-inline><li>222</li><li>22</li></ol>\n"
      ],
      "text/latex": [
       "\\begin{enumerate*}\n",
       "\\item 222\n",
       "\\item 22\n",
       "\\end{enumerate*}\n"
      ],
      "text/markdown": [
       "1. 222\n",
       "2. 22\n",
       "\n",
       "\n"
      ],
      "text/plain": [
       "[1] 222  22"
      ]
     },
     "metadata": {},
     "output_type": "display_data"
    },
    {
     "data": {
      "text/plain": [
       "\n",
       " 1  2  3 \n",
       "74 74 74 "
      ]
     },
     "metadata": {},
     "output_type": "display_data"
    }
   ],
   "source": [
    "train_fold05<- data[train_folds$Fold5,]\n",
    "test_fold05<- data[-train_folds$Fold5,]\n",
    "table(train_fold05$Diagnosis)\n",
    "table(test_fold05$Diagnosis)\n",
    "\n",
    "train_fold05$Diagnosis<-as.numeric(train_fold05$Diagnosis)\n",
    "train_fold05_ccl<- train_fold05[train_fold05$Diagnosis!=\"3\",] #Apenas saudáveis e CCL\n",
    "table(train_fold05_ccl$Diagnosis) #(74,17)\n",
    "train_fold05_ccl$Diagnosis<- as.factor(train_fold05_ccl$Diagnosis)\n",
    "set.seed(11111)\n",
    "train_fold05_augmented_rose<- ovun.sample(Diagnosis~.,data=train_fold05_ccl,method = \"over\",N=148)$data\n",
    "table(train_fold05_augmented_rose$Diagnosis) #(74,74)\n",
    "#Sau e DA\n",
    "train_fold05$Diagnosis<-as.numeric(train_fold05$Diagnosis)\n",
    "train_fold05_da<- train_fold05[train_fold05$Diagnosis!=\"2\",] #Apenas saudáveis e DA\n",
    "table(train_fold05_da$Diagnosis) #(74,21)\n",
    "train_fold05_da$Diagnosis<- as.factor(train_fold05_da$Diagnosis)\n",
    "set.seed(22222)\n",
    "train_fold05_augmented_rose2<- ovun.sample(Diagnosis~.,data=train_fold05_da,method = \"over\",N=148)$data\n",
    "table(train_fold05_augmented_rose2$Diagnosis) #(74,74)\n",
    "#Unindo DA do fold05_treino_aumentado_rose2 com o fold05_treino_aumentado_rose\n",
    "train_fold05_augmented_rose2<- train_fold05_augmented_rose2[train_fold05_augmented_rose2$Diagnosis!=\"1\",]\n",
    "train_fold05_augmented_rose_final<- rbind(train_fold05_augmented_rose,train_fold05_augmented_rose2)\n",
    "dim(train_fold05_augmented_rose_final)\n",
    "table(train_fold05_augmented_rose_final$Diagnosis) #(74,74,74)"
   ]
  },
  {
   "cell_type": "code",
   "execution_count": 62,
   "metadata": {
    "vscode": {
     "languageId": "r"
    }
   },
   "outputs": [
    {
     "data": {
      "text/plain": [
       "\n",
       "Call:\n",
       " randomForest(formula = train_fold05_augmented_rose_final1$Diagnosis ~      ., data = train_fold05_augmented_rose_final1) \n",
       "               Type of random forest: classification\n",
       "                     Number of trees: 500\n",
       "No. of variables tried at each split: 3\n",
       "\n",
       "        OOB estimate of  error rate: 3.6%\n",
       "Confusion matrix:\n",
       "   1  2  3 class.error\n",
       "1 66  7  1   0.1081081\n",
       "2  0 74  0   0.0000000\n",
       "3  0  0 74   0.0000000"
      ]
     },
     "metadata": {},
     "output_type": "display_data"
    }
   ],
   "source": [
    "train_fold05_augmented_rose_final1<- train_fold05_augmented_rose_final[,c(\"Diagnosis\",\"MMSE\",\n",
    "                                                                          \"IADL\",\"GSDT\",\"FMT_DT\",\"FMT_IT\",\"GSST\",\"TMTA\",\"STEP\",\"Age\")]\n",
    "set.seed(33333)\n",
    "rf_fold05_rose<- randomForest(train_fold05_augmented_rose_final1$Diagnosis~.,data = train_fold05_augmented_rose_final1) \n",
    "rf_fold05_rose \n",
    "#Acurácia= 78.57% e Kappa= 52.27%\n",
    "#Validação do modelo5\n",
    "test_fold0511<- test_fold05[,c(\"Diagnosis\",\"MMSE\",\n",
    "                               \"IADL\",\"GSDT\",\"FMT_DT\",\"FMT_IT\",\"GSST\",\"TMTA\",\"STEP\",\"Age\")]\n",
    "prediction_rose_fold05<- predict(rf_fold05_rose,test_fold0511)\n",
    "Metrics_rose_fold05<- confusionMatrix(table(prediction_rose_fold05,test_fold0511$Diagnosis))$byClass #Recall e F1 (0 e Nan)\n",
    "Metrics_rose_fold05<- as.list(Metrics_rose_fold05)"
   ]
  },
  {
   "cell_type": "code",
   "execution_count": 63,
   "metadata": {
    "vscode": {
     "languageId": "r"
    }
   },
   "outputs": [],
   "source": [
    "set.seed(301)\n",
    "train_fold05_augmented_rose_final2<- train_fold05_augmented_rose_final[,c(\"Diagnosis\",\"MMSE\",\n",
    "                                                                          \"IADL\",\"GSDT\",\"FMT_DT\",\"FMT_IT\",\"GSST\",\"TMTA\",\"Sex\",\"Age\")]\n",
    "tree_fold05_rose<- rpart(train_fold05_augmented_rose_final2$Diagnosis~.,data=train_fold05_augmented_rose_final2,method = \"class\")\n",
    "#Acurácia= 60.71% e Kappa= 27.87%\n",
    "test_fold0522<- test_fold05[,c(\"Diagnosis\",\"MMSE\",\n",
    "                               \"IADL\",\"GSDT\",\"FMT_DT\",\"FMT_IT\",\"GSST\",\"TMTA\",\"Sex\",\"Age\")]\n",
    "prediction_rose_tree_fold05<- predict(tree_fold05_rose,test_fold0522,type=\"class\")\n",
    "Metrics_rose_tree_fold05<- confusionMatrix(prediction_rose_tree_fold05,test_fold0522$Diagnosis)$byClass #Recall e F1 (0 e Nan)\n",
    "Metrics_rose_tree_fold05<- as.list(Metrics_rose_tree_fold05)"
   ]
  },
  {
   "cell_type": "markdown",
   "metadata": {},
   "source": [
    "### Métricas de interesse (dados aumentados - rose)"
   ]
  },
  {
   "cell_type": "code",
   "execution_count": 64,
   "metadata": {
    "vscode": {
     "languageId": "r"
    }
   },
   "outputs": [
    {
     "data": {
      "text/html": [
       "75"
      ],
      "text/latex": [
       "75"
      ],
      "text/markdown": [
       "75"
      ],
      "text/plain": [
       "[1] 75"
      ]
     },
     "metadata": {},
     "output_type": "display_data"
    },
    {
     "data": {
      "text/html": [
       "60.71"
      ],
      "text/latex": [
       "60.71"
      ],
      "text/markdown": [
       "60.71"
      ],
      "text/plain": [
       "[1] 60.71"
      ]
     },
     "metadata": {},
     "output_type": "display_data"
    },
    {
     "data": {
      "text/html": [
       "0.1"
      ],
      "text/latex": [
       "0.1"
      ],
      "text/markdown": [
       "0.1"
      ],
      "text/plain": [
       "[1] 0.1"
      ]
     },
     "metadata": {},
     "output_type": "display_data"
    },
    {
     "data": {
      "text/html": [
       "0.136930639376292"
      ],
      "text/latex": [
       "0.136930639376292"
      ],
      "text/markdown": [
       "0.136930639376292"
      ],
      "text/plain": [
       "[1] 0.1369306"
      ]
     },
     "metadata": {},
     "output_type": "display_data"
    },
    {
     "data": {
      "text/html": [
       "0.14"
      ],
      "text/latex": [
       "0.14"
      ],
      "text/markdown": [
       "0.14"
      ],
      "text/plain": [
       "[1] 0.14"
      ]
     },
     "metadata": {},
     "output_type": "display_data"
    },
    {
     "data": {
      "text/html": [
       "0.129421791055448"
      ],
      "text/latex": [
       "0.129421791055448"
      ],
      "text/markdown": [
       "0.129421791055448"
      ],
      "text/plain": [
       "[1] 0.1294218"
      ]
     },
     "metadata": {},
     "output_type": "display_data"
    },
    {
     "data": {
      "text/html": [
       "0.4"
      ],
      "text/latex": [
       "0.4"
      ],
      "text/markdown": [
       "0.4"
      ],
      "text/plain": [
       "[1] 0.4"
      ]
     },
     "metadata": {},
     "output_type": "display_data"
    },
    {
     "data": {
      "text/html": [
       "0"
      ],
      "text/latex": [
       "0"
      ],
      "text/markdown": [
       "0"
      ],
      "text/plain": [
       "[1] 0"
      ]
     },
     "metadata": {},
     "output_type": "display_data"
    },
    {
     "data": {
      "text/html": [
       "0.184615384615385"
      ],
      "text/latex": [
       "0.184615384615385"
      ],
      "text/markdown": [
       "0.184615384615385"
      ],
      "text/plain": [
       "[1] 0.1846154"
      ]
     },
     "metadata": {},
     "output_type": "display_data"
    },
    {
     "data": {
      "text/html": [
       "0.0266469355010597"
      ],
      "text/latex": [
       "0.0266469355010597"
      ],
      "text/markdown": [
       "0.0266469355010597"
      ],
      "text/plain": [
       "[1] 0.02664694"
      ]
     },
     "metadata": {},
     "output_type": "display_data"
    }
   ],
   "source": [
    "Acuracia_RF_teste_rose= mean(75,74.07,86.21,85.71,78.57) \n",
    "Acuracia_RF_teste_rose #75\n",
    "Acuracia_DT_teste_rose= mean(60.71,70.37,72.41,71.43,60.71) \n",
    "Acuracia_DT_teste_rose #60.71\n",
    "recall_rose_RF_ccl<-c(Metrics_rose_fold01[[17]],Metrics_rose_fold02[[17]],Metrics_rose_fold03[[17]],\n",
    "                   Metrics_rose_fold04[[17]],Metrics_rose_fold05[[17]])\n",
    "recall_rose_DT_ccl<-c(Metrics_rose_tree_fold01[[17]],Metrics_rose_tree_fold02[[17]],Metrics_rose_tree_fold03[[17]],\n",
    "                      Metrics_rose_tree_fold04[[17]],Metrics_rose_tree_fold05[[17]])\n",
    "F1_rose_RF_ccl<- c(Metrics_rose_fold01[[20]],Metrics_rose_fold02[[20]],Metrics_rose_fold03[[20]],\n",
    "                Metrics_rose_fold04[[20]],Metrics_rose_fold05[[20]])\n",
    "F1_rose_DT_ccl<- c(Metrics_rose_tree_fold01[[20]],Metrics_rose_tree_fold02[[20]],Metrics_rose_tree_fold03[[20]],\n",
    "                   Metrics_rose_tree_fold04[[20]],Metrics_rose_tree_fold05[[20]])\n",
    "mean(recall_rose_RF_ccl,na.rm=T) #0.1\n",
    "sd(recall_rose_RF_ccl,na.rm=T) #0.1369\n",
    "mean(recall_rose_DT_ccl,na.rm=T) #0.14\n",
    "sd(recall_rose_DT_ccl,na.rm=T) #0.1294\n",
    "mean(F1_rose_RF_ccl,na.rm=T) #0.4\n",
    "sd(F1_rose_RF_ccl,na.rm=T) #0\n",
    "mean(F1_rose_DT_ccl,na.rm=T) #0.1846\n",
    "sd(F1_rose_DT_ccl,na.rm=T) #0.0266"
   ]
  },
  {
   "cell_type": "markdown",
   "metadata": {},
   "source": [
    "## AUGMENTER"
   ]
  },
  {
   "cell_type": "markdown",
   "metadata": {},
   "source": [
    "### fold 1"
   ]
  },
  {
   "cell_type": "code",
   "execution_count": 33,
   "metadata": {
    "vscode": {
     "languageId": "r"
    }
   },
   "outputs": [
    {
     "name": "stderr",
     "output_type": "stream",
     "text": [
      "Loading required package: AugmenterR\n",
      "\n",
      "Warning message:\n",
      "\"package 'AugmenterR' was built under R version 3.6.3\"\n"
     ]
    },
    {
     "name": "stdout",
     "output_type": "stream",
     "text": [
      "'data.frame':\t112 obs. of  22 variables:\n",
      " $ Diagnosis  : num  1 1 1 1 1 1 2 3 1 1 ...\n",
      " $ Age        : num  69.3 68.5 61.8 71.4 71.3 ...\n",
      " $ Sex        : num  1 1 1 1 2 1 1 2 1 1 ...\n",
      " $ Comorbidity: num  2 2 5 2 2 1 2 1 4 1 ...\n",
      " $ Scholarity : num  3 4 4 2 1 4 4 4 4 3 ...\n",
      " $ IADL       : num  1 1 1 1 1 1 1 2 1 1 ...\n",
      " $ BBS        : num  56 56 56 56 56 56 55 55 55 56 ...\n",
      " $ STS        : num  10 11 15 18 16 11 15 17 12 12 ...\n",
      " $ HG         : num  23.5 27.9 21.7 23.7 35.3 19.7 25.1 36 28.8 25.7 ...\n",
      " $ GSST       : num  1 1.02 1.18 1.1 1.48 ...\n",
      " $ GSDT       : num  0.637 1.038 1.227 0.892 1.376 ...\n",
      " $ DeltaGS    : num  0.3664 -0.0142 -0.0436 0.2134 0.1017 ...\n",
      " $ DTC        : num  36.9 1 14.7 29.8 54.7 ...\n",
      " $ STEP       : num  56 69 91 87 131 69 67 99 97 78 ...\n",
      " $ FMT_IT     : num  31 15.8 17.3 16.8 112.4 ...\n",
      " $ FMT_DT     : num  12.8 18.4 14.1 10.4 16 ...\n",
      " $ MMSE       : num  26 29 29 26 26 29 26 20 28 28 ...\n",
      " $ CDT        : num  1 1 3 2 1 3 1 0 2 1 ...\n",
      " $ TMTA       : num  48 73 50 65 47 ...\n",
      " $ DSF        : num  5 7 6 8 7 10 6 9 5 6 ...\n",
      " $ DSB        : num  3 3 6 4 6 4 3 5 5 5 ...\n",
      " $ VF         : num  15 24 21 17 14 14 15 14 21 18 ...\n",
      " - attr(*, \"na.action\")= 'omit' Named int  5 7 8 11 12 13 17 18 19 21 ...\n",
      "  ..- attr(*, \"names\")= chr  \"5\" \"7\" \"8\" \"11\" ...\n"
     ]
    },
    {
     "data": {
      "text/plain": [
       "\n",
       " 1  2  3 \n",
       "18  5  5 "
      ]
     },
     "metadata": {},
     "output_type": "display_data"
    },
    {
     "data": {
      "text/plain": [
       "\n",
       " 2 \n",
       "79 "
      ]
     },
     "metadata": {},
     "output_type": "display_data"
    },
    {
     "data": {
      "text/plain": [
       "\n",
       " 3 \n",
       "80 "
      ]
     },
     "metadata": {},
     "output_type": "display_data"
    },
    {
     "data": {
      "text/html": [
       "<style>\n",
       ".list-inline {list-style: none; margin:0; padding: 0}\n",
       ".list-inline>li {display: inline-block}\n",
       ".list-inline>li:not(:last-child)::after {content: \"\\00b7\"; padding: 0 .5ex}\n",
       "</style>\n",
       "<ol class=list-inline><li>234</li><li>22</li></ol>\n"
      ],
      "text/latex": [
       "\\begin{enumerate*}\n",
       "\\item 234\n",
       "\\item 22\n",
       "\\end{enumerate*}\n"
      ],
      "text/markdown": [
       "1. 234\n",
       "2. 22\n",
       "\n",
       "\n"
      ],
      "text/plain": [
       "[1] 234  22"
      ]
     },
     "metadata": {},
     "output_type": "display_data"
    },
    {
     "data": {
      "text/plain": [
       "\n",
       " 1  2  3 \n",
       "75 79 80 "
      ]
     },
     "metadata": {},
     "output_type": "display_data"
    }
   ],
   "source": [
    "#install.packages(\"augmenterR\")\n",
    "require(AugmenterR)\n",
    "train_fold01<- as.data.frame(train_fold01)\n",
    "str(train_fold01)\n",
    "train_fold01$Diagnosis<- as.factor(train_fold01$Diagnosis)\n",
    "train_fold01$Sex<- as.factor(train_fold01$Sex)\n",
    "train_fold01$Scholarity<- as.numeric(train_fold01$Scholarity)\n",
    "train_fold01$IADL<- as.factor(train_fold01$IADL)\n",
    "test_fold01<- as.data.frame(test_fold01)\n",
    "test_fold01$Diagnosis<- as.factor(test_fold01$Diagnosis)\n",
    "test_fold01$Sex<- as.factor(test_fold01$Sex)\n",
    "test_fold01$Scholarity<- as.numeric(test_fold01$Scholarity)\n",
    "test_fold01$IADL<- as.factor(test_fold01$IADL)\n",
    "table(test_fold01$Diagnosis) #(18,5,5)\n",
    "set.seed(1)\n",
    "train_fold01_augmented_ccl<- GenerateMultipleCandidates(train_fold01,Class='2',col=1,Prob=0.9,amount=80)\n",
    "table(train_fold01_augmented_ccl$Diagnosis) #79(prob=0.9 e amount=80)\n",
    "set.seed(2)\n",
    "train_fold01_augmented_da<- GenerateMultipleCandidates(train_fold01,Class='3',col=1,Prob=0.9,amount=80)\n",
    "table(train_fold01_augmented_da$Diagnosis) #80(prob=0.9 e amount 80) \n",
    "train_fold01$Diagnosis<- as.numeric(train_fold01$Diagnosis)\n",
    "train_fold01_healthy<- train_fold01[train_fold01$Diagnosis==\"1\",]\n",
    "train_fold01_augmented_ccl_da<- rbind(train_fold01_augmented_ccl,train_fold01_augmented_da)\n",
    "train_fold01_final<- rbind(train_fold01_healthy,train_fold01_augmented_ccl_da)\n",
    "dim(train_fold01_final) #234 x 22\n",
    "table(train_fold01_final$Diagnosis) #(75,79,80) "
   ]
  },
  {
   "cell_type": "code",
   "execution_count": 34,
   "metadata": {
    "vscode": {
     "languageId": "r"
    }
   },
   "outputs": [
    {
     "data": {
      "text/plain": [
       "\n",
       "Call:\n",
       " randomForest(formula = train_fold01_final1$Diagnosis ~ ., data = train_fold01_final1) \n",
       "               Type of random forest: classification\n",
       "                     Number of trees: 500\n",
       "No. of variables tried at each split: 3\n",
       "\n",
       "        OOB estimate of  error rate: 1.28%\n",
       "Confusion matrix:\n",
       "   1  2  3 class.error\n",
       "1 72  2  1        0.04\n",
       "2  0 79  0        0.00\n",
       "3  0  0 80        0.00"
      ]
     },
     "metadata": {},
     "output_type": "display_data"
    }
   ],
   "source": [
    "#Treinamento do modelo1 c/ Cv tornaria o modelo enviesado, visto que teria dados sintéticos nos folds de teste\n",
    "train_fold01_final$Diagnosis<- as.factor(train_fold01_final$Diagnosis)\n",
    "train_fold01_final1<- train_fold01_final[,c(\"Diagnosis\",\"MMSE\",\n",
    "                                            \"IADL\",\"GSDT\",\"FMT_DT\",\"FMT_IT\",\"GSST\",\"TMTA\",\"STEP\",\"Age\")]\n",
    "set.seed(3)\n",
    "rf_fold01<- randomForest(train_fold01_final1$Diagnosis~.,data = train_fold01_final1) \n",
    "rf_fold01 #Taxa de erro = 1.28%\n",
    "#Validação do modelo1\n",
    "test_fold01111<- test_fold01[,c(\"Diagnosis\",\"MMSE\",\n",
    "                                \"IADL\",\"GSDT\",\"FMT_DT\",\"FMT_IT\",\"GSST\",\"TMTA\",\"STEP\",\"Age\")]\n",
    "prediction_augmenter_fold01<- predict(rf_fold01,test_fold01111)\n",
    "Metrics_fold01<- confusionMatrix(prediction_augmenter_fold01,test_fold01111$Diagnosis)$byClass #0 e Nan \n",
    "#Acurácia=71.43% e kappa=37.43%\n",
    "Metrics_fold01<- as.list(Metrics_fold01)"
   ]
  },
  {
   "cell_type": "code",
   "execution_count": 35,
   "metadata": {
    "vscode": {
     "languageId": "r"
    }
   },
   "outputs": [],
   "source": [
    "#Treinamento do modelo1 - árvore\n",
    "set.seed(301)\n",
    "train_fold01_final2<- train_fold01_final[,c(\"Diagnosis\",\"MMSE\",\n",
    "                                            \"IADL\",\"GSDT\",\"FMT_DT\",\"FMT_IT\",\"GSST\",\"TMTA\",\"Sex\",\"Age\")]\n",
    "tree_fold01_augmenter<- rpart(train_fold01_final2$Diagnosis~.,data=train_fold01_final2,method = \"class\")\n",
    "test_fold01222<- test_fold01[,c(\"Diagnosis\",\"MMSE\",\n",
    "                               \"IADL\",\"GSDT\",\"FMT_DT\",\"FMT_IT\",\"GSST\",\"TMTA\",\"Sex\",\"Age\")]\n",
    "prediction_augmenter_tree_fold01<- predict(tree_fold01_augmenter,test_fold01222,type=\"class\")\n",
    "Metrics_augmenter_tree_fold01<- confusionMatrix(prediction_augmenter_tree_fold01,test_fold01222$Diagnosis)$byClass #Recall e F1 ccl (0 e Nan)\n",
    "#Acurácia= 64.29% e kappa= 31.71%\n",
    "Metrics_augmenter_tree_fold01<- as.list(Metrics_augmenter_tree_fold01)"
   ]
  },
  {
   "cell_type": "markdown",
   "metadata": {},
   "source": [
    "### fold 2"
   ]
  },
  {
   "cell_type": "code",
   "execution_count": 36,
   "metadata": {
    "vscode": {
     "languageId": "r"
    }
   },
   "outputs": [
    {
     "name": "stdout",
     "output_type": "stream",
     "text": [
      "'data.frame':\t113 obs. of  22 variables:\n",
      " $ Diagnosis  : num  1 1 1 1 1 2 3 3 1 1 ...\n",
      " $ Age        : num  68.5 61.8 71.4 71.3 83 ...\n",
      " $ Sex        : num  1 1 1 2 1 1 1 2 1 1 ...\n",
      " $ Comorbidity: num  2 5 2 2 2 2 1 1 4 1 ...\n",
      " $ Scholarity : num  4 4 2 1 4 4 1 4 4 3 ...\n",
      " $ IADL       : num  1 1 1 1 1 1 2 2 1 1 ...\n",
      " $ BBS        : num  56 56 56 56 54 55 54 55 55 56 ...\n",
      " $ STS        : num  11 15 18 16 14 15 6 17 12 12 ...\n",
      " $ HG         : num  27.9 21.7 23.7 35.3 17.9 25.1 15.9 36 28.8 25.7 ...\n",
      " $ GSST       : num  1.024 1.183 1.105 1.478 0.878 ...\n",
      " $ GSDT       : num  1.038 1.227 0.892 1.376 0.78 ...\n",
      " $ DeltaGS    : num  -0.0142 -0.0436 0.2134 0.1017 0.0982 ...\n",
      " $ DTC        : num  1.005 14.662 29.814 54.664 -0.969 ...\n",
      " $ STEP       : num  69 91 87 131 67 67 19 99 97 78 ...\n",
      " $ FMT_IT     : num  15.8 17.3 16.8 112.4 18.6 ...\n",
      " $ FMT_DT     : num  18.4 14.1 10.4 16 34.6 ...\n",
      " $ MMSE       : num  29 29 26 26 28 26 11 20 28 28 ...\n",
      " $ CDT        : num  1 3 2 1 3 1 0 0 2 1 ...\n",
      " $ TMTA       : num  73 50 65 47 55 ...\n",
      " $ DSF        : num  7 6 8 7 8 6 6 9 5 6 ...\n",
      " $ DSB        : num  3 6 4 6 5 3 0 5 5 5 ...\n",
      " $ VF         : num  24 21 17 14 22 15 7 14 21 18 ...\n",
      " - attr(*, \"na.action\")= 'omit' Named int  5 7 8 11 12 13 17 18 19 21 ...\n",
      "  ..- attr(*, \"names\")= chr  \"5\" \"7\" \"8\" \"11\" ...\n"
     ]
    },
    {
     "data": {
      "text/plain": [
       "\n",
       " 1  2  3 \n",
       "75 17 21 "
      ]
     },
     "metadata": {},
     "output_type": "display_data"
    },
    {
     "data": {
      "text/plain": [
       "\n",
       " 1  2  3 \n",
       "18  4  5 "
      ]
     },
     "metadata": {},
     "output_type": "display_data"
    },
    {
     "data": {
      "text/plain": [
       "\n",
       " 2 \n",
       "80 "
      ]
     },
     "metadata": {},
     "output_type": "display_data"
    },
    {
     "data": {
      "text/plain": [
       "\n",
       " 3 \n",
       "60 "
      ]
     },
     "metadata": {},
     "output_type": "display_data"
    },
    {
     "data": {
      "text/html": [
       "<style>\n",
       ".list-inline {list-style: none; margin:0; padding: 0}\n",
       ".list-inline>li {display: inline-block}\n",
       ".list-inline>li:not(:last-child)::after {content: \"\\00b7\"; padding: 0 .5ex}\n",
       "</style>\n",
       "<ol class=list-inline><li>215</li><li>22</li></ol>\n"
      ],
      "text/latex": [
       "\\begin{enumerate*}\n",
       "\\item 215\n",
       "\\item 22\n",
       "\\end{enumerate*}\n"
      ],
      "text/markdown": [
       "1. 215\n",
       "2. 22\n",
       "\n",
       "\n"
      ],
      "text/plain": [
       "[1] 215  22"
      ]
     },
     "metadata": {},
     "output_type": "display_data"
    },
    {
     "data": {
      "text/plain": [
       "\n",
       " 1  2  3 \n",
       "75 80 60 "
      ]
     },
     "metadata": {},
     "output_type": "display_data"
    }
   ],
   "source": [
    "#Data augmentation augmenter no fold de treino 02\n",
    "train_fold02<- as.data.frame(train_fold02)\n",
    "str(train_fold02)\n",
    "train_fold02$Diagnosis<- as.factor(train_fold02$Diagnosis)\n",
    "train_fold02$Sex<- as.factor(train_fold02$Sex)\n",
    "train_fold02$Scholarity<- as.numeric(train_fold02$Scholarity)\n",
    "train_fold02$IADL<- as.factor(train_fold02$IADL)\n",
    "table(train_fold02$Diagnosis) #(75,17,21)\n",
    "test_fold02<- as.data.frame(test_fold02)\n",
    "test_fold02$Diagnosis<- as.factor(test_fold02$Diagnosis)\n",
    "test_fold02$Sex<- as.factor(test_fold02$Sex)\n",
    "test_fold02$Scholarity<- as.numeric(test_fold02$Scholarity)\n",
    "test_fold02$IADL<- as.factor(test_fold02$IADL)\n",
    "table(test_fold02$Diagnosis) #(18,4,5)\n",
    "set.seed(4)\n",
    "train_fold02_augmented_ccl<- GenerateMultipleCandidates(train_fold02,Class='2',col=1,Prob=0.9,amount=80)\n",
    "table(train_fold02_augmented_ccl$Diagnosis) #80 (prob=0.9 e amount=80)\n",
    "set.seed(5)\n",
    "train_fold02_augmented_da<- GenerateMultipleCandidates(train_fold02,Class='3',col=1,Prob=0.9,amount=70)\n",
    "table(train_fold02_augmented_da$Diagnosis) #60 (prob=0.9 e amount=70)\n",
    "train_fold02$Diagnosis<- as.numeric(train_fold02$Diagnosis)\n",
    "train_fold02_healthy<- train_fold02[train_fold02$Diagnosis==\"1\",]\n",
    "train_fold02_augmented_ccl_da<- rbind(train_fold02_augmented_ccl,train_fold02_augmented_da)\n",
    "train_fold02_final<- rbind(train_fold02_healthy,train_fold02_augmented_ccl_da)\n",
    "dim(train_fold02_final) #215 x 22\n",
    "table(train_fold02_final$Diagnosis) #(75,80,60) "
   ]
  },
  {
   "cell_type": "code",
   "execution_count": 37,
   "metadata": {
    "vscode": {
     "languageId": "r"
    }
   },
   "outputs": [
    {
     "data": {
      "text/plain": [
       "\n",
       "Call:\n",
       " randomForest(formula = train_fold02_final1$Diagnosis ~ ., data = train_fold02_final1) \n",
       "               Type of random forest: classification\n",
       "                     Number of trees: 500\n",
       "No. of variables tried at each split: 3\n",
       "\n",
       "        OOB estimate of  error rate: 0.47%\n",
       "Confusion matrix:\n",
       "   1  2  3 class.error\n",
       "1 74  1  0  0.01333333\n",
       "2  0 80  0  0.00000000\n",
       "3  0  0 60  0.00000000"
      ]
     },
     "metadata": {},
     "output_type": "display_data"
    }
   ],
   "source": [
    "#Treinamento do modelo2 *Cv tornaria o modelo enviesado, visto que teria dados sintéticos nos folds de teste\n",
    "set.seed(6)\n",
    "train_fold02_final1<- train_fold02_final[,c(\"Diagnosis\",\"MMSE\",\n",
    "                                            \"IADL\",\"GSDT\",\"FMT_DT\",\"FMT_IT\",\"GSST\",\"TMTA\",\"STEP\",\"Age\")]\n",
    "train_fold02_final1$Diagnosis<- as.factor(train_fold02_final1$Diagnosis)\n",
    "rf_fold02<- randomForest(train_fold02_final1$Diagnosis~.,data = train_fold02_final1) \n",
    "rf_fold02 #Taxa de erro = 0.47%\n",
    "#Validação do modelo2\n",
    "test_fold02111<- test_fold02[,c(\"Diagnosis\",\"MMSE\",\n",
    "                                \"IADL\",\"GSDT\",\"FMT_DT\",\"FMT_IT\",\"GSST\",\"TMTA\",\"STEP\",\"Age\")]\n",
    "prediction_augmenter_fold02<- predict(rf_fold02,test_fold02111)\n",
    "Metrics_fold02<- confusionMatrix(prediction_augmenter_fold02,test_fold02111$Diagnosis)$byClass #0 e Nan\n",
    "#Acurácia=74.07% e kappa=36.15%\n",
    "Metrics_fold02<- as.list(Metrics_fold02)"
   ]
  },
  {
   "cell_type": "code",
   "execution_count": 38,
   "metadata": {
    "vscode": {
     "languageId": "r"
    }
   },
   "outputs": [],
   "source": [
    "#Treinamento do modelo2 - árvore\n",
    "set.seed(301)\n",
    "train_fold02_final2<- train_fold02_final[,c(\"Diagnosis\",\"MMSE\",\n",
    "                                            \"IADL\",\"GSDT\",\"FMT_DT\",\"FMT_IT\",\"GSST\",\"TMTA\",\"Sex\",\"Age\")]\n",
    "tree_fold02_augmenter<- rpart(train_fold02_final2$Diagnosis~.,data=train_fold02_final2,method = \"class\")\n",
    "test_fold02222<- test_fold02[,c(\"Diagnosis\",\"MMSE\",\n",
    "                                \"IADL\",\"GSDT\",\"FMT_DT\",\"FMT_IT\",\"GSST\",\"TMTA\",\"Sex\",\"Age\")]\n",
    "prediction_augmenter_tree_fold02<- predict(tree_fold02_augmenter,test_fold02222,type=\"class\")\n",
    "Metrics_augmenter_tree_fold02<- confusionMatrix(prediction_augmenter_tree_fold02,test_fold02222$Diagnosis)$byClass #Recall e F1 ccl (0.25 e 0.222)\n",
    "#Acurácia= 66.67% e kappa= 30.97%\n",
    "Metrics_augmenter_tree_fold02<- as.list(Metrics_augmenter_tree_fold02)"
   ]
  },
  {
   "cell_type": "markdown",
   "metadata": {},
   "source": [
    "### fold 3"
   ]
  },
  {
   "cell_type": "code",
   "execution_count": 39,
   "metadata": {
    "vscode": {
     "languageId": "r"
    }
   },
   "outputs": [
    {
     "name": "stdout",
     "output_type": "stream",
     "text": [
      "'data.frame':\t111 obs. of  22 variables:\n",
      " $ Diagnosis  : num  1 1 1 1 1 1 1 2 3 3 ...\n",
      " $ Age        : num  69.3 68.5 61.8 71.4 71.3 ...\n",
      " $ Sex        : num  1 1 1 1 2 1 1 1 1 2 ...\n",
      " $ Comorbidity: num  2 2 5 2 2 1 2 2 1 1 ...\n",
      " $ Scholarity : num  3 4 4 2 1 4 4 4 1 4 ...\n",
      " $ IADL       : num  1 1 1 1 1 1 1 1 2 2 ...\n",
      " $ BBS        : num  56 56 56 56 56 56 54 55 54 55 ...\n",
      " $ STS        : num  10 11 15 18 16 11 14 15 6 17 ...\n",
      " $ HG         : num  23.5 27.9 21.7 23.7 35.3 19.7 17.9 25.1 15.9 36 ...\n",
      " $ GSST       : num  1 1.02 1.18 1.1 1.48 ...\n",
      " $ GSDT       : num  0.637 1.038 1.227 0.892 1.376 ...\n",
      " $ DeltaGS    : num  0.3664 -0.0142 -0.0436 0.2134 0.1017 ...\n",
      " $ DTC        : num  36.9 1 14.7 29.8 54.7 ...\n",
      " $ STEP       : num  56 69 91 87 131 69 67 67 19 99 ...\n",
      " $ FMT_IT     : num  31 15.8 17.3 16.8 112.4 ...\n",
      " $ FMT_DT     : num  12.8 18.4 14.1 10.4 16 ...\n",
      " $ MMSE       : num  26 29 29 26 26 29 28 26 11 20 ...\n",
      " $ CDT        : num  1 1 3 2 1 3 3 1 0 0 ...\n",
      " $ TMTA       : num  48 73 50 65 47 ...\n",
      " $ DSF        : num  5 7 6 8 7 10 8 6 6 9 ...\n",
      " $ DSB        : num  3 3 6 4 6 4 5 3 0 5 ...\n",
      " $ VF         : num  15 24 21 17 14 14 22 15 7 14 ...\n",
      " - attr(*, \"na.action\")= 'omit' Named int  5 7 8 11 12 13 17 18 19 21 ...\n",
      "  ..- attr(*, \"names\")= chr  \"5\" \"7\" \"8\" \"11\" ...\n"
     ]
    },
    {
     "data": {
      "text/plain": [
       "\n",
       " 1  2  3 \n",
       "74 17 20 "
      ]
     },
     "metadata": {},
     "output_type": "display_data"
    },
    {
     "data": {
      "text/plain": [
       "\n",
       " 1  2  3 \n",
       "19  4  6 "
      ]
     },
     "metadata": {},
     "output_type": "display_data"
    },
    {
     "data": {
      "text/plain": [
       "\n",
       " 2 \n",
       "72 "
      ]
     },
     "metadata": {},
     "output_type": "display_data"
    },
    {
     "data": {
      "text/plain": [
       "\n",
       " 3 \n",
       "52 "
      ]
     },
     "metadata": {},
     "output_type": "display_data"
    },
    {
     "data": {
      "text/html": [
       "<style>\n",
       ".list-inline {list-style: none; margin:0; padding: 0}\n",
       ".list-inline>li {display: inline-block}\n",
       ".list-inline>li:not(:last-child)::after {content: \"\\00b7\"; padding: 0 .5ex}\n",
       "</style>\n",
       "<ol class=list-inline><li>198</li><li>22</li></ol>\n"
      ],
      "text/latex": [
       "\\begin{enumerate*}\n",
       "\\item 198\n",
       "\\item 22\n",
       "\\end{enumerate*}\n"
      ],
      "text/markdown": [
       "1. 198\n",
       "2. 22\n",
       "\n",
       "\n"
      ],
      "text/plain": [
       "[1] 198  22"
      ]
     },
     "metadata": {},
     "output_type": "display_data"
    },
    {
     "data": {
      "text/plain": [
       "\n",
       " 1  2  3 \n",
       "74 72 52 "
      ]
     },
     "metadata": {},
     "output_type": "display_data"
    }
   ],
   "source": [
    "train_fold03<- as.data.frame(train_fold03)\n",
    "str(train_fold03)\n",
    "train_fold03$Diagnosis<- as.factor(train_fold03$Diagnosis)\n",
    "train_fold03$Sex<- as.factor(train_fold03$Sex)\n",
    "train_fold03$Scholarity<- as.numeric(train_fold03$Scholarity)\n",
    "train_fold03$IADL<- as.factor(train_fold03$IADL)\n",
    "table(train_fold03$Diagnosis) #(74,17,20)\n",
    "test_fold03<- as.data.frame(test_fold03)\n",
    "test_fold03$Diagnosis<- as.factor(test_fold03$Diagnosis)\n",
    "test_fold03$Sex<- as.factor(test_fold03$Sex)\n",
    "test_fold03$Scholarity<- as.numeric(test_fold03$Scholarity)\n",
    "test_fold03$IADL<- as.factor(test_fold03$IADL)\n",
    "table(test_fold03$Diagnosis) #(19,4,6)\n",
    "set.seed(7)\n",
    "train_fold03_augmented_ccl<- GenerateMultipleCandidates(train_fold03,Class='2',col=1,Prob=0.9,amount=80)\n",
    "table(train_fold03_augmented_ccl$Diagnosis) #72 (prob=0.9 e amount=80) \n",
    "set.seed(8)\n",
    "train_fold03_augmented_da<- GenerateMultipleCandidates(train_fold03,Class='3',col=1,Prob=0.9,amount=70)\n",
    "table(train_fold03_augmented_da$Diagnosis) #52(prob=0.9 e amount=70) \n",
    "train_fold03$Diagnosis<- as.numeric(train_fold03$Diagnosis)\n",
    "train_fold03_healthy<- train_fold03[train_fold03$Diagnosis==\"1\",]\n",
    "train_fold03_augmented_ccl_da<- rbind(train_fold03_augmented_ccl,train_fold03_augmented_da)\n",
    "train_fold03_final<- rbind(train_fold03_healthy,train_fold03_augmented_ccl_da)\n",
    "dim(train_fold03_final) #198 x 22\n",
    "table(train_fold03_final$Diagnosis) #(74,72,52)"
   ]
  },
  {
   "cell_type": "code",
   "execution_count": 40,
   "metadata": {
    "vscode": {
     "languageId": "r"
    }
   },
   "outputs": [
    {
     "data": {
      "text/plain": [
       "\n",
       "Call:\n",
       " randomForest(formula = train_fold03_final1$Diagnosis ~ ., data = train_fold03_final1) \n",
       "               Type of random forest: classification\n",
       "                     Number of trees: 500\n",
       "No. of variables tried at each split: 3\n",
       "\n",
       "        OOB estimate of  error rate: 1.52%\n",
       "Confusion matrix:\n",
       "   1  2  3 class.error\n",
       "1 71  1  2  0.04054054\n",
       "2  0 72  0  0.00000000\n",
       "3  0  0 52  0.00000000"
      ]
     },
     "metadata": {},
     "output_type": "display_data"
    }
   ],
   "source": [
    "#Treinamento do modelo3 *Cv tornaria o modelo enviesado, visto que teria dados sintéticos nos folds de teste\n",
    "train_fold03_final1<- train_fold03_final[,c(\"Diagnosis\",\"MMSE\",\n",
    "                                            \"IADL\",\"GSDT\",\"FMT_DT\",\"FMT_IT\",\"GSST\",\"TMTA\",\"STEP\",\"Age\")]\n",
    "set.seed(9)\n",
    "train_fold03_final1$Diagnosis<- as.factor(train_fold03_final1$Diagnosis)\n",
    "rf_fold03<- randomForest(train_fold03_final1$Diagnosis~.,data = train_fold03_final1) \n",
    "rf_fold03 #Taxa de erro = 1.52%\n",
    "#Validação do modelo3\n",
    "test_fold03111<- test_fold03[,c(\"Diagnosis\",\"MMSE\",\n",
    "                                \"IADL\",\"GSDT\",\"FMT_DT\",\"FMT_IT\",\"GSST\",\"TMTA\",\"STEP\",\"Age\")]\n",
    "prediction_augmenter_fold03<- predict(rf_fold03,test_fold03111)\n",
    "Metrics_fold03<- confusionMatrix(prediction_augmenter_fold03,test_fold03111$Diagnosis)$byClass #0 e Nan\n",
    "#Acurácia=79.31% e kappa=49.12%\n",
    "Metrics_fold03<- as.list(Metrics_fold03)"
   ]
  },
  {
   "cell_type": "code",
   "execution_count": 41,
   "metadata": {
    "vscode": {
     "languageId": "r"
    }
   },
   "outputs": [],
   "source": [
    "#Treinamento do modelo3 - árvore\n",
    "set.seed(301)\n",
    "train_fold03_final2<- train_fold03_final[,c(\"Diagnosis\",\"MMSE\",\n",
    "                                            \"IADL\",\"GSDT\",\"FMT_DT\",\"FMT_IT\",\"GSST\",\"TMTA\",\"Sex\",\"Age\")]\n",
    "tree_fold03_augmenter<- rpart(train_fold03_final2$Diagnosis~.,data=train_fold03_final2,method = \"class\")\n",
    "test_fold03222<- test_fold03[,c(\"Diagnosis\",\"MMSE\",\n",
    "                                \"IADL\",\"GSDT\",\"FMT_DT\",\"FMT_IT\",\"GSST\",\"TMTA\",\"Sex\",\"Age\")]\n",
    "prediction_augmenter_tree_fold03<- predict(tree_fold03_augmenter,test_fold03222,type=\"class\")\n",
    "Metrics_augmenter_tree_fold03<- confusionMatrix(prediction_augmenter_tree_fold03,test_fold03222$Diagnosis)$byClass #Recall e F1 ccl (0.25 e 0.2857)\n",
    "#Acurácia= 75.86% e kappa= 47.55%\n",
    "Metrics_augmenter_tree_fold03<- as.list(Metrics_augmenter_tree_fold03)\n"
   ]
  },
  {
   "cell_type": "markdown",
   "metadata": {},
   "source": [
    "### fold 4"
   ]
  },
  {
   "cell_type": "code",
   "execution_count": 42,
   "metadata": {
    "vscode": {
     "languageId": "r"
    }
   },
   "outputs": [
    {
     "name": "stdout",
     "output_type": "stream",
     "text": [
      "'data.frame':\t112 obs. of  22 variables:\n",
      " $ Diagnosis  : num  1 1 1 1 1 2 3 1 1 1 ...\n",
      " $ Age        : num  69.3 68.5 71.3 70 83 ...\n",
      " $ Sex        : num  1 1 2 1 1 1 1 1 1 1 ...\n",
      " $ Comorbidity: num  2 2 2 1 2 2 1 1 2 2 ...\n",
      " $ Scholarity : num  3 4 1 4 4 4 1 3 4 3 ...\n",
      " $ IADL       : num  1 1 1 1 1 1 2 1 1 1 ...\n",
      " $ BBS        : num  56 56 56 56 54 55 54 56 56 55 ...\n",
      " $ STS        : num  10 11 16 11 14 15 6 12 20 17 ...\n",
      " $ HG         : num  23.5 27.9 35.3 19.7 17.9 25.1 15.9 25.7 18.3 11.8 ...\n",
      " $ GSST       : num  1.003 1.024 1.478 1.083 0.878 ...\n",
      " $ GSDT       : num  0.637 1.038 1.376 1.156 0.78 ...\n",
      " $ DeltaGS    : num  0.3664 -0.0142 0.1017 -0.073 0.0982 ...\n",
      " $ DTC        : num  36.852 1.005 54.664 1.56 -0.969 ...\n",
      " $ STEP       : num  56 69 131 69 67 67 19 78 90 43 ...\n",
      " $ FMT_IT     : num  31 15.8 112.4 17.6 18.6 ...\n",
      " $ FMT_DT     : num  12.8 18.4 16 23.7 34.6 ...\n",
      " $ MMSE       : num  26 29 26 29 28 26 11 28 27 28 ...\n",
      " $ CDT        : num  1 1 1 3 3 1 0 1 2 3 ...\n",
      " $ TMTA       : num  48 73 47 43 55 ...\n",
      " $ DSF        : num  5 7 7 10 8 6 6 6 8 4 ...\n",
      " $ DSB        : num  3 3 6 4 5 3 0 5 5 5 ...\n",
      " $ VF         : num  15 24 14 14 22 15 7 18 18 20 ...\n",
      " - attr(*, \"na.action\")= 'omit' Named int  5 7 8 11 12 13 17 18 19 21 ...\n",
      "  ..- attr(*, \"names\")= chr  \"5\" \"7\" \"8\" \"11\" ...\n"
     ]
    },
    {
     "data": {
      "text/plain": [
       "\n",
       " 1  2  3 \n",
       "74 17 21 "
      ]
     },
     "metadata": {},
     "output_type": "display_data"
    },
    {
     "data": {
      "text/plain": [
       "\n",
       " 1  2  3 \n",
       "19  4  5 "
      ]
     },
     "metadata": {},
     "output_type": "display_data"
    },
    {
     "data": {
      "text/plain": [
       "\n",
       " 2 \n",
       "69 "
      ]
     },
     "metadata": {},
     "output_type": "display_data"
    },
    {
     "data": {
      "text/plain": [
       "\n",
       " 3 \n",
       "66 "
      ]
     },
     "metadata": {},
     "output_type": "display_data"
    },
    {
     "data": {
      "text/html": [
       "<style>\n",
       ".list-inline {list-style: none; margin:0; padding: 0}\n",
       ".list-inline>li {display: inline-block}\n",
       ".list-inline>li:not(:last-child)::after {content: \"\\00b7\"; padding: 0 .5ex}\n",
       "</style>\n",
       "<ol class=list-inline><li>209</li><li>22</li></ol>\n"
      ],
      "text/latex": [
       "\\begin{enumerate*}\n",
       "\\item 209\n",
       "\\item 22\n",
       "\\end{enumerate*}\n"
      ],
      "text/markdown": [
       "1. 209\n",
       "2. 22\n",
       "\n",
       "\n"
      ],
      "text/plain": [
       "[1] 209  22"
      ]
     },
     "metadata": {},
     "output_type": "display_data"
    },
    {
     "data": {
      "text/plain": [
       "\n",
       " 1  2  3 \n",
       "74 69 66 "
      ]
     },
     "metadata": {},
     "output_type": "display_data"
    }
   ],
   "source": [
    "train_fold04<- as.data.frame(train_fold04)\n",
    "str(train_fold04)\n",
    "train_fold04$Diagnosis<- as.factor(train_fold04$Diagnosis)\n",
    "train_fold04$Sex<- as.factor(train_fold04$Sex)\n",
    "train_fold04$Scholarity<- as.numeric(train_fold04$Scholarity)\n",
    "train_fold04$IADL<- as.factor(train_fold04$IADL)\n",
    "table(train_fold04$Diagnosis) #(74,17,21)\n",
    "test_fold04<- as.data.frame(test_fold04)\n",
    "test_fold04$Diagnosis<- as.factor(test_fold04$Diagnosis)\n",
    "test_fold04$Sex<- as.factor(test_fold04$Sex)\n",
    "test_fold04$Scholarity<- as.numeric(test_fold04$Scholarity)\n",
    "test_fold04$IADL<- as.factor(test_fold04$IADL)\n",
    "table(test_fold04$Diagnosis) #(19,4,5)\n",
    "set.seed(7)\n",
    "train_fold04_augmented_ccl<- GenerateMultipleCandidates(train_fold04,Class='2',col=1,Prob=0.9,amount=80)\n",
    "table(train_fold04_augmented_ccl$Diagnosis) #69 (prob=0.9 e amount=80) \n",
    "set.seed(8)\n",
    "train_fold04_augmented_da<- GenerateMultipleCandidates(train_fold04,Class='3',col=1,Prob=0.9,amount=70)\n",
    "table(train_fold04_augmented_da$Diagnosis) #66(prob=0.9 e amount=70) \n",
    "train_fold04$Diagnosis<- as.numeric(train_fold04$Diagnosis)\n",
    "train_fold04_healthy<- train_fold04[train_fold04$Diagnosis==\"1\",]\n",
    "train_fold04_augmented_ccl_da<- rbind(train_fold04_augmented_ccl,train_fold04_augmented_da)\n",
    "train_fold04_final<- rbind(train_fold04_healthy,train_fold04_augmented_ccl_da)\n",
    "dim(train_fold04_final) #209 x 22\n",
    "table(train_fold04_final$Diagnosis) #(74,69,66)"
   ]
  },
  {
   "cell_type": "code",
   "execution_count": 43,
   "metadata": {
    "vscode": {
     "languageId": "r"
    }
   },
   "outputs": [
    {
     "data": {
      "text/plain": [
       "\n",
       "Call:\n",
       " randomForest(formula = train_fold04_final1$Diagnosis ~ ., data = train_fold04_final1) \n",
       "               Type of random forest: classification\n",
       "                     Number of trees: 500\n",
       "No. of variables tried at each split: 3\n",
       "\n",
       "        OOB estimate of  error rate: 2.39%\n",
       "Confusion matrix:\n",
       "   1  2  3 class.error\n",
       "1 71  1  2  0.04054054\n",
       "2  1 67  1  0.02898551\n",
       "3  0  0 66  0.00000000"
      ]
     },
     "metadata": {},
     "output_type": "display_data"
    }
   ],
   "source": [
    "#Treinamento do modelo4 *Cv tornaria o modelo enviesado, visto que teria dados sintéticos nos folds de teste\n",
    "set.seed(12)\n",
    "train_fold04_final$Diagnosis<- as.factor(train_fold04_final$Diagnosis)\n",
    "train_fold04_final1<- train_fold04_final[,c(\"Diagnosis\",\"MMSE\",\n",
    "                                            \"IADL\",\"GSDT\",\"FMT_DT\",\"FMT_IT\",\"GSST\",\"TMTA\",\"STEP\",\"Age\")]\n",
    "rf_fold04<- randomForest(train_fold04_final1$Diagnosis~.,data = train_fold04_final1) \n",
    "rf_fold04 #Taxa de erro = 2.39%\n",
    "#Validação do modelo4\n",
    "test_fold04111<- test_fold04[,c(\"Diagnosis\",\"MMSE\",\n",
    "                                \"IADL\",\"GSDT\",\"FMT_DT\",\"FMT_IT\",\"GSST\",\"TMTA\",\"STEP\",\"Age\")]\n",
    "prediction_augmenter_fold04<- predict(rf_fold04,test_fold04111)\n",
    "Metrics_fold04<- confusionMatrix(prediction_augmenter_fold04,test_fold04111$Diagnosis)$byClass #0 e Nan\n",
    "#Acurácia=82.14% e kappa=54.55%\n",
    "Metrics_fold04<- as.list(Metrics_fold04)"
   ]
  },
  {
   "cell_type": "code",
   "execution_count": 44,
   "metadata": {
    "vscode": {
     "languageId": "r"
    }
   },
   "outputs": [],
   "source": [
    "#Treinamento do modelo4 - árvore\n",
    "set.seed(301)\n",
    "train_fold04_final2<- train_fold04_final[,c(\"Diagnosis\",\"MMSE\",\n",
    "                                            \"IADL\",\"GSDT\",\"FMT_DT\",\"FMT_IT\",\"GSST\",\"TMTA\",\"Sex\",\"Age\")]\n",
    "tree_fold04_augmenter<- rpart(train_fold04_final2$Diagnosis~.,data=train_fold04_final2,method = \"class\")\n",
    "test_fold04222<- test_fold04[,c(\"Diagnosis\",\"MMSE\",\n",
    "                                \"IADL\",\"GSDT\",\"FMT_DT\",\"FMT_IT\",\"GSST\",\"TMTA\",\"Sex\",\"Age\")]\n",
    "prediction_augmenter_tree_fold04<- predict(tree_fold04_augmenter,test_fold04222,type=\"class\")\n",
    "Metrics_augmenter_tree_fold04<- confusionMatrix(prediction_augmenter_tree_fold04,test_fold04222$Diagnosis)$byClass #Recall e F1 ccl (0.25 e 0.2857)\n",
    "#Acurácia= 67.86% e kappa= 31.34%\n",
    "Metrics_augmenter_tree_fold04<- as.list(Metrics_augmenter_tree_fold04)"
   ]
  },
  {
   "cell_type": "markdown",
   "metadata": {},
   "source": [
    "### fold 5"
   ]
  },
  {
   "cell_type": "code",
   "execution_count": 45,
   "metadata": {
    "vscode": {
     "languageId": "r"
    }
   },
   "outputs": [
    {
     "name": "stdout",
     "output_type": "stream",
     "text": [
      "'data.frame':\t112 obs. of  22 variables:\n",
      " $ Diagnosis  : num  1 1 1 1 1 3 3 1 1 2 ...\n",
      " $ Age        : num  69.3 61.8 71.4 70 83 ...\n",
      " $ Sex        : num  1 1 1 1 1 1 2 1 1 1 ...\n",
      " $ Comorbidity: num  2 5 2 1 2 1 1 4 2 1 ...\n",
      " $ Scholarity : num  3 4 2 4 4 1 4 4 3 4 ...\n",
      " $ IADL       : num  1 1 1 1 1 2 2 1 1 1 ...\n",
      " $ BBS        : num  56 56 56 56 54 54 55 55 53 55 ...\n",
      " $ STS        : num  10 15 18 11 14 6 17 12 10 12 ...\n",
      " $ HG         : num  23.5 21.7 23.7 19.7 17.9 15.9 36 28.8 16 16.9 ...\n",
      " $ GSST       : num  1.003 1.183 1.105 1.083 0.878 ...\n",
      " $ GSDT       : num  0.637 1.227 0.892 1.156 0.78 ...\n",
      " $ DeltaGS    : num  0.3664 -0.0436 0.2134 -0.073 0.0982 ...\n",
      " $ DTC        : num  36.852 14.662 29.814 1.56 -0.969 ...\n",
      " $ STEP       : num  56 91 87 69 67 19 99 97 55 65 ...\n",
      " $ FMT_IT     : num  31 17.3 16.8 17.6 18.6 ...\n",
      " $ FMT_DT     : num  12.8 14.1 10.4 23.7 34.6 ...\n",
      " $ MMSE       : num  26 29 26 29 28 11 20 28 26 29 ...\n",
      " $ CDT        : num  1 3 2 3 3 0 0 2 1 2 ...\n",
      " $ TMTA       : num  48 50 65 43 55 ...\n",
      " $ DSF        : num  5 6 8 10 8 6 9 5 5 6 ...\n",
      " $ DSB        : num  3 6 4 4 5 0 5 5 2 4 ...\n",
      " $ VF         : num  15 21 17 14 22 7 14 21 14 14 ...\n",
      " - attr(*, \"na.action\")= 'omit' Named int  5 7 8 11 12 13 17 18 19 21 ...\n",
      "  ..- attr(*, \"names\")= chr  \"5\" \"7\" \"8\" \"11\" ...\n"
     ]
    },
    {
     "data": {
      "text/plain": [
       "\n",
       " 1  2  3 \n",
       "74 17 21 "
      ]
     },
     "metadata": {},
     "output_type": "display_data"
    },
    {
     "data": {
      "text/plain": [
       "\n",
       " 1  2  3 \n",
       "19  4  5 "
      ]
     },
     "metadata": {},
     "output_type": "display_data"
    },
    {
     "data": {
      "text/plain": [
       "\n",
       " 2 \n",
       "64 "
      ]
     },
     "metadata": {},
     "output_type": "display_data"
    },
    {
     "data": {
      "text/plain": [
       "\n",
       " 3 \n",
       "64 "
      ]
     },
     "metadata": {},
     "output_type": "display_data"
    },
    {
     "data": {
      "text/html": [
       "<style>\n",
       ".list-inline {list-style: none; margin:0; padding: 0}\n",
       ".list-inline>li {display: inline-block}\n",
       ".list-inline>li:not(:last-child)::after {content: \"\\00b7\"; padding: 0 .5ex}\n",
       "</style>\n",
       "<ol class=list-inline><li>202</li><li>22</li></ol>\n"
      ],
      "text/latex": [
       "\\begin{enumerate*}\n",
       "\\item 202\n",
       "\\item 22\n",
       "\\end{enumerate*}\n"
      ],
      "text/markdown": [
       "1. 202\n",
       "2. 22\n",
       "\n",
       "\n"
      ],
      "text/plain": [
       "[1] 202  22"
      ]
     },
     "metadata": {},
     "output_type": "display_data"
    },
    {
     "data": {
      "text/plain": [
       "\n",
       " 1  2  3 \n",
       "74 64 64 "
      ]
     },
     "metadata": {},
     "output_type": "display_data"
    }
   ],
   "source": [
    "train_fold05<- as.data.frame(train_fold05)\n",
    "str(train_fold05)\n",
    "train_fold05$Diagnosis<- as.factor(train_fold05$Diagnosis)\n",
    "train_fold05$Sex<- as.factor(train_fold05$Sex)\n",
    "train_fold05$Scholarity<- as.numeric(train_fold05$Scholarity)\n",
    "train_fold05$IADL<- as.factor(train_fold05$IADL)\n",
    "table(train_fold05$Diagnosis) #(74,17,21)\n",
    "test_fold05<- as.data.frame(test_fold05)\n",
    "test_fold05$Diagnosis<- as.factor(test_fold05$Diagnosis)\n",
    "test_fold05$Sex<- as.factor(test_fold05$Sex)\n",
    "test_fold05$Scholarity<- as.numeric(test_fold05$Scholarity)\n",
    "test_fold05$IADL<- as.factor(test_fold05$IADL)\n",
    "table(test_fold05$Diagnosis) #(19,4,5)\n",
    "set.seed(7)\n",
    "train_fold05_augmented_ccl<- GenerateMultipleCandidates(train_fold05,Class='2',col=1,Prob=0.9,amount=80)\n",
    "table(train_fold05_augmented_ccl$Diagnosis) #64 (prob=0.9 e amount=80) \n",
    "set.seed(8)\n",
    "train_fold05_augmented_da<- GenerateMultipleCandidates(train_fold05,Class='3',col=1,Prob=0.9,amount=70)\n",
    "table(train_fold05_augmented_da$Diagnosis) #64(prob=0.9 e amount=70) \n",
    "train_fold05$Diagnosis<- as.numeric(train_fold05$Diagnosis)\n",
    "train_fold05_healthy<- train_fold05[train_fold05$Diagnosis==\"1\",]\n",
    "train_fold05_augmented_ccl_da<- rbind(train_fold05_augmented_ccl,train_fold05_augmented_da)\n",
    "train_fold05_final<- rbind(train_fold05_healthy,train_fold05_augmented_ccl_da)\n",
    "dim(train_fold05_final)\n",
    "table(train_fold05_final$Diagnosis) #(74,64,64)"
   ]
  },
  {
   "cell_type": "code",
   "execution_count": 46,
   "metadata": {
    "vscode": {
     "languageId": "r"
    }
   },
   "outputs": [
    {
     "data": {
      "text/plain": [
       "\n",
       "Call:\n",
       " randomForest(formula = train_fold05_final1$Diagnosis ~ ., data = train_fold05_final1) \n",
       "               Type of random forest: classification\n",
       "                     Number of trees: 500\n",
       "No. of variables tried at each split: 3\n",
       "\n",
       "        OOB estimate of  error rate: 2.97%\n",
       "Confusion matrix:\n",
       "   1  2  3 class.error\n",
       "1 69  3  2  0.06756757\n",
       "2  1 63  0  0.01562500\n",
       "3  0  0 64  0.00000000"
      ]
     },
     "metadata": {},
     "output_type": "display_data"
    }
   ],
   "source": [
    "#Treinamento do modelo4 *Cv tornaria o modelo enviesado, visto que teria dados sintéticos nos folds de teste\n",
    "train_fold05_final1<- train_fold05_final[,c(\"Diagnosis\",\"MMSE\",\n",
    "                                            \"IADL\",\"GSDT\",\"FMT_DT\",\"FMT_IT\",\"GSST\",\"TMTA\",\"STEP\",\"Age\")]\n",
    "set.seed(12)\n",
    "train_fold05_final1$Diagnosis<- as.factor(train_fold05_final1$Diagnosis)\n",
    "rf_fold05<- randomForest(train_fold05_final1$Diagnosis~.,data = train_fold05_final1) \n",
    "rf_fold05 #Taxa de erro = 2.97%\n",
    "#Validação do modelo5\n",
    "test_fold05111<- test_fold05[,c(\"Diagnosis\",\"MMSE\",\n",
    "                                \"IADL\",\"GSDT\",\"FMT_DT\",\"FMT_IT\",\"GSST\",\"TMTA\",\"STEP\",\"Age\")]\n",
    "prediction_augmenter_fold05<- predict(rf_fold05,test_fold05111)\n",
    "Metrics_fold05<- confusionMatrix(prediction_augmenter_fold05,test_fold05111$Diagnosis)$byClass #Recall e F1 ccl (0 e NA)\n",
    "#Acurácia=85.71% e kappa=66.67%\n",
    "Metrics_fold05<- as.list(Metrics_fold05)"
   ]
  },
  {
   "cell_type": "code",
   "execution_count": 47,
   "metadata": {
    "vscode": {
     "languageId": "r"
    }
   },
   "outputs": [],
   "source": [
    "#Treinamento do modelo1 - árvore\n",
    "set.seed(301)\n",
    "train_fold05_final2<- train_fold05_final[,c(\"Diagnosis\",\"MMSE\",\n",
    "                                            \"IADL\",\"GSDT\",\"FMT_DT\",\"FMT_IT\",\"GSST\",\"TMTA\",\"Sex\",\"Age\")]\n",
    "tree_fold05_augmenter<- rpart(train_fold05_final2$Diagnosis~.,data=train_fold05_final2,method = \"class\")\n",
    "test_fold05222<- test_fold05[,c(\"Diagnosis\",\"MMSE\",\n",
    "                                \"IADL\",\"GSDT\",\"FMT_DT\",\"FMT_IT\",\"GSST\",\"TMTA\",\"Sex\",\"Age\")]\n",
    "prediction_augmenter_tree_fold05<- predict(tree_fold05_augmenter,test_fold05222,type=\"class\")\n",
    "Metrics_augmenter_tree_fold05<- confusionMatrix(prediction_augmenter_tree_fold05,test_fold05222$Diagnosis)$byClass #Recall e F1 ccl (0.25 e 0.33)\n",
    "#Acurácia= 82.14% e kappa= 61.75%\n",
    "Metrics_augmenter_tree_fold05<- as.list(Metrics_augmenter_tree_fold05)"
   ]
  },
  {
   "cell_type": "markdown",
   "metadata": {},
   "source": [
    "### Métricas de interesse (dados aumentados - augmenter)"
   ]
  },
  {
   "cell_type": "code",
   "execution_count": 48,
   "metadata": {
    "vscode": {
     "languageId": "r"
    }
   },
   "outputs": [
    {
     "data": {
      "text/html": [
       "71.43"
      ],
      "text/latex": [
       "71.43"
      ],
      "text/markdown": [
       "71.43"
      ],
      "text/plain": [
       "[1] 71.43"
      ]
     },
     "metadata": {},
     "output_type": "display_data"
    },
    {
     "data": {
      "text/html": [
       "64.29"
      ],
      "text/latex": [
       "64.29"
      ],
      "text/markdown": [
       "64.29"
      ],
      "text/plain": [
       "[1] 64.29"
      ]
     },
     "metadata": {},
     "output_type": "display_data"
    },
    {
     "data": {
      "text/html": [
       "0"
      ],
      "text/latex": [
       "0"
      ],
      "text/markdown": [
       "0"
      ],
      "text/plain": [
       "[1] 0"
      ]
     },
     "metadata": {},
     "output_type": "display_data"
    },
    {
     "data": {
      "text/html": [
       "0"
      ],
      "text/latex": [
       "0"
      ],
      "text/markdown": [
       "0"
      ],
      "text/plain": [
       "[1] 0"
      ]
     },
     "metadata": {},
     "output_type": "display_data"
    },
    {
     "data": {
      "text/html": [
       "0.2"
      ],
      "text/latex": [
       "0.2"
      ],
      "text/markdown": [
       "0.2"
      ],
      "text/plain": [
       "[1] 0.2"
      ]
     },
     "metadata": {},
     "output_type": "display_data"
    },
    {
     "data": {
      "text/html": [
       "0.111803398874989"
      ],
      "text/latex": [
       "0.111803398874989"
      ],
      "text/markdown": [
       "0.111803398874989"
      ],
      "text/plain": [
       "[1] 0.1118034"
      ]
     },
     "metadata": {},
     "output_type": "display_data"
    },
    {
     "data": {
      "text/html": [
       "NaN"
      ],
      "text/latex": [
       "NaN"
      ],
      "text/markdown": [
       "NaN"
      ],
      "text/plain": [
       "[1] NaN"
      ]
     },
     "metadata": {},
     "output_type": "display_data"
    },
    {
     "data": {
      "text/html": [
       "&lt;NA&gt;"
      ],
      "text/latex": [
       "<NA>"
      ],
      "text/markdown": [
       "&lt;NA&gt;"
      ],
      "text/plain": [
       "[1] NA"
      ]
     },
     "metadata": {},
     "output_type": "display_data"
    },
    {
     "data": {
      "text/html": [
       "0.281746031746032"
      ],
      "text/latex": [
       "0.281746031746032"
      ],
      "text/markdown": [
       "0.281746031746032"
      ],
      "text/plain": [
       "[1] 0.281746"
      ]
     },
     "metadata": {},
     "output_type": "display_data"
    },
    {
     "data": {
      "text/html": [
       "0.0455917670360161"
      ],
      "text/latex": [
       "0.0455917670360161"
      ],
      "text/markdown": [
       "0.0455917670360161"
      ],
      "text/plain": [
       "[1] 0.04559177"
      ]
     },
     "metadata": {},
     "output_type": "display_data"
    }
   ],
   "source": [
    "Acuracia_RF_teste_augmenter= mean(71.43,74.07,79.31,82.14,85.71) \n",
    "Acuracia_RF_teste_augmenter #71.43%\n",
    "Acuracia_DT_teste_augmenter= mean(64.29,66.67,75.86,67.86,82.14) \n",
    "Acuracia_DT_teste_augmenter #64.29%\n",
    "recall_ccl_augmenter_RF<-c(Metrics_fold01[[17]],Metrics_fold02[[17]],Metrics_fold03[[17]],\n",
    "                        Metrics_fold04[[17]],Metrics_fold05[[17]])\n",
    "recall_ccl_augmenter_DT<-c(Metrics_augmenter_tree_fold01[[17]],Metrics_augmenter_tree_fold02[[17]],Metrics_augmenter_tree_fold03[[17]],\n",
    "                           Metrics_augmenter_tree_fold04[[17]],Metrics_augmenter_tree_fold05[[17]])\n",
    "F1_ccl_augmenter_RF<- c(Metrics_fold01[[20]],Metrics_fold02[[20]],Metrics_fold03[[20]],\n",
    "                     Metrics_fold04[[20]],Metrics_fold05[[20]])\n",
    "F1_ccl_augmenter_DT<- c(Metrics_augmenter_tree_fold01[[20]],Metrics_augmenter_tree_fold02[[20]],Metrics_augmenter_tree_fold03[[20]],\n",
    "                        Metrics_augmenter_tree_fold04[[20]],Metrics_augmenter_tree_fold05[[20]])\n",
    "mean(recall_ccl_augmenter_RF,na.rm=T) #0\n",
    "sd(recall_ccl_augmenter_RF,na.rm=T) #0\n",
    "mean(recall_ccl_augmenter_DT,na.rm=T) #0.2\n",
    "sd(recall_ccl_augmenter_DT,na.rm=T) #0.1118\n",
    "mean(F1_ccl_augmenter_RF,na.rm=T) #Nan\n",
    "sd(F1_ccl_augmenter_RF,na.rm=T) #Nan\n",
    "mean(F1_ccl_augmenter_DT,na.rm=T) #0.2817\n",
    "sd(F1_ccl_augmenter_DT,na.rm=T) #0.0455"
   ]
  },
  {
   "cell_type": "markdown",
   "metadata": {},
   "source": [
    "# Data augmentation - modelo único (após avaliar a robustez dos métodos)"
   ]
  },
  {
   "cell_type": "markdown",
   "metadata": {},
   "source": [
    "## SMOTE"
   ]
  },
  {
   "cell_type": "markdown",
   "metadata": {},
   "source": [
    "### Random Forest - smote"
   ]
  },
  {
   "cell_type": "code",
   "execution_count": 87,
   "metadata": {
    "vscode": {
     "languageId": "r"
    }
   },
   "outputs": [
    {
     "name": "stdout",
     "output_type": "stream",
     "text": [
      "tibble [100 x 10] (S3: tbl_df/tbl/data.frame)\n",
      " $ Diagnosis: num [1:100] 1 1 1 1 1 1 2 3 1 1 ...\n",
      " $ MMSE     : num [1:100] 26 29 29 26 29 28 26 11 28 28 ...\n",
      " $ IADL     : Factor w/ 2 levels \"1\",\"2\": 1 1 1 1 1 1 1 2 1 1 ...\n",
      " $ GSDT     : num [1:100] 0.637 1.038 1.227 0.892 1.156 ...\n",
      " $ FMT_DT   : num [1:100] 12.8 18.4 14.1 10.4 23.7 ...\n",
      " $ FMT_IT   : num [1:100] 31 15.8 17.3 16.8 17.6 ...\n",
      " $ GSST     : num [1:100] 1 1.02 1.18 1.1 1.08 ...\n",
      " $ TMTA     : num [1:100] 48 73 50 65 43 ...\n",
      " $ STEP     : num [1:100] 56 69 91 87 69 67 67 19 97 78 ...\n",
      " $ Age      : num [1:100] 69.3 68.5 61.8 71.4 70 ...\n",
      " - attr(*, \"na.action\")= 'omit' Named int [1:52] 5 7 8 11 12 13 17 18 19 21 ...\n",
      "  ..- attr(*, \"names\")= chr [1:52] \"5\" \"7\" \"8\" \"11\" ...\n"
     ]
    },
    {
     "data": {
      "text/plain": [
       "\n",
       " 1  2 \n",
       "66 15 "
      ]
     },
     "metadata": {},
     "output_type": "display_data"
    },
    {
     "data": {
      "text/plain": [
       "\n",
       " 1  2 \n",
       "66 60 "
      ]
     },
     "metadata": {},
     "output_type": "display_data"
    },
    {
     "data": {
      "text/plain": [
       "\n",
       " 1  3 \n",
       "66 19 "
      ]
     },
     "metadata": {},
     "output_type": "display_data"
    },
    {
     "data": {
      "text/plain": [
       "\n",
       " 1  3 \n",
       "66 57 "
      ]
     },
     "metadata": {},
     "output_type": "display_data"
    },
    {
     "data": {
      "text/html": [
       "<style>\n",
       ".list-inline {list-style: none; margin:0; padding: 0}\n",
       ".list-inline>li {display: inline-block}\n",
       ".list-inline>li:not(:last-child)::after {content: \"\\00b7\"; padding: 0 .5ex}\n",
       "</style>\n",
       "<ol class=list-inline><li>183</li><li>10</li></ol>\n"
      ],
      "text/latex": [
       "\\begin{enumerate*}\n",
       "\\item 183\n",
       "\\item 10\n",
       "\\end{enumerate*}\n"
      ],
      "text/markdown": [
       "1. 183\n",
       "2. 10\n",
       "\n",
       "\n"
      ],
      "text/plain": [
       "[1] 183  10"
      ]
     },
     "metadata": {},
     "output_type": "display_data"
    },
    {
     "data": {
      "text/plain": [
       "\n",
       " 1  2  3 \n",
       "66 60 57 "
      ]
     },
     "metadata": {},
     "output_type": "display_data"
    },
    {
     "data": {
      "image/png": "[encoded data removed]",
      "text/plain": [
       "Plot with title \"Class Distribution - SMOTE\""
      ]
     },
     "metadata": {
      "image/png": {
       "height": 420,
       "width": 420
      }
     },
     "output_type": "display_data"
    }
   ],
   "source": [
    "#SMOTE - variáveis devem ser numéricas\n",
    "#install.packages(\"smotefamily\")\n",
    "require(smotefamily)\n",
    "#Saudáveis e CCL\n",
    "str(data_train_rfe)\n",
    "data_train_rfe$Diagnosis<-as.numeric(data_train_rfe$Diagnosis)\n",
    "data_train_rfe$IADL<-as.numeric(data_train_rfe$IADL)\n",
    "data_train_ccl<- data_train_rfe[data_train_rfe$Diagnosis!=\"3\",] #Apenas saudáveis e CCL\n",
    "table(data_train_ccl$Diagnosis) #(66,15)\n",
    "data_train_ccl$Diagnosis<- as.factor(data_train_ccl$Diagnosis)\n",
    "set.seed(100)\n",
    "data_train_smote<- SMOTE(data_train_ccl[,-1],data_train_ccl[,1],K=1)\n",
    "smote_data_ccl<- data_train_smote$data\n",
    "#View(smote_data_ccl)\n",
    "table(smote_data_ccl$class) #(66,60)\n",
    "#Saudáveis e DA\n",
    "data_train_da<- data_train_rfe[data_train_rfe$Diagnosis!=\"2\",] #Apenas saudáveis e DA\n",
    "table(data_train_da$Diagnosis) #(66,19)\n",
    "data_train_da$Diagnosis<- as.factor(data_train_da$Diagnosis)\n",
    "set.seed(200)\n",
    "data_train_smote2<- SMOTE(data_train_da[,-1],data_train_da[,1],K=1)\n",
    "smote_data_da<- data_train_smote2$data\n",
    "#View(smote_data_da)\n",
    "table(smote_data_da$class) #(66,57)\n",
    "#Unindo DA do smote_data_da com o smote_data_ccl\n",
    "smote_data_da2<- smote_data_da[1:57,]\n",
    "smote_data_final<- rbind(smote_data_ccl,smote_data_da2)\n",
    "dim(smote_data_final)\n",
    "#View(smote_data_final)\n",
    "smote_data_final$class<- as.factor(smote_data_final$class)\n",
    "table(smote_data_final$class) #(66,60,57)\n",
    "classes_smote= smote_data_final$class\n",
    "classes_smote<- as.numeric(classes_smote)\n",
    "classes_smote[classes_smote==1]<- \"1.Healthy\"\n",
    "classes_smote[classes_smote==2]<- \"2.MCI\"\n",
    "classes_smote[classes_smote==3]<- \"3.AD\"\n",
    "barplot(prop.table(table(classes_smote)),\n",
    "        col=c(\"green\",\"blue\",\"red\"),ylim=c(0,0.8),main=\"Class Distribution - SMOTE\")"
   ]
  },
  {
   "cell_type": "code",
   "execution_count": 88,
   "metadata": {
    "vscode": {
     "languageId": "r"
    }
   },
   "outputs": [],
   "source": [
    "smote_data_final$IADL<- as.factor(smote_data_final$IADL)"
   ]
  },
  {
   "cell_type": "code",
   "execution_count": 89,
   "metadata": {
    "vscode": {
     "languageId": "r"
    }
   },
   "outputs": [],
   "source": [
    "require(dplyr)\n",
    "smote_data_final<-rename(smote_data_final,Diagnosis=class)"
   ]
  },
  {
   "cell_type": "code",
   "execution_count": 90,
   "metadata": {
    "vscode": {
     "languageId": "r"
    }
   },
   "outputs": [
    {
     "data": {
      "text/plain": [
       "Random Forest \n",
       "\n",
       "183 samples\n",
       "  9 predictor\n",
       "  3 classes: '1', '2', '3' \n",
       "\n",
       "No pre-processing\n",
       "Resampling: Cross-Validated (5 fold) \n",
       "Summary of sample sizes: 146, 146, 147, 146, 147 \n",
       "Resampling results across tuning parameters:\n",
       "\n",
       "  mtry  Accuracy   Kappa    \n",
       "   2    0.8690691  0.8024481\n",
       "  13    0.8798799  0.8196504\n",
       "  24    0.8525526  0.7788507\n",
       "\n",
       "Accuracy was used to select the optimal model using the largest value.\n",
       "The final value used for the model was mtry = 13."
      ]
     },
     "metadata": {},
     "output_type": "display_data"
    },
    {
     "data": {
      "text/plain": [
       "\n",
       "Call:\n",
       " randomForest(x = x, y = y, mtry = min(param$mtry, ncol(x))) \n",
       "               Type of random forest: classification\n",
       "                     Number of trees: 500\n",
       "No. of variables tried at each split: 13\n",
       "\n",
       "        OOB estimate of  error rate: 10.38%\n",
       "Confusion matrix:\n",
       "   1  2  3 class.error\n",
       "1 57  8  1  0.13636364\n",
       "2  6 52  2  0.13333333\n",
       "3  1  1 55  0.03508772"
      ]
     },
     "metadata": {},
     "output_type": "display_data"
    },
    {
     "data": {
      "text/plain": [
       "\n",
       " 1  2  3 \n",
       "27  6  7 "
      ]
     },
     "metadata": {},
     "output_type": "display_data"
    },
    {
     "data": {
      "image/png": "[encoded data removed]",
      "text/plain": [
       "plot without title"
      ]
     },
     "metadata": {
      "image/png": {
       "height": 420,
       "width": 420
      }
     },
     "output_type": "display_data"
    }
   ],
   "source": [
    "set.seed(444)\n",
    "RF_model_smote=train(Diagnosis~.,data=smote_data_final,method='rf',trControl=trainControl(method='cv',number=5,savePredictions=TRUE))\n",
    "RF_model_smote #best parameter (mtry=13)\n",
    "plot(RF_model_smote) #Não precisa especificar o kappa, visto que as classes n estão mais desbalanceadas\n",
    "#RF_model_smote$pred\n",
    "#mtry13<- subset(RF_model_smote$pred,RF_model_smote$pred[4]==13)\n",
    "#mtry13\n",
    "RF_model_smote$finalModel #Taxa de erro=10.38%\n",
    "table(data_test_rfe$Diagnosis) #(27,6,7) "
   ]
  },
  {
   "cell_type": "code",
   "execution_count": 91,
   "metadata": {
    "vscode": {
     "languageId": "r"
    }
   },
   "outputs": [
    {
     "data": {
      "text/plain": [
       "Confusion Matrix and Statistics\n",
       "\n",
       "                \n",
       "prediction_smote  1  2  3\n",
       "               1 23  5  1\n",
       "               2  3  1  0\n",
       "               3  1  0  6\n",
       "\n",
       "Overall Statistics\n",
       "                                         \n",
       "               Accuracy : 0.75           \n",
       "                 95% CI : (0.588, 0.8731)\n",
       "    No Information Rate : 0.675          \n",
       "    P-Value [Acc > NIR] : 0.2011         \n",
       "                                         \n",
       "                  Kappa : 0.4624         \n",
       "                                         \n",
       " Mcnemar's Test P-Value : NA             \n",
       "\n",
       "Statistics by Class:\n",
       "\n",
       "                     Class: 1 Class: 2 Class: 3\n",
       "Sensitivity            0.8519   0.1667   0.8571\n",
       "Specificity            0.5385   0.9118   0.9697\n",
       "Pos Pred Value         0.7931   0.2500   0.8571\n",
       "Neg Pred Value         0.6364   0.8611   0.9697\n",
       "Prevalence             0.6750   0.1500   0.1750\n",
       "Detection Rate         0.5750   0.0250   0.1500\n",
       "Detection Prevalence   0.7250   0.1000   0.1750\n",
       "Balanced Accuracy      0.6952   0.5392   0.9134"
      ]
     },
     "metadata": {},
     "output_type": "display_data"
    },
    {
     "data": {
      "text/html": [
       "<table class=\"dataframe\">\n",
       "<caption>A matrix: 3 × 11 of type dbl</caption>\n",
       "<thead>\n",
       "\t<tr><th></th><th scope=col>Sensitivity</th><th scope=col>Specificity</th><th scope=col>Pos Pred Value</th><th scope=col>Neg Pred Value</th><th scope=col>Precision</th><th scope=col>Recall</th><th scope=col>F1</th><th scope=col>Prevalence</th><th scope=col>Detection Rate</th><th scope=col>Detection Prevalence</th><th scope=col>Balanced Accuracy</th></tr>\n",
       "</thead>\n",
       "<tbody>\n",
       "\t<tr><th scope=row>Class: 1</th><td>0.8518519</td><td>0.5384615</td><td>0.7931034</td><td>0.6363636</td><td>0.7931034</td><td>0.8518519</td><td>0.8214286</td><td>0.675</td><td>0.575</td><td>0.725</td><td>0.6951567</td></tr>\n",
       "\t<tr><th scope=row>Class: 2</th><td>0.1666667</td><td>0.9117647</td><td>0.2500000</td><td>0.8611111</td><td>0.2500000</td><td>0.1666667</td><td>0.2000000</td><td>0.150</td><td>0.025</td><td>0.100</td><td>0.5392157</td></tr>\n",
       "\t<tr><th scope=row>Class: 3</th><td>0.8571429</td><td>0.9696970</td><td>0.8571429</td><td>0.9696970</td><td>0.8571429</td><td>0.8571429</td><td>0.8571429</td><td>0.175</td><td>0.150</td><td>0.175</td><td>0.9134199</td></tr>\n",
       "</tbody>\n",
       "</table>\n"
      ],
      "text/latex": [
       "A matrix: 3 × 11 of type dbl\n",
       "\\begin{tabular}{r|lllllllllll}\n",
       "  & Sensitivity & Specificity & Pos Pred Value & Neg Pred Value & Precision & Recall & F1 & Prevalence & Detection Rate & Detection Prevalence & Balanced Accuracy\\\\\n",
       "\\hline\n",
       "\tClass: 1 & 0.8518519 & 0.5384615 & 0.7931034 & 0.6363636 & 0.7931034 & 0.8518519 & 0.8214286 & 0.675 & 0.575 & 0.725 & 0.6951567\\\\\n",
       "\tClass: 2 & 0.1666667 & 0.9117647 & 0.2500000 & 0.8611111 & 0.2500000 & 0.1666667 & 0.2000000 & 0.150 & 0.025 & 0.100 & 0.5392157\\\\\n",
       "\tClass: 3 & 0.8571429 & 0.9696970 & 0.8571429 & 0.9696970 & 0.8571429 & 0.8571429 & 0.8571429 & 0.175 & 0.150 & 0.175 & 0.9134199\\\\\n",
       "\\end{tabular}\n"
      ],
      "text/markdown": [
       "\n",
       "A matrix: 3 × 11 of type dbl\n",
       "\n",
       "| <!--/--> | Sensitivity | Specificity | Pos Pred Value | Neg Pred Value | Precision | Recall | F1 | Prevalence | Detection Rate | Detection Prevalence | Balanced Accuracy |\n",
       "|---|---|---|---|---|---|---|---|---|---|---|---|\n",
       "| Class: 1 | 0.8518519 | 0.5384615 | 0.7931034 | 0.6363636 | 0.7931034 | 0.8518519 | 0.8214286 | 0.675 | 0.575 | 0.725 | 0.6951567 |\n",
       "| Class: 2 | 0.1666667 | 0.9117647 | 0.2500000 | 0.8611111 | 0.2500000 | 0.1666667 | 0.2000000 | 0.150 | 0.025 | 0.100 | 0.5392157 |\n",
       "| Class: 3 | 0.8571429 | 0.9696970 | 0.8571429 | 0.9696970 | 0.8571429 | 0.8571429 | 0.8571429 | 0.175 | 0.150 | 0.175 | 0.9134199 |\n",
       "\n"
      ],
      "text/plain": [
       "         Sensitivity Specificity Pos Pred Value Neg Pred Value Precision\n",
       "Class: 1 0.8518519   0.5384615   0.7931034      0.6363636      0.7931034\n",
       "Class: 2 0.1666667   0.9117647   0.2500000      0.8611111      0.2500000\n",
       "Class: 3 0.8571429   0.9696970   0.8571429      0.9696970      0.8571429\n",
       "         Recall    F1        Prevalence Detection Rate Detection Prevalence\n",
       "Class: 1 0.8518519 0.8214286 0.675      0.575          0.725               \n",
       "Class: 2 0.1666667 0.2000000 0.150      0.025          0.100               \n",
       "Class: 3 0.8571429 0.8571429 0.175      0.150          0.175               \n",
       "         Balanced Accuracy\n",
       "Class: 1 0.6951567        \n",
       "Class: 2 0.5392157        \n",
       "Class: 3 0.9134199        "
      ]
     },
     "metadata": {},
     "output_type": "display_data"
    },
    {
     "data": {
      "text/plain": [
       "rf variable importance\n",
       "\n",
       "  only 20 most important variables shown (out of 24)\n",
       "\n",
       "                       Overall\n",
       "MMSE                 100.00000\n",
       "FMT_IT                55.19639\n",
       "Age                   32.97636\n",
       "FMT_DT                26.85057\n",
       "GSST                  25.31431\n",
       "IADL2                 24.42051\n",
       "TMTA                  17.19502\n",
       "GSDT                  12.37460\n",
       "STEP                  10.29239\n",
       "IADL1.18040724517778   1.18258\n",
       "IADL1.62939085043035   0.63673\n",
       "IADL1.64710119413212   0.51910\n",
       "IADL1.46370117808692   0.35938\n",
       "IADL1.960573092103     0.24965\n",
       "IADL1.98956413660198   0.23038\n",
       "IADL1.57989854947664   0.09393\n",
       "IADL1.82857978739776   0.05865\n",
       "IADL1.53581115393899   0.05570\n",
       "IADL1.35947511484846   0.05563\n",
       "IADL1.51169400592335   0.01438"
      ]
     },
     "metadata": {},
     "output_type": "display_data"
    },
    {
     "data": {
      "image/png": "[encoded data removed]",
      "text/plain": [
       "plot without title"
      ]
     },
     "metadata": {
      "image/png": {
       "height": 420,
       "width": 420
      }
     },
     "output_type": "display_data"
    }
   ],
   "source": [
    "prediction_smote<- predict(RF_model_smote,data_test_rfe)\n",
    "confusionMatrix(table(prediction_smote,data_test_rfe$Diagnosis)) #Acurácia = 75%\n",
    "confusionMatrix(table(prediction_smote,data_test_rfe$Diagnosis))$byClass #Recall e F1 CCL(0.16 e 0.2)\n",
    "varImp(RF_model_smote)\n",
    "plot(varImp(RF_model_smote),main=\"Variables Importance - Random Forest (SMOTE)\")\n",
    "recall_RF_smote=confusionMatrix(table(prediction_smote,data_test_rfe$Diagnosis))$byClass[17]\n",
    "F1_RF_smote= confusionMatrix(table(prediction_smote,data_test_rfe$Diagnosis))$byClass[20]"
   ]
  },
  {
   "cell_type": "markdown",
   "metadata": {},
   "source": [
    "### Decision tree - smote"
   ]
  },
  {
   "cell_type": "code",
   "execution_count": 94,
   "metadata": {
    "vscode": {
     "languageId": "r"
    }
   },
   "outputs": [
    {
     "data": {
      "text/plain": [
       "\n",
       " 1  2 \n",
       "66 15 "
      ]
     },
     "metadata": {},
     "output_type": "display_data"
    },
    {
     "data": {
      "text/plain": [
       "\n",
       " 1  2 \n",
       "66 60 "
      ]
     },
     "metadata": {},
     "output_type": "display_data"
    },
    {
     "data": {
      "text/plain": [
       "\n",
       " 1  3 \n",
       "66 19 "
      ]
     },
     "metadata": {},
     "output_type": "display_data"
    },
    {
     "data": {
      "text/plain": [
       "\n",
       " 1  3 \n",
       "66 57 "
      ]
     },
     "metadata": {},
     "output_type": "display_data"
    },
    {
     "data": {
      "text/html": [
       "<style>\n",
       ".list-inline {list-style: none; margin:0; padding: 0}\n",
       ".list-inline>li {display: inline-block}\n",
       ".list-inline>li:not(:last-child)::after {content: \"\\00b7\"; padding: 0 .5ex}\n",
       "</style>\n",
       "<ol class=list-inline><li>183</li><li>10</li></ol>\n"
      ],
      "text/latex": [
       "\\begin{enumerate*}\n",
       "\\item 183\n",
       "\\item 10\n",
       "\\end{enumerate*}\n"
      ],
      "text/markdown": [
       "1. 183\n",
       "2. 10\n",
       "\n",
       "\n"
      ],
      "text/plain": [
       "[1] 183  10"
      ]
     },
     "metadata": {},
     "output_type": "display_data"
    },
    {
     "data": {
      "text/plain": [
       "\n",
       " 1  2  3 \n",
       "66 60 57 "
      ]
     },
     "metadata": {},
     "output_type": "display_data"
    }
   ],
   "source": [
    "#install.packages(\"rpart\")\n",
    "require(rpart)\n",
    "#install.packages(\"rpart.plot\")\n",
    "require(rpart.plot)\n",
    "#str(data_train_rfe2)\n",
    "data_train_rfe2$Diagnosis<-as.numeric(data_train_rfe2$Diagnosis)\n",
    "data_train_rfe2$IADL<-as.numeric(data_train_rfe2$IADL)\n",
    "data_train_rfe2$Sex<-as.numeric(data_train_rfe2$Sex)\n",
    "data_train_ccl<- data_train_rfe2[data_train_rfe2$Diagnosis!=\"3\",] #Apenas saudáveis e CCL\n",
    "table(data_train_ccl$Diagnosis) #(66,15)\n",
    "data_train_ccl$Diagnosis<- as.factor(data_train_ccl$Diagnosis)\n",
    "set.seed(100)\n",
    "data_train_smote<- SMOTE(data_train_ccl[,-1],data_train_ccl[,1],K=1)\n",
    "smote_data_ccl<- data_train_smote$data\n",
    "#View(smote_data_ccl)\n",
    "table(smote_data_ccl$class) #(66,60)\n",
    "#Sau e DA\n",
    "data_train_da<- data_train_rfe2[data_train_rfe2$Diagnosis!=\"2\",] #Apenas saudáveis e DA\n",
    "table(data_train_da$Diagnosis) #(66,19)\n",
    "data_train_da$Diagnosis<- as.factor(data_train_da$Diagnosis)\n",
    "set.seed(200)\n",
    "data_train_smote2<- SMOTE(data_train_da[,-1],data_train_da[,1],K=1)\n",
    "smote_data_da<- data_train_smote2$data\n",
    "#View(smote_data_da)\n",
    "table(smote_data_da$class) #(66,57)\n",
    "#Unindo DA do smote_data_da com o smote_data_ccl\n",
    "smote_data_da2<- smote_data_da[1:57,]\n",
    "smote_data_final2<- rbind(smote_data_ccl,smote_data_da2)\n",
    "dim(smote_data_final2)\n",
    "#View(smote_data_final)\n",
    "smote_data_final2$class<- as.factor(smote_data_final2$class)\n",
    "table(smote_data_final2$class) #(66,60,57)"
   ]
  },
  {
   "cell_type": "code",
   "execution_count": 95,
   "metadata": {
    "vscode": {
     "languageId": "r"
    }
   },
   "outputs": [],
   "source": [
    "require(dplyr)\n",
    "smote_data_final2<-rename(smote_data_final2,Diagnosis=class)"
   ]
  },
  {
   "cell_type": "code",
   "execution_count": 96,
   "metadata": {
    "vscode": {
     "languageId": "r"
    }
   },
   "outputs": [
    {
     "data": {
      "text/plain": [
       "CART \n",
       "\n",
       "183 samples\n",
       "  9 predictor\n",
       "  3 classes: '1', '2', '3' \n",
       "\n",
       "No pre-processing\n",
       "Resampling: Cross-Validated (5 fold) \n",
       "Summary of sample sizes: 147, 145, 147, 147, 146 \n",
       "Resampling results across tuning parameters:\n",
       "\n",
       "  cp          Accuracy   Kappa    \n",
       "  0.07264957  0.8147858  0.7228854\n",
       "  0.26495726  0.7596807  0.6392572\n",
       "  0.46153846  0.5335309  0.2773190\n",
       "\n",
       "Accuracy was used to select the optimal model using the largest value.\n",
       "The final value used for the model was cp = 0.07264957."
      ]
     },
     "metadata": {},
     "output_type": "display_data"
    },
    {
     "data": {
      "text/plain": [
       "n= 183 \n",
       "\n",
       "node), split, n, loss, yval, (yprob)\n",
       "      * denotes terminal node\n",
       "\n",
       "1) root 183 117 1 (0.36065574 0.32786885 0.31147541)  \n",
       "  2) MMSE>=23.61978 127  61 1 (0.51968504 0.45669291 0.02362205)  \n",
       "    4) FMT_IT< 24.775 41   1 1 (0.97560976 0.02439024 0.00000000) *\n",
       "    5) FMT_IT>=24.775 86  29 2 (0.30232558 0.66279070 0.03488372) *\n",
       "  3) MMSE< 23.61978 56   2 3 (0.00000000 0.03571429 0.96428571) *"
      ]
     },
     "metadata": {},
     "output_type": "display_data"
    },
    {
     "data": {
      "text/plain": [
       "Confusion Matrix and Statistics\n",
       "\n",
       "                 \n",
       "prediction_smote2  1  2  3\n",
       "                1 16  4  0\n",
       "                2 11  2  1\n",
       "                3  0  0  6\n",
       "\n",
       "Overall Statistics\n",
       "                                          \n",
       "               Accuracy : 0.6             \n",
       "                 95% CI : (0.4333, 0.7514)\n",
       "    No Information Rate : 0.675           \n",
       "    P-Value [Acc > NIR] : 0.8801          \n",
       "                                          \n",
       "                  Kappa : 0.3148          \n",
       "                                          \n",
       " Mcnemar's Test P-Value : NA              \n",
       "\n",
       "Statistics by Class:\n",
       "\n",
       "                     Class: 1 Class: 2 Class: 3\n",
       "Sensitivity            0.5926   0.3333   0.8571\n",
       "Specificity            0.6923   0.6471   1.0000\n",
       "Pos Pred Value         0.8000   0.1429   1.0000\n",
       "Neg Pred Value         0.4500   0.8462   0.9706\n",
       "Prevalence             0.6750   0.1500   0.1750\n",
       "Detection Rate         0.4000   0.0500   0.1500\n",
       "Detection Prevalence   0.5000   0.3500   0.1500\n",
       "Balanced Accuracy      0.6425   0.4902   0.9286"
      ]
     },
     "metadata": {},
     "output_type": "display_data"
    },
    {
     "data": {
      "text/html": [
       "<table class=\"dataframe\">\n",
       "<caption>A matrix: 3 × 11 of type dbl</caption>\n",
       "<thead>\n",
       "\t<tr><th></th><th scope=col>Sensitivity</th><th scope=col>Specificity</th><th scope=col>Pos Pred Value</th><th scope=col>Neg Pred Value</th><th scope=col>Precision</th><th scope=col>Recall</th><th scope=col>F1</th><th scope=col>Prevalence</th><th scope=col>Detection Rate</th><th scope=col>Detection Prevalence</th><th scope=col>Balanced Accuracy</th></tr>\n",
       "</thead>\n",
       "<tbody>\n",
       "\t<tr><th scope=row>Class: 1</th><td>0.5925926</td><td>0.6923077</td><td>0.8000000</td><td>0.4500000</td><td>0.8000000</td><td>0.5925926</td><td>0.6808511</td><td>0.675</td><td>0.40</td><td>0.50</td><td>0.6424501</td></tr>\n",
       "\t<tr><th scope=row>Class: 2</th><td>0.3333333</td><td>0.6470588</td><td>0.1428571</td><td>0.8461538</td><td>0.1428571</td><td>0.3333333</td><td>0.2000000</td><td>0.150</td><td>0.05</td><td>0.35</td><td>0.4901961</td></tr>\n",
       "\t<tr><th scope=row>Class: 3</th><td>0.8571429</td><td>1.0000000</td><td>1.0000000</td><td>0.9705882</td><td>1.0000000</td><td>0.8571429</td><td>0.9230769</td><td>0.175</td><td>0.15</td><td>0.15</td><td>0.9285714</td></tr>\n",
       "</tbody>\n",
       "</table>\n"
      ],
      "text/latex": [
       "A matrix: 3 × 11 of type dbl\n",
       "\\begin{tabular}{r|lllllllllll}\n",
       "  & Sensitivity & Specificity & Pos Pred Value & Neg Pred Value & Precision & Recall & F1 & Prevalence & Detection Rate & Detection Prevalence & Balanced Accuracy\\\\\n",
       "\\hline\n",
       "\tClass: 1 & 0.5925926 & 0.6923077 & 0.8000000 & 0.4500000 & 0.8000000 & 0.5925926 & 0.6808511 & 0.675 & 0.40 & 0.50 & 0.6424501\\\\\n",
       "\tClass: 2 & 0.3333333 & 0.6470588 & 0.1428571 & 0.8461538 & 0.1428571 & 0.3333333 & 0.2000000 & 0.150 & 0.05 & 0.35 & 0.4901961\\\\\n",
       "\tClass: 3 & 0.8571429 & 1.0000000 & 1.0000000 & 0.9705882 & 1.0000000 & 0.8571429 & 0.9230769 & 0.175 & 0.15 & 0.15 & 0.9285714\\\\\n",
       "\\end{tabular}\n"
      ],
      "text/markdown": [
       "\n",
       "A matrix: 3 × 11 of type dbl\n",
       "\n",
       "| <!--/--> | Sensitivity | Specificity | Pos Pred Value | Neg Pred Value | Precision | Recall | F1 | Prevalence | Detection Rate | Detection Prevalence | Balanced Accuracy |\n",
       "|---|---|---|---|---|---|---|---|---|---|---|---|\n",
       "| Class: 1 | 0.5925926 | 0.6923077 | 0.8000000 | 0.4500000 | 0.8000000 | 0.5925926 | 0.6808511 | 0.675 | 0.40 | 0.50 | 0.6424501 |\n",
       "| Class: 2 | 0.3333333 | 0.6470588 | 0.1428571 | 0.8461538 | 0.1428571 | 0.3333333 | 0.2000000 | 0.150 | 0.05 | 0.35 | 0.4901961 |\n",
       "| Class: 3 | 0.8571429 | 1.0000000 | 1.0000000 | 0.9705882 | 1.0000000 | 0.8571429 | 0.9230769 | 0.175 | 0.15 | 0.15 | 0.9285714 |\n",
       "\n"
      ],
      "text/plain": [
       "         Sensitivity Specificity Pos Pred Value Neg Pred Value Precision\n",
       "Class: 1 0.5925926   0.6923077   0.8000000      0.4500000      0.8000000\n",
       "Class: 2 0.3333333   0.6470588   0.1428571      0.8461538      0.1428571\n",
       "Class: 3 0.8571429   1.0000000   1.0000000      0.9705882      1.0000000\n",
       "         Recall    F1        Prevalence Detection Rate Detection Prevalence\n",
       "Class: 1 0.5925926 0.6808511 0.675      0.40           0.50                \n",
       "Class: 2 0.3333333 0.2000000 0.150      0.05           0.35                \n",
       "Class: 3 0.8571429 0.9230769 0.175      0.15           0.15                \n",
       "         Balanced Accuracy\n",
       "Class: 1 0.6424501        \n",
       "Class: 2 0.4901961        \n",
       "Class: 3 0.9285714        "
      ]
     },
     "metadata": {},
     "output_type": "display_data"
    },
    {
     "data": {
      "image/png": "[encoded data removed]",
      "text/plain": [
       "plot without title"
      ]
     },
     "metadata": {
      "image/png": {
       "height": 420,
       "width": 420
      }
     },
     "output_type": "display_data"
    },
    {
     "data": {
      "text/plain": [
       "rpart variable importance\n",
       "\n",
       "       Overall\n",
       "IADL    100.00\n",
       "MMSE     98.91\n",
       "GSST     65.83\n",
       "FMT_DT   47.28\n",
       "FMT_IT   45.73\n",
       "TMTA     45.19\n",
       "Sex      41.18\n",
       "Age      29.23\n",
       "GSDT      0.00"
      ]
     },
     "metadata": {},
     "output_type": "display_data"
    },
    {
     "data": {
      "image/png": "[encoded data removed]",
      "text/plain": [
       "plot without title"
      ]
     },
     "metadata": {
      "image/png": {
       "height": 420,
       "width": 420
      }
     },
     "output_type": "display_data"
    },
    {
     "data": {
      "image/png": "[encoded data removed]",
      "text/plain": [
       "plot without title"
      ]
     },
     "metadata": {
      "image/png": {
       "height": 420,
       "width": 420
      }
     },
     "output_type": "display_data"
    }
   ],
   "source": [
    "Tree_model_smote<- train(Diagnosis~.,data=smote_data_final2,method='rpart',trControl=trainControl(method='cv',number=5,savePredictions=TRUE))\n",
    "Tree_model_smote #best parameter (cp=0.07264957)\n",
    "plot(Tree_model_smote)\n",
    "#Tree_model_smote$pred\n",
    "Tree_model_smote$finalModel\n",
    "data_test_rfe2$IADL<- as.numeric(data_test_rfe2$IADL)\n",
    "data_test_rfe2$Sex<- as.numeric(data_test_rfe2$Sex)\n",
    "prediction_smote2<- predict(Tree_model_smote,data_test_rfe2)\n",
    "confusionMatrix(table(prediction_smote2,data_test_rfe2$Diagnosis)) #Acurácia = 60%\n",
    "confusionMatrix(table(prediction_smote2,data_test_rfe2$Diagnosis))$byClass #Recall e F1 CCL (0.33 e 0.2)\n",
    "rpart.plot(Tree_model_smote$finalModel)\n",
    "varImp(Tree_model_smote)\n",
    "plot(varImp(Tree_model_smote), main=\"Variables importance - Decision Tree (SMOTE)\")\n",
    "recall_tree_smote=confusionMatrix(table(prediction_smote2,data_test_rfe2$Diagnosis))$byClass[17]\n",
    "F1_tree_smote= confusionMatrix(table(prediction_smote2,data_test_rfe2$Diagnosis))$byClass[20]"
   ]
  },
  {
   "cell_type": "markdown",
   "metadata": {},
   "source": [
    "## ROSE "
   ]
  },
  {
   "cell_type": "markdown",
   "metadata": {},
   "source": [
    "### Random Forest - rose"
   ]
  },
  {
   "cell_type": "code",
   "execution_count": 99,
   "metadata": {
    "vscode": {
     "languageId": "r"
    }
   },
   "outputs": [
    {
     "data": {
      "text/plain": [
       "\n",
       " 1  2 \n",
       "66 15 "
      ]
     },
     "metadata": {},
     "output_type": "display_data"
    },
    {
     "data": {
      "text/plain": [
       "\n",
       " 1  2 \n",
       "66 66 "
      ]
     },
     "metadata": {},
     "output_type": "display_data"
    },
    {
     "data": {
      "text/plain": [
       "\n",
       " 1  3 \n",
       "66 19 "
      ]
     },
     "metadata": {},
     "output_type": "display_data"
    },
    {
     "data": {
      "text/plain": [
       "\n",
       " 1  3 \n",
       "66 66 "
      ]
     },
     "metadata": {},
     "output_type": "display_data"
    },
    {
     "data": {
      "text/html": [
       "<style>\n",
       ".list-inline {list-style: none; margin:0; padding: 0}\n",
       ".list-inline>li {display: inline-block}\n",
       ".list-inline>li:not(:last-child)::after {content: \"\\00b7\"; padding: 0 .5ex}\n",
       "</style>\n",
       "<ol class=list-inline><li>198</li><li>10</li></ol>\n"
      ],
      "text/latex": [
       "\\begin{enumerate*}\n",
       "\\item 198\n",
       "\\item 10\n",
       "\\end{enumerate*}\n"
      ],
      "text/markdown": [
       "1. 198\n",
       "2. 10\n",
       "\n",
       "\n"
      ],
      "text/plain": [
       "[1] 198  10"
      ]
     },
     "metadata": {},
     "output_type": "display_data"
    },
    {
     "data": {
      "text/plain": [
       "\n",
       " 1  2  3 \n",
       "66 66 66 "
      ]
     },
     "metadata": {},
     "output_type": "display_data"
    },
    {
     "data": {
      "text/plain": [
       " Diagnosis      MMSE            IADL           GSDT            FMT_DT      \n",
       " 1:66      Min.   :11.00   Min.   :1.00   Min.   :0.3027   Min.   :  9.46  \n",
       " 2:66      1st Qu.:23.00   1st Qu.:1.00   1st Qu.:0.4935   1st Qu.: 14.80  \n",
       " 3:66      Median :26.00   Median :2.00   Median :0.5831   Median : 37.48  \n",
       "           Mean   :25.08   Mean   :1.54   Mean   :0.6632   Mean   : 67.76  \n",
       "           3rd Qu.:29.00   3rd Qu.:2.00   3rd Qu.:0.8287   3rd Qu.: 65.35  \n",
       "           Max.   :30.00   Max.   :2.00   Max.   :1.2270   Max.   :301.00  \n",
       "     FMT_IT            GSST             TMTA             STEP       \n",
       " Min.   :  9.65   Min.   :0.4306   Min.   : 24.62   Min.   : 19.00  \n",
       " 1st Qu.: 23.48   1st Qu.:0.6314   1st Qu.: 50.01   1st Qu.: 55.00  \n",
       " Median : 46.18   Median :0.8242   Median : 70.50   Median : 65.00  \n",
       " Mean   : 74.70   Mean   :0.8172   Mean   : 83.43   Mean   : 66.22  \n",
       " 3rd Qu.: 70.62   3rd Qu.:1.0101   3rd Qu.: 99.03   3rd Qu.: 82.00  \n",
       " Max.   :301.00   Max.   :1.2685   Max.   :181.00   Max.   :131.00  \n",
       "      Age       \n",
       " Min.   :59.69  \n",
       " 1st Qu.:70.81  \n",
       " Median :75.34  \n",
       " Mean   :76.05  \n",
       " 3rd Qu.:81.30  \n",
       " Max.   :94.43  "
      ]
     },
     "metadata": {},
     "output_type": "display_data"
    },
    {
     "data": {
      "image/png": "[encoded data removed]",
      "text/plain": [
       "Plot with title \"Class Distribution - ROSE\""
      ]
     },
     "metadata": {
      "image/png": {
       "height": 420,
       "width": 420
      }
     },
     "output_type": "display_data"
    }
   ],
   "source": [
    "#Só é possível com 2 classes - as obs. são repetidas aleatóriamente\n",
    "#https://www.youtube.com/watch?v=Ho2Klvzjegg\n",
    "#install.packages(\"ROSE\")\n",
    "require(ROSE)\n",
    "#sau e ccl\n",
    "data_train_rfe$Diagnosis<-as.numeric(data_train_rfe$Diagnosis)\n",
    "train_data_ccl<- data_train_rfe[data_train_rfe$Diagnosis!=\"3\",] #Apenas saudáveis e CCL\n",
    "table(train_data_ccl$Diagnosis) #(66,15)\n",
    "train_data_ccl$Diagnosis<- as.factor(train_data_ccl$Diagnosis)\n",
    "set.seed(111)\n",
    "rose_data<- ovun.sample(Diagnosis~.,data=train_data_ccl,method = \"over\",N=132)$data\n",
    "table(rose_data$Diagnosis) #(66,66)\n",
    "#Sau e DA\n",
    "data_train_rfe$Diagnosis<-as.numeric(data_train_rfe$Diagnosis)\n",
    "train_data_da<- data_train_rfe[data_train_rfe$Diagnosis!=\"2\",] #Apenas saudáveis e DA\n",
    "table(train_data_da$Diagnosis) #(66,19)\n",
    "train_data_da$Diagnosis<- as.factor(train_data_da$Diagnosis)\n",
    "set.seed(222)\n",
    "rose_data2<- ovun.sample(Diagnosis~.,data=train_data_da,method = \"over\",N=132)$data\n",
    "table(rose_data2$Diagnosis) #(66,66)\n",
    "#Unindo DA do rose_data2 com o rose_data\n",
    "rose_data_da<- rose_data2[rose_data2$Diagnosis!=\"1\",]\n",
    "rose_data_final<- rbind(rose_data,rose_data_da)\n",
    "dim(rose_data_final)\n",
    "table(rose_data_final$Diagnosis) #(66,66,66)\n",
    "summary(rose_data_final) #Valores podem cair fora do intervalo das variáveis\n",
    "classes_rose= rose_data_final$Diagnosis\n",
    "classes_rose<- as.numeric(classes_rose)\n",
    "classes_rose[classes_rose==1]<- \"1.Healthy\"\n",
    "classes_rose[classes_rose==2]<- \"2.MCI\"\n",
    "classes_rose[classes_rose==3]<- \"3.AD\"\n",
    "barplot(prop.table(table(classes_rose)),\n",
    "        col=c(\"green\",\"blue\",\"red\"),ylim=c(0,0.8),main=\"Class Distribution - ROSE\")"
   ]
  },
  {
   "cell_type": "code",
   "execution_count": 100,
   "metadata": {
    "vscode": {
     "languageId": "r"
    }
   },
   "outputs": [],
   "source": [
    "rose_data_final$IADL<- as.factor(rose_data_final$IADL)"
   ]
  },
  {
   "cell_type": "code",
   "execution_count": 101,
   "metadata": {
    "vscode": {
     "languageId": "r"
    }
   },
   "outputs": [
    {
     "data": {
      "text/plain": [
       "Random Forest \n",
       "\n",
       "198 samples\n",
       "  9 predictor\n",
       "  3 classes: '1', '2', '3' \n",
       "\n",
       "No pre-processing\n",
       "Resampling: Cross-Validated (5 fold) \n",
       "Summary of sample sizes: 158, 159, 158, 158, 159 \n",
       "Resampling results across tuning parameters:\n",
       "\n",
       "  mtry  Accuracy   Kappa    \n",
       "  2     0.9747436  0.9621083\n",
       "  5     0.9597436  0.9396995\n",
       "  9     0.9647436  0.9471551\n",
       "\n",
       "Accuracy was used to select the optimal model using the largest value.\n",
       "The final value used for the model was mtry = 2."
      ]
     },
     "metadata": {},
     "output_type": "display_data"
    },
    {
     "data": {
      "text/plain": [
       "\n",
       "Call:\n",
       " randomForest(x = x, y = y, mtry = min(param$mtry, ncol(x))) \n",
       "               Type of random forest: classification\n",
       "                     Number of trees: 500\n",
       "No. of variables tried at each split: 2\n",
       "\n",
       "        OOB estimate of  error rate: 2.53%\n",
       "Confusion matrix:\n",
       "   1  2  3 class.error\n",
       "1 63  1  2  0.04545455\n",
       "2  1 65  0  0.01515152\n",
       "3  0  1 65  0.01515152"
      ]
     },
     "metadata": {},
     "output_type": "display_data"
    },
    {
     "data": {
      "text/plain": [
       "\n",
       " 1  2  3 \n",
       "27  6  7 "
      ]
     },
     "metadata": {},
     "output_type": "display_data"
    },
    {
     "data": {
      "text/plain": [
       "               \n",
       "prediction_rose  1  2  3\n",
       "              1 26  6  0\n",
       "              2  0  0  0\n",
       "              3  1  0  7"
      ]
     },
     "metadata": {},
     "output_type": "display_data"
    },
    {
     "data": {
      "text/plain": [
       "Confusion Matrix and Statistics\n",
       "\n",
       "               \n",
       "prediction_rose  1  2  3\n",
       "              1 26  6  0\n",
       "              2  0  0  0\n",
       "              3  1  0  7\n",
       "\n",
       "Overall Statistics\n",
       "                                          \n",
       "               Accuracy : 0.825           \n",
       "                 95% CI : (0.6722, 0.9266)\n",
       "    No Information Rate : 0.675           \n",
       "    P-Value [Acc > NIR] : 0.02719         \n",
       "                                          \n",
       "                  Kappa : 0.5882          \n",
       "                                          \n",
       " Mcnemar's Test P-Value : NA              \n",
       "\n",
       "Statistics by Class:\n",
       "\n",
       "                     Class: 1 Class: 2 Class: 3\n",
       "Sensitivity            0.9630     0.00   1.0000\n",
       "Specificity            0.5385     1.00   0.9697\n",
       "Pos Pred Value         0.8125      NaN   0.8750\n",
       "Neg Pred Value         0.8750     0.85   1.0000\n",
       "Prevalence             0.6750     0.15   0.1750\n",
       "Detection Rate         0.6500     0.00   0.1750\n",
       "Detection Prevalence   0.8000     0.00   0.2000\n",
       "Balanced Accuracy      0.7507     0.50   0.9848"
      ]
     },
     "metadata": {},
     "output_type": "display_data"
    },
    {
     "data": {
      "text/html": [
       "<table class=\"dataframe\">\n",
       "<caption>A matrix: 3 × 11 of type dbl</caption>\n",
       "<thead>\n",
       "\t<tr><th></th><th scope=col>Sensitivity</th><th scope=col>Specificity</th><th scope=col>Pos Pred Value</th><th scope=col>Neg Pred Value</th><th scope=col>Precision</th><th scope=col>Recall</th><th scope=col>F1</th><th scope=col>Prevalence</th><th scope=col>Detection Rate</th><th scope=col>Detection Prevalence</th><th scope=col>Balanced Accuracy</th></tr>\n",
       "</thead>\n",
       "<tbody>\n",
       "\t<tr><th scope=row>Class: 1</th><td>0.962963</td><td>0.5384615</td><td>0.8125</td><td>0.875</td><td>0.8125</td><td>0.962963</td><td>0.8813559</td><td>0.675</td><td>0.650</td><td>0.8</td><td>0.7507123</td></tr>\n",
       "\t<tr><th scope=row>Class: 2</th><td>0.000000</td><td>1.0000000</td><td>   NaN</td><td>0.850</td><td>    NA</td><td>0.000000</td><td>       NA</td><td>0.150</td><td>0.000</td><td>0.0</td><td>0.5000000</td></tr>\n",
       "\t<tr><th scope=row>Class: 3</th><td>1.000000</td><td>0.9696970</td><td>0.8750</td><td>1.000</td><td>0.8750</td><td>1.000000</td><td>0.9333333</td><td>0.175</td><td>0.175</td><td>0.2</td><td>0.9848485</td></tr>\n",
       "</tbody>\n",
       "</table>\n"
      ],
      "text/latex": [
       "A matrix: 3 × 11 of type dbl\n",
       "\\begin{tabular}{r|lllllllllll}\n",
       "  & Sensitivity & Specificity & Pos Pred Value & Neg Pred Value & Precision & Recall & F1 & Prevalence & Detection Rate & Detection Prevalence & Balanced Accuracy\\\\\n",
       "\\hline\n",
       "\tClass: 1 & 0.962963 & 0.5384615 & 0.8125 & 0.875 & 0.8125 & 0.962963 & 0.8813559 & 0.675 & 0.650 & 0.8 & 0.7507123\\\\\n",
       "\tClass: 2 & 0.000000 & 1.0000000 &    NaN & 0.850 &     NA & 0.000000 &        NA & 0.150 & 0.000 & 0.0 & 0.5000000\\\\\n",
       "\tClass: 3 & 1.000000 & 0.9696970 & 0.8750 & 1.000 & 0.8750 & 1.000000 & 0.9333333 & 0.175 & 0.175 & 0.2 & 0.9848485\\\\\n",
       "\\end{tabular}\n"
      ],
      "text/markdown": [
       "\n",
       "A matrix: 3 × 11 of type dbl\n",
       "\n",
       "| <!--/--> | Sensitivity | Specificity | Pos Pred Value | Neg Pred Value | Precision | Recall | F1 | Prevalence | Detection Rate | Detection Prevalence | Balanced Accuracy |\n",
       "|---|---|---|---|---|---|---|---|---|---|---|---|\n",
       "| Class: 1 | 0.962963 | 0.5384615 | 0.8125 | 0.875 | 0.8125 | 0.962963 | 0.8813559 | 0.675 | 0.650 | 0.8 | 0.7507123 |\n",
       "| Class: 2 | 0.000000 | 1.0000000 |    NaN | 0.850 |     NA | 0.000000 |        NA | 0.150 | 0.000 | 0.0 | 0.5000000 |\n",
       "| Class: 3 | 1.000000 | 0.9696970 | 0.8750 | 1.000 | 0.8750 | 1.000000 | 0.9333333 | 0.175 | 0.175 | 0.2 | 0.9848485 |\n",
       "\n"
      ],
      "text/plain": [
       "         Sensitivity Specificity Pos Pred Value Neg Pred Value Precision\n",
       "Class: 1 0.962963    0.5384615   0.8125         0.875          0.8125   \n",
       "Class: 2 0.000000    1.0000000      NaN         0.850              NA   \n",
       "Class: 3 1.000000    0.9696970   0.8750         1.000          0.8750   \n",
       "         Recall   F1        Prevalence Detection Rate Detection Prevalence\n",
       "Class: 1 0.962963 0.8813559 0.675      0.650          0.8                 \n",
       "Class: 2 0.000000        NA 0.150      0.000          0.0                 \n",
       "Class: 3 1.000000 0.9333333 0.175      0.175          0.2                 \n",
       "         Balanced Accuracy\n",
       "Class: 1 0.7507123        \n",
       "Class: 2 0.5000000        \n",
       "Class: 3 0.9848485        "
      ]
     },
     "metadata": {},
     "output_type": "display_data"
    },
    {
     "data": {
      "text/plain": [
       "rf variable importance\n",
       "\n",
       "       Overall\n",
       "MMSE   100.000\n",
       "GSDT    79.665\n",
       "GSST    78.337\n",
       "FMT_IT  46.955\n",
       "IADL2   32.900\n",
       "FMT_DT  23.867\n",
       "Age     14.608\n",
       "TMTA     8.777\n",
       "STEP     0.000"
      ]
     },
     "metadata": {},
     "output_type": "display_data"
    },
    {
     "data": {
      "image/png": "[encoded data removed]",
      "text/plain": [
       "plot without title"
      ]
     },
     "metadata": {
      "image/png": {
       "height": 420,
       "width": 420
      }
     },
     "output_type": "display_data"
    },
    {
     "data": {
      "image/png": "[encoded data removed]",
      "text/plain": [
       "plot without title"
      ]
     },
     "metadata": {
      "image/png": {
       "height": 420,
       "width": 420
      }
     },
     "output_type": "display_data"
    }
   ],
   "source": [
    "set.seed(555)\n",
    "RF_model_rose=train(Diagnosis~.,data=rose_data_final,method='rf',trControl=trainControl(method='cv',number=5,savePredictions=TRUE))\n",
    "RF_model_rose #best parameter (mtry=2)\n",
    "plot(RF_model_rose)\n",
    "#RF_model_rose$pred\n",
    "#mtry2<- subset(RF_model_rose$pred,RF_model_rose$pred[4]==2)\n",
    "#mtry2\n",
    "RF_model_rose$finalModel  #Taxa de erro=2.53%\n",
    "table(data_test_rfe2$Diagnosis)  #(27,6,7)\n",
    "prediction_rose<- predict(RF_model_rose,data_test_rfe)\n",
    "table(prediction_rose,data_test_rfe$Diagnosis)\n",
    "confusionMatrix(table(prediction_rose,data_test_rfe$Diagnosis)) #Acurácia = 82.5%\n",
    "confusionMatrix(table(prediction_rose,data_test_rfe$Diagnosis))$byClass #Recall e F1 ccl (0 e Nan)\n",
    "varImp(RF_model_rose)\n",
    "plot(varImp(RF_model_rose),main=\"Variables Importance - Random Forest (ROSE)\")\n",
    "recall_RF_rose=confusionMatrix(table(prediction_rose,data_test_rfe$Diagnosis))$byClass[17]\n",
    "F1_RF_rose= confusionMatrix(table(prediction_rose,data_test_rfe$Diagnosis))$byClass[20]"
   ]
  },
  {
   "cell_type": "markdown",
   "metadata": {},
   "source": [
    "### Decision Tree - rose"
   ]
  },
  {
   "cell_type": "code",
   "execution_count": 102,
   "metadata": {
    "vscode": {
     "languageId": "r"
    }
   },
   "outputs": [
    {
     "data": {
      "text/plain": [
       "\n",
       " 1  2 \n",
       "66 15 "
      ]
     },
     "metadata": {},
     "output_type": "display_data"
    },
    {
     "data": {
      "text/plain": [
       "\n",
       " 1  2 \n",
       "66 66 "
      ]
     },
     "metadata": {},
     "output_type": "display_data"
    },
    {
     "data": {
      "text/plain": [
       "\n",
       " 1  3 \n",
       "66 19 "
      ]
     },
     "metadata": {},
     "output_type": "display_data"
    },
    {
     "data": {
      "text/plain": [
       "\n",
       " 1  3 \n",
       "66 66 "
      ]
     },
     "metadata": {},
     "output_type": "display_data"
    },
    {
     "data": {
      "text/html": [
       "<style>\n",
       ".list-inline {list-style: none; margin:0; padding: 0}\n",
       ".list-inline>li {display: inline-block}\n",
       ".list-inline>li:not(:last-child)::after {content: \"\\00b7\"; padding: 0 .5ex}\n",
       "</style>\n",
       "<ol class=list-inline><li>198</li><li>10</li></ol>\n"
      ],
      "text/latex": [
       "\\begin{enumerate*}\n",
       "\\item 198\n",
       "\\item 10\n",
       "\\end{enumerate*}\n"
      ],
      "text/markdown": [
       "1. 198\n",
       "2. 10\n",
       "\n",
       "\n"
      ],
      "text/plain": [
       "[1] 198  10"
      ]
     },
     "metadata": {},
     "output_type": "display_data"
    },
    {
     "data": {
      "text/plain": [
       "\n",
       " 1  2  3 \n",
       "66 66 66 "
      ]
     },
     "metadata": {},
     "output_type": "display_data"
    }
   ],
   "source": [
    "data_train_rfe2$Diagnosis<-as.numeric(data_train_rfe2$Diagnosis)\n",
    "train_data_ccl<- data_train_rfe2[data_train_rfe2$Diagnosis!=\"3\",] #Apenas saudáveis e CCL\n",
    "table(train_data_ccl$Diagnosis) #(66,15)\n",
    "train_data_ccl$Diagnosis<- as.factor(train_data_ccl$Diagnosis)\n",
    "set.seed(111)\n",
    "rose_data<- ovun.sample(Diagnosis~.,data=train_data_ccl,method = \"over\",N=132)$data\n",
    "table(rose_data$Diagnosis) #(66,66)\n",
    "#Sau e DA\n",
    "data_train_rfe2$Diagnosis<-as.numeric(data_train_rfe2$Diagnosis)\n",
    "train_data_da<- data_train_rfe2[data_train_rfe2$Diagnosis!=\"2\",] #Apenas saudáveis e DA\n",
    "table(train_data_da$Diagnosis) #(66,19)\n",
    "train_data_da$Diagnosis<- as.factor(train_data_da$Diagnosis)\n",
    "set.seed(222)\n",
    "rose_data2<- ovun.sample(Diagnosis~.,data=train_data_da,method = \"over\",N=132)$data\n",
    "table(rose_data2$Diagnosis) #(66,66)\n",
    "#Unindo DA do rose_data2 com o rose_data\n",
    "rose_data_da<- rose_data2[rose_data2$Diagnosis!=\"1\",]\n",
    "rose_data_final<- rbind(rose_data,rose_data_da)\n",
    "dim(rose_data_final)\n",
    "table(rose_data_final$Diagnosis) #(66,66,66)\n",
    "#summary(rose_data_final) #Valores podem cair fora do intervalo das variáveis"
   ]
  },
  {
   "cell_type": "code",
   "execution_count": 103,
   "metadata": {
    "vscode": {
     "languageId": "r"
    }
   },
   "outputs": [
    {
     "data": {
      "text/plain": [
       "CART \n",
       "\n",
       "198 samples\n",
       "  9 predictor\n",
       "  3 classes: '1', '2', '3' \n",
       "\n",
       "No pre-processing\n",
       "Resampling: Cross-Validated (5 fold) \n",
       "Summary of sample sizes: 159, 158, 158, 159, 158 \n",
       "Resampling results across tuning parameters:\n",
       "\n",
       "  cp          Accuracy   Kappa    \n",
       "  0.06060606  0.6869231  0.5303752\n",
       "  0.18939394  0.6719231  0.5093262\n",
       "  0.43939394  0.4397436  0.1660969\n",
       "\n",
       "Accuracy was used to select the optimal model using the largest value.\n",
       "The final value used for the model was cp = 0.06060606."
      ]
     },
     "metadata": {},
     "output_type": "display_data"
    },
    {
     "data": {
      "image/png": "[encoded data removed]",
      "text/plain": [
       "plot without title"
      ]
     },
     "metadata": {
      "image/png": {
       "height": 420,
       "width": 420
      }
     },
     "output_type": "display_data"
    }
   ],
   "source": [
    "set.seed(456)\n",
    "tree_model_rose2<- train(Diagnosis~.,data=rose_data_final,method='rpart',trControl=trainControl(method='cv',number=5,savePredictions=TRUE))\n",
    "tree_model_rose2 #best parameter (cp=0.06060606)\n",
    "plot(tree_model_rose2)\n",
    "#tree_model_rose2$pred\n",
    "#tree_model_rose2$finalModel"
   ]
  },
  {
   "cell_type": "code",
   "execution_count": 104,
   "metadata": {
    "vscode": {
     "languageId": "r"
    }
   },
   "outputs": [
    {
     "data": {
      "text/plain": [
       "Confusion Matrix and Statistics\n",
       "\n",
       "                \n",
       "prediction_rose2  1  2  3\n",
       "               1 17  3  0\n",
       "               2 10  3  1\n",
       "               3  0  0  6\n",
       "\n",
       "Overall Statistics\n",
       "                                          \n",
       "               Accuracy : 0.65            \n",
       "                 95% CI : (0.4832, 0.7937)\n",
       "    No Information Rate : 0.675           \n",
       "    P-Value [Acc > NIR] : 0.6986          \n",
       "                                          \n",
       "                  Kappa : 0.4004          \n",
       "                                          \n",
       " Mcnemar's Test P-Value : NA              \n",
       "\n",
       "Statistics by Class:\n",
       "\n",
       "                     Class: 1 Class: 2 Class: 3\n",
       "Sensitivity            0.6296   0.5000   0.8571\n",
       "Specificity            0.7692   0.6765   1.0000\n",
       "Pos Pred Value         0.8500   0.2143   1.0000\n",
       "Neg Pred Value         0.5000   0.8846   0.9706\n",
       "Prevalence             0.6750   0.1500   0.1750\n",
       "Detection Rate         0.4250   0.0750   0.1500\n",
       "Detection Prevalence   0.5000   0.3500   0.1500\n",
       "Balanced Accuracy      0.6994   0.5882   0.9286"
      ]
     },
     "metadata": {},
     "output_type": "display_data"
    },
    {
     "data": {
      "text/html": [
       "<table class=\"dataframe\">\n",
       "<caption>A matrix: 3 × 11 of type dbl</caption>\n",
       "<thead>\n",
       "\t<tr><th></th><th scope=col>Sensitivity</th><th scope=col>Specificity</th><th scope=col>Pos Pred Value</th><th scope=col>Neg Pred Value</th><th scope=col>Precision</th><th scope=col>Recall</th><th scope=col>F1</th><th scope=col>Prevalence</th><th scope=col>Detection Rate</th><th scope=col>Detection Prevalence</th><th scope=col>Balanced Accuracy</th></tr>\n",
       "</thead>\n",
       "<tbody>\n",
       "\t<tr><th scope=row>Class: 1</th><td>0.6296296</td><td>0.7692308</td><td>0.8500000</td><td>0.5000000</td><td>0.8500000</td><td>0.6296296</td><td>0.7234043</td><td>0.675</td><td>0.425</td><td>0.50</td><td>0.6994302</td></tr>\n",
       "\t<tr><th scope=row>Class: 2</th><td>0.5000000</td><td>0.6764706</td><td>0.2142857</td><td>0.8846154</td><td>0.2142857</td><td>0.5000000</td><td>0.3000000</td><td>0.150</td><td>0.075</td><td>0.35</td><td>0.5882353</td></tr>\n",
       "\t<tr><th scope=row>Class: 3</th><td>0.8571429</td><td>1.0000000</td><td>1.0000000</td><td>0.9705882</td><td>1.0000000</td><td>0.8571429</td><td>0.9230769</td><td>0.175</td><td>0.150</td><td>0.15</td><td>0.9285714</td></tr>\n",
       "</tbody>\n",
       "</table>\n"
      ],
      "text/latex": [
       "A matrix: 3 × 11 of type dbl\n",
       "\\begin{tabular}{r|lllllllllll}\n",
       "  & Sensitivity & Specificity & Pos Pred Value & Neg Pred Value & Precision & Recall & F1 & Prevalence & Detection Rate & Detection Prevalence & Balanced Accuracy\\\\\n",
       "\\hline\n",
       "\tClass: 1 & 0.6296296 & 0.7692308 & 0.8500000 & 0.5000000 & 0.8500000 & 0.6296296 & 0.7234043 & 0.675 & 0.425 & 0.50 & 0.6994302\\\\\n",
       "\tClass: 2 & 0.5000000 & 0.6764706 & 0.2142857 & 0.8846154 & 0.2142857 & 0.5000000 & 0.3000000 & 0.150 & 0.075 & 0.35 & 0.5882353\\\\\n",
       "\tClass: 3 & 0.8571429 & 1.0000000 & 1.0000000 & 0.9705882 & 1.0000000 & 0.8571429 & 0.9230769 & 0.175 & 0.150 & 0.15 & 0.9285714\\\\\n",
       "\\end{tabular}\n"
      ],
      "text/markdown": [
       "\n",
       "A matrix: 3 × 11 of type dbl\n",
       "\n",
       "| <!--/--> | Sensitivity | Specificity | Pos Pred Value | Neg Pred Value | Precision | Recall | F1 | Prevalence | Detection Rate | Detection Prevalence | Balanced Accuracy |\n",
       "|---|---|---|---|---|---|---|---|---|---|---|---|\n",
       "| Class: 1 | 0.6296296 | 0.7692308 | 0.8500000 | 0.5000000 | 0.8500000 | 0.6296296 | 0.7234043 | 0.675 | 0.425 | 0.50 | 0.6994302 |\n",
       "| Class: 2 | 0.5000000 | 0.6764706 | 0.2142857 | 0.8846154 | 0.2142857 | 0.5000000 | 0.3000000 | 0.150 | 0.075 | 0.35 | 0.5882353 |\n",
       "| Class: 3 | 0.8571429 | 1.0000000 | 1.0000000 | 0.9705882 | 1.0000000 | 0.8571429 | 0.9230769 | 0.175 | 0.150 | 0.15 | 0.9285714 |\n",
       "\n"
      ],
      "text/plain": [
       "         Sensitivity Specificity Pos Pred Value Neg Pred Value Precision\n",
       "Class: 1 0.6296296   0.7692308   0.8500000      0.5000000      0.8500000\n",
       "Class: 2 0.5000000   0.6764706   0.2142857      0.8846154      0.2142857\n",
       "Class: 3 0.8571429   1.0000000   1.0000000      0.9705882      1.0000000\n",
       "         Recall    F1        Prevalence Detection Rate Detection Prevalence\n",
       "Class: 1 0.6296296 0.7234043 0.675      0.425          0.50                \n",
       "Class: 2 0.5000000 0.3000000 0.150      0.075          0.35                \n",
       "Class: 3 0.8571429 0.9230769 0.175      0.150          0.15                \n",
       "         Balanced Accuracy\n",
       "Class: 1 0.6994302        \n",
       "Class: 2 0.5882353        \n",
       "Class: 3 0.9285714        "
      ]
     },
     "metadata": {},
     "output_type": "display_data"
    },
    {
     "data": {
      "text/plain": [
       "rpart variable importance\n",
       "\n",
       "       Overall\n",
       "IADL    100.00\n",
       "GSST     98.31\n",
       "MMSE     97.93\n",
       "GSDT     73.61\n",
       "TMTA     58.73\n",
       "Age      35.47\n",
       "FMT_IT   35.33\n",
       "Sex      14.88\n",
       "FMT_DT    0.00"
      ]
     },
     "metadata": {},
     "output_type": "display_data"
    },
    {
     "data": {
      "image/png": "[encoded data removed]",
      "text/plain": [
       "plot without title"
      ]
     },
     "metadata": {
      "image/png": {
       "height": 420,
       "width": 420
      }
     },
     "output_type": "display_data"
    },
    {
     "data": {
      "image/png": "[encoded data removed]",
      "text/plain": [
       "plot without title"
      ]
     },
     "metadata": {
      "image/png": {
       "height": 420,
       "width": 420
      }
     },
     "output_type": "display_data"
    }
   ],
   "source": [
    "prediction_rose2<- predict(tree_model_rose2,data_test_rfe2)\n",
    "confusionMatrix(table(prediction_rose2,data_test_rfe2$Diagnosis)) #Acurácia = 65%\n",
    "confusionMatrix(table(prediction_rose2,data_test_rfe2$Diagnosis))$byClass #Recall e F1 ccl (0.5 e 0.3)\n",
    "rpart.plot(tree_model_rose2$finalModel)\n",
    "varImp(tree_model_rose2)\n",
    "plot(varImp(tree_model_rose2),main=\"Variables importance - Decision Tree (ROSE\")\n",
    "recall_tree_rose=confusionMatrix(table(prediction_rose2,data_test_rfe2$Diagnosis))$byClass[17]\n",
    "F1_tree_rose= confusionMatrix(table(prediction_rose2,data_test_rfe2$Diagnosis))$byClass[20]"
   ]
  },
  {
   "cell_type": "markdown",
   "metadata": {},
   "source": [
    "## AUGMENTER"
   ]
  },
  {
   "cell_type": "markdown",
   "metadata": {},
   "source": [
    "### Random Forest - augmenter"
   ]
  },
  {
   "cell_type": "code",
   "execution_count": 113,
   "metadata": {
    "vscode": {
     "languageId": "r"
    }
   },
   "outputs": [
    {
     "data": {
      "text/plain": [
       "\n",
       " 1  2  3 \n",
       "66 15 19 "
      ]
     },
     "metadata": {},
     "output_type": "display_data"
    },
    {
     "data": {
      "text/plain": [
       "\n",
       " 2 \n",
       "58 "
      ]
     },
     "metadata": {},
     "output_type": "display_data"
    },
    {
     "data": {
      "text/plain": [
       "\n",
       " 3 \n",
       "58 "
      ]
     },
     "metadata": {},
     "output_type": "display_data"
    },
    {
     "data": {
      "text/plain": [
       "\n",
       " 1  2  3 \n",
       "66 58 58 "
      ]
     },
     "metadata": {},
     "output_type": "display_data"
    },
    {
     "data": {
      "image/png": "[encoded data removed]",
      "text/plain": [
       "Plot with title \"Class Distribution - SAGAD\""
      ]
     },
     "metadata": {
      "image/png": {
       "height": 420,
       "width": 420
      }
     },
     "output_type": "display_data"
    }
   ],
   "source": [
    "#É possível implementar p/ mais de 2 classes sem ter que dividir o banco de dados\n",
    "#install.packages(\"AugmenterR\")\n",
    "require(AugmenterR)\n",
    "table(data_train_rfe$Diagnosis) #(66,15,19)\n",
    "#str(data_train_rfe)\n",
    "data_train_rfe<- as.data.frame(data_train_rfe)\n",
    "data_train_rfe$Diagnosis<- as.factor(data_train_rfe$Diagnosis)\n",
    "set.seed(333)\n",
    "augmenter_data_ccl<- GenerateMultipleCandidates(data_train_rfe,Class='2',col=1,Prob=0.9,amount=70)\n",
    "table(augmenter_data_ccl$Diagnosis) #58\n",
    "set.seed(444)\n",
    "augmenter_data_da<- GenerateMultipleCandidates(data_train_rfe,Class='3',col=1,Prob=0.9,amount=150)\n",
    "table(augmenter_data_da$Diagnosis) #58\n",
    "#Unindo os ccl e da (pós augmenterR) com os saudáveis (dados reais)\n",
    "data_train_rfe$Diagnosis<- as.numeric(data_train_rfe$Diagnosis)\n",
    "data_train_healthy<- data_train_rfe[data_train_rfe$Diagnosis==\"1\",]\n",
    "augmenter_ccl_da<- rbind(augmenter_data_ccl,augmenter_data_da)\n",
    "augmenter_data_final<- rbind(data_train_healthy,augmenter_ccl_da)\n",
    "#View(augmenter_data_final)\n",
    "augmenter_data_final$Diagnosis<- as.factor(augmenter_data_final$Diagnosis)\n",
    "table(augmenter_data_final$Diagnosis) #(66,58,58)\n",
    "classes_augmenter= augmenter_data_final$Diagnosis\n",
    "classes_augmenter<- as.numeric(classes_augmenter)\n",
    "classes_augmenter[classes_augmenter==1]<- \"1.Healthy\"\n",
    "classes_augmenter[classes_augmenter==2]<- \"2.MCI\"\n",
    "classes_augmenter[classes_augmenter==3]<- \"3.AD\"\n",
    "barplot(prop.table(table(classes_augmenter)),\n",
    "        col=c(\"green\",\"blue\",\"red\"),ylim=c(0,0.8),main=\"Class Distribution - SAGAD\")"
   ]
  },
  {
   "cell_type": "code",
   "execution_count": 114,
   "metadata": {
    "vscode": {
     "languageId": "r"
    }
   },
   "outputs": [
    {
     "data": {
      "text/plain": [
       "Random Forest \n",
       "\n",
       "182 samples\n",
       "  9 predictor\n",
       "  3 classes: '1', '2', '3' \n",
       "\n",
       "No pre-processing\n",
       "Resampling: Cross-Validated (5 fold) \n",
       "Summary of sample sizes: 145, 147, 145, 146, 145 \n",
       "Resampling results across tuning parameters:\n",
       "\n",
       "  mtry  Accuracy   Kappa    \n",
       "  2     0.9945946  0.9918771\n",
       "  5     0.9779193  0.9667776\n",
       "  9     0.9725139  0.9586368\n",
       "\n",
       "Accuracy was used to select the optimal model using the largest value.\n",
       "The final value used for the model was mtry = 2."
      ]
     },
     "metadata": {},
     "output_type": "display_data"
    },
    {
     "data": {
      "text/plain": [
       "\n",
       "Call:\n",
       " randomForest(x = x, y = y, mtry = min(param$mtry, ncol(x))) \n",
       "               Type of random forest: classification\n",
       "                     Number of trees: 500\n",
       "No. of variables tried at each split: 2\n",
       "\n",
       "        OOB estimate of  error rate: 1.1%\n",
       "Confusion matrix:\n",
       "   1  2  3 class.error\n",
       "1 65  0  1  0.01515152\n",
       "2  1 57  0  0.01724138\n",
       "3  0  0 58  0.00000000"
      ]
     },
     "metadata": {},
     "output_type": "display_data"
    },
    {
     "data": {
      "text/plain": [
       "\n",
       " 1  2  3 \n",
       "27  6  7 "
      ]
     },
     "metadata": {},
     "output_type": "display_data"
    },
    {
     "data": {
      "image/png": "[encoded data removed]",
      "text/plain": [
       "plot without title"
      ]
     },
     "metadata": {
      "image/png": {
       "height": 420,
       "width": 420
      }
     },
     "output_type": "display_data"
    }
   ],
   "source": [
    "set.seed(777)\n",
    "RF_Model_augmenter=train(Diagnosis~.,data=augmenter_data_final,method='rf',trControl=trainControl(method='cv',number=5,savePredictions=TRUE))\n",
    "RF_Model_augmenter #best parameter (mtry=2)\n",
    "plot(RF_Model_augmenter)\n",
    "#RF_Model_augmenter$pred\n",
    "#mtry2<- subset(RF_Model_augmenter$pred,RF_Model_augmenter$pred[4]==2)\n",
    "#mtry2\n",
    "RF_Model_augmenter$finalModel #Taxa de erro = 1.1%\n",
    "table(data_test_rfe$Diagnosis) #(27,6,7) "
   ]
  },
  {
   "cell_type": "code",
   "execution_count": 115,
   "metadata": {
    "vscode": {
     "languageId": "r"
    }
   },
   "outputs": [],
   "source": [
    "data_test_rfe_augmenter= data_test_rfe\n",
    "data_test_rfe_augmenter$IADL<- as.numeric(data_test_rfe_augmenter$IADL)"
   ]
  },
  {
   "cell_type": "code",
   "execution_count": 116,
   "metadata": {
    "vscode": {
     "languageId": "r"
    }
   },
   "outputs": [
    {
     "data": {
      "text/plain": [
       "                    \n",
       "prediction_augmenter  1  2  3\n",
       "                   1 26  6  1\n",
       "                   2  1  0  0\n",
       "                   3  0  0  6"
      ]
     },
     "metadata": {},
     "output_type": "display_data"
    },
    {
     "data": {
      "text/plain": [
       "Confusion Matrix and Statistics\n",
       "\n",
       "                    \n",
       "prediction_augmenter  1  2  3\n",
       "                   1 26  6  1\n",
       "                   2  1  0  0\n",
       "                   3  0  0  6\n",
       "\n",
       "Overall Statistics\n",
       "                                          \n",
       "               Accuracy : 0.8             \n",
       "                 95% CI : (0.6435, 0.9095)\n",
       "    No Information Rate : 0.675           \n",
       "    P-Value [Acc > NIR] : 0.0602          \n",
       "                                          \n",
       "                  Kappa : 0.5159          \n",
       "                                          \n",
       " Mcnemar's Test P-Value : NA              \n",
       "\n",
       "Statistics by Class:\n",
       "\n",
       "                     Class: 1 Class: 2 Class: 3\n",
       "Sensitivity            0.9630   0.0000   0.8571\n",
       "Specificity            0.4615   0.9706   1.0000\n",
       "Pos Pred Value         0.7879   0.0000   1.0000\n",
       "Neg Pred Value         0.8571   0.8462   0.9706\n",
       "Prevalence             0.6750   0.1500   0.1750\n",
       "Detection Rate         0.6500   0.0000   0.1500\n",
       "Detection Prevalence   0.8250   0.0250   0.1500\n",
       "Balanced Accuracy      0.7123   0.4853   0.9286"
      ]
     },
     "metadata": {},
     "output_type": "display_data"
    },
    {
     "data": {
      "text/html": [
       "<table class=\"dataframe\">\n",
       "<caption>A matrix: 3 × 11 of type dbl</caption>\n",
       "<thead>\n",
       "\t<tr><th></th><th scope=col>Sensitivity</th><th scope=col>Specificity</th><th scope=col>Pos Pred Value</th><th scope=col>Neg Pred Value</th><th scope=col>Precision</th><th scope=col>Recall</th><th scope=col>F1</th><th scope=col>Prevalence</th><th scope=col>Detection Rate</th><th scope=col>Detection Prevalence</th><th scope=col>Balanced Accuracy</th></tr>\n",
       "</thead>\n",
       "<tbody>\n",
       "\t<tr><th scope=row>Class: 1</th><td>0.9629630</td><td>0.4615385</td><td>0.7878788</td><td>0.8571429</td><td>0.7878788</td><td>0.9629630</td><td>0.8666667</td><td>0.675</td><td>0.65</td><td>0.825</td><td>0.7122507</td></tr>\n",
       "\t<tr><th scope=row>Class: 2</th><td>0.0000000</td><td>0.9705882</td><td>0.0000000</td><td>0.8461538</td><td>0.0000000</td><td>0.0000000</td><td>      NaN</td><td>0.150</td><td>0.00</td><td>0.025</td><td>0.4852941</td></tr>\n",
       "\t<tr><th scope=row>Class: 3</th><td>0.8571429</td><td>1.0000000</td><td>1.0000000</td><td>0.9705882</td><td>1.0000000</td><td>0.8571429</td><td>0.9230769</td><td>0.175</td><td>0.15</td><td>0.150</td><td>0.9285714</td></tr>\n",
       "</tbody>\n",
       "</table>\n"
      ],
      "text/latex": [
       "A matrix: 3 × 11 of type dbl\n",
       "\\begin{tabular}{r|lllllllllll}\n",
       "  & Sensitivity & Specificity & Pos Pred Value & Neg Pred Value & Precision & Recall & F1 & Prevalence & Detection Rate & Detection Prevalence & Balanced Accuracy\\\\\n",
       "\\hline\n",
       "\tClass: 1 & 0.9629630 & 0.4615385 & 0.7878788 & 0.8571429 & 0.7878788 & 0.9629630 & 0.8666667 & 0.675 & 0.65 & 0.825 & 0.7122507\\\\\n",
       "\tClass: 2 & 0.0000000 & 0.9705882 & 0.0000000 & 0.8461538 & 0.0000000 & 0.0000000 &       NaN & 0.150 & 0.00 & 0.025 & 0.4852941\\\\\n",
       "\tClass: 3 & 0.8571429 & 1.0000000 & 1.0000000 & 0.9705882 & 1.0000000 & 0.8571429 & 0.9230769 & 0.175 & 0.15 & 0.150 & 0.9285714\\\\\n",
       "\\end{tabular}\n"
      ],
      "text/markdown": [
       "\n",
       "A matrix: 3 × 11 of type dbl\n",
       "\n",
       "| <!--/--> | Sensitivity | Specificity | Pos Pred Value | Neg Pred Value | Precision | Recall | F1 | Prevalence | Detection Rate | Detection Prevalence | Balanced Accuracy |\n",
       "|---|---|---|---|---|---|---|---|---|---|---|---|\n",
       "| Class: 1 | 0.9629630 | 0.4615385 | 0.7878788 | 0.8571429 | 0.7878788 | 0.9629630 | 0.8666667 | 0.675 | 0.65 | 0.825 | 0.7122507 |\n",
       "| Class: 2 | 0.0000000 | 0.9705882 | 0.0000000 | 0.8461538 | 0.0000000 | 0.0000000 |       NaN | 0.150 | 0.00 | 0.025 | 0.4852941 |\n",
       "| Class: 3 | 0.8571429 | 1.0000000 | 1.0000000 | 0.9705882 | 1.0000000 | 0.8571429 | 0.9230769 | 0.175 | 0.15 | 0.150 | 0.9285714 |\n",
       "\n"
      ],
      "text/plain": [
       "         Sensitivity Specificity Pos Pred Value Neg Pred Value Precision\n",
       "Class: 1 0.9629630   0.4615385   0.7878788      0.8571429      0.7878788\n",
       "Class: 2 0.0000000   0.9705882   0.0000000      0.8461538      0.0000000\n",
       "Class: 3 0.8571429   1.0000000   1.0000000      0.9705882      1.0000000\n",
       "         Recall    F1        Prevalence Detection Rate Detection Prevalence\n",
       "Class: 1 0.9629630 0.8666667 0.675      0.65           0.825               \n",
       "Class: 2 0.0000000       NaN 0.150      0.00           0.025               \n",
       "Class: 3 0.8571429 0.9230769 0.175      0.15           0.150               \n",
       "         Balanced Accuracy\n",
       "Class: 1 0.7122507        \n",
       "Class: 2 0.4852941        \n",
       "Class: 3 0.9285714        "
      ]
     },
     "metadata": {},
     "output_type": "display_data"
    },
    {
     "data": {
      "text/plain": [
       "rf variable importance\n",
       "\n",
       "       Overall\n",
       "IADL    100.00\n",
       "GSDT     89.68\n",
       "MMSE     84.58\n",
       "GSST     66.31\n",
       "FMT_DT   64.66\n",
       "FMT_IT   56.96\n",
       "TMTA     30.94\n",
       "STEP     10.32\n",
       "Age       0.00"
      ]
     },
     "metadata": {},
     "output_type": "display_data"
    },
    {
     "data": {
      "image/png": "[encoded data removed]",
      "text/plain": [
       "plot without title"
      ]
     },
     "metadata": {
      "image/png": {
       "height": 420,
       "width": 420
      }
     },
     "output_type": "display_data"
    }
   ],
   "source": [
    "prediction_augmenter<- predict(RF_Model_augmenter,data_test_rfe_augmenter)\n",
    "table(prediction_augmenter,data_test_rfe_augmenter$Diagnosis)\n",
    "confusionMatrix(table(prediction_augmenter,data_test_rfe_augmenter$Diagnosis)) #Acurácia = 80%\n",
    "confusionMatrix(table(prediction_augmenter,data_test_rfe_augmenter$Diagnosis))$byClass #Recall e F1 ccl (0 e Nan)\n",
    "varImp(RF_Model_augmenter)\n",
    "plot(varImp(RF_Model_augmenter),main=\"Variables Importance _ Random Forest (SAGAD)\")\n",
    "recall_RF_augmenter=confusionMatrix(table(prediction_augmenter,data_test_rfe_augmenter$Diagnosis))$byClass[17]\n",
    "F1_RF_augmenter= confusionMatrix(table(prediction_augmenter,data_test_rfe_augmenter$Diagnosis))$byClass[20]"
   ]
  },
  {
   "cell_type": "markdown",
   "metadata": {},
   "source": [
    "### Decision Tree - augmenter"
   ]
  },
  {
   "cell_type": "code",
   "execution_count": 119,
   "metadata": {
    "vscode": {
     "languageId": "r"
    }
   },
   "outputs": [
    {
     "data": {
      "text/plain": [
       "\n",
       " 1  2  3 \n",
       "66 15 19 "
      ]
     },
     "metadata": {},
     "output_type": "display_data"
    },
    {
     "data": {
      "text/plain": [
       "\n",
       " 2 \n",
       "58 "
      ]
     },
     "metadata": {},
     "output_type": "display_data"
    },
    {
     "data": {
      "text/plain": [
       "\n",
       " 3 \n",
       "58 "
      ]
     },
     "metadata": {},
     "output_type": "display_data"
    },
    {
     "data": {
      "text/html": [
       "<style>\n",
       ".list-inline {list-style: none; margin:0; padding: 0}\n",
       ".list-inline>li {display: inline-block}\n",
       ".list-inline>li:not(:last-child)::after {content: \"\\00b7\"; padding: 0 .5ex}\n",
       "</style>\n",
       "<ol class=list-inline><li>182</li><li>10</li></ol>\n"
      ],
      "text/latex": [
       "\\begin{enumerate*}\n",
       "\\item 182\n",
       "\\item 10\n",
       "\\end{enumerate*}\n"
      ],
      "text/markdown": [
       "1. 182\n",
       "2. 10\n",
       "\n",
       "\n"
      ],
      "text/plain": [
       "[1] 182  10"
      ]
     },
     "metadata": {},
     "output_type": "display_data"
    },
    {
     "data": {
      "text/plain": [
       "\n",
       " 1  2  3 \n",
       "66 58 58 "
      ]
     },
     "metadata": {},
     "output_type": "display_data"
    }
   ],
   "source": [
    "table(data_train_rfe2$Diagnosis) #(66,15,19)\n",
    "#str(data_train_rfe2)\n",
    "data_train_rfe2<- as.data.frame(data_train_rfe2)\n",
    "data_train_rfe2$Diagnosis<- as.factor(data_train_rfe2$Diagnosis)\n",
    "set.seed(333)\n",
    "augmenter_data_ccl<- GenerateMultipleCandidates(data_train_rfe2,Class='2',col=1,Prob=0.9,amount=70)\n",
    "table(augmenter_data_ccl$Diagnosis) #58\n",
    "set.seed(444)\n",
    "augmenter_data_da<- GenerateMultipleCandidates(data_train_rfe2,Class='3',col=1,Prob=0.9,amount=150)\n",
    "table(augmenter_data_da$Diagnosis) #58\n",
    "#Unindo os ccl e da (pós augmenterR) com os saudáveis (dados reais)\n",
    "data_train_rfe2$Diagnosis<- as.numeric(data_train_rfe2$Diagnosis)\n",
    "data_train_healthy<- data_train_rfe2[data_train_rfe2$Diagnosis==\"1\",]\n",
    "augmenter_ccl_da<- rbind(augmenter_data_ccl,augmenter_data_da)\n",
    "augmenter_data_final<- rbind(data_train_healthy,augmenter_ccl_da)\n",
    "dim(augmenter_data_final)\n",
    "#View(augmenter_data_final)\n",
    "augmenter_data_final$Diagnosis<- as.factor(augmenter_data_final$Diagnosis)\n",
    "table(augmenter_data_final$Diagnosis) #(66,58,58)"
   ]
  },
  {
   "cell_type": "code",
   "execution_count": 120,
   "metadata": {
    "vscode": {
     "languageId": "r"
    }
   },
   "outputs": [
    {
     "data": {
      "text/plain": [
       "CART \n",
       "\n",
       "182 samples\n",
       "  9 predictor\n",
       "  3 classes: '1', '2', '3' \n",
       "\n",
       "No pre-processing\n",
       "Resampling: Cross-Validated (5 fold) \n",
       "Summary of sample sizes: 145, 146, 146, 145, 146 \n",
       "Resampling results across tuning parameters:\n",
       "\n",
       "  cp          Accuracy   Kappa    \n",
       "  0.01724138  0.9012012  0.8511625\n",
       "  0.40517241  0.8292793  0.7394535\n",
       "  0.47413793  0.4722222  0.1740808\n",
       "\n",
       "Accuracy was used to select the optimal model using the largest value.\n",
       "The final value used for the model was cp = 0.01724138."
      ]
     },
     "metadata": {},
     "output_type": "display_data"
    },
    {
     "data": {
      "image/png": "[encoded data removed]",
      "text/plain": [
       "plot without title"
      ]
     },
     "metadata": {
      "image/png": {
       "height": 420,
       "width": 420
      }
     },
     "output_type": "display_data"
    }
   ],
   "source": [
    "set.seed(789)\n",
    "Tree_Model_augmenter2<- train(Diagnosis~.,data=augmenter_data_final,method='rpart',trControl=trainControl(method='cv',number=5,savePredictions=TRUE))\n",
    "Tree_Model_augmenter2 #best parameter (cp=0.01724138)\n",
    "plot(Tree_Model_augmenter2)\n",
    "#RF_Model_augmenter2$pred\n",
    "#Tree_Model_augmenter2$finalModel"
   ]
  },
  {
   "cell_type": "code",
   "execution_count": 121,
   "metadata": {
    "vscode": {
     "languageId": "r"
    }
   },
   "outputs": [],
   "source": [
    "data_test_rfe2_augmenter= data_test_rfe2\n",
    "data_test_rfe2_augmenter$IADL<- as.numeric(data_test_rfe2_augmenter$IADL)"
   ]
  },
  {
   "cell_type": "code",
   "execution_count": 122,
   "metadata": {
    "vscode": {
     "languageId": "r"
    }
   },
   "outputs": [
    {
     "data": {
      "text/plain": [
       "Confusion Matrix and Statistics\n",
       "\n",
       "                     \n",
       "prediction_augmenter2  1  2  3\n",
       "                    1 26  6  1\n",
       "                    2  1  0  0\n",
       "                    3  0  0  6\n",
       "\n",
       "Overall Statistics\n",
       "                                          \n",
       "               Accuracy : 0.8             \n",
       "                 95% CI : (0.6435, 0.9095)\n",
       "    No Information Rate : 0.675           \n",
       "    P-Value [Acc > NIR] : 0.0602          \n",
       "                                          \n",
       "                  Kappa : 0.5159          \n",
       "                                          \n",
       " Mcnemar's Test P-Value : NA              \n",
       "\n",
       "Statistics by Class:\n",
       "\n",
       "                     Class: 1 Class: 2 Class: 3\n",
       "Sensitivity            0.9630   0.0000   0.8571\n",
       "Specificity            0.4615   0.9706   1.0000\n",
       "Pos Pred Value         0.7879   0.0000   1.0000\n",
       "Neg Pred Value         0.8571   0.8462   0.9706\n",
       "Prevalence             0.6750   0.1500   0.1750\n",
       "Detection Rate         0.6500   0.0000   0.1500\n",
       "Detection Prevalence   0.8250   0.0250   0.1500\n",
       "Balanced Accuracy      0.7123   0.4853   0.9286"
      ]
     },
     "metadata": {},
     "output_type": "display_data"
    },
    {
     "data": {
      "text/html": [
       "<table class=\"dataframe\">\n",
       "<caption>A matrix: 3 × 11 of type dbl</caption>\n",
       "<thead>\n",
       "\t<tr><th></th><th scope=col>Sensitivity</th><th scope=col>Specificity</th><th scope=col>Pos Pred Value</th><th scope=col>Neg Pred Value</th><th scope=col>Precision</th><th scope=col>Recall</th><th scope=col>F1</th><th scope=col>Prevalence</th><th scope=col>Detection Rate</th><th scope=col>Detection Prevalence</th><th scope=col>Balanced Accuracy</th></tr>\n",
       "</thead>\n",
       "<tbody>\n",
       "\t<tr><th scope=row>Class: 1</th><td>0.9629630</td><td>0.4615385</td><td>0.7878788</td><td>0.8571429</td><td>0.7878788</td><td>0.9629630</td><td>0.8666667</td><td>0.675</td><td>0.65</td><td>0.825</td><td>0.7122507</td></tr>\n",
       "\t<tr><th scope=row>Class: 2</th><td>0.0000000</td><td>0.9705882</td><td>0.0000000</td><td>0.8461538</td><td>0.0000000</td><td>0.0000000</td><td>      NaN</td><td>0.150</td><td>0.00</td><td>0.025</td><td>0.4852941</td></tr>\n",
       "\t<tr><th scope=row>Class: 3</th><td>0.8571429</td><td>1.0000000</td><td>1.0000000</td><td>0.9705882</td><td>1.0000000</td><td>0.8571429</td><td>0.9230769</td><td>0.175</td><td>0.15</td><td>0.150</td><td>0.9285714</td></tr>\n",
       "</tbody>\n",
       "</table>\n"
      ],
      "text/latex": [
       "A matrix: 3 × 11 of type dbl\n",
       "\\begin{tabular}{r|lllllllllll}\n",
       "  & Sensitivity & Specificity & Pos Pred Value & Neg Pred Value & Precision & Recall & F1 & Prevalence & Detection Rate & Detection Prevalence & Balanced Accuracy\\\\\n",
       "\\hline\n",
       "\tClass: 1 & 0.9629630 & 0.4615385 & 0.7878788 & 0.8571429 & 0.7878788 & 0.9629630 & 0.8666667 & 0.675 & 0.65 & 0.825 & 0.7122507\\\\\n",
       "\tClass: 2 & 0.0000000 & 0.9705882 & 0.0000000 & 0.8461538 & 0.0000000 & 0.0000000 &       NaN & 0.150 & 0.00 & 0.025 & 0.4852941\\\\\n",
       "\tClass: 3 & 0.8571429 & 1.0000000 & 1.0000000 & 0.9705882 & 1.0000000 & 0.8571429 & 0.9230769 & 0.175 & 0.15 & 0.150 & 0.9285714\\\\\n",
       "\\end{tabular}\n"
      ],
      "text/markdown": [
       "\n",
       "A matrix: 3 × 11 of type dbl\n",
       "\n",
       "| <!--/--> | Sensitivity | Specificity | Pos Pred Value | Neg Pred Value | Precision | Recall | F1 | Prevalence | Detection Rate | Detection Prevalence | Balanced Accuracy |\n",
       "|---|---|---|---|---|---|---|---|---|---|---|---|\n",
       "| Class: 1 | 0.9629630 | 0.4615385 | 0.7878788 | 0.8571429 | 0.7878788 | 0.9629630 | 0.8666667 | 0.675 | 0.65 | 0.825 | 0.7122507 |\n",
       "| Class: 2 | 0.0000000 | 0.9705882 | 0.0000000 | 0.8461538 | 0.0000000 | 0.0000000 |       NaN | 0.150 | 0.00 | 0.025 | 0.4852941 |\n",
       "| Class: 3 | 0.8571429 | 1.0000000 | 1.0000000 | 0.9705882 | 1.0000000 | 0.8571429 | 0.9230769 | 0.175 | 0.15 | 0.150 | 0.9285714 |\n",
       "\n"
      ],
      "text/plain": [
       "         Sensitivity Specificity Pos Pred Value Neg Pred Value Precision\n",
       "Class: 1 0.9629630   0.4615385   0.7878788      0.8571429      0.7878788\n",
       "Class: 2 0.0000000   0.9705882   0.0000000      0.8461538      0.0000000\n",
       "Class: 3 0.8571429   1.0000000   1.0000000      0.9705882      1.0000000\n",
       "         Recall    F1        Prevalence Detection Rate Detection Prevalence\n",
       "Class: 1 0.9629630 0.8666667 0.675      0.65           0.825               \n",
       "Class: 2 0.0000000       NaN 0.150      0.00           0.025               \n",
       "Class: 3 0.8571429 0.9230769 0.175      0.15           0.150               \n",
       "         Balanced Accuracy\n",
       "Class: 1 0.7122507        \n",
       "Class: 2 0.4852941        \n",
       "Class: 3 0.9285714        "
      ]
     },
     "metadata": {},
     "output_type": "display_data"
    },
    {
     "data": {
      "text/plain": [
       "rpart variable importance\n",
       "\n",
       "       Overall\n",
       "GSDT    100.00\n",
       "IADL     96.15\n",
       "MMSE     63.31\n",
       "FMT_DT   55.17\n",
       "TMTA     50.58\n",
       "GSST     49.67\n",
       "FMT_IT   43.27\n",
       "Age      35.32\n",
       "Sex       0.00"
      ]
     },
     "metadata": {},
     "output_type": "display_data"
    },
    {
     "data": {
      "image/png": "[encoded data removed]",
      "text/plain": [
       "plot without title"
      ]
     },
     "metadata": {
      "image/png": {
       "height": 420,
       "width": 420
      }
     },
     "output_type": "display_data"
    },
    {
     "data": {
      "image/png": "[encoded data removed]",
      "text/plain": [
       "plot without title"
      ]
     },
     "metadata": {
      "image/png": {
       "height": 420,
       "width": 420
      }
     },
     "output_type": "display_data"
    }
   ],
   "source": [
    "prediction_augmenter2<- predict(Tree_Model_augmenter2,data_test_rfe2)\n",
    "confusionMatrix(table(prediction_augmenter2,data_test_rfe2$Diagnosis)) #Acurácia = 80%\n",
    "confusionMatrix(table(prediction_augmenter2,data_test_rfe2$Diagnosis))$byClass #Recall e F1 ccl (0 e Nan)\n",
    "rpart.plot(Tree_Model_augmenter2$finalModel)\n",
    "varImp(Tree_Model_augmenter2)\n",
    "plot(varImp(Tree_Model_augmenter2), main=\"Variables Importance - Decision Tree (SAGAD)\")\n",
    "recall_tree_augmenter=confusionMatrix(table(prediction_augmenter2,data_test_rfe2$Diagnosis))$byClass[17]\n",
    "F1_tree_augmenter= confusionMatrix(table(prediction_augmenter2,data_test_rfe2$Diagnosis))$byClass[20]\n"
   ]
  },
  {
   "cell_type": "markdown",
   "metadata": {},
   "source": [
    "# Boxplot comparando resultado dos modelos de RF e árvore (5-folds)"
   ]
  },
  {
   "cell_type": "code",
   "execution_count": 170,
   "metadata": {
    "vscode": {
     "languageId": "r"
    }
   },
   "outputs": [],
   "source": [
    "#install.packages(\"ggplot2\")\n",
    "#install.packages(\"plyr\")\n",
    "require(ggplot2)\n",
    "require(plyr)\n",
    "\n",
    "#Data-frame com os modelos de RF (eixo x) e suas respectivas métricas (eixo y)\n",
    "Dataset= c(\"Original data\",\"Original data\",\"Original data\",\"Original data\",\n",
    "           \"Original data\",\"Original data\",\"Original data\",\"Original data\",\n",
    "           \"Original data\",\"Original data\",\"SMOTE\",\"SMOTE\",\"SMOTE\",\"SMOTE\",\n",
    "           \"SMOTE\",\"SMOTE\",\"SMOTE\",\"SMOTE\",\"SMOTE\",\"SMOTE\",\"ROSE\",\"ROSE\",\"ROSE\",\n",
    "           \"ROSE\",\"ROSE\",\"ROSE\",\"ROSE\",\"ROSE\",\"ROSE\",\"ROSE\",\"SAGAD\",\"SAGAD\",\n",
    "           \"SAGAD\",\"SAGAD\",\"SAGAD\",\"SAGAD\",\"SAGAD\",\"SAGAD\",\"SAGAD\",\"SAGAD\") \n",
    "           \n",
    "Model= c(\"Random Forest\",\"Random Forest\",\"Random Forest\",\"Random Forest\",\n",
    "         \"Random Forest\",\"Decision Tree\",\"Decision Tree\",\"Decision Tree\",\n",
    "         \"Decision Tree\",\"Decision Tree\",\n",
    "         \"Random Forest\",\"Random Forest\",\"Random Forest\",\"Random Forest\",\n",
    "         \"Random Forest\",\"Decision Tree\",\"Decision Tree\",\"Decision Tree\",\n",
    "         \"Decision Tree\",\"Decision Tree\",\"Random Forest\",\"Random Forest\",\"Random Forest\",\n",
    "         \"Random Forest\",\"Random Forest\",\"Decision Tree\",\"Decision Tree\",\"Decision Tree\",\"Decision Tree\",\n",
    "         \"Decision Tree\",\"Random Forest\",\"Random Forest\",\"Random Forest\",\"Random Forest\",\"Random Forest\",\n",
    "         \"Decision Tree\",\"Decision Tree\",\"Decision Tree\",\"Decision Tree\",\"Decision Tree\") \n",
    "\n",
    "Recall= c(recall1_rf_original,recall2_rf_original,recall3_rf_original,recall4_rf_original,\n",
    "          recall5_rf_original,recall1_tree_original,recall2_tree_original,\n",
    "          recall3_tree_original,recall4_tree_original,recall5_tree_original,Metrics_smote_fold01[[17]],\n",
    "          Metrics_smote_fold02[[17]],Metrics_smote_fold03[[17]],Metrics_smote_fold04[[17]],Metrics_smote_fold05[[17]],\n",
    "          Metrics_smote_tree_fold01[[17]],Metrics_smote_tree_fold02[[17]],Metrics_smote_tree_fold03[[17]],\n",
    "          Metrics_smote_tree_fold04[[17]],Metrics_smote_tree_fold05[[17]],\n",
    "          Metrics_rose_fold01[[17]],Metrics_rose_fold02[[17]],Metrics_rose_fold03[[17]],\n",
    "          Metrics_rose_fold04[[17]],Metrics_rose_fold05[[17]],Metrics_rose_tree_fold01[[17]],\n",
    "          Metrics_rose_tree_fold02[[17]],Metrics_rose_tree_fold03[[17]],\n",
    "          Metrics_rose_tree_fold04[[17]],Metrics_rose_tree_fold05[[17]],Metrics_fold01[[17]],\n",
    "          Metrics_fold02[[17]],Metrics_fold03[[17]],Metrics_fold04[[17]],Metrics_fold02[[17]],\n",
    "          Metrics_augmenter_tree_fold01[[17]],Metrics_augmenter_tree_fold02[[17]],Metrics_augmenter_tree_fold03[[17]],\n",
    "          Metrics_augmenter_tree_fold04[[17]],Metrics_augmenter_tree_fold05[[17]])\n",
    "\n",
    "\n",
    "F1score= c(F1score1_rf_original,F1score2_rf_original,F1score3_rf_original,\n",
    "           F1score4_rf_original,F1score5_rf_original,F1score1_tree_original,\n",
    "           F1score2_tree_original,F1score3_tree_original,F1score4_tree_original,F1score5_tree_original,\n",
    "           Metrics_smote_fold01[[20]],\n",
    "          Metrics_smote_fold02[[20]],Metrics_smote_fold03[[20]],Metrics_smote_fold04[[20]],Metrics_smote_fold05[[20]],\n",
    "          Metrics_smote_tree_fold01[[20]],Metrics_smote_tree_fold02[[20]],Metrics_smote_tree_fold03[[20]],\n",
    "          Metrics_smote_tree_fold04[[20]],Metrics_smote_tree_fold05[[20]],\n",
    "           Metrics_rose_fold01[[20]],Metrics_rose_fold02[[20]],Metrics_rose_fold03[[20]],\n",
    "           Metrics_rose_fold04[[20]],Metrics_rose_fold05[[20]],Metrics_rose_tree_fold01[[20]],\n",
    "           Metrics_rose_tree_fold02[[20]],Metrics_rose_tree_fold03[[20]],\n",
    "           Metrics_rose_tree_fold04[[20]],Metrics_rose_tree_fold05[[20]],Metrics_fold01[[20]],\n",
    "          Metrics_fold02[[20]],Metrics_fold03[[20]],Metrics_fold04[[20]],Metrics_fold02[[20]],\n",
    "          Metrics_augmenter_tree_fold01[[20]],Metrics_augmenter_tree_fold02[[20]],Metrics_augmenter_tree_fold03[[20]],\n",
    "          Metrics_augmenter_tree_fold04[[20]],Metrics_augmenter_tree_fold05[[20]])\n",
    "\n"
   ]
  },
  {
   "cell_type": "code",
   "execution_count": 171,
   "metadata": {
    "vscode": {
     "languageId": "r"
    }
   },
   "outputs": [
    {
     "name": "stdout",
     "output_type": "stream",
     "text": [
      " chr [1:40] \"Original data\" \"Original data\" \"Original data\" \"Original data\" ...\n",
      " chr [1:40] \"Random Forest\" \"Random Forest\" \"Random Forest\" \"Random Forest\" ...\n",
      " num [1:40] 0 0 0 0.333 0 ...\n",
      " num [1:40] NaN NaN NA 0.333 NA ...\n"
     ]
    },
    {
     "data": {
      "text/html": [
       "<table class=\"dataframe\">\n",
       "<caption>A data.frame: 6 × 4</caption>\n",
       "<thead>\n",
       "\t<tr><th></th><th scope=col>Dataset</th><th scope=col>Model</th><th scope=col>Recall</th><th scope=col>F1score</th></tr>\n",
       "\t<tr><th></th><th scope=col>&lt;chr&gt;</th><th scope=col>&lt;chr&gt;</th><th scope=col>&lt;chr&gt;</th><th scope=col>&lt;chr&gt;</th></tr>\n",
       "</thead>\n",
       "<tbody>\n",
       "\t<tr><th scope=row>1</th><td>Original data</td><td>Random Forest</td><td>0                </td><td>NaN              </td></tr>\n",
       "\t<tr><th scope=row>2</th><td>Original data</td><td>Random Forest</td><td>0                </td><td>NaN              </td></tr>\n",
       "\t<tr><th scope=row>3</th><td>Original data</td><td>Random Forest</td><td>0                </td><td>NA               </td></tr>\n",
       "\t<tr><th scope=row>4</th><td>Original data</td><td>Random Forest</td><td>0.333333333333333</td><td>0.333333333333333</td></tr>\n",
       "\t<tr><th scope=row>5</th><td>Original data</td><td>Random Forest</td><td>0                </td><td>NA               </td></tr>\n",
       "\t<tr><th scope=row>6</th><td>Original data</td><td>Decision Tree</td><td>0                </td><td>NaN              </td></tr>\n",
       "</tbody>\n",
       "</table>\n"
      ],
      "text/latex": [
       "A data.frame: 6 × 4\n",
       "\\begin{tabular}{r|llll}\n",
       "  & Dataset & Model & Recall & F1score\\\\\n",
       "  & <chr> & <chr> & <chr> & <chr>\\\\\n",
       "\\hline\n",
       "\t1 & Original data & Random Forest & 0                 & NaN              \\\\\n",
       "\t2 & Original data & Random Forest & 0                 & NaN              \\\\\n",
       "\t3 & Original data & Random Forest & 0                 & NA               \\\\\n",
       "\t4 & Original data & Random Forest & 0.333333333333333 & 0.333333333333333\\\\\n",
       "\t5 & Original data & Random Forest & 0                 & NA               \\\\\n",
       "\t6 & Original data & Decision Tree & 0                 & NaN              \\\\\n",
       "\\end{tabular}\n"
      ],
      "text/markdown": [
       "\n",
       "A data.frame: 6 × 4\n",
       "\n",
       "| <!--/--> | Dataset &lt;chr&gt; | Model &lt;chr&gt; | Recall &lt;chr&gt; | F1score &lt;chr&gt; |\n",
       "|---|---|---|---|---|\n",
       "| 1 | Original data | Random Forest | 0                 | NaN               |\n",
       "| 2 | Original data | Random Forest | 0                 | NaN               |\n",
       "| 3 | Original data | Random Forest | 0                 | NA                |\n",
       "| 4 | Original data | Random Forest | 0.333333333333333 | 0.333333333333333 |\n",
       "| 5 | Original data | Random Forest | 0                 | NA                |\n",
       "| 6 | Original data | Decision Tree | 0                 | NaN               |\n",
       "\n"
      ],
      "text/plain": [
       "  Dataset       Model         Recall            F1score          \n",
       "1 Original data Random Forest 0                 NaN              \n",
       "2 Original data Random Forest 0                 NaN              \n",
       "3 Original data Random Forest 0                 NA               \n",
       "4 Original data Random Forest 0.333333333333333 0.333333333333333\n",
       "5 Original data Random Forest 0                 NA               \n",
       "6 Original data Decision Tree 0                 NaN              "
      ]
     },
     "metadata": {},
     "output_type": "display_data"
    }
   ],
   "source": [
    "str(Dataset)\n",
    "str(Model)\n",
    "str(Recall)\n",
    "str(F1score)\n",
    "#Dataset<- as.factor(Dataset)\n",
    "#Model<- as.factor(Model)\n",
    "data_boxplot= cbind(Dataset,Model,Recall,F1score)\n",
    "data_boxplot= as.data.frame(data_boxplot,stringsAsFactors = FALSE)\n",
    "head(data_boxplot)\n",
    "\n"
   ]
  },
  {
   "cell_type": "code",
   "execution_count": 172,
   "metadata": {
    "vscode": {
     "languageId": "r"
    }
   },
   "outputs": [
    {
     "name": "stdout",
     "output_type": "stream",
     "text": [
      "'data.frame':\t40 obs. of  4 variables:\n",
      " $ Dataset: Factor w/ 4 levels \"Original data\",..: 1 1 1 1 1 1 1 1 1 1 ...\n",
      " $ Model  : Factor w/ 2 levels \"Decision Tree\",..: 2 2 2 2 2 1 1 1 1 1 ...\n",
      " $ Recall : num  0 0 0 0.333 0 ...\n",
      " $ F1score: num  NaN NaN NA 0.333 NA ...\n"
     ]
    },
    {
     "data": {
      "text/html": [
       "<style>\n",
       ".list-inline {list-style: none; margin:0; padding: 0}\n",
       ".list-inline>li {display: inline-block}\n",
       ".list-inline>li:not(:last-child)::after {content: \"\\00b7\"; padding: 0 .5ex}\n",
       "</style>\n",
       "<ol class=list-inline><li>40</li><li>4</li></ol>\n"
      ],
      "text/latex": [
       "\\begin{enumerate*}\n",
       "\\item 40\n",
       "\\item 4\n",
       "\\end{enumerate*}\n"
      ],
      "text/markdown": [
       "1. 40\n",
       "2. 4\n",
       "\n",
       "\n"
      ],
      "text/plain": [
       "[1] 40  4"
      ]
     },
     "metadata": {},
     "output_type": "display_data"
    }
   ],
   "source": [
    "data_boxplot$Dataset<-as.factor(data_boxplot$Dataset)\n",
    "data_boxplot$Model<-as.factor(data_boxplot$Model)\n",
    "data_boxplot$Recall<-as.numeric(data_boxplot$Recall)\n",
    "data_boxplot$F1score<-as.numeric(data_boxplot$F1score)\n",
    "str(data_boxplot)\n",
    "dim(data_boxplot)\n",
    "###\n",
    "#data_boxplot2<- na.omit(data_boxplot)\n",
    "#dim(data_boxplot2)"
   ]
  },
  {
   "cell_type": "code",
   "execution_count": 181,
   "metadata": {
    "vscode": {
     "languageId": "r"
    }
   },
   "outputs": [
    {
     "data": {
      "image/png": "[encoded data removed]",
      "text/plain": [
       "plot without title"
      ]
     },
     "metadata": {
      "image/png": {
       "height": 420,
       "width": 420
      }
     },
     "output_type": "display_data"
    },
    {
     "data": {
      "image/png": "[encoded data removed]",
      "text/plain": [
       "plot without title"
      ]
     },
     "metadata": {
      "image/png": {
       "height": 420,
       "width": 420
      }
     },
     "output_type": "display_data"
    }
   ],
   "source": [
    "# Boxplot com o recall dos modelos de classificação\n",
    "plot_recall <- ggplot(data_boxplot, aes(x=Dataset, y=Recall, group=Dataset)) + \n",
    "  geom_boxplot(aes(fill=Dataset))+\n",
    "  ylim(c(0,0.5))\n",
    "plot_recall\n",
    "\n",
    "plot_recall + facet_grid(. ~ Model)"
   ]
  },
  {
   "cell_type": "code",
   "execution_count": 178,
   "metadata": {
    "vscode": {
     "languageId": "r"
    }
   },
   "outputs": [
    {
     "name": "stderr",
     "output_type": "stream",
     "text": [
      "Warning message:\n",
      "\"Removed 25 rows containing non-finite values (stat_boxplot).\"\n"
     ]
    },
    {
     "data": {
      "image/png": "[encoded data removed]",
      "text/plain": [
       "plot without title"
      ]
     },
     "metadata": {
      "image/png": {
       "height": 420,
       "width": 420
      }
     },
     "output_type": "display_data"
    }
   ],
   "source": [
    "plot_F1score <- ggplot(data_boxplot, aes(x=Dataset, y=F1score, group=Dataset)) + \n",
    "  geom_boxplot(aes(fill=Dataset))+\n",
    "  ylim(c(0,0.5))\n",
    "plot_F1score\n"
   ]
  },
  {
   "cell_type": "code",
   "execution_count": 179,
   "metadata": {
    "vscode": {
     "languageId": "r"
    }
   },
   "outputs": [
    {
     "name": "stderr",
     "output_type": "stream",
     "text": [
      "Warning message:\n",
      "\"Removed 25 rows containing non-finite values (stat_boxplot).\"\n"
     ]
    },
    {
     "data": {
      "image/png": "[encoded data removed]",
      "text/plain": [
       "plot without title"
      ]
     },
     "metadata": {
      "image/png": {
       "height": 420,
       "width": 420
      }
     },
     "output_type": "display_data"
    }
   ],
   "source": [
    "plot_F1score + facet_grid(. ~ Model)"
   ]
  }
 ],
 "metadata": {
  "kernelspec": {
   "display_name": "R",
   "language": "R",
   "name": "ir"
  },
  "language_info": {
   "codemirror_mode": "r",
   "file_extension": ".r",
   "mimetype": "text/x-r-source",
   "name": "R",
   "pygments_lexer": "r",
   "version": "3.6.0"
  },
  "orig_nbformat": 4
 },
 "nbformat": 4,
 "nbformat_minor": 2
}
